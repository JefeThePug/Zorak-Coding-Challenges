{
 "cells": [
  {
   "cell_type": "markdown",
   "id": "70b6afb4-b7b0-49e6-9183-d51271a47b87",
   "metadata": {
    "tags": []
   },
   "source": [
    "# BUILDING"
   ]
  },
  {
   "cell_type": "code",
   "execution_count": 2,
   "id": "ee3b2459-d722-4092-9969-46d642e234f2",
   "metadata": {
    "tags": []
   },
   "outputs": [],
   "source": [
    "from collections import Counter\n",
    "from string import punctuation\n",
    "from random import choice, choices, randint\n",
    "\n",
    "def junk_generator(n = 1):\n",
    "    p = \"\".join(c for c in punctuation if c not in \" \\\"'\") + \"~|\"\n",
    "    yield from [\"\".join(choices(p, k=4)) for _ in range(n)]"
   ]
  },
  {
   "cell_type": "code",
   "execution_count": 4,
   "id": "037cc28a-ddf3-4717-9643-4e2710ee0e63",
   "metadata": {
    "tags": []
   },
   "outputs": [
    {
     "name": "stdout",
     "output_type": "stream",
     "text": [
      "['|#}:', '},&+', '@/?\\\\', '{~&<', '?`)}', '^$./', '<:|/', '|]=\\\\', '~-[$', '.{!`', '!%$|', '.#^;', '<[@`', ']@`^', '&<~.', '$,].', '|~&;', '<~?~', '@\\\\|!', '^;;@', ';?;@', '~-^\\\\', '<!(~', '&|?:', '}*~*', '<({%', '%|%{', '<%)=', ']^<-', '?,`=', '^%;/', '=!+`', '*+$%', '~~~]', '|;`~', '_=]#', '.^^.', '&=*]', '(\\\\|*', '|[~`', '^].~', '|~)~', ';?){', '|%<(', '$!{<', '[,~:', '!+?|', '%/|%', '<%{>', '$[/{']\n"
     ]
    }
   ],
   "source": [
    "p = \"\".join(c for c in punctuation if c not in \" \\\"'\") + \"~|\"\n",
    "data = \"\".join(choices(p, k=1_000_000))\n",
    "c = Counter([data[i: i+4] for i in range(4, len(data), 4)])\n",
    "items = list(c.keys())[:50]\n",
    "print(items)"
   ]
  },
  {
   "cell_type": "code",
   "execution_count": 5,
   "id": "868f9b4f-a2d2-4ead-996b-96135345b4b2",
   "metadata": {
    "tags": []
   },
   "outputs": [
    {
     "name": "stdout",
     "output_type": "stream",
     "text": [
      "('<({%', 1081)\t('$,].', 1074)\t(']@`^', 1073)\t('.{!`', 1067)\t('|]=\\\\', 1067)\t('=!+`', 1055)\t('<!(~', 1050)\t('$!{<', 1048)\t('%|%{', 1047)\t('&<~.', 1041)\t('@/?\\\\', 1038)\t('|#}:', 1029)\t('|~)~', 1024)\t('}*~*', 1023)\t('|;`~', 1019)\t('$[/{', 1015)\t('@\\\\|!', 1014)\t('%/|%', 1013)\t('^%;/', 1011)\t('|%<(', 1010)\t('<[@`', 1003)\t('~~~]', 1003)\t('{~&<', 1002)\t('|[~`', 1001)\t('<:|/', 996)\t('!%$|', 995)\t('&=*]', 991)\t(';?;@', 990)\t('^;;@', 990)\t('^$./', 985)\t('[,~:', 983)\t('?,`=', 983)\t('!+?|', 982)\t('~-[$', 982)\t('.#^;', 977)\t('_=]#', 976)\t('^].~', 976)\t('?`)}', 976)\t('|~&;', 973)\t(']^<-', 969)\t('~-^\\\\', 966)\t('<%{>', 965)\t('<%)=', 960)\t('<~?~', 959)\t(';?){', 955)\t('.^^.', 952)\t('&|?:', 945)\t('*+$%', 932)\t('(\\\\|*', 928)\t('},&+', 907)\n"
     ]
    }
   ],
   "source": [
    "result = \"\"\n",
    "for junk in junk_generator(50_000):\n",
    "    result += (junk*randint(0,1)) + choice(items)\n",
    "result += next(junk_generator())\n",
    "\n",
    "products = Counter([result[i: i+4] for i in range(4, len(result), 4)])\n",
    "print(*products.most_common(50), sep=\"\\t\")"
   ]
  },
  {
   "cell_type": "raw",
   "id": "ea05697c-0f82-49bf-8ce3-6c302a6b73be",
   "metadata": {},
   "source": [
    "There's #### bottles of \"InstaHeal\" Combination Disinfectant and Wound Closure Serum in stock.\n",
    "There's #### blister packs of \"Yucky Tummy No More\" chewable antacids in stock.\n",
    "Print the stock symbol for both of these two items next to eachother without a space."
   ]
  },
  {
   "cell_type": "code",
   "execution_count": 11,
   "id": "c197ea1a-1bab-44a3-9bf8-2981606f525f",
   "metadata": {
    "tags": []
   },
   "outputs": [],
   "source": [
    "x = \"\".join(result[i: i+36] + \"🔴\" for i in range(4, len(result), 36))"
   ]
  },
  {
   "cell_type": "code",
   "execution_count": 12,
   "id": "5e86faa7-c33a-4f59-ba05-bfc738a4510e",
   "metadata": {
    "tags": []
   },
   "outputs": [],
   "source": [
    "with open(\"stock.txt\", \"w\") as f:\n",
    "    f.write(x)\n",
    "    \n",
    "r = result\n",
    "for i, _ in products.most_common(50):\n",
    "    r = r.replace(i, \"O\")\n",
    "with open(\"stock_visual.txt\", \"w\") as f:   \n",
    "    f.write(r)"
   ]
  },
  {
   "cell_type": "code",
   "execution_count": 8,
   "id": "795ecf88-52b7-423e-a6c3-ce5ad2954519",
   "metadata": {
    "tags": []
   },
   "outputs": [
    {
     "data": {
      "text/plain": [
       "'FOUR BLUE CATS WITH FIVE PINK DOGS WALK DOWN THAT ROAD'"
      ]
     },
     "execution_count": 8,
     "metadata": {},
     "output_type": "execute_result"
    }
   ],
   "source": [
    "\"four blue cats with five pink dogs walk down that road\".upper()"
   ]
  },
  {
   "cell_type": "markdown",
   "id": "8a6e8faf-1b06-4d62-9b9d-234677d28466",
   "metadata": {},
   "source": [
    "# SOLVING"
   ]
  },
  {
   "cell_type": "code",
   "execution_count": 13,
   "id": "936f3c53-3f7b-4beb-afa9-6c02f08bc21f",
   "metadata": {
    "tags": []
   },
   "outputs": [
    {
     "name": "stdout",
     "output_type": "stream",
     "text": [
      "('<({%', 1081)\t('$,].', 1074)\t(']@`^', 1073)\t('.{!`', 1067)\t('|]=\\\\', 1067)\t('=!+`', 1055)\t('<!(~', 1050)\t('$!{<', 1048)\t('%|%{', 1047)\t('&<~.', 1041)\t('@/?\\\\', 1038)\t('|#}:', 1029)\t('|~)~', 1024)\t('}*~*', 1023)\t('|;`~', 1019)\t('$[/{', 1015)\t('@\\\\|!', 1014)\t('%/|%', 1013)\t('^%;/', 1011)\t('|%<(', 1010)\t('<[@`', 1003)\t('~~~]', 1003)\t('{~&<', 1002)\t('|[~`', 1001)\t('<:|/', 996)\t('!%$|', 995)\t('&=*]', 991)\t(';?;@', 990)\t('^;;@', 990)\t('^$./', 985)\t('[,~:', 983)\t('?,`=', 983)\t('!+?|', 982)\t('~-[$', 982)\t('.#^;', 977)\t('_=]#', 976)\t('^].~', 976)\t('?`)}', 976)\t('|~&;', 973)\t(']^<-', 969)\t('~-^\\\\', 966)\t('<%{>', 965)\t('<%)=', 960)\t('<~?~', 959)\t(';?){', 955)\t('.^^.', 952)\t('&|?:', 945)\t('*+$%', 932)\t('(\\\\|*', 928)\t('},&+', 907)\n"
     ]
    }
   ],
   "source": [
    "with open(\"stock.txt\") as f:\n",
    "    result = f.read().strip()\n",
    "    products = Counter([result[i: i+4] for i in range(4, len(result), 4)])\n",
    "print(*products.most_common(50), sep=\"\\t\")"
   ]
  },
  {
   "cell_type": "raw",
   "id": "e7037534-986e-43c4-abe3-11912e7f78fd",
   "metadata": {},
   "source": [
    "There's 1081 packages of standard adhesive bandages in stock.\n",
    "There's 1055 bottles of \"InstaHeal\" Combination Disinfectant and Wound Closure Serum in stock.\n",
    "There's 965 blister packs of \"Yucky Tummy No More\" chewable antacids in stock.\n",
    "Print the stock symbol for the three of these items next to eachother without spaces.\n",
    "\n",
    "<({%=!+`<%{>"
   ]
  },
  {
   "cell_type": "code",
   "execution_count": 19,
   "id": "e02b1a83-1f5d-4949-874a-f726e1ddcd1e",
   "metadata": {
    "tags": []
   },
   "outputs": [
    {
     "name": "stdout",
     "output_type": "stream",
     "text": [
      "<({%=!+`<%{>\n"
     ]
    }
   ],
   "source": [
    "stcudorp = {v:k for k,v in products.items()}\n",
    "print(stcudorp[1081] + stcudorp[1055] + stcudorp[965])"
   ]
  },
  {
   "cell_type": "code",
   "execution_count": 18,
   "id": "8f00c447-1fce-4599-9650-d5cf4b8d6bee",
   "metadata": {
    "tags": []
   },
   "outputs": [
    {
     "name": "stdout",
     "output_type": "stream",
     "text": [
      "FOUR BLUE CATS WITH FIVE PINK DOGS WENT DOWN THAT ROAD\n"
     ]
    }
   ],
   "source": [
    "# EE\n",
    "print(*[p for p in products if p.isalpha()], sep=\" \")"
   ]
  },
  {
   "cell_type": "code",
   "execution_count": null,
   "id": "c7bd00af-71bf-44e4-8293-ff816c127e25",
   "metadata": {},
   "outputs": [],
   "source": []
  },
  {
   "cell_type": "markdown",
   "id": "36edad7b-44a8-43a5-af70-f7101910ba89",
   "metadata": {},
   "source": [
    "# BUILDING"
   ]
  },
  {
   "cell_type": "code",
   "execution_count": 6,
   "id": "f49a5f7d-fefd-45ac-8ef6-b2e157a1c537",
   "metadata": {
    "tags": []
   },
   "outputs": [
    {
     "name": "stdout",
     "output_type": "stream",
     "text": [
      "1944:acce55\n",
      "1944:0ff1ce\n",
      "1944:c0ffee\n",
      "1943:0000ff\n",
      "1943:ff00ff\n",
      "1943:ff0000\n"
     ]
    },
    {
     "data": {
      "image/jpeg": "[encoded data removed]",
      "image/png": "[encoded data removed]",
      "text/plain": [
       "<PIL.Image.Image image mode=RGB size=897x13>"
      ]
     },
     "execution_count": 6,
     "metadata": {},
     "output_type": "execute_result"
    }
   ],
   "source": [
    "from PIL import Image\n",
    "from collections import Counter\n",
    "\n",
    "w = 897\n",
    "h = 13\n",
    "image = Image.new('RGB', (w, h))\n",
    "\n",
    "colors = [\n",
    "    'acce55', # ≈ Celery\n",
    "    '0ff1ce', # ≈ Bright Turquoise\n",
    "    'c0ffee', # ≈ Aero Blue\n",
    "]\n",
    "col_swap = {(172, 206, 85): (0, 0, 255), (15, 241, 206): (255, 0, 255), (192, 255, 238): (255, 0, 0)}\n",
    "\n",
    "for n, color in enumerate(colors):\n",
    "    for x in range(n*w//3, (n+1)*w//3):\n",
    "        for y in range(h):\n",
    "            image.putpixel((x, y), tuple(int(color[i:i+2], 16) for i in (0, 2, 4)))\n",
    "            \n",
    "for i in range(w*h):\n",
    "    x, y = divmod(i, h)\n",
    "    if x in range(299, 598):\n",
    "        if not (x^y)&1:\n",
    "            image.putpixel((x, y), col_swap[image.getpixel((x, y))])\n",
    "    else:\n",
    "        if (x^y)&1:\n",
    "            image.putpixel((x, y), col_swap[image.getpixel((x, y))])\n",
    "            \n",
    "#image.save(\"../colorbar.png\")\n",
    "\n",
    "def get_color_frequency():\n",
    "    colors = list(image.getdata())\n",
    "    color_frequency = Counter(colors)\n",
    "    return color_frequency\n",
    "\n",
    "color_frequency = get_color_frequency()\n",
    "for c, f in color_frequency.most_common():\n",
    "    print(\"{}:{:02x}{:02x}{:02x}\".format(f, *c))\n",
    "\n",
    "image\n",
    "\n",
    "# Example: #FACE5"
   ]
  },
  {
   "cell_type": "code",
   "execution_count": 2,
   "id": "32dc1f1e-e2bf-45ea-85a9-774eb512b825",
   "metadata": {
    "tags": []
   },
   "outputs": [
    {
     "name": "stdout",
     "output_type": "stream",
     "text": [
      "acce55\n",
      "0000ff\n",
      "0ff1ce\n",
      "ff00ff\n",
      "c0ffee\n",
      "ff0000\n",
      "['acce55', '0ff1ce', 'c0ffee']\n"
     ]
    }
   ],
   "source": [
    "from collections import Counter\n",
    "from PIL import Image\n",
    "\n",
    "def get_color_frequency(image):\n",
    "    with Image.open(image) as img:\n",
    "        img = img.convert(\"RGB\")\n",
    "        colors = list(img.getdata())\n",
    "        color_frequency = Counter(colors)\n",
    "        return color_frequency\n",
    "\n",
    "# Example usage:\n",
    "image_path = \"colorbar.png\"\n",
    "color_frequency = get_color_frequency(image_path)\n",
    "for c, _ in color_frequency.items():\n",
    "    print(\"{:02x}{:02x}{:02x}\".format(*c))\n",
    "    \n",
    "print([\"{:02x}{:02x}{:02x}\".format(*c) for c, _ in color_frequency.most_common(3)])"
   ]
  },
  {
   "cell_type": "code",
   "execution_count": null,
   "id": "e057823a-7be8-4100-be1a-6e290b0b91d4",
   "metadata": {},
   "outputs": [],
   "source": []
  },
  {
   "cell_type": "markdown",
   "id": "f93ee21e-0b16-454c-b30b-18b96289656f",
   "metadata": {
    "tags": []
   },
   "source": [
    "Example perhaps:\n",
    "\n",
    "b0d1e5 = BODIES"
   ]
  },
  {
   "cell_type": "code",
   "execution_count": null,
   "id": "a23d4342-1025-4029-b09c-1ef6d2f7a270",
   "metadata": {
    "tags": []
   },
   "outputs": [],
   "source": []
  },
  {
   "cell_type": "code",
   "execution_count": null,
   "id": "c375da9e-7485-4e17-8409-84c10ec80fce",
   "metadata": {},
   "outputs": [],
   "source": []
  }
 ],
 "metadata": {
  "kernelspec": {
   "display_name": "Python 3 (ipykernel)",
   "language": "python",
   "name": "python3"
  },
  "language_info": {
   "codemirror_mode": {
    "name": "ipython",
    "version": 3
   },
   "file_extension": ".py",
   "mimetype": "text/x-python",
   "name": "python",
   "nbconvert_exporter": "python",
   "pygments_lexer": "ipython3",
   "version": "3.10.9"
  }
 },
 "nbformat": 4,
 "nbformat_minor": 5
}
