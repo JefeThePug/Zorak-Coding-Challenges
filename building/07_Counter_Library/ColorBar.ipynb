{
 "cells": [
  {
   "cell_type": "markdown",
   "id": "70b6afb4-b7b0-49e6-9183-d51271a47b87",
   "metadata": {
    "tags": []
   },
   "source": [
    "# BUILDING"
   ]
  },
  {
   "cell_type": "code",
   "execution_count": 2,
   "id": "ee3b2459-d722-4092-9969-46d642e234f2",
   "metadata": {
    "tags": []
   },
   "outputs": [],
   "source": [
    "from collections import Counter\n",
    "from string import punctuation\n",
    "from random import choice, choices, randint\n",
    "\n",
    "def junk_generator(n = 1):\n",
    "    p = \"\".join(c for c in punctuation if c not in \" \\\"'\") + \"~|\"\n",
    "    yield from [\"\".join(choices(p, k=4)) for _ in range(n)]"
   ]
  },
  {
   "cell_type": "code",
   "execution_count": 4,
   "id": "037cc28a-ddf3-4717-9643-4e2710ee0e63",
   "metadata": {
    "tags": []
   },
   "outputs": [
    {
     "name": "stdout",
     "output_type": "stream",
     "text": [
      "['|#}:', '},&+', '@/?\\\\', '{~&<', '?`)}', '^$./', '<:|/', '|]=\\\\', '~-[$', '.{!`', '!%$|', '.#^;', '<[@`', ']@`^', '&<~.', '$,].', '|~&;', '<~?~', '@\\\\|!', '^;;@', ';?;@', '~-^\\\\', '<!(~', '&|?:', '}*~*', '<({%', '%|%{', '<%)=', ']^<-', '?,`=', '^%;/', '=!+`', '*+$%', '~~~]', '|;`~', '_=]#', '.^^.', '&=*]', '(\\\\|*', '|[~`', '^].~', '|~)~', ';?){', '|%<(', '$!{<', '[,~:', '!+?|', '%/|%', '<%{>', '$[/{']\n"
     ]
    }
   ],
   "source": [
    "p = \"\".join(c for c in punctuation if c not in \" \\\"'\") + \"~|\"\n",
    "data = \"\".join(choices(p, k=1_000_000))\n",
    "c = Counter([data[i: i+4] for i in range(4, len(data), 4)])\n",
    "items = list(c.keys())[:50]\n",
    "print(items)"
   ]
  },
  {
   "cell_type": "code",
   "execution_count": 5,
   "id": "868f9b4f-a2d2-4ead-996b-96135345b4b2",
   "metadata": {
    "tags": []
   },
   "outputs": [
    {
     "name": "stdout",
     "output_type": "stream",
     "text": [
      "('<({%', 1081)\t('$,].', 1074)\t(']@`^', 1073)\t('.{!`', 1067)\t('|]=\\\\', 1067)\t('=!+`', 1055)\t('<!(~', 1050)\t('$!{<', 1048)\t('%|%{', 1047)\t('&<~.', 1041)\t('@/?\\\\', 1038)\t('|#}:', 1029)\t('|~)~', 1024)\t('}*~*', 1023)\t('|;`~', 1019)\t('$[/{', 1015)\t('@\\\\|!', 1014)\t('%/|%', 1013)\t('^%;/', 1011)\t('|%<(', 1010)\t('<[@`', 1003)\t('~~~]', 1003)\t('{~&<', 1002)\t('|[~`', 1001)\t('<:|/', 996)\t('!%$|', 995)\t('&=*]', 991)\t(';?;@', 990)\t('^;;@', 990)\t('^$./', 985)\t('[,~:', 983)\t('?,`=', 983)\t('!+?|', 982)\t('~-[$', 982)\t('.#^;', 977)\t('_=]#', 976)\t('^].~', 976)\t('?`)}', 976)\t('|~&;', 973)\t(']^<-', 969)\t('~-^\\\\', 966)\t('<%{>', 965)\t('<%)=', 960)\t('<~?~', 959)\t(';?){', 955)\t('.^^.', 952)\t('&|?:', 945)\t('*+$%', 932)\t('(\\\\|*', 928)\t('},&+', 907)\n"
     ]
    }
   ],
   "source": [
    "result = \"\"\n",
    "for junk in junk_generator(50_000):\n",
    "    result += (junk*randint(0,1)) + choice(items)\n",
    "result += next(junk_generator())\n",
    "\n",
    "products = Counter([result[i: i+4] for i in range(4, len(result), 4)])\n",
    "print(*products.most_common(50), sep=\"\\t\")"
   ]
  },
  {
   "cell_type": "raw",
   "id": "ea05697c-0f82-49bf-8ce3-6c302a6b73be",
   "metadata": {},
   "source": [
    "There's #### bottles of \"InstaHeal\" Combination Disinfectant and Wound Closure Serum in stock.\n",
    "There's #### blister packs of \"Yucky Tummy No More\" chewable antacids in stock.\n",
    "Print the stock symbol for both of these two items next to eachother without a space."
   ]
  },
  {
   "cell_type": "code",
   "execution_count": 11,
   "id": "c197ea1a-1bab-44a3-9bf8-2981606f525f",
   "metadata": {
    "tags": []
   },
   "outputs": [],
   "source": [
    "x = \"\".join(result[i: i+36] + \"🔴\" for i in range(4, len(result), 36))"
   ]
  },
  {
   "cell_type": "code",
   "execution_count": 12,
   "id": "5e86faa7-c33a-4f59-ba05-bfc738a4510e",
   "metadata": {
    "tags": []
   },
   "outputs": [],
   "source": [
    "with open(\"stock.txt\", \"w\") as f:\n",
    "    f.write(x)\n",
    "    \n",
    "r = result\n",
    "for i, _ in products.most_common(50):\n",
    "    r = r.replace(i, \"O\")\n",
    "with open(\"stock_visual.txt\", \"w\") as f:   \n",
    "    f.write(r)"
   ]
  },
  {
   "cell_type": "code",
   "execution_count": 8,
   "id": "795ecf88-52b7-423e-a6c3-ce5ad2954519",
   "metadata": {
    "tags": []
   },
   "outputs": [
    {
     "data": {
      "text/plain": [
       "'FOUR BLUE CATS WITH FIVE PINK DOGS WALK DOWN THAT ROAD'"
      ]
     },
     "execution_count": 8,
     "metadata": {},
     "output_type": "execute_result"
    }
   ],
   "source": [
    "\"four blue cats with five pink dogs walk down that road\".upper()"
   ]
  },
  {
   "cell_type": "markdown",
   "id": "8a6e8faf-1b06-4d62-9b9d-234677d28466",
   "metadata": {},
   "source": [
    "# SOLVING"
   ]
  },
  {
   "cell_type": "code",
   "execution_count": 56,
   "id": "936f3c53-3f7b-4beb-afa9-6c02f08bc21f",
   "metadata": {
    "tags": []
   },
   "outputs": [
    {
     "name": "stdout",
     "output_type": "stream",
     "text": [
      "('<({%', 1081)\t('$,].', 1074)\t(']@`^', 1073)\t('.{!`', 1067)\t('|]=\\\\', 1067)\t('=!+`', 1055)\t('<!(~', 1050)\t('$!{<', 1048)\t('%|%{', 1047)\t('&<~.', 1041)\t('@/?\\\\', 1038)\t('|#}:', 1029)\t('|~)~', 1024)\t('}*~*', 1023)\t('|;`~', 1019)\t('$[/{', 1015)\t('@\\\\|!', 1014)\t('%/|%', 1013)\t('^%;/', 1011)\t('|%<(', 1010)\t('<[@`', 1003)\t('~~~]', 1003)\t('{~&<', 1002)\t('|[~`', 1001)\t('<:|/', 996)\t('!%$|', 995)\t('&=*]', 991)\t(';?;@', 990)\t('^;;@', 990)\t('^$./', 985)\t('[,~:', 983)\t('?,`=', 983)\t('!+?|', 982)\t('~-[$', 982)\t('.#^;', 977)\t('_=]#', 976)\t('^].~', 976)\t('?`)}', 976)\t('|~&;', 973)\t(']^<-', 969)\t('~-^\\\\', 966)\t('<%{>', 965)\t('<%)=', 960)\t('<~?~', 959)\t(';?){', 955)\t('.^^.', 952)\t('&|?:', 945)\t('*+$%', 932)\t('(\\\\|*', 928)\t('},&+', 907)\n"
     ]
    }
   ],
   "source": [
    "with open(\"stock.txt\") as f:\n",
    "    result = f.read().strip()\n",
    "    products = Counter([result[i: i+4] for i in range(4, len(result), 4)])\n",
    "print(*products.most_common(50), sep=\"\\t\")"
   ]
  },
  {
   "cell_type": "code",
   "execution_count": 72,
   "id": "3618a0d5-87f4-40eb-b1a4-aa7780da4738",
   "metadata": {
    "tags": []
   },
   "outputs": [
    {
     "name": "stdout",
     "output_type": "stream",
     "text": [
      "('<({%', 1081)\t('$,].', 1074)\t(']@`^', 1073)\t('.{!`', 1067)\t('|]=\\\\', 1067)\t('=!+`', 1055)\t('<!(~', 1050)\t('$!{<', 1048)\t('%|%{', 1047)\t('&<~.', 1041)\t('@/?\\\\', 1038)\t('|#}:', 1029)\t('|~)~', 1024)\t('}*~*', 1023)\t('|;`~', 1019)\t('$[/{', 1015)\t('@\\\\|!', 1014)\t('%/|%', 1013)\t('^%;/', 1011)\t('|%<(', 1010)\t('<[@`', 1003)\t('~~~]', 1003)\t('{~&<', 1002)\t('|[~`', 1001)\t('<:|/', 996)\t('!%$|', 995)\t('&=*]', 991)\t(';?;@', 990)\t('^;;@', 990)\t('^$./', 985)\t('[,~:', 983)\t('?,`=', 983)\t('!+?|', 982)\t('~-[$', 982)\t('.#^;', 977)\t('_=]#', 976)\t('^].~', 976)\t('?`)}', 976)\t('|~&;', 973)\t(']^<-', 969)\t('~-^\\\\', 966)\t('<%{>', 965)\t('<%)=', 960)\t('<~?~', 959)\t(';?){', 955)\t('.^^.', 952)\t('&|?:', 945)\t('*+$%', 932)\t('(\\\\|*', 928)\t('},&+', 907)\n"
     ]
    }
   ],
   "source": [
    "with open(\"stock.txt\") as f:\n",
    "    result = f.read().strip()\n",
    "    products = Counter([result[i: i+4] for i in range(0, len(result), 4)])\n",
    "print(*products.most_common(50), sep=\"\\t\")"
   ]
  },
  {
   "cell_type": "raw",
   "id": "e7037534-986e-43c4-abe3-11912e7f78fd",
   "metadata": {},
   "source": [
    "There's 1081 packages of standard adhesive bandages in stock.\n",
    "There's 1055 bottles of \"InstaHeal\" Combination Disinfectant and Wound Closure Serum in stock.\n",
    "There's 965 blister packs of \"Yucky Tummy No More\" chewable antacids in stock.\n",
    "Print the stock symbol for the three of these items next to eachother without spaces.\n",
    "\n",
    "<({%=!+`<%{>"
   ]
  },
  {
   "cell_type": "code",
   "execution_count": 57,
   "id": "e02b1a83-1f5d-4949-874a-f726e1ddcd1e",
   "metadata": {
    "tags": []
   },
   "outputs": [
    {
     "name": "stdout",
     "output_type": "stream",
     "text": [
      "<({%=!+`<%{>\n"
     ]
    }
   ],
   "source": [
    "stcudorp = {v:k for k,v in products.items()}\n",
    "print(stcudorp[1081] + stcudorp[1055] + stcudorp[965])"
   ]
  },
  {
   "cell_type": "code",
   "execution_count": 58,
   "id": "8f00c447-1fce-4599-9650-d5cf4b8d6bee",
   "metadata": {
    "tags": []
   },
   "outputs": [
    {
     "name": "stdout",
     "output_type": "stream",
     "text": [
      "ESPRESSO YOURSELF AND MAKE EVERY DAY SPARKLE\n"
     ]
    }
   ],
   "source": [
    "# EE\n",
    "print(\"\".join(p for p in products if p.replace(\" \", \"\").isalpha()))"
   ]
  },
  {
   "cell_type": "code",
   "execution_count": null,
   "id": "c7bd00af-71bf-44e4-8293-ff816c127e25",
   "metadata": {},
   "outputs": [],
   "source": []
  },
  {
   "cell_type": "markdown",
   "id": "36edad7b-44a8-43a5-af70-f7101910ba89",
   "metadata": {},
   "source": [
    "# BUILDING"
   ]
  },
  {
   "cell_type": "code",
   "execution_count": 60,
   "id": "f49a5f7d-fefd-45ac-8ef6-b2e157a1c537",
   "metadata": {
    "tags": []
   },
   "outputs": [
    {
     "name": "stdout",
     "output_type": "stream",
     "text": [
      "1944:acce55\n",
      "1944:0ff1ce\n",
      "1944:c0ffee\n",
      "1943:0000ff\n",
      "1943:ff00ff\n",
      "1943:ff0000\n"
     ]
    },
    {
     "data": {
      "image/jpeg": "[encoded data removed]",
      "image/png": "[encoded data removed]",
      "text/plain": [
       "<PIL.Image.Image image mode=RGB size=897x13>"
      ]
     },
     "execution_count": 60,
     "metadata": {},
     "output_type": "execute_result"
    }
   ],
   "source": [
    "from PIL import Image\n",
    "from collections import Counter\n",
    "\n",
    "w = 897\n",
    "h = 13\n",
    "image = Image.new('RGB', (w, h))\n",
    "\n",
    "colors = [\n",
    "    'acce55', # ≈ Celery\n",
    "    '0ff1ce', # ≈ Bright Turquoise\n",
    "    'c0ffee', # ≈ Aero Blue\n",
    "]\n",
    "col_swap = {(172, 206, 85): (0, 0, 255), (15, 241, 206): (255, 0, 255), (192, 255, 238): (255, 0, 0)}\n",
    "\n",
    "for n, color in enumerate(colors):\n",
    "    for x in range(n*w//3, (n+1)*w//3):\n",
    "        for y in range(h):\n",
    "            image.putpixel((x, y), tuple(int(color[i:i+2], 16) for i in (0, 2, 4)))\n",
    "            \n",
    "for i in range(w*h):\n",
    "    x, y = divmod(i, h)\n",
    "    if x in range(299, 598):\n",
    "        if not (x^y)&1:\n",
    "            image.putpixel((x, y), col_swap[image.getpixel((x, y))])\n",
    "    else:\n",
    "        if (x^y)&1:\n",
    "            image.putpixel((x, y), col_swap[image.getpixel((x, y))])\n",
    "            \n",
    "image.save(\"colorbar.png\")\n",
    "\n",
    "def get_color_frequency():\n",
    "    colors = list(image.getdata())\n",
    "    color_frequency = Counter(colors)\n",
    "    return color_frequency\n",
    "\n",
    "color_frequency = get_color_frequency()\n",
    "for c, f in color_frequency.most_common():\n",
    "    print(\"{}:{:02x}{:02x}{:02x}\".format(f, *c))\n",
    "\n",
    "image\n",
    "\n",
    "# Example: #FACE5"
   ]
  },
  {
   "cell_type": "code",
   "execution_count": 20,
   "id": "32dc1f1e-e2bf-45ea-85a9-774eb512b825",
   "metadata": {
    "tags": []
   },
   "outputs": [
    {
     "name": "stdout",
     "output_type": "stream",
     "text": [
      "ffffff\n",
      "000000\n",
      "b0d1e5\n",
      "beaded\n",
      "decade\n",
      "['b0d1e5 10000', 'beaded 10000', 'decade 10000']\n"
     ]
    }
   ],
   "source": [
    "from collections import Counter\n",
    "from PIL import Image\n",
    "    \n",
    "with Image.open(\"sample.png\") as img:\n",
    "    color_frequency = Counter(img.convert('RGB').getdata())\n",
    "    \n",
    "for c in color_frequency:\n",
    "    print(\"{:02x}{:02x}{:02x}\".format(*c))\n",
    "    \n",
    "print([\"{:02x}{:02x}{:02x} {}\".format(*c, _) for c, _ in color_frequency.most_common(3)])"
   ]
  },
  {
   "cell_type": "code",
   "execution_count": 21,
   "id": "7cf89452-1637-499f-9af1-4ed31e3bf675",
   "metadata": {
    "tags": []
   },
   "outputs": [
    {
     "data": {
      "text/plain": [
       "Counter({(255, 255, 255): 2183,\n",
       "         (0, 0, 0): 1917,\n",
       "         (176, 209, 229): 10000,\n",
       "         (190, 173, 237): 10000,\n",
       "         (222, 202, 222): 10000})"
      ]
     },
     "execution_count": 21,
     "metadata": {},
     "output_type": "execute_result"
    }
   ],
   "source": [
    "color_frequency"
   ]
  },
  {
   "cell_type": "code",
   "execution_count": 65,
   "id": "e057823a-7be8-4100-be1a-6e290b0b91d4",
   "metadata": {},
   "outputs": [
    {
     "data": {
      "text/plain": [
       "Counter({(172, 206, 85): 1944,\n",
       "         (0, 0, 255): 1943,\n",
       "         (15, 241, 206): 1944,\n",
       "         (255, 0, 255): 1943,\n",
       "         (192, 255, 238): 1944,\n",
       "         (255, 0, 0): 1943})"
      ]
     },
     "execution_count": 65,
     "metadata": {},
     "output_type": "execute_result"
    }
   ],
   "source": [
    "color_frequency"
   ]
  },
  {
   "cell_type": "markdown",
   "id": "f93ee21e-0b16-454c-b30b-18b96289656f",
   "metadata": {
    "tags": []
   },
   "source": [
    "Example perhaps:\n",
    "\n",
    "b0d1e5 = BODIES"
   ]
  },
  {
   "cell_type": "code",
   "execution_count": null,
   "id": "a23d4342-1025-4029-b09c-1ef6d2f7a270",
   "metadata": {
    "tags": []
   },
   "outputs": [],
   "source": []
  },
  {
   "cell_type": "code",
   "execution_count": 46,
   "id": "c375da9e-7485-4e17-8409-84c10ec80fce",
   "metadata": {},
   "outputs": [
    {
     "data": {
      "image/jpeg": "[encoded data removed]",
      "image/png": "[encoded data removed]",
      "text/plain": [
       "<PIL.Image.Image image mode=RGB size=519x370>"
      ]
     },
     "execution_count": 46,
     "metadata": {},
     "output_type": "execute_result"
    }
   ],
   "source": [
    "from PIL import Image\n",
    "from collections import Counter\n",
    "\n",
    "w = 519\n",
    "h = 370\n",
    "col_swap = {(172, 206, 85): (0, 0, 255), (15, 241, 206): (255, 0, 255), (192, 255, 238): (255, 0, 0)}\n",
    "colors = [\n",
    "    'acce55', # ≈ Celery\n",
    "    '0ff1ce', # ≈ Bright Turquoise\n",
    "    'c0ffee', # ≈ Aero Blue\n",
    "]\n",
    "R = [2, 3, 4, 5, 7, 10, 14, 20, 27, 38, 53, 73, 101, 141, 195, 270, 375, 519]\n",
    "\n",
    "\n",
    "for xi, num in enumerate(R, 1): \n",
    "    image = Image.new('RGB', (w, h))\n",
    "    for n, color in enumerate(colors):\n",
    "        for x in range(n*w//3, (n+1)*w//3):\n",
    "            for y in range(h):\n",
    "                if (x%num == 0) ^ (y%num == 0):\n",
    "                    image.putpixel((x, y), col_swap[tuple(int(color[i:i+2], 16) for i in (0, 2, 4))])\n",
    "                else:\n",
    "                    image.putpixel((x, y), tuple(int(color[i:i+2], 16) for i in (0, 2, 4)))\n",
    "            \n",
    "    image.save(f\"gif/colorbar{xi}.png\")\n",
    "\n",
    "image\n",
    "\n",
    "# Example: #FACE5"
   ]
  },
  {
   "cell_type": "code",
   "execution_count": 29,
   "id": "0e546df1-7ceb-44b6-8605-521121055f1d",
   "metadata": {
    "tags": []
   },
   "outputs": [
    {
     "name": "stdout",
     "output_type": "stream",
     "text": [
      "[2, 3, 4, 5, 7, 10, 14, 20, 27, 38, 53, 73, 101, 141, 195, 270, 375, 520, 721, 1000]\n"
     ]
    }
   ],
   "source": [
    "import numpy as np\n",
    "\n",
    "# Define the parameters\n",
    "start = 2\n",
    "stop = 1000\n",
    "num = 20\n",
    "\n",
    "# Create an exponential range starting at 2\n",
    "exp_range = np.logspace(np.log10(start), np.log10(stop), num=num)\n",
    "\n",
    "# Convert to a list and round to integers if needed\n",
    "exp_range = [int(round(x)) for x in exp_range]\n",
    "\n",
    "print(exp_range)"
   ]
  },
  {
   "cell_type": "code",
   "execution_count": 47,
   "id": "f4008c73-050e-4f64-ab74-1e52a79346b9",
   "metadata": {
    "tags": []
   },
   "outputs": [
    {
     "name": "stdout",
     "output_type": "stream",
     "text": [
      "['gif/colorbar1.png', 'gif/colorbar2.png', 'gif/colorbar3.png', 'gif/colorbar4.png', 'gif/colorbar5.png', 'gif/colorbar6.png', 'gif/colorbar7.png', 'gif/colorbar8.png', 'gif/colorbar9.png', 'gif/colorbar10.png', 'gif/colorbar11.png', 'gif/colorbar12.png', 'gif/colorbar13.png', 'gif/colorbar14.png', 'gif/colorbar15.png', 'gif/colorbar16.png', 'gif/colorbar17.png', 'gif/colorbar18.png']\n"
     ]
    }
   ],
   "source": [
    "from PIL import Image\n",
    "import glob\n",
    "\n",
    "# Create a list of image file paths from the /gif/ directory\n",
    "image_files = sorted(glob.glob(\"gif/colorbar*.png\"), key=lambda x: int(x.split(\"colorbar\")[1].split(\".\")[0]))\n",
    "print(image_files)\n",
    "# Open images one by one and save them in a list\n",
    "images = []\n",
    "for image_file in image_files:\n",
    "    with Image.open(image_file) as img:\n",
    "        for _ in range(5):\n",
    "            images.append(img.copy())  # Use .copy() to avoid issues with closed images\n",
    "\n",
    "# Save as GIF\n",
    "images[0].save('colorbaranim.gif', save_all=True, append_images=images[1:], duration=100, loop=None)"
   ]
  },
  {
   "cell_type": "code",
   "execution_count": 49,
   "id": "d2e3adb5-6c99-4329-b1d4-f24549a65322",
   "metadata": {
    "tags": []
   },
   "outputs": [],
   "source": [
    "from PIL import Image, ImageSequence\n",
    "\n",
    "# Open the base GIF\n",
    "base_gif = Image.open('colorbaranim.gif')\n",
    "\n",
    "# Open the overlay GIF\n",
    "overlay_gif = Image.open('zorak.gif')\n",
    "\n",
    "# Create a list to hold the combined frames\n",
    "frames = []\n",
    "\n",
    "# Get the number of frames in each GIF\n",
    "num_base_frames = base_gif.n_frames\n",
    "num_overlay_frames = overlay_gif.n_frames\n",
    "\n",
    "# Iterate through the frames of the base GIF\n",
    "for frame_index, base_frame in enumerate(ImageSequence.Iterator(base_gif)):\n",
    "    # Ensure overlay GIF is looped if it has fewer frames than the base GIF\n",
    "    overlay_frame_index = frame_index % num_overlay_frames\n",
    "    overlay_frame = ImageSequence.Iterator(overlay_gif)[overlay_frame_index]\n",
    "\n",
    "    # Make a copy of the base frame\n",
    "    base_frame = base_frame.copy()\n",
    "\n",
    "    # Ensure both frames have the same mode\n",
    "    overlay_frame = overlay_frame.convert(\"RGBA\")\n",
    "    base_frame = base_frame.convert(\"RGBA\")\n",
    "\n",
    "    # Get dimensions\n",
    "    base_width, base_height = base_frame.size\n",
    "    overlay_width, overlay_height = overlay_frame.size\n",
    "\n",
    "    # Calculate position for the overlay in the bottom right corner\n",
    "    position = (base_width - overlay_width, base_height - overlay_height)\n",
    "\n",
    "    # Create a transparent image for the overlay\n",
    "    temp_overlay = Image.new(\"RGBA\", base_frame.size, (0, 0, 0, 0))\n",
    "    temp_overlay.paste(overlay_frame, position)\n",
    "\n",
    "    # Composite the overlay image on top of the base frame\n",
    "    combined_frame = Image.alpha_composite(base_frame, temp_overlay)\n",
    "\n",
    "    # Add the combined frame to the list\n",
    "    frames.append(combined_frame)\n",
    "\n",
    "# Save the combined frames as a new GIF\n",
    "frames[0].save('combined.gif', save_all=True, append_images=frames[1:], duration=250, loop=None)\n"
   ]
  },
  {
   "cell_type": "code",
   "execution_count": 5,
   "id": "101850e5-36c5-457d-92ed-f16c468465a5",
   "metadata": {},
   "outputs": [
    {
     "name": "stdout",
     "output_type": "stream",
     "text": [
      "**_#@$%&()[]#?!)()[]#?!)()[]()[]@$%&@$%&()[]()[]()[]()[]@$%&@$%&#?!)**_#**_#@$%&\n",
      "Counter({'()[]': 8, '@$%&': 6, '**_#': 3, '#?!)': 3})\n"
     ]
    }
   ],
   "source": [
    "from random import choices\n",
    "from collections import Counter\n",
    "combos = [\"@$%&\", \"#?!)\",\"**_#\",\"()[]\"]\n",
    "x = choices(combos, k=20)\n",
    "print(\"\".join(x))\n",
    "c = Counter(x)\n",
    "print(c)"
   ]
  },
  {
   "cell_type": "code",
   "execution_count": 17,
   "id": "b86270b5-2d55-4f4b-b8c2-5084fe527c77",
   "metadata": {
    "tags": []
   },
   "outputs": [
    {
     "data": {
      "image/jpeg": "[encoded data removed]",
      "image/png": "[encoded data removed]",
      "text/plain": [
       "<PIL.Image.Image image mode=RGB size=310x110>"
      ]
     },
     "execution_count": 17,
     "metadata": {},
     "output_type": "execute_result"
    }
   ],
   "source": [
    "from PIL import Image, ImageDraw, ImageColor\n",
    "\n",
    "# Image dimensions\n",
    "block_size = 100\n",
    "num_blocks = 3\n",
    "width = block_size * num_blocks\n",
    "height = block_size\n",
    "border_thickness = 5\n",
    "\n",
    "# Create a new image for the color blocks\n",
    "color_image = Image.new(\"RGB\", (width, height))\n",
    "\n",
    "# Define colors\n",
    "colors = [\"#B0D1E5\", \"#BEADED\", \"#DECADE\"]\n",
    "\n",
    "# Fill the image with color blocks\n",
    "for i, color in enumerate(colors):\n",
    "    for x in range(i * block_size, (i + 1) * block_size):\n",
    "        for y in range(height):\n",
    "            color_image.putpixel((x, y), ImageColor.getrgb(color))\n",
    "\n",
    "# Create a new image for the border\n",
    "border_image = Image.new(\"RGB\", (width + 2 * border_thickness, height + 2 * border_thickness), \"#000000\")\n",
    "border_image.paste(color_image, (border_thickness, border_thickness))\n",
    "\n",
    "# Save the final image\n",
    "border_image.save(\"sample.png\")\n",
    "\n",
    "# Display the final image (optional)\n",
    "border_image\n"
   ]
  },
  {
   "cell_type": "code",
   "execution_count": null,
   "id": "4e164e1e-b0b0-4d5d-8055-f394314d155b",
   "metadata": {},
   "outputs": [],
   "source": []
  }
 ],
 "metadata": {
  "kernelspec": {
   "display_name": "Python 3 (ipykernel)",
   "language": "python",
   "name": "python3"
  },
  "language_info": {
   "codemirror_mode": {
    "name": "ipython",
    "version": 3
   },
   "file_extension": ".py",
   "mimetype": "text/x-python",
   "name": "python",
   "nbconvert_exporter": "python",
   "pygments_lexer": "ipython3",
   "version": "3.10.9"
  }
 },
 "nbformat": 4,
 "nbformat_minor": 5
}
