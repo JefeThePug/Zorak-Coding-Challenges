{
 "cells": [
  {
   "cell_type": "code",
   "execution_count": 6,
   "id": "f49a5f7d-fefd-45ac-8ef6-b2e157a1c537",
   "metadata": {
    "tags": []
   },
   "outputs": [
    {
     "name": "stdout",
     "output_type": "stream",
     "text": [
      "1944:acce55\n",
      "1944:0ff1ce\n",
      "1944:c0ffee\n",
      "1943:0000ff\n",
      "1943:ff00ff\n",
      "1943:ff0000\n"
     ]
    },
    {
     "data": {
      "image/jpeg": "[encoded data removed]",
      "image/png": "[encoded data removed]",
      "text/plain": [
       "<PIL.Image.Image image mode=RGB size=897x13>"
      ]
     },
     "execution_count": 6,
     "metadata": {},
     "output_type": "execute_result"
    }
   ],
   "source": [
    "from PIL import Image\n",
    "from collections import Counter\n",
    "\n",
    "w = 897\n",
    "h = 13\n",
    "image = Image.new('RGB', (w, h))\n",
    "\n",
    "colors = [\n",
    "    'acce55', # ≈ Celery\n",
    "    '0ff1ce', # ≈ Bright Turquoise\n",
    "    'c0ffee', # ≈ Aero Blue\n",
    "]\n",
    "col_swap = {(172, 206, 85): (0, 0, 255), (15, 241, 206): (255, 0, 255), (192, 255, 238): (255, 0, 0)}\n",
    "\n",
    "for n, color in enumerate(colors):\n",
    "    for x in range(n*w//3, (n+1)*w//3):\n",
    "        for y in range(h):\n",
    "            image.putpixel((x, y), tuple(int(color[i:i+2], 16) for i in (0, 2, 4)))\n",
    "            \n",
    "for i in range(w*h):\n",
    "    x, y = divmod(i, h)\n",
    "    if x in range(299, 598):\n",
    "        if not (x^y)&1:\n",
    "            image.putpixel((x, y), col_swap[image.getpixel((x, y))])\n",
    "    else:\n",
    "        if (x^y)&1:\n",
    "            image.putpixel((x, y), col_swap[image.getpixel((x, y))])\n",
    "            \n",
    "#image.save(\"../colorbar.png\")\n",
    "\n",
    "def get_color_frequency():\n",
    "    colors = list(image.getdata())\n",
    "    color_frequency = Counter(colors)\n",
    "    return color_frequency\n",
    "\n",
    "color_frequency = get_color_frequency()\n",
    "for c, f in color_frequency.most_common():\n",
    "    print(\"{}:{:02x}{:02x}{:02x}\".format(f, *c))\n",
    "\n",
    "image\n",
    "\n",
    "# Example: #FACE5"
   ]
  },
  {
   "cell_type": "code",
   "execution_count": 7,
   "id": "32dc1f1e-e2bf-45ea-85a9-774eb512b825",
   "metadata": {
    "tags": []
   },
   "outputs": [
    {
     "name": "stdout",
     "output_type": "stream",
     "text": [
      "acce55\n",
      "0000ff\n",
      "0ff1ce\n",
      "ff00ff\n",
      "c0ffee\n",
      "ff0000\n"
     ]
    }
   ],
   "source": [
    "from collections import Counter\n",
    "from PIL import Image\n",
    "\n",
    "def get_color_frequency(image):\n",
    "    with Image.open(image) as img:\n",
    "        img = img.convert(\"RGB\")\n",
    "        colors = list(img.getdata())\n",
    "        color_frequency = Counter(colors)\n",
    "        return color_frequency\n",
    "\n",
    "# Example usage:\n",
    "image_path = \"colorbar.png\"\n",
    "color_frequency = get_color_frequency(image_path)\n",
    "for c, _ in color_frequency.items():\n",
    "    print(\"{:02x}{:02x}{:02x}\".format(*c))"
   ]
  },
  {
   "cell_type": "code",
   "execution_count": 8,
   "id": "ad4b52ce-f532-496e-abbe-2c22b185d069",
   "metadata": {
    "tags": []
   },
   "outputs": [
    {
     "name": "stdout",
     "output_type": "stream",
     "text": [
      "[(172, 206, 85), (15, 241, 206), (192, 255, 238)]\n",
      "(126, 234, 176)\n",
      "#7eeab0\n",
      "['#4550a4', '#a176e3', '#e08073']\n"
     ]
    }
   ],
   "source": [
    "colors = ['acce55', '0ff1ce', 'c0ffee']\n",
    "\n",
    "def hex_to_rgb(hex):\n",
    "    return tuple(int(hex[i:i+2], 16) for i in (0, 2, 4))\n",
    "\n",
    "def rgb_to_hex(r, g, b):\n",
    "    return '#{:02x}{:02x}{:02x}'.format(r, g, b)\n",
    "\n",
    "rgb = [hex_to_rgb(c) for c in colors]\n",
    "print(rgb)\n",
    "\n",
    "avg = tuple(sum(c)//3 for c in zip(*rgb))\n",
    "print(avg)\n",
    "\n",
    "avg = rgb_to_hex(*avg)\n",
    "print(avg)\n",
    "\n",
    "\n",
    "others = ((69, 80, 164), (161, 118, 227), (224, 128, 115))\n",
    "print([rgb_to_hex(*i) for i in others])"
   ]
  },
  {
   "cell_type": "code",
   "execution_count": 9,
   "id": "a23d4342-1025-4029-b09c-1ef6d2f7a270",
   "metadata": {
    "tags": []
   },
   "outputs": [
    {
     "data": {
      "text/markdown": [
       "<span style=\"font-family: monospace\">#7eeab0 <span style=\"color: #7eeab0\">██████████████████████████████████████████████████████████████████████</span></span>"
      ],
      "text/plain": [
       "<IPython.core.display.Markdown object>"
      ]
     },
     "metadata": {},
     "output_type": "display_data"
    }
   ],
   "source": [
    "from IPython.display import Markdown, display\n",
    "\n",
    "def swatch(color, width=6):\n",
    "    display(\n",
    "        Markdown(\n",
    "            f'<span style=\"font-family: monospace\">{color} <span style=\"color: {color}\">{chr(9608)*width}</span></span>'\n",
    "        )\n",
    "    ) \n",
    "\n",
    "swatch(avg, 70)"
   ]
  },
  {
   "cell_type": "code",
   "execution_count": null,
   "id": "c375da9e-7485-4e17-8409-84c10ec80fce",
   "metadata": {},
   "outputs": [],
   "source": []
  }
 ],
 "metadata": {
  "kernelspec": {
   "display_name": "Python 3 (ipykernel)",
   "language": "python",
   "name": "python3"
  },
  "language_info": {
   "codemirror_mode": {
    "name": "ipython",
    "version": 3
   },
   "file_extension": ".py",
   "mimetype": "text/x-python",
   "name": "python",
   "nbconvert_exporter": "python",
   "pygments_lexer": "ipython3",
   "version": "3.10.9"
  }
 },
 "nbformat": 4,
 "nbformat_minor": 5
}
