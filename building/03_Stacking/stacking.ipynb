{
 "cells": [
  {
   "cell_type": "raw",
   "id": "401ca448-95db-4cda-ae20-da474de378e0",
   "metadata": {},
   "source": [
    "Package Spheres in individual chutes. Need to be pulled one at a time (FIFO). Final result is one sphere from each chute drawn.\n",
    "\n",
    "eg.\n",
    "START    position = 3\n",
    "dispencers:\n",
    "┎───┰───┰───┰───┰───┒ \n",
    "┃   ┃   ┃(A)┃   ┃   ┃  \n",
    "┣━━━╋━━━╋━━━╋━━━╋━━━┫\n",
    "┃(S)┃   ┃(B)┃   ┃   ┃\n",
    "┣━━━╋━━━╋━━━╋━━━╋━━━┫\n",
    "┃(R)┃(P)┃(C)┃   ┃   ┃\n",
    "┣━━━╋━━━╋━━━╋━━━╋━━━┫\n",
    "┃(Y)┃(H)┃(F)┃   ┃(E)┃\n",
    "┣━━━╋━━━╋━━━╋━━━╋━━━┫\n",
    "┃ 0 ┃ 1 ┃ 2 ┃ 3 ┃ 4 ┃\n",
    "┗━━━┻━━━┻━━━┻━━━┻━━━┛\n",
    "machine:\n",
    "┎───┰───┰───┰───┰───┰───┒\n",
    "┃   ┃   ┃   ┃   ┃   ┃   ┃  \n",
    "┗━━━┻━━━┻━━━┻━━━┻━━━┻━━━┛\n",
    "\n",
    "L1       position = 2\n",
    "\n",
    "U3\n",
    "dispencers:\n",
    "┎───┰───┰───┰───┰───┒\n",
    "┃   ┃   ┃   ┃   ┃   ┃  \n",
    "┣━━━╋━━━╋━━━╋━━━╋━━━┫\n",
    "┃(S)┃   ┃   ┃   ┃   ┃\n",
    "┣━━━╋━━━╋━━━╋━━━╋━━━┫\n",
    "┃(R)┃(P)┃   ┃   ┃   ┃\n",
    "┣━━━╋━━━╋━━━╋━━━╋━━━┫\n",
    "┃(Y)┃(H)┃(A)┃   ┃(E)┃\n",
    "┣━━━╋━━━╋━━━╋━━━╋━━━┫\n",
    "┃ 0 ┃ 1 ┃ 2 ┃ 3 ┃ 4 ┃\n",
    "┗━━━┻━━━┻━━━┻━━━┻━━━┛\n",
    "machine:\n",
    "┎───┰───┰───┰───┰───┰───┒\n",
    "┃(B)┃(C)┃(F)┃   ┃   ┃   ┃  \n",
    "┗━━━┻━━━┻━━━┻━━━┻━━━┻━━━┛\n",
    "\n",
    "R2       position = 4\n",
    "\n",
    "D1\n",
    "dispencers:\n",
    "┎───┰───┰───┰───┰───┒\n",
    "┃   ┃   ┃   ┃   ┃   ┃  \n",
    "┣━━━╋━━━╋━━━╋━━━╋━━━┫\n",
    "┃(S)┃   ┃   ┃   ┃   ┃\n",
    "┣━━━╋━━━╋━━━╋━━━╋━━━┫\n",
    "┃(R)┃(P)┃   ┃   ┃(F)┃\n",
    "┣━━━╋━━━╋━━━╋━━━╋━━━┫\n",
    "┃(Y)┃(H)┃(A)┃   ┃(E)┃\n",
    "┣━━━╋━━━╋━━━╋━━━╋━━━┫\n",
    "┃ 0 ┃ 1 ┃ 2 ┃ 3 ┃ 4 ┃\n",
    "┗━━━┻━━━┻━━━┻━━━┻━━━┛\n",
    "machine:\n",
    "┎───┰───┰───┰───┰───┰───┒\n",
    "┃(B)┃(C)┃   ┃   ┃   ┃   ┃  \n",
    "┗━━━┻━━━┻━━━┻━━━┻━━━┻━━━┛\n",
    "\n",
    "L4       position = 0\n",
    "\n",
    "U3\n",
    "dispencers:\n",
    "┎───┰───┰───┰───┰───┒\n",
    "┃   ┃   ┃   ┃   ┃   ┃  \n",
    "┣━━━╋━━━╋━━━╋━━━╋━━━┫\n",
    "┃   ┃   ┃   ┃   ┃   ┃\n",
    "┣━━━╋━━━╋━━━╋━━━╋━━━┫\n",
    "┃   ┃(P)┃   ┃   ┃(F)┃\n",
    "┣━━━╋━━━╋━━━╋━━━╋━━━┫\n",
    "┃   ┃(H)┃(A)┃   ┃(E)┃\n",
    "┣━━━╋━━━╋━━━╋━━━╋━━━┫\n",
    "┃ 0 ┃ 1 ┃ 2 ┃ 3 ┃ 4 ┃\n",
    "┗━━━┻━━━┻━━━┻━━━┻━━━┛\n",
    "machine:\n",
    "┎───┰───┰───┰───┰───┰───┒\n",
    "┃(S)┃(R)┃(Y)┃(B)┃(C)┃   ┃\n",
    "┗━━━┻━━━┻━━━┻━━━┻━━━┻━━━┛\n",
    "\n",
    "R3       position = 3\n",
    "\n",
    "D4\n",
    "dispencers:\n",
    "┎───┰───┰───┰───┰───┒\n",
    "┃   ┃   ┃   ┃(R)┃   ┃  \n",
    "┣━━━╋━━━╋━━━╋━━━╋━━━┫\n",
    "┃   ┃   ┃   ┃(Y)┃   ┃\n",
    "┣━━━╋━━━╋━━━╋━━━╋━━━┫\n",
    "┃   ┃(P)┃   ┃(B)┃(F)┃\n",
    "┣━━━╋━━━╋━━━╋━━━╋━━━┫\n",
    "┃   ┃(H)┃(A)┃(C)┃(E)┃\n",
    "┣━━━╋━━━╋━━━╋━━━╋━━━┫\n",
    "┃ 0 ┃ 1 ┃ 2 ┃ 3 ┃ 4 ┃\n",
    "┗━━━┻━━━┻━━━┻━━━┻━━━┛\n",
    "machine:\n",
    "┎───┰───┰───┰───┰───┰───┒\n",
    "┃(S)┃   ┃   ┃   ┃   ┃   ┃\n",
    "┗━━━┻━━━┻━━━┻━━━┻━━━┻━━━┛\n",
    "\n",
    "L2       position = 1\n",
    "\n",
    "U1\n",
    "dispencers:\n",
    "┎───┰───┰───┰───┰───┒\n",
    "┃   ┃   ┃   ┃(R)┃   ┃  \n",
    "┣━━━╋━━━╋━━━╋━━━╋━━━┫\n",
    "┃   ┃   ┃   ┃(Y)┃   ┃\n",
    "┣━━━╋━━━╋━━━╋━━━╋━━━┫\n",
    "┃   ┃   ┃   ┃(B)┃(F)┃\n",
    "┣━━━╋━━━╋━━━╋━━━╋━━━┫\n",
    "┃   ┃(P)┃(A)┃(C)┃(E)┃\n",
    "┣━━━╋━━━╋━━━╋━━━╋━━━┫\n",
    "┃ 0 ┃ 1 ┃ 2 ┃ 3 ┃ 4 ┃\n",
    "┗━━━┻━━━┻━━━┻━━━┻━━━┛\n",
    "machine:\n",
    "┎───┰───┰───┰───┰───┰───┒\n",
    "┃(H)┃(S)┃   ┃   ┃   ┃   ┃\n",
    "┗━━━┻━━━┻━━━┻━━━┻━━━┻━━━┛\n",
    "\n",
    "L1       position = 0\n",
    "\n",
    "D1\n",
    "dispencers:\n",
    "┎───┰───┰───┰───┰───┒\n",
    "┃   ┃   ┃   ┃(R)┃   ┃  \n",
    "┣━━━╋━━━╋━━━╋━━━╋━━━┫\n",
    "┃   ┃   ┃   ┃(Y)┃   ┃\n",
    "┣━━━╋━━━╋━━━╋━━━╋━━━┫\n",
    "┃   ┃   ┃   ┃(B)┃(F)┃\n",
    "┣━━━╋━━━╋━━━╋━━━╋━━━┫\n",
    "┃(S)┃(P)┃(A)┃(C)┃(E)┃\n",
    "┣━━━╋━━━╋━━━╋━━━╋━━━┫\n",
    "┃ 0 ┃ 1 ┃ 2 ┃ 3 ┃ 4 ┃\n",
    "┗━━━┻━━━┻━━━┻━━━┻━━━┛\n",
    "machine:\n",
    "┎───┰───┰───┰───┰───┰───┒\n",
    "┃(H)┃   ┃   ┃   ┃   ┃   ┃\n",
    "┗━━━┻━━━┻━━━┻━━━┻━━━┻━━━┛\n",
    "\n",
    "(RELEASE)\n",
    "dispencers:\n",
    "┎───┰───┰───┰───┰───┒\n",
    "┃   ┃   ┃   ┃   ┃   ┃  \n",
    "┣━━━╋━━━╋━━━╋━━━╋━━━┫\n",
    "┃   ┃   ┃   ┃(R)┃   ┃\n",
    "┣━━━╋━━━╋━━━╋━━━╋━━━┫\n",
    "┃   ┃   ┃   ┃(Y)┃   ┃\n",
    "┣━━━╋━━━╋━━━╋━━━╋━━━┫\n",
    "┃   ┃   ┃   ┃(B)┃(F)┃\n",
    "┣━━━╋━━━╋━━━╋━━━╋━━━┫\n",
    "┃ 0 ┃ 1 ┃ 2 ┃ 3 ┃ 4 ┃\n",
    "┗━━━┻━━━┻━━━┻━━━┻━━━┛\n",
    "machine:\n",
    "┎───┰───┰───┰───┰───┰───┒\n",
    "┃(H)┃   ┃   ┃   ┃   ┃   ┃  \n",
    "┗━━━┻━━━┻━━━┻━━━┻━━━┻━━━┛\n",
    "sent:\n",
    "┎───┰───┰───┰───┰───┒\n",
    "┃(S)┃(P)┃(A)┃(C)┃(E)┃  \n",
    "┗━━━┻━━━┻━━━┻━━━┻━━━┛"
   ]
  },
  {
   "cell_type": "markdown",
   "id": "af4b4f66-417b-493f-ae45-ad652b4a2f09",
   "metadata": {},
   "source": [
    "# BUILDING"
   ]
  },
  {
   "cell_type": "code",
   "execution_count": 78,
   "id": "43f663e8-b078-4648-913f-efe47afddf0e",
   "metadata": {
    "tags": []
   },
   "outputs": [
    {
     "name": "stdout",
     "output_type": "stream",
     "text": [
      "['L5', 'U4', 'R4', 'D3', 'L1', 'U3', 'L1', 'D4', 'R3', 'U10', 'L3', 'D4', 'R6', 'U4', 'L6', 'D4', 'L1', 'U10', 'L3', 'D5', 'L5', 'U3', 'R4', 'D5', 'R3', 'U4', 'L3', 'D3', 'L1', 'U2', 'L2', 'D5', 'R3', 'U5', 'L3', 'D7', 'L4', 'U5', 'R4', 'D9', 'R5', 'U6', 'L5', 'D4', 'R5', 'U8', 'R4', 'D6', 'R3', 'U7', 'L2', 'D9', 'L1', 'U10', 'L4', 'D4', 'L3', 'U7', 'R6', 'D9', 'R5', 'U2', 'L6', 'D1', 'R6', 'U3', 'R3', 'D2', 'L4', 'U3', 'R5', 'D3', 'L6', 'U9', 'L3', 'D6', 'R3', 'U8', 'L1', 'D4', 'R6', 'U8', 'L5', 'D9', 'R1', 'U5', 'L4', 'D9', 'R4', 'U2', 'L3', 'D2', 'R2', 'U6', 'L6', 'D2', 'L5', 'U5', 'R1', 'D2', 'L1', 'U2', 'R6', 'D8', 'R4', 'U10', 'R3', 'D1', 'L4', 'U5', 'L4', 'D6', 'R4', 'U2', 'R4', 'D10', 'L2', 'U5', 'R1', 'D4', 'L3', 'U7', 'R6', 'D10', 'R2', 'U3', 'R2', 'D4', 'R1', 'U8', 'L6', 'D5', 'L1', 'U2', 'R4', 'D4', 'R1', 'U3', 'R6', 'D9', 'R4', 'U2', 'R1', 'D5', 'L3', 'U10', 'R5', 'D8', 'L3', 'U1', 'R3', 'D1', 'L3', 'U7', 'L4', 'D8', 'L3', 'U6', 'R1', 'D5', 'R3', 'U9', 'R5', 'D7', 'L3', 'U6', 'R3', 'D6', 'R1', 'U1', 'R4', 'D9', 'R1', 'U10', 'L5', 'D5', 'L5', 'U5', 'R5', 'D1', 'L6', 'U9', 'R4', 'D1', 'L6', 'U8', 'L3', 'D1', 'R3', 'U8', 'L1', 'D2', 'R2', 'U9', 'R5', 'D10', 'R1', 'U8', 'L4', 'D1']\n"
     ]
    }
   ],
   "source": [
    "print(CMDS)"
   ]
  },
  {
   "cell_type": "code",
   "execution_count": 225,
   "id": "b1635d75-12f5-4f17-ae08-148b820e7b58",
   "metadata": {
    "tags": []
   },
   "outputs": [
    {
     "name": "stdout",
     "output_type": "stream",
     "text": [
      "sm=0 lg=39 ps={0, 1, 3, 4, 5, 6, 7, 8, 9, 10, 11, 12, 13, 14, 15, 16, 17, 18, 19, 20, 21, 22, 23, 24, 25, 26, 27, 28, 29, 30, 31, 32, 33, 34, 35, 36, 38, 39}\n",
      "{2, 37}\n"
     ]
    }
   ],
   "source": [
    "from random import choice, randint\n",
    "\n",
    "# CMDS = []\n",
    "# holding = False\n",
    "\n",
    "# for _ in range(100):\n",
    "#     cmd = [f'{choice(\"RL\")}{randint(1,6)}',f'{\"TD\"[holding]}{randint(1,10)}']\n",
    "#     CMDS += cmd\n",
    "#     holding = not holding\n",
    "# print(CMDS)\n",
    "with open(\"instructions_A.txt\") as f:\n",
    "    CMDS = f.read().strip().split(\",\")\n",
    "\n",
    "sm = 50000\n",
    "lg = 0\n",
    "p = 12\n",
    "ps = set([p])\n",
    "\n",
    "for i, c in enumerate(CMDS):\n",
    "    d, *n = c\n",
    "    n = int(\"\".join(n))\n",
    "    if d == \"R\":\n",
    "        p += n\n",
    "    elif d == \"L\":\n",
    "        p -= n\n",
    "    #if i%2: print(f\"\\t\\t\\t\\t{p=} {c=}\")\n",
    "    ps.add(p)\n",
    "    sm = min(sm, p)\n",
    "    lg = max(lg, p)\n",
    "print(f\"{sm=} {lg=} {ps=}\")        \n",
    "\n",
    "print(ps.symmetric_difference(range(sm, lg + 1)))"
   ]
  },
  {
   "cell_type": "code",
   "execution_count": 226,
   "id": "f2f42372-3ff6-4d41-adfc-d3e0946463be",
   "metadata": {
    "tags": []
   },
   "outputs": [
    {
     "name": "stdout",
     "output_type": "stream",
     "text": [
      "{2, 37}\n"
     ]
    }
   ],
   "source": [
    "from string import ascii_letters\n",
    "boxes = [[] for _ in range(40)]\n",
    "\n",
    "pool = iter(ascii_letters)\n",
    "p = 12\n",
    "used = set()\n",
    "for d, c in zip(CMDS[::2], CMDS[1::2]):\n",
    "    d, *n = d\n",
    "    n = int(\"\".join(n))\n",
    "    if d == \"R\":\n",
    "        p += n\n",
    "    elif d == \"L\":\n",
    "        p -= n\n",
    "    c, *n = c\n",
    "    n = int(\"\".join(n))\n",
    "    # print(f\"\\t\\t\\t\\t{p=}\")\n",
    "    used.add(p)\n",
    "    if c == \"T\":\n",
    "        ind = next(pool)\n",
    "        boxes[p].append(f\"{ind}^{c}^{n}\")\n",
    "    elif c == \"D\":\n",
    "        boxes[p].append(f\"{ind}_{c}_{n}\")\n",
    "        \n",
    "print(used.symmetric_difference(range(sm, lg + 1)))"
   ]
  },
  {
   "cell_type": "code",
   "execution_count": 100,
   "id": "8d636459-edad-4451-9c2a-bac99d5d52d3",
   "metadata": {
    "tags": []
   },
   "outputs": [],
   "source": [
    "from string import ascii_uppercase as uc"
   ]
  },
  {
   "cell_type": "code",
   "execution_count": 150,
   "id": "396703c1-d110-46d5-b1e4-7aac8c05dc81",
   "metadata": {
    "tags": []
   },
   "outputs": [
    {
     "name": "stdout",
     "output_type": "stream",
     "text": [
      "['0-G', '1-I', '2-I', '3-F']\n",
      "['4-M', '5-G', '6-X', '7-D', '8-H', '9-A']\n",
      "['10-C']\n",
      "['11-F', '12-A', '13-V']\n",
      "[]\n",
      "[]\n",
      "[]\n",
      "['14-N', '15-B', '16-B', '17-Q', '18-S', '19-N', '20-I', '21-C', '22-D', '23-P', '24-M', '25-X', '26-O', '27-H', '28-Y', '29-B']\n",
      "['30-K', '31-P', '32-F', '33-J', '34-X', '35-K', '36-P', '37-Y', '38-V', '39-C', '40-V', '41-C', '42-T', '43-Z', '44-Z', '45-J']\n",
      "[]\n",
      "['46-I', '47-U', '48-G', '49-N', '50-C', '51-P', '52-H', '53-U', '54-H', '55-K', '56-B', '57-L', '58-U', '59-C', '60-K', '61-K', '62-S']\n",
      "[]\n",
      "['63-Q', '64-T', '65-U', '66-P', '67-Q', '68-Z', '69-P', '70-X', '71-B', '72-D']\n",
      "[]\n",
      "['73-T', '74-V', '75-M', '76-J', '77-E', '78-D', '79-Z', '80-A', '81-G', '82-Z', '83-N', '84-E', '85-U', '86-B', '87-O', '88-L', '89-I']\n",
      "['90-A', '91-S', '92-R', '93-D']\n",
      "['94-X', '95-J', '96-A', '97-B', '98-W', '99-D', '100-Y', '101-X', '102-I', '103-P', '104-L', '105-G', '106-B', '107-A', '108-N', '109-M', '110-Y', '111-T', '112-B', '113-X']\n",
      "['114-O', '115-N', '116-N', '117-P', '118-Q', '119-L', '120-V', '121-H', '122-M', '123-F', '124-Y', '125-B', '126-A', '127-V', '128-X', '129-E', '130-F']\n",
      "['131-G', '132-I', '133-N', '134-C', '135-S']\n",
      "[]\n",
      "[]\n",
      "['136-F', '137-B', '138-J', '139-Z', '140-U', '141-E', '142-Z']\n",
      "[]\n",
      "['143-O', '144-M', '145-A']\n",
      "[]\n",
      "['146-X', '147-I', '148-J', '149-L', '150-Y', '151-X', '152-P', '153-H']\n",
      "['154-P', '155-D', '156-P', '157-Z', '158-Z', '159-V', '160-X', '161-E', '162-F', '163-D', '164-A', '165-R', '166-H', '167-X', '168-Z', '169-Q', '170-Q', '171-Z', '172-K', '173-A', '174-O', '175-J', '176-L']\n",
      "['177-U', '178-M', '179-J', '180-D', '181-E']\n",
      "['182-O', '183-E', '184-K', '185-F', '186-B', '187-K', '188-Y', '189-X', '190-A', '191-B']\n",
      "[]\n",
      "['192-L', '193-S', '194-H', '195-D', '196-L', '197-D', '198-I', '199-N', '200-R', '201-Z']\n",
      "['202-T', '203-K', '204-A', '205-K', '206-G', '207-L', '208-C', '209-T', '210-V', '211-D', '212-B']\n",
      "['213-G', '214-D', '215-O', '216-U', '217-O', '218-J']\n",
      "['219-E', '220-C', '221-G', '222-M', '223-I', '224-V', '225-W', '226-U', '227-C', '228-N', '229-T', '230-R', '231-X', '232-I', '233-C', '234-X', '235-V', '236-L', '237-R']\n",
      "[]\n",
      "[]\n",
      "[]\n",
      "['238-D']\n",
      "[]\n",
      "['239-G', '240-R', '241-H', '242-N', '243-W', '244-L', '245-G', '246-C', '247-P', '248-A', '249-T']\n"
     ]
    }
   ],
   "source": [
    "nums = [4, 6, 1, 3, 0, 0, 0, 16, 16, 0, 17, 0, 10, 0, 17, 4, 20, 17, 5, 0, 0, 7, 0, 3, 0, 8, 23, 5, 10, 0, 10, 11, 6, 19, 0, 0, 0, 1, 0, 11]\n",
    "ballnum = 0\n",
    "DISPENCER = []\n",
    "for n in nums:\n",
    "    tube = []\n",
    "    for i in range(n):\n",
    "        tube.append(f\"{ballnum}-{choice(uc)}\")\n",
    "        ballnum += 1\n",
    "    DISPENCER.append(tube)\n",
    "    \n",
    "print(*DISPENCER, sep=\"\\n\")"
   ]
  },
  {
   "cell_type": "code",
   "execution_count": 227,
   "id": "0aedb53c-0f3f-41d5-b0dd-6b0577ceeb33",
   "metadata": {
    "tags": []
   },
   "outputs": [
    {
     "name": "stdout",
     "output_type": "stream",
     "text": [
      "row=0: D3   total=-3\t"
     ]
    }
   ],
   "source": [
    "import re\n",
    "with open(\"instructions_A.txt\") as f:\n",
    "    steps = f.read().strip()\n",
    "    \n",
    "total = 0\n",
    "row = 0\n",
    "    \n",
    "for c, n in re.findall(r\"([DT])(\\d+)\", steps):\n",
    "    n = int(n)\n",
    "    if c==\"U\":\n",
    "        total += n\n",
    "    else:\n",
    "        total -= n\n",
    "        if total < 0:\n",
    "            print(f\"{row=}: {c}{n}   {total=}\", end=\"\\t\")\n",
    "            break\n",
    "        row += 1\n",
    "        print(total, end=\"\\t\")"
   ]
  },
  {
   "cell_type": "code",
   "execution_count": 231,
   "id": "20f0bddb-08c7-4412-a246-ad9a33b167c9",
   "metadata": {
    "tags": []
   },
   "outputs": [],
   "source": [
    "data = {\n",
    "    '3-F': 'H', '9-A': 'U', '10-C': 'R', '13-V': 'R', '93-D': 'Y', '19-N': '!', '139-Z': ' ', '29-B': 'H', '45-J': 'E', '17-Q': \"'\", '118-Q': 'S', \n",
    "    '14-N': ' ', '22-D': 'C', '74-V': 'O', '136-F': 'M', '122-M': 'I', '103-P': 'N', '60-K': 'G', '71-B': '.', '101-X': ' ', '115-N': 'T', \n",
    "    '24-M': 'I', '55-K': 'M', '246-C': 'E', '89-I': ' ', '247-P': 'I', '176-L': 'S', '228-N': ' ', '191-B': 'R', '148-J': 'U', '201-Z': 'N', \n",
    "    '212-B': 'N', '245-G': 'I', '237-R': 'N', '152-P': 'G', '154-P': ' ', '145-A': 'O', '238-D': 'U', '199-N': 'T', '249-T': '!'\n",
    "}"
   ]
  },
  {
   "cell_type": "code",
   "execution_count": 161,
   "id": "1046abe0-6395-4423-8c64-cf009f180228",
   "metadata": {
    "collapsed": true,
    "jupyter": {
     "outputs_hidden": true
    },
    "tags": []
   },
   "outputs": [
    {
     "name": "stdout",
     "output_type": "stream",
     "text": [
      "M,R,M,H\n",
      " ,H,-,T,D,U\n",
      "R\n",
      "K,B,R\n",
      "\n",
      "\n",
      "\n",
      " ,G,I,',',!,N,Y,C, ,I,T,A,!,I,H\n",
      "?,L,U,U,Y,V,P,A,M,I,E,B,G, ,J,E\n",
      "\n",
      "E,G,J,J,',X,F,U,?,M,W,Q,',L,G,A,-\n",
      "\n",
      ".,L, ,J,O,Z,O,A,.,J\n",
      "\n",
      "Y,O,I,:,Y,O,X,-,.,N,O,O,G,C,U,!, \n",
      "',J,B,Y\n",
      " ,R,P,V,K,!,F, , ,N,!,J,V,J,:,D,N,C,A,P\n",
      "K,T,!,H,S,I,',P,I,D,.,M,.,',O,W, \n",
      "F,F,V,.,U\n",
      "\n",
      "\n",
      "M,A,R, ,!,V,Y\n",
      "\n",
      "O,K,O\n",
      "\n",
      "G,Q,U,M,H,?,G,!\n",
      " ,H,X,W,H,.,K,Z,D,V,?,?,H,G,I,K,X,H,A,C,!,Q,S\n",
      "K,!,T,U,H\n",
      "J,S,;,H,V,B,Z,.,O,R\n",
      "\n",
      "B,R,B,F,C,',I,T,G,N\n",
      "J,K,',W,Q,C,A,',W,V,N\n",
      ";,K,G,M,E,V\n",
      "R,L, ,L,W,S,Y,R,C, ,L,T,U,:,W,C,K,N,N\n",
      "\n",
      "\n",
      "\n",
      "U\n",
      "\n",
      "',S,X,T,V,B,I,E,I,;,!\n"
     ]
    }
   ],
   "source": [
    "DISPENCER = [\n",
    "    ['0-G', '1-I', '2-I', '3-F'],['4-M', '5-G', '6-X', '7-D', '8-H', '9-A'],['10-C'],['11-F', '12-A', '13-V'],[],[],[],\n",
    "    ['14-N', '15-B', '16-B', '17-Q', '18-S', '19-N', '20-I', '21-C', '22-D', '23-P', '24-M', '25-X', '26-O', '27-H', '28-Y', '29-B'],\n",
    "    ['30-K', '31-P', '32-F', '33-J', '34-X', '35-K', '36-P', '37-Y', '38-V', '39-C', '40-V', '41-C', '42-T', '43-Z', '44-Z', '45-J'],[],\n",
    "    ['46-I', '47-U', '48-G', '49-N', '50-C', '51-P', '52-H', '53-U', '54-H', '55-K', '56-B', '57-L', '58-U', '59-C', '60-K', '61-K', '62-S'],\n",
    "    [],['63-Q', '64-T', '65-U', '66-P', '67-Q', '68-Z', '69-P', '70-X', '71-B', '72-D'],[],\n",
    "    ['73-T', '74-V', '75-M', '76-J', '77-E', '78-D', '79-Z', '80-A', '81-G', '82-Z', '83-N', '84-E', '85-U', '86-B', '87-O', '88-L', '89-I'],\n",
    "    ['90-A', '91-S', '92-R', '93-D'],\n",
    "    ['94-X', '95-J', '96-A', '97-B', '98-W', '99-D', '100-Y', '101-X', '102-I', '103-P', '104-L', '105-G', '106-B', '107-A', '108-N', '109-M', '110-Y', '111-T', '112-B', '113-X'],\n",
    "    ['114-O', '115-N', '116-N', '117-P', '118-Q', '119-L', '120-V', '121-H', '122-M', '123-F', '124-Y', '125-B', '126-A', '127-V', '128-X', '129-E', '130-F'],\n",
    "    ['131-G', '132-I', '133-N', '134-C', '135-S'],[],[],['136-F', '137-B', '138-J', '139-Z', '140-U', '141-E', '142-Z'],[],['143-O', '144-M', '145-A'],[],\n",
    "    ['146-X', '147-I', '148-J', '149-L', '150-Y', '151-X', '152-P', '153-H'],\n",
    "    ['154-P', '155-D', '156-P', '157-Z', '158-Z', '159-V', '160-X', '161-E', '162-F', '163-D', '164-A', '165-R', '166-H', '167-X', '168-Z', '169-Q', '170-Q', '171-Z', '172-K', '173-A', '174-O', '175-J', '176-L'],\n",
    "    ['177-U', '178-M', '179-J', '180-D', '181-E'],['182-O', '183-E', '184-K', '185-F', '186-B', '187-K', '188-Y', '189-X', '190-A', '191-B'],[],\n",
    "    ['192-L', '193-S', '194-H', '195-D', '196-L', '197-D', '198-I', '199-N', '200-R', '201-Z'],['202-T', '203-K', '204-A', '205-K', '206-G', '207-L', '208-C', '209-T', '210-V', '211-D', '212-B'],\n",
    "    ['213-G', '214-D', '215-O', '216-U', '217-O', '218-J'],\n",
    "    ['219-E', '220-C', '221-G', '222-M', '223-I', '224-V', '225-W', '226-U', '227-C', '228-N', '229-T', '230-R', '231-X', '232-I', '233-C', '234-X', '235-V', '236-L', '237-R'],\n",
    "    [],[],[],['238-D'],[],['239-G', '240-R', '241-H', '242-N', '243-W', '244-L', '245-G', '246-C', '247-P', '248-A', '249-T'],\n",
    "]\n",
    "\n",
    "for sub in range(len(DISPENCER)):\n",
    "    for i in range(len(DISPENCER[sub])):\n",
    "        DISPENCER[sub][i] = data.get(DISPENCER[sub][i], choice(pkgs))\n",
    "            \n",
    "print(*[\",\".join(d) for d in DISPENCER], sep=\"\\n\")"
   ]
  },
  {
   "cell_type": "code",
   "execution_count": 157,
   "id": "bb407020-cd44-49a9-971d-f2b811b74006",
   "metadata": {
    "tags": []
   },
   "outputs": [],
   "source": [
    "from string import ascii_uppercase as uc\n",
    "pkgs = uc+\" .!?':-;\""
   ]
  },
  {
   "cell_type": "markdown",
   "id": "8c6cee31-eaa9-4210-aa60-7d73ec1d8144",
   "metadata": {},
   "source": [
    "# SOLVING"
   ]
  },
  {
   "cell_type": "code",
   "execution_count": 18,
   "id": "e2709814-edc2-4b7b-8163-d1e9156921d7",
   "metadata": {
    "tags": []
   },
   "outputs": [
    {
     "name": "stdout",
     "output_type": "stream",
     "text": [
      "HURRY!_HE'S_COMING._TIME_IS_RUNNING_OUT!\n",
      "GREENMENU\n"
     ]
    }
   ],
   "source": [
    "with open(\"input1.txt\") as f:\n",
    "    position = int(f.readline().strip())\n",
    "    CMDS = f.readline().strip().split(\",\")\n",
    "    dispencer = [line.strip().split(\",\") if line else [] for line in f.read().split(\"\\n\")]\n",
    "\n",
    "transporter = []\n",
    "\n",
    "for index, cmd in enumerate(CMDS):\n",
    "    try:\n",
    "        c, *num = cmd\n",
    "        num = int(\"\".join(num))\n",
    "\n",
    "        if c in \"RL\":\n",
    "            position += -num if c==\"L\" else num\n",
    "        elif c == \"T\":\n",
    "            for i in range(num):\n",
    "                item = dispencer[position].pop(0)\n",
    "                transporter.append(item)\n",
    "        elif c == \"D\":\n",
    "            for i in range(num):\n",
    "                item = transporter.pop(0)\n",
    "                dispencer[position].append(item)\n",
    "    except IndexError:\n",
    "        raise IndexError(f\"Broke at line{index}!\")\n",
    "\n",
    "print(\"\".join(d[0] for d in dispencer))\n",
    "# EE\n",
    "print(\"\".join(transporter))"
   ]
  },
  {
   "cell_type": "markdown",
   "id": "b60a2479-d53d-4c83-9969-dc5692d0267a",
   "metadata": {
    "tags": []
   },
   "source": [
    "\n",
    "\n",
    "\n",
    "# BUILDING"
   ]
  },
  {
   "cell_type": "code",
   "execution_count": 259,
   "id": "1fd6ddda-f89b-43d0-9bc7-fa65fad86f85",
   "metadata": {
    "tags": []
   },
   "outputs": [
    {
     "name": "stdout",
     "output_type": "stream",
     "text": [
      "['R6', 'T10', 'L6', 'D6', 'L1', 'T4', 'R4', 'D9', 'R6', 'T4', 'L5', 'D8', 'R4', 'T2', 'L4', 'D2', 'L6', 'T10', 'L4', 'D8', 'L6', 'T3', 'R3', 'D4', 'L6', 'T2', 'R4', 'D2', 'L3', 'T10', 'R4', 'D2', 'R6', 'T1', 'R6', 'D4', 'R1', 'T10', 'L6', 'D10', 'L4', 'T8', 'L3', 'D5', 'R1', 'T6', 'R3', 'D1', 'R6', 'T9', 'L3', 'D5', 'L4', 'T7', 'L5', 'D9', 'R4', 'T5', 'L6', 'D7', 'L3', 'T3', 'R1', 'D7', 'L3', 'T6', 'R4', 'D2', 'L5', 'T9', 'L1', 'D10', 'R1', 'T4', 'R3', 'D8', 'L4', 'T1', 'R2', 'D4', 'L3', 'T5', 'R3', 'D3', 'R6', 'T6', 'L2', 'D3', 'L6', 'T1', 'R3', 'D6', 'R3', 'T2', 'R5', 'D8', 'R2', 'T9', 'L3', 'D6', 'R3', 'T1', 'R3', 'D8', 'R1', 'T4', 'R5', 'D9', 'L5', 'T4', 'L4', 'D10', 'L5', 'T2', 'R2', 'D10', 'R3', 'T6', 'R2', 'D3', 'L1', 'T3', 'L6', 'D2', 'R5', 'T2', 'R1', 'D2', 'L4', 'T3', 'R4', 'D4', 'R1', 'T6', 'R1', 'D3', 'L5', 'T7', 'R1', 'D3', 'R6', 'T3', 'R6', 'D2', 'L2', 'T5', 'R1', 'D3', 'R5', 'T5', 'L4', 'D1', 'L4', 'T6', 'R4', 'D1', 'R6', 'T4', 'L4', 'D5', 'L1', 'T1', 'R3', 'D8', 'R2', 'T7', 'L3', 'D4', 'R3', 'T6', 'L6', 'D1', 'L1', 'T4', 'L3', 'D10', 'L4', 'T7', 'L2', 'D2', 'L5', 'T5', 'R4', 'D9', 'L5', 'T7', 'R2', 'D5', 'L5', 'T10', 'L3', 'D2', 'R6', 'T2', 'R1', 'D8', 'L2', 'T7', 'R3', 'D10']\n"
     ]
    }
   ],
   "source": [
    "CMDS = []\n",
    "holding = False\n",
    "\n",
    "for _ in range(100):\n",
    "    cmd = [f'{choice(\"RL\")}{randint(1,6)}',f'{\"TD\"[holding]}{randint(1,10)}']\n",
    "    CMDS += cmd\n",
    "    holding = not holding\n",
    "print(CMDS)"
   ]
  },
  {
   "cell_type": "code",
   "execution_count": 376,
   "id": "2301109e-5904-4dd3-ac23-81fdb5f0de83",
   "metadata": {
    "tags": []
   },
   "outputs": [
    {
     "name": "stdout",
     "output_type": "stream",
     "text": [
      "sm=0 lg=39 ps={0, 1, 2, 3, 4, 6, 7, 8, 9, 10, 14, 15, 16, 17, 18, 19, 20, 21, 22, 23, 24, 25, 26, 27, 28, 29, 30, 31, 32, 33, 34, 35, 36, 37, 38, 39}\n",
      "39\n",
      "{5, 11, 12, 13}\n"
     ]
    }
   ],
   "source": [
    "# with open(\"instructions_A.txt\") as f:\n",
    "#     CMDS = f.read().strip().split(\",\")\n",
    "\n",
    "sm = 50000\n",
    "lg = 0\n",
    "p = 23\n",
    "ps = set([p])\n",
    "\n",
    "for i, c in enumerate(CMDS):\n",
    "    d, *n = c\n",
    "    n = int(\"\".join(n))\n",
    "    if d == \"R\":\n",
    "        p += n\n",
    "    elif d == \"L\":\n",
    "        p -= n\n",
    "    #if i%2: print(f\"\\t\\t\\t\\t{p=} {c=}\")\n",
    "    ps.add(p)\n",
    "    sm = min(sm, p)\n",
    "    lg = max(lg, p)\n",
    "print(f\"{sm=} {lg=} {ps=}\")        \n",
    "print(lg - sm)\n",
    "print(ps.symmetric_difference(range(sm, lg + 1)))"
   ]
  },
  {
   "cell_type": "code",
   "execution_count": 520,
   "id": "fc32fd8c-7a75-4538-adc9-2f029f55aef4",
   "metadata": {
    "tags": []
   },
   "outputs": [
    {
     "name": "stdout",
     "output_type": "stream",
     "text": [
      "['R1', 'T9', 'R6', 'D9', 'R5', 'T2', 'L2', 'D2', 'L5', 'T4', 'R5', 'D4', 'R4', 'T5', 'L1', 'D5', 'R3', 'T8', 'L1', 'D6', 'L1', 'T9', 'L4', 'D9', 'L6', 'T4', 'L4', 'D3', 'R5', 'T1', 'R1', 'D3', 'R5', 'T3', 'R5', 'D3', 'L4', 'T5', 'L6', 'D5', 'L5', 'T4', 'R1', 'D3', 'R3', 'T7', 'R4', 'D8', 'L2', 'T5', 'L6', 'D2', 'L6', 'T8', 'L1', 'D7', 'L1', 'T4', 'R6', 'D5', 'L5', 'T1', 'L3', 'D4', 'L4', 'T9', 'R4', 'D1', 'R5', 'T1', 'R2', 'D1', 'L3', 'T6', 'R6', 'D9', 'R1', 'T2', 'L1', 'D7', 'R4', 'T2', 'R6', 'D1', 'L3', 'T3', 'R6', 'D1', 'L6', 'T4', 'R4', 'D7', 'L4', 'T3', 'R2', 'D3', 'L5', 'T5', 'L2', 'D5', 'L6', 'T3', 'R1', 'D3', 'L2', 'T4', 'R3', 'D4', 'R5', 'T2', 'L5', 'D2', 'L4', 'T7', 'R4', 'D2', 'L2', 'T6', 'R2', 'D5', 'R3', 'T3', 'R2', 'D9', 'R2', 'T8', 'R3', 'D8', 'L6', 'T8', 'L3', 'D6', 'L2', 'T1', 'R6', 'D3', 'R6', 'T9', 'L3', 'D5', 'R1', 'T5', 'R3', 'D6', 'L5', 'T7', 'L3', 'D9', 'R5', 'T7', 'R2', 'D8', 'R3', 'T1', 'L5', 'D2', 'L3', 'T5', 'L5', 'D5', 'L5', 'T8', 'L3', 'D1', 'R2', 'T4', 'R5', 'D1', 'L6', 'T7', 'L6', 'D2', 'R4', 'T2', 'L5', 'D3', 'L5', 'T2', 'L1', 'D1', 'R3', 'T3', 'L4', 'D10', 'R5', 'T3', 'L3', 'D8', 'L3', 'T4', 'R3', 'D7', 'R4', 'T6', 'L4', 'D2', 'L4', 'T5', 'R1', 'D2']\n"
     ]
    }
   ],
   "source": [
    "print(CMDS)"
   ]
  },
  {
   "cell_type": "code",
   "execution_count": 519,
   "id": "28f4f677-e7dd-43f1-8a97-e95762fd1e8c",
   "metadata": {
    "tags": []
   },
   "outputs": [
    {
     "name": "stdout",
     "output_type": "stream",
     "text": [
      "33\t28\t36\t38\t37\t33\t27\t23\t35\t29\t24\t30\t24\t18\t17\t16\t17\t14\t10\t18\t24\t31\t31\t31\t28\t26\t20\t19\t22\t18\t20\t26\t23\t21\t30\t29\t26\t31\t28\t23\t18\t15\t16\t10\t9\t4\t3\t2\t4\t1\t4\t0\t"
     ]
    }
   ],
   "source": [
    "import re\n",
    "with open(\"instructions2.txt\") as f:\n",
    "    position = int(f.readline().strip())\n",
    "    steps = f.readline().strip()\n",
    "\n",
    "row = 0\n",
    "for c, n in re.findall(r\"([RL])(\\d+)\", steps):\n",
    "    n = int(n)\n",
    "    if c==\"R\":\n",
    "        position += n\n",
    "    else:\n",
    "        position -= n\n",
    "        if position < 0 or position >= 40:\n",
    "            print(f\"{row=}: {c}{n}   {position=}\")\n",
    "            break\n",
    "        row += 1\n",
    "        print(position, end=\"\\t\")"
   ]
  },
  {
   "cell_type": "code",
   "execution_count": 521,
   "id": "f3dcad4e-90c3-4ed5-81d4-7bb5a3255805",
   "metadata": {
    "tags": []
   },
   "outputs": [
    {
     "name": "stdout",
     "output_type": "stream",
     "text": [
      "{5, 11, 12, 13}\n",
      "shiftcount=50\n"
     ]
    }
   ],
   "source": [
    "from string import ascii_letters\n",
    "boxes = [[] for _ in range(40)]\n",
    "shiftcount = 0\n",
    "pool = iter(ascii_letters)\n",
    "p = 23\n",
    "used = set()\n",
    "for d, c in zip(CMDS[::2], CMDS[1::2]):\n",
    "    d, *n = d\n",
    "    n = int(\"\".join(n))\n",
    "    if d == \"R\":\n",
    "        p += n\n",
    "    elif d == \"L\":\n",
    "        p -= n\n",
    "    c, *n = c\n",
    "    n = int(\"\".join(n))\n",
    "    # print(f\"\\t\\t\\t\\t{p=}\")\n",
    "    used.add(p)\n",
    "    if c == \"T\":\n",
    "        ind = next(pool)\n",
    "        boxes[p].append(f\"{ind}^{c}^{n}\")\n",
    "        boxes = boxes[1:] + boxes[0:1]\n",
    "        shiftcount += 1\n",
    "    elif c == \"D\":\n",
    "        boxes[p].append(f\"{ind}_{c}_{n}\")\n",
    "        \n",
    "print(used.symmetric_difference(range(sm, lg + 1)))\n",
    "print(f\"{shiftcount=}\")\n",
    "boxes = boxes[-10:] + boxes[:-10]"
   ]
  },
  {
   "cell_type": "code",
   "execution_count": 522,
   "id": "f7d69fde-5f01-4bd4-85cc-50a9d3074697",
   "metadata": {
    "tags": []
   },
   "outputs": [
    {
     "data": {
      "text/plain": [
       "[(0, ['d^T^5', 'd_D_5']),\n",
       " (1, []),\n",
       " (2, ['f^T^9', 'i^T^3', 'm^T^5']),\n",
       " (3, ['e^T^8', 'e_D_6', 's_D_9']),\n",
       " (4, ['j^T^5', 'l_D_8', 't^T^2', 't_D_7']),\n",
       " (5, ['z^T^3', 'A^T^4']),\n",
       " (6, ['C^T^7']),\n",
       " (7, ['z_D_3']),\n",
       " (8, ['i_D_3', 'u^T^2', 'S^T^2', 'S_D_1', 'T_D_10', 'V^T^4']),\n",
       " (9, ['A_D_4', 'D^T^6', 'X^T^5']),\n",
       " (10, ['B_D_2']),\n",
       " (11, ['y_D_5', 'C_D_2', 'T^T^3', 'U_D_8', 'X_D_2']),\n",
       " (12, ['v^T^3', 'y^T^5', 'D_D_5', 'V_D_7']),\n",
       " (13, ['w^T^4', 'Q_D_2', 'R_D_3', 'U^T^3', 'W_D_2']),\n",
       " (14, ['x^T^3', 'B^T^2', 'H^T^1']),\n",
       " (15, ['u_D_1', 'E^T^3']),\n",
       " (16, ['G_D_6', 'O_D_1', 'W^T^6']),\n",
       " (17, ['x_D_3', 'R^T^2']),\n",
       " (18, ['w_D_7', 'E_D_9', 'G^T^8', 'O^T^8', 'P^T^4', 'Q^T^7']),\n",
       " (19, ['v_D_1']),\n",
       " (20, ['F^T^8']),\n",
       " (21, ['H_D_3']),\n",
       " (22, []),\n",
       " (23, ['K_D_9', 'N_D_5']),\n",
       " (24, ['a^T^9', 'F_D_8', 'P_D_1']),\n",
       " (25, ['I_D_5', 'K^T^7']),\n",
       " (26, ['q^T^9', 'J^T^5']),\n",
       " (27, ['I^T^9', 'N^T^5']),\n",
       " (28, ['L^T^7']),\n",
       " (29, []),\n",
       " (30, ['c^T^4', 'g_D_3', 'o^T^4', 'p_D_4', 'J_D_6', 'M_D_2']),\n",
       " (31, ['a_D_9', 'n^T^8', 'n_D_7', 'q_D_1', 'L_D_8']),\n",
       " (32, ['p^T^1']),\n",
       " (33, ['g^T^4']),\n",
       " (34, ['k^T^4', 'M^T^1']),\n",
       " (35, ['b_D_2', 'h^T^1']),\n",
       " (36, ['b^T^2', 'c_D_4', 'k_D_3', 'r^T^1', 's^T^6']),\n",
       " (37, ['h_D_3', 'm_D_2', 'o_D_5']),\n",
       " (38, []),\n",
       " (39, ['f_D_9', 'j_D_5', 'l^T^7', 'r_D_1'])]"
      ]
     },
     "execution_count": 522,
     "metadata": {},
     "output_type": "execute_result"
    }
   ],
   "source": [
    "list(zip(range(40), boxes))"
   ]
  },
  {
   "cell_type": "code",
   "execution_count": 541,
   "id": "990b13f9-1e6c-425c-9f88-6220cc58f419",
   "metadata": {
    "tags": []
   },
   "outputs": [
    {
     "name": "stdout",
     "output_type": "stream",
     "text": [
      "['0', '1', '2', '3', '4']\n",
      "['5']\n",
      "['6', '7', '8', '9', '10', '11', '12', '13', '14', '15', '16', '17', '18', '19', '20', '21', '22', '23']\n",
      "['24', '25', '26', '27', '28', '29', '30', '31']\n",
      "['32', '33', '34', '35', '36']\n",
      "['37', '38', '39', '40', '41', '42', '43', '44']\n",
      "['45', '46', '47', '48', '49', '50', '51', '52']\n",
      "['53']\n",
      "['54']\n",
      "['55', '56', '57', '58', '59', '60', '61', '62']\n",
      "[]\n",
      "[]\n",
      "['63', '64', '65', '66', '67', '68', '69', '70']\n",
      "['71', '72', '73', '74']\n",
      "['75', '76', '77', '78', '79', '80', '81']\n",
      "['82', '83', '84']\n",
      "[]\n",
      "[]\n",
      "['85', '86', '87', '88', '89', '90', '91', '92', '93', '94', '95', '96']\n",
      "[]\n",
      "['97', '98', '99', '100', '101', '102', '103', '104', '105']\n",
      "[]\n",
      "['106']\n",
      "[]\n",
      "['107', '108', '109', '110', '111', '112', '113', '114', '115']\n",
      "['116', '117', '118']\n",
      "['119', '120', '121', '122', '123', '124', '125', '126', '127', '128', '129', '130', '131', '132', '133']\n",
      "['134', '135', '136', '137', '138', '139', '140', '141', '142', '143', '144', '145', '146', '147', '148']\n",
      "['149', '150', '151', '152', '153', '154', '155', '156']\n",
      "['157']\n",
      "['158', '159', '160', '161', '162', '163', '164']\n",
      "[]\n",
      "['165', '166']\n",
      "['167', '168', '169', '170', '171', '172']\n",
      "['173', '174', '175', '176', '177', '178']\n",
      "[]\n",
      "['179', '180', '181']\n",
      "[]\n",
      "['182']\n",
      "[]\n"
     ]
    }
   ],
   "source": [
    "nums = [5,1,18,8,5,8,8,1,1,8,0,0,8,4,7,3,0,0,12,0,9,0,1,0,9,3,15,15,8,1,7,0,2,6,6,0,3,0,1,0]\n",
    "ballnum = 0\n",
    "DISPENCER = []\n",
    "for n in nums:\n",
    "    tube = []\n",
    "    for i in range(n):\n",
    "        tube.append(f\"{ballnum}\")\n",
    "        ballnum += 1\n",
    "    DISPENCER.append(tube)\n",
    "\n",
    "\n",
    "#DISPENCER = DISPENCER[-10:] + DISPENCER[:-10]\n",
    "print(*DISPENCER, sep=\"\\n\")"
   ]
  },
  {
   "cell_type": "code",
   "execution_count": 540,
   "id": "af5a98dd-e4c1-427e-90a2-9fe0440dc482",
   "metadata": {
    "tags": []
   },
   "outputs": [
    {
     "name": "stdout",
     "output_type": "stream",
     "text": [
      "43\t68\t46\t63\t81\t176\t93\t76\t83\t54\t105\t90\t106\t129\t84\t137\t133\t148\t156\t157\t14\t115\t166\t171\t178\t180\t174\t168\t182\t11\t0\t5\t23\t24\t30\t44\t52\t53\t51\t42\t\n",
      "88-89-61-62-39-40-41\n"
     ]
    }
   ],
   "source": [
    "import copy \n",
    "    \n",
    "with open(\"instructions2.txt\") as f:\n",
    "    position = int(f.readline().strip())\n",
    "    CMDS = f.readline().strip().split(\",\")\n",
    "    dispencer = copy.deepcopy(DISPENCER) #[line.split(\",\") if line else [] for line in f.read().split(\"\\n\")]\n",
    "\n",
    "transporter = []\n",
    "#print(*dispencer, sep=\"\\n\")\n",
    "for index, cmd in enumerate(CMDS):\n",
    "    #print(f\"doing {cmd} at {index}\")\n",
    "    try:\n",
    "        c, *num = cmd\n",
    "        num = int(\"\".join(num))\n",
    "\n",
    "        if c in \"RL\":\n",
    "            position += -num if c==\"L\" else num\n",
    "        elif c == \"T\":\n",
    "            #print(f\"{position=}, {dispencer[position]=}, {num=}\")\n",
    "            for i in range(num):\n",
    "                item = dispencer[position].pop(0)\n",
    "                transporter.append(item)\n",
    "            #print(transporter)\n",
    "            dispencer = dispencer[1:] + dispencer[0:1]\n",
    "        elif c == \"D\":\n",
    "            #print(f\"{transporter=} {num=}\")\n",
    "            for i in range(num):\n",
    "                item = transporter.pop(0)\n",
    "                dispencer[position].append(item)\n",
    "    except IndexError as e:\n",
    "        raise IndexError(f\"Broke at line{index}! {e}\")\n",
    "\n",
    "\n",
    "for ix, d in enumerate(dispencer):\n",
    "    print(d[0], end=\"\\t\")\n",
    "# EE\n",
    "print(\"\\n\", \"-\".join(transporter), sep=\"\")"
   ]
  },
  {
   "cell_type": "code",
   "execution_count": 542,
   "id": "a4dc16ce-2f96-42a9-bef0-e1ce0a4d7237",
   "metadata": {
    "tags": []
   },
   "outputs": [
    {
     "name": "stdout",
     "output_type": "stream",
     "text": [
      " ,N,.,U,P\n",
      "S\n",
      "F,R,W,F,N,R,W,-, ,J,Z,L,?,I,:,!,U,T\n",
      "R,-,D,-,K,Z,E,-\n",
      "A,W,J,F,L\n",
      "',V,I,T,?,.,F,N\n",
      "B,E,K,Z,A,',H,G\n",
      "T\n",
      "A\n",
      "A,!,I,N,?,W,N,D\n",
      "\n",
      "\n",
      "L,Y,R,Z,-,U,?,J\n",
      "Z,U,Q,P\n",
      "', ,?,G,Q,-, \n",
      "T,C,Y\n",
      "\n",
      "\n",
      "J,V,V,F,I,E,:,F,P,P,!,D\n",
      "\n",
      "S,;,;,D,E,Q,F,.,D\n",
      "\n",
      "T\n",
      "\n",
      "B,T,-,C, ,G,F,Z,N\n",
      "A,-,K\n",
      "-,X,A,E,N,!,;,.,U,-,.,O,R,J,U\n",
      "G,M,Q,O,-,D,E,Z,Z,Y,-,H,Y,C,'\n",
      "K,V,Y,T,-,',O,L\n",
      "L\n",
      "V,E,S,!,K,G,I\n",
      "\n",
      "P,E\n",
      "Q,O,H,P,E,C\n",
      "V,Y,F,U,;,D\n",
      "\n",
      "G, ,U\n",
      "\n",
      "U\n",
      "\n"
     ]
    }
   ],
   "source": [
    "from string import ascii_uppercase as uc\n",
    "\n",
    "d = {\n",
    "    '43': 'F', '68': 'U', '46': 'E', '63': 'L', '81': ' ', '176': 'U', '93': 'P', '76': ' ', '83': 'C', '54': 'A', '105': 'D', '90': 'E', \n",
    "    '106': 'T', '129': '.', '84': 'Y', '137': 'O', '133': 'U', '148': \"'\", '156': 'L', '157': 'L', '14': ' ', '115': 'N', '166': 'E', \n",
    "    '171': 'E', '178': 'D', '180': ' ', '174': 'Y', '168': 'O', '182': 'U', '11': 'R', '0': ' ', '5': 'S', '23': 'T', '24': 'R', '30': 'E', \n",
    "    '44': 'N', '52': 'G', '53': 'T', '51': 'H', '42': '.', '88': 'F', '89': 'I', '61': 'N', '62': 'D', '39': 'I', '40': 'T', '41': '?',\n",
    "}\n",
    "\n",
    "pkgs = uc+\" .!?':-;\"\n",
    "dis = copy.deepcopy(DISPENCER)\n",
    "\n",
    "for sub in range(len(DISPENCER)):\n",
    "    for i in range(len(DISPENCER[sub])):\n",
    "        DISPENCER[sub][i] = d.get(DISPENCER[sub][i], choice(pkgs))\n",
    "            \n",
    "print(*[\",\".join(d) for d in DISPENCER], sep=\"\\n\")"
   ]
  },
  {
   "cell_type": "markdown",
   "id": "a7e13fd9-77cf-4343-97aa-b340349f8857",
   "metadata": {
    "tags": []
   },
   "source": [
    "# SOLVING"
   ]
  },
  {
   "cell_type": "code",
   "execution_count": 17,
   "id": "4934338e-77a8-4b8b-82b2-bfa43b61f9be",
   "metadata": {
    "tags": []
   },
   "outputs": [
    {
     "name": "stdout",
     "output_type": "stream",
     "text": [
      "[['_', 'A', 'Z', 'B', '.'], ['S', ''], ['G', 'D', 'H', 'L', 'R', 'W', 'H', 'J', '_', 'S', '-', 'H', '_', ':', 'S', ':', 'S', 'T'], ['R', 'P', 'R', 'N', 'C', 'G', 'E', 'O'], ['I', 'P', 'Z', 'D', 'S'], ['Y', 'D', 'I', 'T', '?', '.', 'F', 'N'], ['Q', 'E', 'K', 'B', 'G', 'O', 'H', 'G'], ['T'], ['A'], ['V', 'O', '_', 'R', 'P', 'O', 'N', 'D'], [], [], ['L', 'H', 'J', 'P', 'V', 'U', '?', '.'], ['Q', 'L', 'H', 'Y'], [\"'\", '_', 'W', ':', 'O', 'J', '_'], ['M', 'C', 'Y'], [], [], ['U', ';', 'J', 'F', 'I', 'E', 'X', 'W', 'P', 'P', 'S', ':'], [], ['R', 'Q', 'K', '?', '-', '_', 'C', '!', 'D'], [], ['T', 'A', 'K', 'E', '_', 'A', '_', 'L', 'O', 'O', 'K', '_', 'A', 'T', '_', 'P', 'A', 'R', 'T', '_', 'O', 'N', 'E', \"'\", 'S', '_', 'E', 'A', 'S', 'T', 'E', 'R', '_', 'E', 'G', 'G'], [], ['-', 'M', 'R', 'H', 'V', 'O', 'X', \"'\", 'N'], ['G', 'M', 'Z'], ['C', ';', 'L', 'Y', 'F', 'D', '.', '-', 'G', 'M', '.', 'N', 'D', ':', 'U'], ['D', 'K', '.', 'O', 'K', 'B', 'D', 'M', 'F', 'A', ':', 'B', 'U', '.', \"'\"], [\"'\", 'T', 'G', 'G', 'S', 'K', 'X', 'L'], ['L'], ['L', 'F', 'B', 'F', 'L', 'O', 'M'], [], ['O', 'E'], ['.', 'O', 'F', 'A', 'E', ':'], ['Z', 'Y', 'X', 'U', '?', 'D'], [], [\"'\", '_', 'R'], [], ['U'], ['E']]\n",
      "FUEL_UP_CADET.YOU'LL_NEED_YOUR_STRENGTH.\n",
      "FINDIT?\n"
     ]
    }
   ],
   "source": [
    "with open(\"input2.txt\") as f:\n",
    "    position = int(f.readline().strip())\n",
    "    CMDS = f.readline().strip().split(\",\")\n",
    "    dispencer = [line.split(\",\") if line else [] for line in f.read().split(\"\\n\")]\n",
    "    \n",
    "print(dispencer)\n",
    "\n",
    "transporter = []\n",
    "\n",
    "for cmd in CMDS:\n",
    "    c, *num = cmd\n",
    "    num = int(\"\".join(num))\n",
    "\n",
    "    if c in \"RL\":\n",
    "        position += -num if c==\"L\" else num\n",
    "    elif c == \"T\":\n",
    "        for i in range(num):\n",
    "            item = dispencer[position].pop(0)\n",
    "            transporter.append(item)\n",
    "        dispencer = dispencer[1:] + dispencer[0:1]\n",
    "    elif c == \"D\":\n",
    "        for i in range(num):\n",
    "            item = transporter.pop(0)\n",
    "            dispencer[position].append(item)\n",
    "\n",
    "\n",
    "print(\"\".join(d[0] for d in dispencer))\n",
    "# EE\n",
    "print(\"\".join(transporter))"
   ]
  },
  {
   "cell_type": "raw",
   "id": "d42bbe9e-f4b7-44e8-81ee-23360cf47604",
   "metadata": {
    "jupyter": {
     "source_hidden": true
    },
    "tags": []
   },
   "source": [
    "START    position = 3\n",
    "dispencers:\n",
    "┎───┰───┰───┰───┰───┒ \n",
    "┃   ┃   ┃(T)┃   ┃   ┃  \n",
    "┣━━━╋━━━╋━━━╋━━━╋━━━┫\n",
    "┃(S)┃   ┃(B)┃   ┃   ┃\n",
    "┣━━━╋━━━╋━━━╋━━━╋━━━┫\n",
    "┃(O)┃(P)┃(F)┃   ┃   ┃\n",
    "┣━━━╋━━━╋━━━╋━━━╋━━━┫\n",
    "┃(A)┃(H)┃(R)┃   ┃(C)┃\n",
    "┣━━━╋━━━╋━━━╋━━━╋━━━┫\n",
    "┃ 0 ┃ 1 ┃ 2 ┃ 3 ┃ 4 ┃\n",
    "┗━━━┻━━━┻━━━┻━━━┻━━━┛\n",
    "machine:\n",
    "┎───┰───┰───┰───┰───┰───┒\n",
    "┃   ┃   ┃   ┃   ┃   ┃   ┃  \n",
    "┗━━━┻━━━┻━━━┻━━━┻━━━┻━━━┛\n",
    "\n",
    "L1       position = 2\n",
    "\n",
    "T3\n",
    "dispencers:\n",
    "┎───┰───┰───┰───┰───┒\n",
    "┃   ┃   ┃   ┃   ┃   ┃  \n",
    "┣━━━╋━━━╋━━━╋━━━╋━━━┫\n",
    "┃(S)┃   ┃   ┃   ┃   ┃\n",
    "┣━━━╋━━━╋━━━╋━━━╋━━━┫\n",
    "┃(O)┃(P)┃   ┃   ┃   ┃\n",
    "┣━━━╋━━━╋━━━╋━━━╋━━━┫\n",
    "┃(A)┃(H)┃(T)┃   ┃(C)┃\n",
    "┣━━━╋━━━╋━━━╋━━━╋━━━┫\n",
    "┃ 0 ┃ 1 ┃ 2 ┃ 3 ┃ 4 ┃\n",
    "┗━━━┻━━━┻━━━┻━━━┻━━━┛\n",
    "machine:\n",
    "┎───┰───┰───┰───┰───┰───┒\n",
    "┃(B)┃(F)┃(R)┃   ┃   ┃   ┃  \n",
    "┗━━━┻━━━┻━━━┻━━━┻━━━┻━━━┛\n",
    "\n",
    "(SHIFT)\n",
    "dispencers:\n",
    "┎───┰───┰───┰───┰───┒\n",
    "┃   ┃   ┃   ┃   ┃   ┃  \n",
    "┣━━━╋━━━╋━━━╋━━━╋━━━┫\n",
    "┃   ┃   ┃   ┃   ┃(S)┃\n",
    "┣━━━╋━━━╋━━━╋━━━╋━━━┫\n",
    "┃(P)┃   ┃   ┃   ┃(O)┃\n",
    "┣━━━╋━━━╋━━━╋━━━╋━━━┫\n",
    "┃(H)┃(T)┃   ┃(C)┃(A)┃\n",
    "┣━━━╋━━━╋━━━╋━━━╋━━━┫\n",
    "┃ 0 ┃ 1 ┃ 2 ┃ 3 ┃ 4 ┃\n",
    "┗━━━┻━━━┻━━━┻━━━┻━━━┛\n",
    "machine:\n",
    "┎───┰───┰───┰───┰───┰───┒\n",
    "┃(B)┃(F)┃(R)┃   ┃   ┃   ┃  \n",
    "┗━━━┻━━━┻━━━┻━━━┻━━━┻━━━┛\n",
    "\n",
    "R1       position = 3\n",
    "\n",
    "D1\n",
    "dispencers:\n",
    "┎───┰───┰───┰───┰───┒\n",
    "┃   ┃   ┃   ┃   ┃   ┃  \n",
    "┣━━━╋━━━╋━━━╋━━━╋━━━┫\n",
    "┃   ┃   ┃   ┃   ┃(S)┃\n",
    "┣━━━╋━━━╋━━━╋━━━╋━━━┫\n",
    "┃(P)┃   ┃   ┃(R)┃(O)┃\n",
    "┣━━━╋━━━╋━━━╋━━━╋━━━┫\n",
    "┃(H)┃(T)┃   ┃(C)┃(A)┃\n",
    "┣━━━╋━━━╋━━━╋━━━╋━━━┫\n",
    "┃ 0 ┃ 1 ┃ 2 ┃ 3 ┃ 4 ┃\n",
    "┗━━━┻━━━┻━━━┻━━━┻━━━┛\n",
    "machine:\n",
    "┎───┰───┰───┰───┰───┰───┒\n",
    "┃(B)┃(F)┃   ┃   ┃   ┃   ┃  \n",
    "┗━━━┻━━━┻━━━┻━━━┻━━━┻━━━┛\n",
    "\n",
    "L3       position = 0\n",
    "\n",
    "T2\n",
    "dispencers:\n",
    "┎───┰───┰───┰───┰───┒\n",
    "┃   ┃   ┃   ┃   ┃   ┃  \n",
    "┣━━━╋━━━╋━━━╋━━━╋━━━┫\n",
    "┃   ┃   ┃   ┃   ┃(S)┃\n",
    "┣━━━╋━━━╋━━━╋━━━╋━━━┫\n",
    "┃   ┃   ┃   ┃(R)┃(O)┃\n",
    "┣━━━╋━━━╋━━━╋━━━╋━━━┫\n",
    "┃   ┃(T)┃   ┃(C)┃(A)┃\n",
    "┣━━━╋━━━╋━━━╋━━━╋━━━┫\n",
    "┃ 0 ┃ 1 ┃ 2 ┃ 3 ┃ 4 ┃\n",
    "┗━━━┻━━━┻━━━┻━━━┻━━━┛\n",
    "machine:\n",
    "┎───┰───┰───┰───┰───┰───┒\n",
    "┃(P)┃(H)┃(B)┃(F)┃   ┃   ┃  \n",
    "┗━━━┻━━━┻━━━┻━━━┻━━━┻━━━┛\n",
    "\n",
    "(SHIFT)\n",
    "dispencers:\n",
    "┎───┰───┰───┰───┰───┒\n",
    "┃   ┃   ┃   ┃   ┃   ┃  \n",
    "┣━━━╋━━━╋━━━╋━━━╋━━━┫\n",
    "┃   ┃   ┃   ┃(S)┃   ┃\n",
    "┣━━━╋━━━╋━━━╋━━━╋━━━┫\n",
    "┃   ┃   ┃(R)┃(O)┃   ┃\n",
    "┣━━━╋━━━╋━━━╋━━━╋━━━┫\n",
    "┃(T)┃   ┃(C)┃(A)┃   ┃\n",
    "┣━━━╋━━━╋━━━╋━━━╋━━━┫\n",
    "┃ 0 ┃ 1 ┃ 2 ┃ 3 ┃ 4 ┃\n",
    "┗━━━┻━━━┻━━━┻━━━┻━━━┛\n",
    "machine:\n",
    "┎───┰───┰───┰───┰───┰───┒\n",
    "┃(P)┃(H)┃(B)┃(F)┃   ┃   ┃  \n",
    "┗━━━┻━━━┻━━━┻━━━┻━━━┻━━━┛\n",
    "\n",
    "R4       position = 4\n",
    "\n",
    "D4\n",
    "dispencers:\n",
    "┎───┰───┰───┰───┰───┒\n",
    "┃   ┃   ┃   ┃   ┃(P)┃  \n",
    "┣━━━╋━━━╋━━━╋━━━╋━━━┫\n",
    "┃   ┃   ┃   ┃(S)┃(H)┃\n",
    "┣━━━╋━━━╋━━━╋━━━╋━━━┫\n",
    "┃   ┃   ┃(R)┃(O)┃(B)┃\n",
    "┣━━━╋━━━╋━━━╋━━━╋━━━┫\n",
    "┃(T)┃   ┃(C)┃(A)┃(F)┃\n",
    "┣━━━╋━━━╋━━━╋━━━╋━━━┫\n",
    "┃ 0 ┃ 1 ┃ 2 ┃ 3 ┃ 4 ┃\n",
    "┗━━━┻━━━┻━━━┻━━━┻━━━┛\n",
    "machine:\n",
    "┎───┰───┰───┰───┰───┰───┒\n",
    "┃   ┃   ┃   ┃   ┃   ┃   ┃  \n",
    "┗━━━┻━━━┻━━━┻━━━┻━━━┻━━━┛\n",
    "\n",
    "L2       position = 2\n",
    "\n",
    "T1\n",
    "dispencers:\n",
    "┎───┰───┰───┰───┰───┒\n",
    "┃   ┃   ┃   ┃   ┃(P)┃  \n",
    "┣━━━╋━━━╋━━━╋━━━╋━━━┫\n",
    "┃   ┃   ┃   ┃(S)┃(H)┃\n",
    "┣━━━╋━━━╋━━━╋━━━╋━━━┫\n",
    "┃   ┃   ┃   ┃(O)┃(B)┃\n",
    "┣━━━╋━━━╋━━━╋━━━╋━━━┫\n",
    "┃(T)┃   ┃(R)┃(A)┃(F)┃\n",
    "┣━━━╋━━━╋━━━╋━━━╋━━━┫\n",
    "┃ 0 ┃ 1 ┃ 2 ┃ 3 ┃ 4 ┃\n",
    "┗━━━┻━━━┻━━━┻━━━┻━━━┛\n",
    "machine:\n",
    "┎───┰───┰───┰───┰───┰───┒\n",
    "┃(C)┃   ┃   ┃   ┃   ┃   ┃  \n",
    "┗━━━┻━━━┻━━━┻━━━┻━━━┻━━━┛\n",
    "\n",
    "(SHIFT)\n",
    "dispencers:\n",
    "┎───┰───┰───┰───┰───┒\n",
    "┃   ┃   ┃   ┃(P)┃   ┃  \n",
    "┣━━━╋━━━╋━━━╋━━━╋━━━┫\n",
    "┃   ┃   ┃(S)┃(H)┃   ┃\n",
    "┣━━━╋━━━╋━━━╋━━━╋━━━┫\n",
    "┃   ┃   ┃(O)┃(B)┃   ┃\n",
    "┣━━━╋━━━╋━━━╋━━━╋━━━┫\n",
    "┃   ┃(R)┃(A)┃(F)┃(T)┃\n",
    "┣━━━╋━━━╋━━━╋━━━╋━━━┫\n",
    "┃ 0 ┃ 1 ┃ 2 ┃ 3 ┃ 4 ┃\n",
    "┗━━━┻━━━┻━━━┻━━━┻━━━┛\n",
    "machine:\n",
    "┎───┰───┰───┰───┰───┰───┒\n",
    "┃(C)┃   ┃   ┃   ┃   ┃   ┃  \n",
    "┗━━━┻━━━┻━━━┻━━━┻━━━┻━━━┛\n",
    "\n",
    "L2       position = 0\n",
    "\n",
    "D1\n",
    "dispencers:\n",
    "┎───┰───┰───┰───┰───┒\n",
    "┃   ┃   ┃   ┃(P)┃   ┃  \n",
    "┣━━━╋━━━╋━━━╋━━━╋━━━┫\n",
    "┃   ┃   ┃(S)┃(H)┃   ┃\n",
    "┣━━━╋━━━╋━━━╋━━━╋━━━┫\n",
    "┃   ┃   ┃(O)┃(B)┃   ┃\n",
    "┣━━━╋━━━╋━━━╋━━━╋━━━┫\n",
    "┃(C)┃(R)┃(A)┃(F)┃(T)┃\n",
    "┣━━━╋━━━╋━━━╋━━━╋━━━┫\n",
    "┃ 0 ┃ 1 ┃ 2 ┃ 3 ┃ 4 ┃\n",
    "┗━━━┻━━━┻━━━┻━━━┻━━━┛\n",
    "machine:\n",
    "┎───┰───┰───┰───┰───┰───┒\n",
    "┃   ┃   ┃   ┃   ┃   ┃   ┃  \n",
    "┗━━━┻━━━┻━━━┻━━━┻━━━┻━━━┛\n",
    "\n",
    "(RELEASE)\n",
    "dispencers:\n",
    "┎───┰───┰───┰───┰───┒\n",
    "┃   ┃   ┃   ┃   ┃   ┃  \n",
    "┣━━━╋━━━╋━━━╋━━━╋━━━┫\n",
    "┃   ┃   ┃   ┃(P)┃   ┃\n",
    "┣━━━╋━━━╋━━━╋━━━╋━━━┫\n",
    "┃   ┃   ┃(S)┃(H)┃   ┃\n",
    "┣━━━╋━━━╋━━━╋━━━╋━━━┫\n",
    "┃   ┃   ┃(O)┃(B)┃   ┃\n",
    "┣━━━╋━━━╋━━━╋━━━╋━━━┫\n",
    "┃ 0 ┃ 1 ┃ 2 ┃ 3 ┃ 4 ┃\n",
    "┗━━━┻━━━┻━━━┻━━━┻━━━┛\n",
    "machine:\n",
    "┎───┰───┰───┰───┰───┰───┒\n",
    "┃   ┃   ┃   ┃   ┃   ┃   ┃  \n",
    "┗━━━┻━━━┻━━━┻━━━┻━━━┻━━━┛\n",
    "sent:\n",
    "┎───┰───┰───┰───┰───┒\n",
    "┃(C)┃(R)┃(A)┃(F)┃(T)┃  \n",
    "┗━━━┻━━━┻━━━┻━━━┻━━━┛"
   ]
  },
  {
   "cell_type": "code",
   "execution_count": 2,
   "id": "4ccc0891-2ef1-4854-a2bc-8ed5de459243",
   "metadata": {
    "collapsed": true,
    "jupyter": {
     "outputs_hidden": true,
     "source_hidden": true
    },
    "tags": []
   },
   "outputs": [
    {
     "name": "stdout",
     "output_type": "stream",
     "text": [
      "DONE\n"
     ]
    }
   ],
   "source": [
    "from PIL import Image, ImageSequence\n",
    "\n",
    "def process_gif(input_path, output_path):\n",
    "    with Image.open(input_path) as im:\n",
    "        frames = []\n",
    "        durations = []\n",
    "        for frame in ImageSequence.Iterator(im):\n",
    "            frames.append(frame.copy())\n",
    "            durations.append(frame.info['duration'])\n",
    "\n",
    "        frames[0].save(\n",
    "            output_path,\n",
    "            save_all=True,\n",
    "            append_images=frames[1:],\n",
    "            loop=None,\n",
    "            duration=durations\n",
    "        )\n",
    "\n",
    "\n",
    "input_gif = \"rolling.gif\"\n",
    "output_gif = \"rolling_norep.gif\"\n",
    "\n",
    "process_gif(input_gif, output_gif)\n",
    "print(\"DONE\")"
   ]
  },
  {
   "cell_type": "code",
   "execution_count": null,
   "id": "960f3be1-5155-424c-b230-5a51bd94a70d",
   "metadata": {
    "jupyter": {
     "source_hidden": true
    },
    "tags": []
   },
   "outputs": [],
   "source": []
  },
  {
   "cell_type": "code",
   "execution_count": null,
   "id": "2f199789-86e6-40c2-a3cc-e2b16ae7a282",
   "metadata": {
    "jupyter": {
     "source_hidden": true
    },
    "tags": []
   },
   "outputs": [],
   "source": []
  },
  {
   "cell_type": "code",
   "execution_count": 18,
   "id": "59c3ff37-d054-4da7-adc0-c9e81928c655",
   "metadata": {
    "collapsed": true,
    "jupyter": {
     "outputs_hidden": true,
     "source_hidden": true
    },
    "tags": []
   },
   "outputs": [
    {
     "name": "stdout",
     "output_type": "stream",
     "text": [
      "[['_', 'A', 'Z', 'B', '.'], ['S', ''], ['G', 'D', 'H', 'L', 'R', 'W', 'H', 'J', '_', 'S', '-', 'H', '_', ':', 'S', ':', 'S', 'T'], ['R', 'P', 'R', 'N', 'C', 'G', 'E', 'O'], ['I', 'P', 'Z', 'D', 'S'], ['Y', 'D', 'I', 'T', '?', '.', 'F', 'N'], ['Q', 'E', 'K', 'B', 'G', 'O', 'H', 'G'], ['T'], ['A'], ['V', 'O', '_', 'R', 'P', 'O', 'N', 'D'], [], [], ['L', 'H', 'J', 'P', 'V', 'U', '?', '.'], ['Q', 'L', 'H', 'Y'], [\"'\", '_', 'W', ':', 'O', 'J', '_'], ['M', 'C', 'Y'], [], [], ['U', ';', 'J', 'F', 'I', 'E', 'X', 'W', 'P', 'P', 'S', ':'], [], ['R', 'Q', 'K', '?', '-', '_', 'C', '!', 'D'], [], ['T', 'A', 'K', 'E', '_', 'A', '_', 'L', 'O', 'O', 'K', '_', 'A', 'T', '_', 'P', 'A', 'R', 'T', '_', 'O', 'N', 'E', \"'\", 'S', '_', 'E', 'A', 'S', 'T', 'E', 'R', '_', 'E', 'G', 'G'], [], ['-', 'M', 'R', 'H', 'V', 'O', 'X', \"'\", 'N'], ['G', 'M', 'Z'], ['C', ';', 'L', 'Y', 'F', 'D', '.', '-', 'G', 'M', '.', 'N', 'D', ':', 'U'], ['D', 'K', '.', 'O', 'K', 'B', 'D', 'M', 'F', 'A', ':', 'B', 'U', '.', \"'\"], [\"'\", 'T', 'G', 'G', 'S', 'K', 'X', 'L'], ['L'], ['L', 'F', 'B', 'F', 'L', 'O', 'M'], [], ['O', 'E'], ['.', 'O', 'F', 'A', 'E', ':'], ['Z', 'Y', 'X', 'U', '?', 'D'], [], [\"'\", '_', 'R'], [], ['U'], ['E']]\n",
      "FUEL_UP_CADET.YOU'LL_NEED_YOUR_STRENGTH.\n"
     ]
    }
   ],
   "source": [
    "# Challenge Three  --  Part One\n",
    "\n",
    "\n",
    "class Dispenser:\n",
    "    \n",
    "    def __init__(self, filename):\n",
    "        with open(filename) as f:\n",
    "            self.pos = int(next(f))\n",
    "            self.ops = next(f).rstrip('\\n').split(',')\n",
    "            \n",
    "            self.tubes = []\n",
    "            for line in f:\n",
    "                line = line.rstrip('\\n')\n",
    "                if not line:\n",
    "                    self.tubes.append([])\n",
    "                else:\n",
    "                    self.tubes.append(line.split(','))\n",
    "                    \n",
    "            print(self.tubes)\n",
    "            \n",
    "            self.size = len(self.tubes)\n",
    "            self.local = []\n",
    "    \n",
    "    \n",
    "    def run(self):\n",
    "        while self.ops:\n",
    "            instr = self.ops.pop(0)\n",
    "            op = instr[0]\n",
    "            x = int(instr[1:])\n",
    "            if op == 'L':\n",
    "                self.left(x)\n",
    "            elif op == 'R':\n",
    "                self.right(x)\n",
    "            elif op == 'T':\n",
    "                self.take(x)\n",
    "                self.shift()\n",
    "            else:\n",
    "                self.drop(x)\n",
    "        \n",
    "        # print(self)  # testing only\n",
    "        return ''.join(tube[0] for tube in self.tubes)\n",
    "    \n",
    "    \n",
    "    def left(self, x):\n",
    "        self.pos = (self.pos - x) % self.size\n",
    "    \n",
    "    \n",
    "    def right(self, x):\n",
    "        self.pos = (self.pos + x) % self.size\n",
    "    \n",
    "    \n",
    "    def take(self, x):\n",
    "        for _ in range(x):\n",
    "            self.local.insert(0, self.tubes[self.pos].pop(0))\n",
    "    \n",
    "    \n",
    "    def drop(self, x):\n",
    "        for _ in range(x):\n",
    "            self.tubes[self.pos].append(self.local.pop())\n",
    "            \n",
    "    def shift(self):\n",
    "        self.tubes = self.tubes[1:] + [self.tubes[0]]\n",
    "    \n",
    "    \n",
    "    def __repr__(self):\n",
    "        # for testing only\n",
    "        return f'pos={self.pos}\\nops={self.ops}\\ntubes={self.tubes}\\nsize={self.size}'\n",
    "\n",
    "\n",
    "# for cmd in CMDS:\n",
    "#     c, *num = cmd\n",
    "#     num = int(\"\".join(num))\n",
    "\n",
    "#     if c in \"RL\":\n",
    "#         position += -num if c==\"L\" else num\n",
    "#     elif c == \"T\":\n",
    "#         for i in range(num):\n",
    "#             item = dispencer[position].pop(0)\n",
    "#             transporter.append(item)\n",
    "#         dispencer = dispencer[1:] + dispencer[0:1]\n",
    "#     elif c == \"D\":\n",
    "#         for i in range(num):\n",
    "#             item = transporter.pop(0)\n",
    "#             dispencer[position].append(item)\n",
    "\n",
    "# disp = Dispenser('testdata1.txt')  # TESTDATA\n",
    "disp = Dispenser('input2.txt')\n",
    "# print(disp)  # testing only\n",
    "output = disp.run()\n",
    "print(output)\n",
    "# print(disp)  # testing only\n",
    "\n",
    "\n",
    "x='''\n",
    "\n",
    "# test data\n",
    "SPACE\n",
    "\n",
    "# downloaded data\n",
    "HURRY! HE'S COMING. TIME IS RUNNING OUT!\n",
    "\n",
    "'''"
   ]
  },
  {
   "cell_type": "code",
   "execution_count": 11,
   "id": "4f938d0f-b108-4739-bfff-1e86b14d7377",
   "metadata": {
    "collapsed": true,
    "jupyter": {
     "outputs_hidden": true,
     "source_hidden": true
    },
    "tags": []
   },
   "outputs": [
    {
     "data": {
      "text/plain": [
       "39"
      ]
     },
     "execution_count": 11,
     "metadata": {},
     "output_type": "execute_result"
    }
   ],
   "source": [
    "-1%40"
   ]
  },
  {
   "cell_type": "code",
   "execution_count": 29,
   "id": "0eafa038-3155-458d-9ed5-7d78d2626376",
   "metadata": {
    "collapsed": true,
    "jupyter": {
     "outputs_hidden": true,
     "source_hidden": true
    },
    "tags": []
   },
   "outputs": [
    {
     "name": "stdout",
     "output_type": "stream",
     "text": [
      "1 1\n",
      "3 3\n",
      "9 9\n",
      "27 27\n",
      "81 1\n",
      "243 3\n",
      "729 9\n",
      "2187 27\n",
      "6561 1\n",
      "19683 3\n",
      "59049 9\n",
      "177147 27\n",
      "531441 1\n",
      "1594323 3\n",
      "4782969 9\n",
      "14348907 27\n",
      "43046721 1\n",
      "129140163 3\n",
      "387420489 9\n",
      "1162261467 27\n"
     ]
    }
   ],
   "source": [
    "for i in range(20):\n",
    "    print(3**i, (3**i)%40)"
   ]
  },
  {
   "cell_type": "code",
   "execution_count": 145,
   "id": "80d39186-46ff-48c3-aa72-806ad9706e43",
   "metadata": {
    "tags": []
   },
   "outputs": [],
   "source": [
    "dispencer = [\n",
    "    ['_', '.', 'L', 'D', 'P', 'L', 'Y', '-', 'I', 'B', 'H', 'D', 'B', 'D', 'J', 'M', 'U', 'U'],\n",
    "    ['R'],\n",
    "    ['_'],\n",
    "    ['Y', 'M', 'U', 'Z', 'N', 'D', 'I', 'T', '?', 'S'],\n",
    "    ['Z', 'P', 'T'],\n",
    "    ['G', 'E', 'X', 'B', 'T', 'K', 'D', 'N', 'I', 'R'],\n",
    "    ['E'],\n",
    "    ['N'],\n",
    "    ['I', 'F', 'S', 'U', 'H', 'F', 'I', 'G'],\n",
    "    ['G', 'X', 'G', 'T'],\n",
    "    ['E', 'E', 'J', 'F', 'W', 'O', '-', '.', 'O', 'H'],\n",
    "    ['.'],\n",
    "    ['F'],\n",
    "    ['L', 'L'],\n",
    "    [],\n",
    "    ['L', 'O', 'O', 'K', '_', 'A', 'T', '_', 'P', 'A', 'R', 'T', '_', 'O', 'N', 'E', \"'\", 'S', '_', 'E', 'A', 'S', 'T', 'E', 'R', '_', 'E', 'G', 'G'],\n",
    "    ['U', '_'],\n",
    "    [],\n",
    "    ['A', 'X', 'A', 'W', 'E', 'X', 'Y', 'P', '-', 'M', 'Y', \"'\", 'Z', 'H', 'U'],\n",
    "    ['V', '-', '-', '_'],\n",
    "    ['T', 'A', 'Z', '.', 'C'],\n",
    "    ['-', 'U', 'W', 'A', '-', 'T', 'F', 'X'],\n",
    "    ['K'],\n",
    "    ['I', 'L', 'A', 'N', 'G', 'Z', 'E', '.', 'S'],\n",
    "    ['N', 'S', 'A', 'K', 'K', 'S', 'F', 'K', 'E', '.', '_', 'A'],\n",
    "    [],\n",
    "    ['U', '.', 'Z', 'L', 'R', 'E', 'G', 'O', '_', 'N'],\n",
    "    ['R', 'T', 'P', 'K', 'S', 'G', '.', 'O', 'A', 'K', '.', 'C', 'T'],\n",
    "    ['E', 'Y', 'Y', 'Z', \"'\", 'E', 'D', 'M', 'F', 'N', 'J', 'P', 'R', 'L', '_', 'I', 'Z', 'I', 'C', 'X', 'S', 'J', 'V', 'M', '_', '.', 'U'],\n",
    "    ['B', \"'\", 'T', '-', 'W', 'M', 'O'],\n",
    "    ['R', 'D', '.', 'E', 'H', 'V', 'F', '_', 'A', '_', 'S', 'P', \"'\", 'B', 'W', 'I', 'U', 'M', 'U'],\n",
    "    ['G', 'S', 'L', 'T', 'L'],\n",
    "    [],\n",
    "    [],\n",
    "    ['P', 'Y', 'H', 'N', 'B', \"'\", 'Z', 'J', 'Y', '_', 'G', 'R', 'L'],\n",
    "    ['E'],\n",
    "    ['D', 'W', 'Q', 'T', 'D', 'P', 'X', '-', 'X'],\n",
    "    ['U', 'S', 'E'],\n",
    "    ['J', 'O', '_', '.', 'J', 'W', 'T', 'Y'],\n",
    "    ['X', '-', 'P', 'Z', 'I', 'P', 'W', 'N', 'G', \"'\", 'E', 'O']\n",
    "]"
   ]
  },
  {
   "cell_type": "code",
   "execution_count": 146,
   "id": "fd546c65-7f90-40f7-84bf-1ff90815f6ca",
   "metadata": {
    "tags": []
   },
   "outputs": [
    {
     "name": "stdout",
     "output_type": "stream",
     "text": [
      "_,.,L,D,P,L,Y,-,I,B,H,D,B,D,J,M,U,U,\n",
      "R,\n",
      "_,\n",
      "Y,M,U,Z,N,D,I,T,?,S,\n",
      "Z,P,T,\n",
      "G,E,X,B,T,K,D,N,I,R,\n",
      "E,\n",
      "N,\n",
      "I,F,S,U,H,F,I,G,\n",
      "G,X,G,T,\n",
      "E,E,J,F,W,O,-,.,O,H,\n",
      ".,\n",
      "F,\n",
      "L,L,\n",
      ",\n",
      "L,O,O,K,_,A,T,_,P,A,R,T,_,O,N,E,',S,_,E,A,S,T,E,R,_,E,G,G,\n",
      "U,_,\n",
      ",\n",
      "A,X,A,W,E,X,Y,P,-,M,Y,',Z,H,U,\n",
      "V,-,-,_,\n",
      "T,A,Z,.,C,\n",
      "-,U,W,A,-,T,F,X,\n",
      "K,\n",
      "I,L,A,N,G,Z,E,.,S,\n",
      "N,S,A,K,K,S,F,K,E,.,_,A,\n",
      ",\n",
      "U,.,Z,L,R,E,G,O,_,N,\n",
      "R,T,P,K,S,G,.,O,A,K,.,C,T,\n",
      "E,Y,Y,Z,',E,D,M,F,N,J,P,R,L,_,I,Z,I,C,X,S,J,V,M,_,.,U,\n",
      "B,',T,-,W,M,O,\n",
      "R,D,.,E,H,V,F,_,A,_,S,P,',B,W,I,U,M,U,\n",
      "G,S,L,T,L,\n",
      ",\n",
      ",\n",
      "P,Y,H,N,B,',Z,J,Y,_,G,R,L,\n",
      "E,\n",
      "D,W,Q,T,D,P,X,-,X,\n",
      "U,S,E,\n",
      "J,O,_,.,J,W,T,Y,\n",
      "X,-,P,Z,I,P,W,N,G,',E,O\n"
     ]
    }
   ],
   "source": [
    "from random import choice\n",
    "\n",
    "options = \"ABCDEFGHIJKLMNOPQRSTUVWXYZ'.-_\"\n",
    "\n",
    "for line in dispencer:\n",
    "    for i in range(len(line)):\n",
    "        if len(line[i]) == 3:\n",
    "            line[i] = choice(options)\n",
    "\n",
    "print(*[\",\".join(line) for line in dispencer], sep=\",\\n\")"
   ]
  },
  {
   "cell_type": "code",
   "execution_count": 147,
   "id": "c4e94464-37d4-4fed-b4df-9eaf68c953be",
   "metadata": {
    "tags": []
   },
   "outputs": [
    {
     "name": "stdout",
     "output_type": "stream",
     "text": [
      "FUEL_UP_CADET.YOU'LL_NEED_YOUR_STRENGTH.\n",
      "FINDIT?\n"
     ]
    }
   ],
   "source": [
    "from string import ascii_letters\n",
    "\n",
    "with open(\"input2.txt\") as f:\n",
    "    position = int(f.readline().strip())\n",
    "    CMDS = f.readline().strip().split(\",\")\n",
    "\n",
    "# dispencer = [[f\"{r}{i:02}\" for i in range(27)] for r in ascii_letters[:40]]\n",
    "\n",
    "transporter = []\n",
    "shift_count = 1\n",
    "\n",
    "for cmd in CMDS:\n",
    "    c, *num = cmd\n",
    "    num = int(\"\".join(num))\n",
    "\n",
    "    if c in \"RL\":\n",
    "        position += -num if c==\"L\" else num\n",
    "    elif c == \"T\":\n",
    "        for i in range(num):\n",
    "            item = dispencer[position].pop(0)\n",
    "            transporter.append(item)\n",
    "        shift = (3**shift_count)%len(dispencer)\n",
    "        dispencer = dispencer[shift:] + dispencer[0:shift]\n",
    "        shift_count += 1\n",
    "    elif c == \"D\":\n",
    "        for i in range(num):\n",
    "            item = transporter.pop(0)\n",
    "            dispencer[position].append(item)\n",
    "\n",
    "\n",
    "print(\"\".join(d[0] for d in dispencer))\n",
    "# EE\n",
    "print(\"\".join(transporter))"
   ]
  },
  {
   "cell_type": "code",
   "execution_count": 143,
   "id": "c091687f-73c0-43d4-ad0b-6179c8d395db",
   "metadata": {
    "tags": []
   },
   "outputs": [
    {
     "name": "stdout",
     "output_type": "stream",
     "text": [
      "['F']\n",
      "['U', 'H']\n",
      "['E', 'Y', 'Y', 'Z', 'T', 'A', 'Z', '.', 'X', 'S', 'J', 'V', 'M', '_']\n",
      "['L', 'O', 'O', 'K', '_', 'A', 'T', '_', 'P', 'A', 'R', 'T', '_', 'O', 'N', 'E', \"'\", 'S', '_', 'E', 'A', 'S', 'T', 'E', 'R', '_', 'E', 'G', 'G']\n",
      "['_']\n",
      "['U']\n",
      "['P']\n",
      "['_']\n",
      "['C']\n",
      "['A', '-', 'T', 'F', 'X', 'A', 'G', 'S', 'L']\n",
      "['D', 'B', 'G', 'T', 'U']\n",
      "['E', 'J', 'F', 'W', 'O', '-', '.', 'O', 'K', 'A', 'K', '.', 'C', 'T']\n",
      "['T', 'P', 'X', 'V', 'F', '_', 'A', '_', 'S', '.']\n",
      "['.', 'A']\n",
      "['Y', 'N', 'G', 'Z', 'E', '.', 'S', 'U', 'S', 'C', 'Z', 'L', 'R', 'E', 'G']\n",
      "['O', 'R']\n",
      "['U']\n",
      "[\"'\", 'E', 'O', 'D', '.', 'E', 'H', '-', 'U', 'W', 'B', 'D', 'M', 'F', 'N', 'A', 'G', 'E', 'X', 'B', 'I', 'U', 'M', 'U', 'B', \"'\", 'T', '-', 'W']\n",
      "['L', 'I']\n",
      "['L']\n",
      "['_', '.', 'L', 'D', '-', 'X', 'T', 'P', 'K', 'S', 'G', '.', 'E', 'P', 'R', 'L', '_', 'I', 'Z', 'I']\n",
      "['N', 'S', 'A', 'K', 'K', 'S', 'F', 'K', 'E', 'E', 'Z', 'P', \"'\", 'J', 'I', 'L']\n",
      "['E', 'N', 'B', \"'\", 'Y', 'M', 'U', 'X', 'A', 'W', 'E', 'X', 'T', 'K', 'D', 'N', 'I', 'W', '-']\n",
      "['E']\n",
      "['D', 'W', 'Q', 'T', 'D']\n",
      "['_']\n",
      "['Y']\n",
      "['O', '_', 'N']\n",
      "['U']\n",
      "['R', 'X', '-', 'P', 'Z', 'I', 'P', 'H', '_', '.', 'J', 'W']\n",
      "['_', 'R', 'P', 'Y']\n",
      "['S', '.', 'L', 'L', 'Z', 'P', 'G', 'X', 'G']\n",
      "['T', 'V', '-', '-', 'D', 'J', 'M', 'U']\n",
      "['R', 'J', 'O', 'W', 'N', 'P', 'L', 'Y', '-', 'I', 'B', 'H', 'M', 'O', 'Z', 'J', 'Y', '_', 'G', 'R']\n",
      "['E', 'U']\n",
      "['N', 'F', 'S']\n",
      "['G']\n",
      "['T', \"'\", 'M', 'Y', \"'\", 'Z', 'H']\n",
      "['H']\n",
      "['.']\n"
     ]
    }
   ],
   "source": [
    "print(*dispencer, sep=\"\\n\")"
   ]
  },
  {
   "cell_type": "code",
   "execution_count": 75,
   "id": "d09ab4cb-84ec-457d-8550-cd0ef02a85b3",
   "metadata": {
    "tags": []
   },
   "outputs": [
    {
     "name": "stdout",
     "output_type": "stream",
     "text": [
      "['a00', 'a01', 'a02', 'a03', 'a04', 'a05', 'a06', 'a07', 'a08', 'a09', 'a10', 'a11', 'a12', 'a13', 'a14', 'a15', 'a16', 'a17', 'a18', 'a19', 'a20', 'a21', 'a22', 'a23', 'a24', 'a25', 'a26']\n",
      "['b00', 'b01', 'b02', 'b03', 'b04', 'b05', 'b06', 'b07', 'b08', 'b09', 'b10', 'b11', 'b12', 'b13', 'b14', 'b15', 'b16', 'b17', 'b18', 'b19', 'b20', 'b21', 'b22', 'b23', 'b24', 'b25', 'b26']\n",
      "['c00', 'c01', 'c02', 'c03', 'c04', 'c05', 'c06', 'c07', 'c08', 'c09', 'c10', 'c11', 'c12', 'c13', 'c14', 'c15', 'c16', 'c17', 'c18', 'c19', 'c20', 'c21', 'c22', 'c23', 'c24', 'c25', 'c26']\n",
      "['d00', 'd01', 'd02', 'd03', 'd04', 'd05', 'd06', 'd07', 'd08', 'd09', 'd10', 'd11', 'd12', 'd13', 'd14', 'd15', 'd16', 'd17', 'd18', 'd19', 'd20', 'd21', 'd22', 'd23', 'd24', 'd25', 'd26']\n",
      "['e00', 'e01', 'e02', 'e03', 'e04', 'e05', 'e06', 'e07', 'e08', 'e09', 'e10', 'e11', 'e12', 'e13', 'e14', 'e15', 'e16', 'e17', 'e18', 'e19', 'e20', 'e21', 'e22', 'e23', 'e24', 'e25', 'e26']\n",
      "['f00', 'f01', 'f02', 'f03', 'f04', 'f05', 'f06', 'f07', 'f08', 'f09', 'f10', 'f11', 'f12', 'f13', 'f14', 'f15', 'f16', 'f17', 'f18', 'f19', 'f20', 'f21', 'f22', 'f23', 'f24', 'f25', 'f26']\n",
      "['g00', 'g01', 'g02', 'g03', 'g04', 'g05', 'g06', 'g07', 'g08', 'g09', 'g10', 'g11', 'g12', 'g13', 'g14', 'g15', 'g16', 'g17', 'g18', 'g19', 'g20', 'g21', 'g22', 'g23', 'g24', 'g25', 'g26']\n",
      "['h00', 'h01', 'h02', 'h03', 'h04', 'h05', 'h06', 'h07', 'h08', 'h09', 'h10', 'h11', 'h12', 'h13', 'h14', 'h15', 'h16', 'h17', 'h18', 'h19', 'h20', 'h21', 'h22', 'h23', 'h24', 'h25', 'h26']\n",
      "['i00', 'i01', 'i02', 'i03', 'i04', 'i05', 'i06', 'i07', 'i08', 'i09', 'i10', 'i11', 'i12', 'i13', 'i14', 'i15', 'i16', 'i17', 'i18', 'i19', 'i20', 'i21', 'i22', 'i23', 'i24', 'i25', 'i26']\n",
      "['j00', 'j01', 'j02', 'j03', 'j04', 'j05', 'j06', 'j07', 'j08', 'j09', 'j10', 'j11', 'j12', 'j13', 'j14', 'j15', 'j16', 'j17', 'j18', 'j19', 'j20', 'j21', 'j22', 'j23', 'j24', 'j25', 'j26']\n",
      "['k00', 'k01', 'k02', 'k03', 'k04', 'k05', 'k06', 'k07', 'k08', 'k09', 'k10', 'k11', 'k12', 'k13', 'k14', 'k15', 'k16', 'k17', 'k18', 'k19', 'k20', 'k21', 'k22', 'k23', 'k24', 'k25', 'k26']\n",
      "['l00', 'l01', 'l02', 'l03', 'l04', 'l05', 'l06', 'l07', 'l08', 'l09', 'l10', 'l11', 'l12', 'l13', 'l14', 'l15', 'l16', 'l17', 'l18', 'l19', 'l20', 'l21', 'l22', 'l23', 'l24', 'l25', 'l26']\n",
      "['m00', 'm01', 'm02', 'm03', 'm04', 'm05', 'm06', 'm07', 'm08', 'm09', 'm10', 'm11', 'm12', 'm13', 'm14', 'm15', 'm16', 'm17', 'm18', 'm19', 'm20', 'm21', 'm22', 'm23', 'm24', 'm25', 'm26']\n",
      "['n00', 'n01', 'n02', 'n03', 'n04', 'n05', 'n06', 'n07', 'n08', 'n09', 'n10', 'n11', 'n12', 'n13', 'n14', 'n15', 'n16', 'n17', 'n18', 'n19', 'n20', 'n21', 'n22', 'n23', 'n24', 'n25', 'n26']\n",
      "['o00', 'o01', 'o02', 'o03', 'o04', 'o05', 'o06', 'o07', 'o08', 'o09', 'o10', 'o11', 'o12', 'o13', 'o14', 'o15', 'o16', 'o17', 'o18', 'o19', 'o20', 'o21', 'o22', 'o23', 'o24', 'o25', 'o26']\n",
      "['p00', 'p01', 'p02', 'p03', 'p04', 'p05', 'p06', 'p07', 'p08', 'p09', 'p10', 'p11', 'p12', 'p13', 'p14', 'p15', 'p16', 'p17', 'p18', 'p19', 'p20', 'p21', 'p22', 'p23', 'p24', 'p25', 'p26']\n",
      "['q00', 'q01', 'q02', 'q03', 'q04', 'q05', 'q06', 'q07', 'q08', 'q09', 'q10', 'q11', 'q12', 'q13', 'q14', 'q15', 'q16', 'q17', 'q18', 'q19', 'q20', 'q21', 'q22', 'q23', 'q24', 'q25', 'q26']\n",
      "['r00', 'r01', 'r02', 'r03', 'r04', 'r05', 'r06', 'r07', 'r08', 'r09', 'r10', 'r11', 'r12', 'r13', 'r14', 'r15', 'r16', 'r17', 'r18', 'r19', 'r20', 'r21', 'r22', 'r23', 'r24', 'r25', 'r26']\n",
      "['s00', 's01', 's02', 's03', 's04', 's05', 's06', 's07', 's08', 's09', 's10', 's11', 's12', 's13', 's14', 's15', 's16', 's17', 's18', 's19', 's20', 's21', 's22', 's23', 's24', 's25', 's26']\n",
      "['t00', 't01', 't02', 't03', 't04', 't05', 't06', 't07', 't08', 't09', 't10', 't11', 't12', 't13', 't14', 't15', 't16', 't17', 't18', 't19', 't20', 't21', 't22', 't23', 't24', 't25', 't26']\n",
      "['u00', 'u01', 'u02', 'u03', 'u04', 'u05', 'u06', 'u07', 'u08', 'u09', 'u10', 'u11', 'u12', 'u13', 'u14', 'u15', 'u16', 'u17', 'u18', 'u19', 'u20', 'u21', 'u22', 'u23', 'u24', 'u25', 'u26']\n",
      "['v00', 'v01', 'v02', 'v03', 'v04', 'v05', 'v06', 'v07', 'v08', 'v09', 'v10', 'v11', 'v12', 'v13', 'v14', 'v15', 'v16', 'v17', 'v18', 'v19', 'v20', 'v21', 'v22', 'v23', 'v24', 'v25', 'v26']\n",
      "['w00', 'w01', 'w02', 'w03', 'w04', 'w05', 'w06', 'w07', 'w08', 'w09', 'w10', 'w11', 'w12', 'w13', 'w14', 'w15', 'w16', 'w17', 'w18', 'w19', 'w20', 'w21', 'w22', 'w23', 'w24', 'w25', 'w26']\n",
      "['x00', 'x01', 'x02', 'x03', 'x04', 'x05', 'x06', 'x07', 'x08', 'x09', 'x10', 'x11', 'x12', 'x13', 'x14', 'x15', 'x16', 'x17', 'x18', 'x19', 'x20', 'x21', 'x22', 'x23', 'x24', 'x25', 'x26']\n",
      "['y00', 'y01', 'y02', 'y03', 'y04', 'y05', 'y06', 'y07', 'y08', 'y09', 'y10', 'y11', 'y12', 'y13', 'y14', 'y15', 'y16', 'y17', 'y18', 'y19', 'y20', 'y21', 'y22', 'y23', 'y24', 'y25', 'y26']\n",
      "['z00', 'z01', 'z02', 'z03', 'z04', 'z05', 'z06', 'z07', 'z08', 'z09', 'z10', 'z11', 'z12', 'z13', 'z14', 'z15', 'z16', 'z17', 'z18', 'z19', 'z20', 'z21', 'z22', 'z23', 'z24', 'z25', 'z26']\n",
      "['A00', 'A01', 'A02', 'A03', 'A04', 'A05', 'A06', 'A07', 'A08', 'A09', 'A10', 'A11', 'A12', 'A13', 'A14', 'A15', 'A16', 'A17', 'A18', 'A19', 'A20', 'A21', 'A22', 'A23', 'A24', 'A25', 'A26']\n",
      "['B00', 'B01', 'B02', 'B03', 'B04', 'B05', 'B06', 'B07', 'B08', 'B09', 'B10', 'B11', 'B12', 'B13', 'B14', 'B15', 'B16', 'B17', 'B18', 'B19', 'B20', 'B21', 'B22', 'B23', 'B24', 'B25', 'B26']\n",
      "['C00', 'C01', 'C02', 'C03', 'C04', 'C05', 'C06', 'C07', 'C08', 'C09', 'C10', 'C11', 'C12', 'C13', 'C14', 'C15', 'C16', 'C17', 'C18', 'C19', 'C20', 'C21', 'C22', 'C23', 'C24', 'C25', 'C26']\n",
      "['D00', 'D01', 'D02', 'D03', 'D04', 'D05', 'D06', 'D07', 'D08', 'D09', 'D10', 'D11', 'D12', 'D13', 'D14', 'D15', 'D16', 'D17', 'D18', 'D19', 'D20', 'D21', 'D22', 'D23', 'D24', 'D25', 'D26']\n",
      "['E00', 'E01', 'E02', 'E03', 'E04', 'E05', 'E06', 'E07', 'E08', 'E09', 'E10', 'E11', 'E12', 'E13', 'E14', 'E15', 'E16', 'E17', 'E18', 'E19', 'E20', 'E21', 'E22', 'E23', 'E24', 'E25', 'E26']\n",
      "['F00', 'F01', 'F02', 'F03', 'F04', 'F05', 'F06', 'F07', 'F08', 'F09', 'F10', 'F11', 'F12', 'F13', 'F14', 'F15', 'F16', 'F17', 'F18', 'F19', 'F20', 'F21', 'F22', 'F23', 'F24', 'F25', 'F26']\n",
      "['G00', 'G01', 'G02', 'G03', 'G04', 'G05', 'G06', 'G07', 'G08', 'G09', 'G10', 'G11', 'G12', 'G13', 'G14', 'G15', 'G16', 'G17', 'G18', 'G19', 'G20', 'G21', 'G22', 'G23', 'G24', 'G25', 'G26']\n",
      "['H00', 'H01', 'H02', 'H03', 'H04', 'H05', 'H06', 'H07', 'H08', 'H09', 'H10', 'H11', 'H12', 'H13', 'H14', 'H15', 'H16', 'H17', 'H18', 'H19', 'H20', 'H21', 'H22', 'H23', 'H24', 'H25', 'H26']\n",
      "['I00', 'I01', 'I02', 'I03', 'I04', 'I05', 'I06', 'I07', 'I08', 'I09', 'I10', 'I11', 'I12', 'I13', 'I14', 'I15', 'I16', 'I17', 'I18', 'I19', 'I20', 'I21', 'I22', 'I23', 'I24', 'I25', 'I26']\n",
      "['J00', 'J01', 'J02', 'J03', 'J04', 'J05', 'J06', 'J07', 'J08', 'J09', 'J10', 'J11', 'J12', 'J13', 'J14', 'J15', 'J16', 'J17', 'J18', 'J19', 'J20', 'J21', 'J22', 'J23', 'J24', 'J25', 'J26']\n",
      "['K00', 'K01', 'K02', 'K03', 'K04', 'K05', 'K06', 'K07', 'K08', 'K09', 'K10', 'K11', 'K12', 'K13', 'K14', 'K15', 'K16', 'K17', 'K18', 'K19', 'K20', 'K21', 'K22', 'K23', 'K24', 'K25', 'K26']\n",
      "['L00', 'L01', 'L02', 'L03', 'L04', 'L05', 'L06', 'L07', 'L08', 'L09', 'L10', 'L11', 'L12', 'L13', 'L14', 'L15', 'L16', 'L17', 'L18', 'L19', 'L20', 'L21', 'L22', 'L23', 'L24', 'L25', 'L26']\n",
      "['M00', 'M01', 'M02', 'M03', 'M04', 'M05', 'M06', 'M07', 'M08', 'M09', 'M10', 'M11', 'M12', 'M13', 'M14', 'M15', 'M16', 'M17', 'M18', 'M19', 'M20', 'M21', 'M22', 'M23', 'M24', 'M25', 'M26']\n",
      "['N00', 'N01', 'N02', 'N03', 'N04', 'N05', 'N06', 'N07', 'N08', 'N09', 'N10', 'N11', 'N12', 'N13', 'N14', 'N15', 'N16', 'N17', 'N18', 'N19', 'N20', 'N21', 'N22', 'N23', 'N24', 'N25', 'N26']\n"
     ]
    }
   ],
   "source": [
    "print(*[[f\"{r}{i:02}\" for i in range(27)] for r in ascii_letters[:40]], sep=\"\\n\")"
   ]
  },
  {
   "cell_type": "code",
   "execution_count": 129,
   "id": "900128ad-dc9f-4e33-9cc3-37b5c09394d8",
   "metadata": {
    "tags": []
   },
   "outputs": [
    {
     "name": "stdout",
     "output_type": "stream",
     "text": [
      "['T', 'A', 'K', 'E', '_', 'A', '_', 'L', 'O', 'O', 'K', '_', 'A', 'T', '_', 'P', 'A', 'R', 'T', '_', 'O', 'N', 'E', \"'\", 'S', '_', 'E', 'A', 'S', 'T', 'E', 'R', '_', 'E', 'G', 'G']\n"
     ]
    }
   ],
   "source": [
    "print(\"T,A,K,E,_,A,_,L,O,O,K,_,A,T,_,P,A,R,T,_,O,N,E,',S,_,E,A,S,T,E,R,_,E,G,G\".split(\",\"))"
   ]
  },
  {
   "cell_type": "code",
   "execution_count": null,
   "id": "98a785b4-ce89-4d37-9845-4dbf7b47e95c",
   "metadata": {},
   "outputs": [],
   "source": []
  }
 ],
 "metadata": {
  "kernelspec": {
   "display_name": "Python 3 (ipykernel)",
   "language": "python",
   "name": "python3"
  },
  "language_info": {
   "codemirror_mode": {
    "name": "ipython",
    "version": 3
   },
   "file_extension": ".py",
   "mimetype": "text/x-python",
   "name": "python",
   "nbconvert_exporter": "python",
   "pygments_lexer": "ipython3",
   "version": "3.10.9"
  }
 },
 "nbformat": 4,
 "nbformat_minor": 5
}
