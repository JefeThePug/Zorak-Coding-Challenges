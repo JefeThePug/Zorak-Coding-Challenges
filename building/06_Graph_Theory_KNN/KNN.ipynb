{
 "cells": [
  {
   "cell_type": "code",
   "execution_count": 22,
   "id": "9c8c3479-bf77-455a-beb6-c8f8a843ce6c",
   "metadata": {
    "tags": []
   },
   "outputs": [],
   "source": [
    "import pandas as pd\n",
    "import numpy as np\n",
    "import seaborn\n",
    "import matplotlib.pyplot as plt\n",
    "from statistics import mode\n",
    "from math import sqrt\n",
    "from random import choice"
   ]
  },
  {
   "cell_type": "code",
   "execution_count": 23,
   "id": "9460b990-0883-4ceb-b7d6-822f61e4303e",
   "metadata": {
    "tags": []
   },
   "outputs": [
    {
     "data": {
      "text/html": [
       "<div>\n",
       "<style scoped>\n",
       "    .dataframe tbody tr th:only-of-type {\n",
       "        vertical-align: middle;\n",
       "    }\n",
       "\n",
       "    .dataframe tbody tr th {\n",
       "        vertical-align: top;\n",
       "    }\n",
       "\n",
       "    .dataframe thead th {\n",
       "        text-align: right;\n",
       "    }\n",
       "</style>\n",
       "<table border=\"1\" class=\"dataframe\">\n",
       "  <thead>\n",
       "    <tr style=\"text-align: right;\">\n",
       "      <th></th>\n",
       "      <th>0</th>\n",
       "      <th>1</th>\n",
       "      <th>2</th>\n",
       "      <th>3</th>\n",
       "      <th>4</th>\n",
       "      <th>Type</th>\n",
       "      <th>distance</th>\n",
       "    </tr>\n",
       "  </thead>\n",
       "  <tbody>\n",
       "    <tr>\n",
       "      <th>0</th>\n",
       "      <td>19.8</td>\n",
       "      <td>15.3</td>\n",
       "      <td>0.981</td>\n",
       "      <td>5.11</td>\n",
       "      <td>0.01820</td>\n",
       "      <td>Nanocrystalline Diamond Thermal Spreader</td>\n",
       "      <td>inf</td>\n",
       "    </tr>\n",
       "    <tr>\n",
       "      <th>1</th>\n",
       "      <td>18.5</td>\n",
       "      <td>14.5</td>\n",
       "      <td>1.650</td>\n",
       "      <td>6.10</td>\n",
       "      <td>0.05310</td>\n",
       "      <td>Nanocrystalline Diamond Thermal Spreader</td>\n",
       "      <td>inf</td>\n",
       "    </tr>\n",
       "    <tr>\n",
       "      <th>2</th>\n",
       "      <td>18.0</td>\n",
       "      <td>16.5</td>\n",
       "      <td>1.230</td>\n",
       "      <td>5.05</td>\n",
       "      <td>0.02950</td>\n",
       "      <td>Zirconium Dioxide Ceramic Heat Sink</td>\n",
       "      <td>inf</td>\n",
       "    </tr>\n",
       "    <tr>\n",
       "      <th>3</th>\n",
       "      <td>18.7</td>\n",
       "      <td>15.8</td>\n",
       "      <td>1.160</td>\n",
       "      <td>7.02</td>\n",
       "      <td>0.02590</td>\n",
       "      <td>Zirconium Dioxide Ceramic Heat Sink</td>\n",
       "      <td>inf</td>\n",
       "    </tr>\n",
       "    <tr>\n",
       "      <th>4</th>\n",
       "      <td>17.7</td>\n",
       "      <td>14.6</td>\n",
       "      <td>0.653</td>\n",
       "      <td>4.60</td>\n",
       "      <td>0.00949</td>\n",
       "      <td>Zirconium Dioxide Ceramic Heat Sink</td>\n",
       "      <td>inf</td>\n",
       "    </tr>\n",
       "  </tbody>\n",
       "</table>\n",
       "</div>"
      ],
      "text/plain": [
       "      0     1      2     3        4                                      Type   \n",
       "0  19.8  15.3  0.981  5.11  0.01820  Nanocrystalline Diamond Thermal Spreader  \\\n",
       "1  18.5  14.5  1.650  6.10  0.05310  Nanocrystalline Diamond Thermal Spreader   \n",
       "2  18.0  16.5  1.230  5.05  0.02950       Zirconium Dioxide Ceramic Heat Sink   \n",
       "3  18.7  15.8  1.160  7.02  0.02590       Zirconium Dioxide Ceramic Heat Sink   \n",
       "4  17.7  14.6  0.653  4.60  0.00949       Zirconium Dioxide Ceramic Heat Sink   \n",
       "\n",
       "   distance  \n",
       "0       inf  \n",
       "1       inf  \n",
       "2       inf  \n",
       "3       inf  \n",
       "4       inf  "
      ]
     },
     "execution_count": 23,
     "metadata": {},
     "output_type": "execute_result"
    }
   ],
   "source": [
    "df = pd.read_csv(\"thermaldata.csv\")\n",
    "df.columns = [0, 1, 2, 3, 4, \"Type\"]\n",
    "df['distance'] = float(\"inf\")\n",
    "\n",
    "df.head()"
   ]
  },
  {
   "cell_type": "code",
   "execution_count": 24,
   "id": "0b4c5d67-77b4-4e73-945a-415f7f00b6e3",
   "metadata": {
    "tags": []
   },
   "outputs": [
    {
     "data": {
      "text/html": [
       "<div>\n",
       "<style scoped>\n",
       "    .dataframe tbody tr th:only-of-type {\n",
       "        vertical-align: middle;\n",
       "    }\n",
       "\n",
       "    .dataframe tbody tr th {\n",
       "        vertical-align: top;\n",
       "    }\n",
       "\n",
       "    .dataframe thead th {\n",
       "        text-align: right;\n",
       "    }\n",
       "</style>\n",
       "<table border=\"1\" class=\"dataframe\">\n",
       "  <thead>\n",
       "    <tr style=\"text-align: right;\">\n",
       "      <th></th>\n",
       "      <th>0</th>\n",
       "      <th>1</th>\n",
       "      <th>2</th>\n",
       "      <th>3</th>\n",
       "      <th>4</th>\n",
       "      <th>Type</th>\n",
       "    </tr>\n",
       "  </thead>\n",
       "  <tbody>\n",
       "    <tr>\n",
       "      <th>0</th>\n",
       "      <td>16.4</td>\n",
       "      <td>20.11</td>\n",
       "      <td>0.699</td>\n",
       "      <td>8.07</td>\n",
       "      <td>0.0105</td>\n",
       "      <td>X</td>\n",
       "    </tr>\n",
       "  </tbody>\n",
       "</table>\n",
       "</div>"
      ],
      "text/plain": [
       "      0      1      2     3       4 Type\n",
       "0  16.4  20.11  0.699  8.07  0.0105    X"
      ]
     },
     "execution_count": 24,
     "metadata": {},
     "output_type": "execute_result"
    }
   ],
   "source": [
    "target = pd.Series([16.4,20.11,0.699,8.07,0.0105,\"X\"])\n",
    "target_df = pd.DataFrame({c: [t] for c, t in zip(df.columns, target)})\n",
    "target_df"
   ]
  },
  {
   "cell_type": "code",
   "execution_count": 25,
   "id": "76833fde-eeb3-4021-80d2-5ac5bb774f4f",
   "metadata": {
    "tags": []
   },
   "outputs": [
    {
     "name": "stdout",
     "output_type": "stream",
     "text": [
      "Zirconium Dioxide Ceramic Heat Sink\n",
      "Zirconium Dioxide Ceramic Heat Sink\n",
      "Graphene-Coated Carbon Fiber Sheet\n",
      "Graphene-Coated Carbon Fiber Sheet\n",
      "Nanocrystalline Diamond Thermal Spreader\n",
      "Zirconium Dioxide Ceramic Heat Sink\n",
      "Zirconium Dioxide Ceramic Heat Sink\n",
      "\t\t7: Zirconium Dioxide Ceramic Heat Sink\n"
     ]
    }
   ],
   "source": [
    "df['distance'] = (sum((df.loc[:,i]-target[i])**2 for i in range(5))) ** 0.5\n",
    "df = df.sort_values('distance', ascending=True)\n",
    "\n",
    "k = 7\n",
    "#knn = df.nsmallest(k, 'distance')\n",
    "knn = list(df.head(k).Type)\n",
    "print(*knn, sep=\"\\n\")\n",
    "print(f\"\\t\\t{k}: {mode(knn)}\")"
   ]
  },
  {
   "cell_type": "code",
   "execution_count": 26,
   "id": "8fa0ec49-4e5c-446f-98be-9603c90fffd3",
   "metadata": {
    "tags": []
   },
   "outputs": [
    {
     "name": "stdout",
     "output_type": "stream",
     "text": [
      "Zirconium Dioxide Ceramic Heat Sink\n",
      "Graphene-Coated Carbon Fiber Sheet\n",
      "Nanocrystalline Diamond Thermal Spreader\n",
      "Boron Nitride Nanotube Composite\n",
      "Reinforced Carbon-Carbon (RCC) Shield Tile\n",
      "Silicon Oxycarbide Shield Tile\n",
      "Diamond-Like Carbon (DLC) Coated Radiator\n",
      "Aerogel-Infused Carbon Fiber Panel\n",
      "Phenolic Impregnated Carbon Ablator (PICA)\n",
      "Graphene Nanoplatelet Thermal Interface Material\n",
      "Ceramic Matrix Composite... EASTEREGG: CALCULATOR\n"
     ]
    }
   ],
   "source": [
    "#EE\n",
    "print(*df['Type'].unique(), sep=\"\\n\")"
   ]
  },
  {
   "cell_type": "code",
   "execution_count": 79,
   "id": "4bfde56b-1061-40ee-9ec1-f28a91735a89",
   "metadata": {
    "tags": []
   },
   "outputs": [
    {
     "data": {
      "text/plain": [
       "'ZIRCONIUM DIOXIDE CERAMIC HEAT SINK'"
      ]
     },
     "execution_count": 79,
     "metadata": {},
     "output_type": "execute_result"
    }
   ],
   "source": [
    "\"Zirconium Dioxide Ceramic Heat Sink\".upper()"
   ]
  },
  {
   "cell_type": "code",
   "execution_count": 61,
   "id": "104af6d0-0d69-484e-b93a-cb2dd1d6ffdf",
   "metadata": {
    "tags": []
   },
   "outputs": [],
   "source": [
    "#df.drop(columns=[\"distance\"]).to_csv('thermaldata.csv', index=False)"
   ]
  },
  {
   "cell_type": "code",
   "execution_count": 20,
   "id": "81b4cdb6-e73d-4425-b482-5bc876db45e7",
   "metadata": {
    "tags": []
   },
   "outputs": [
    {
     "name": "stdout",
     "output_type": "stream",
     "text": [
      "   frequency  wavelength    type\n",
      "0         10           7  Cosmic\n",
      "1          9           1   Solar\n",
      "2          7           2   Solar\n",
      "3          8           3  Cosmic\n",
      "4         10           2   Solar\n",
      "5          9           3   Solar\n",
      "6          1           5  Cosmic\n",
      "7          4           5  Cosmic\n",
      "8          9           4   Solar\n",
      "9          3           3   Solar\n",
      "Solar---Solar---Solar\n",
      "Cosmic---Cosmic---Solar\n",
      "Cosmic---Cosmic---Solar\n",
      "SCC\n"
     ]
    },
    {
     "data": {
      "image/png": "[encoded data removed]",
      "text/plain": [
       "<Figure size 640x480 with 1 Axes>"
      ]
     },
     "metadata": {},
     "output_type": "display_data"
    }
   ],
   "source": [
    "with open(\"sample.txt\") as f:\n",
    "    waves = [tuple(map(int, w.split(\",\")))for w in f.readline().strip().split()]\n",
    "    rad = pd.read_csv(f, names=['frequency', 'wavelength', 'type'])\n",
    "\n",
    "print(rad)\n",
    "\n",
    "results = []\n",
    "\n",
    "for n, wave in enumerate(waves):\n",
    "    wavedata = rad.copy()\n",
    "    wavedata.columns = [0, 1, \"Type\"]\n",
    "    wavedata[\"Distance\"] = float(\"inf\")\n",
    "    \n",
    "    target = pd.Series(wave)\n",
    "    wavedata['Distance'] = ((wavedata.loc[:,0]-target[0])**2 + (wavedata.loc[:,1]-target[1])**2) ** 0.5\n",
    "\n",
    "    k = 3\n",
    "    wavedata = wavedata.sort_values('Distance', ascending=True)\n",
    "    knn = list(wavedata.head(k).Type)\n",
    "    res = max(knn, key=knn.count)\n",
    "    print(\"---\".join(sorted(knn)))\n",
    "    results.append(res[0])\n",
    "print(\"\".join(results))\n",
    "\n",
    "data = pd.read_csv(\"sample.csv\")\n",
    "\n",
    "plt.scatter(data[\"frequency\"][data[\"type\"] == \"Solar\"], data[\"wavelength\"][data[\"type\"] == \"Solar\"], label=\"Solar\", c=\"orange\", zorder=10)\n",
    "plt.scatter(data[\"frequency\"][data[\"type\"] == \"Cosmic\"], data[\"wavelength\"][data[\"type\"] == \"Cosmic\"], label=\"Cosmic\", c=\"blueviolet\", zorder=10)\n",
    "\n",
    "for i, x, wave in zip(range(1,10), results, waves):\n",
    "    plt.scatter(wave[0], wave[1], label=\"Target\", c=\"yellow\", marker=\"2\", zorder=10) #\"red\" if x==\"S\" else \"green\"\n",
    "    plt.xlabel(\"Frequency\")\n",
    "    plt.ylabel(\"Wavelength\")\n",
    "    plt.title(\"Frequency vs Wavelength by Type\")\n",
    "\n",
    "    plt.gca().xaxis.set_major_locator(ticker.MultipleLocator(1))\n",
    "    plt.gca().yaxis.set_major_locator(ticker.MultipleLocator(1))\n",
    "\n",
    "    plt.grid(True, zorder=0)\n",
    "    plt.savefig(f'plot{i}.png', transparent=True, bbox_inches='tight')\n",
    "plt.show()"
   ]
  },
  {
   "cell_type": "markdown",
   "id": "36ed8f56-6e6a-45a2-abab-e47297b8d74c",
   "metadata": {},
   "source": [
    "## SOLVE"
   ]
  },
  {
   "cell_type": "code",
   "execution_count": 8,
   "id": "f8fc93eb-eeb1-420d-88c1-0a5999ec4ce3",
   "metadata": {},
   "outputs": [
    {
     "name": "stdout",
     "output_type": "stream",
     "text": [
      "waves=[(3, 14), (11, 6), (17, 15), (2, 4), (11, 19)]\n"
     ]
    },
    {
     "data": {
      "text/html": [
       "<div>\n",
       "<style scoped>\n",
       "    .dataframe tbody tr th:only-of-type {\n",
       "        vertical-align: middle;\n",
       "    }\n",
       "\n",
       "    .dataframe tbody tr th {\n",
       "        vertical-align: top;\n",
       "    }\n",
       "\n",
       "    .dataframe thead th {\n",
       "        text-align: right;\n",
       "    }\n",
       "</style>\n",
       "<table border=\"1\" class=\"dataframe\">\n",
       "  <thead>\n",
       "    <tr style=\"text-align: right;\">\n",
       "      <th></th>\n",
       "      <th>frequency</th>\n",
       "      <th>wavelength</th>\n",
       "      <th>type</th>\n",
       "    </tr>\n",
       "  </thead>\n",
       "  <tbody>\n",
       "    <tr>\n",
       "      <th>0</th>\n",
       "      <td>12</td>\n",
       "      <td>7</td>\n",
       "      <td>Solar</td>\n",
       "    </tr>\n",
       "    <tr>\n",
       "      <th>1</th>\n",
       "      <td>13</td>\n",
       "      <td>1</td>\n",
       "      <td>Cosmic</td>\n",
       "    </tr>\n",
       "    <tr>\n",
       "      <th>2</th>\n",
       "      <td>7</td>\n",
       "      <td>7</td>\n",
       "      <td>Solar</td>\n",
       "    </tr>\n",
       "    <tr>\n",
       "      <th>3</th>\n",
       "      <td>20</td>\n",
       "      <td>18</td>\n",
       "      <td>Cosmic</td>\n",
       "    </tr>\n",
       "    <tr>\n",
       "      <th>4</th>\n",
       "      <td>12</td>\n",
       "      <td>4</td>\n",
       "      <td>Solar</td>\n",
       "    </tr>\n",
       "  </tbody>\n",
       "</table>\n",
       "</div>"
      ],
      "text/plain": [
       "   frequency  wavelength    type\n",
       "0         12           7   Solar\n",
       "1         13           1  Cosmic\n",
       "2          7           7   Solar\n",
       "3         20          18  Cosmic\n",
       "4         12           4   Solar"
      ]
     },
     "execution_count": 8,
     "metadata": {},
     "output_type": "execute_result"
    }
   ],
   "source": [
    "import pandas as pd\n",
    "import matplotlib.pyplot as plt\n",
    "import matplotlib.ticker as ticker\n",
    "\n",
    "with open(\"data.txt\") as f:\n",
    "    waves = [tuple(map(int, w.split(\",\")))for w in f.readline().strip().split()]\n",
    "    rad = pd.read_csv(f, names=['frequency', 'wavelength', 'type'])\n",
    "print(f\"{waves=}\")\n",
    "rad.head()"
   ]
  },
  {
   "cell_type": "code",
   "execution_count": 9,
   "id": "45f6e72f-4f71-457d-842e-2583fb5ae5b2",
   "metadata": {
    "tags": []
   },
   "outputs": [
    {
     "name": "stdout",
     "output_type": "stream",
     "text": [
      "Cosmic---Cosmic---Cosmic---Solar---Solar---Solar---Solar\n",
      "Cosmic---Cosmic---Solar---Solar---Solar---Solar---Solar\n",
      "Cosmic---Cosmic---Cosmic---Cosmic---Cosmic---Solar---Solar\n",
      "Cosmic---Cosmic---Solar---Solar---Solar---Solar---Solar\n",
      "Cosmic---Cosmic---Cosmic---Cosmic---Solar---Solar---Solar\n",
      "SSCSC\n"
     ]
    }
   ],
   "source": [
    "results = []\n",
    "\n",
    "for n, wave in enumerate(waves):\n",
    "    wavedata = rad.copy()\n",
    "    wavedata.columns = [0, 1, \"Type\"]\n",
    "    wavedata[\"Distance\"] = float(\"inf\")\n",
    "    \n",
    "    target = pd.Series(wave)\n",
    "    wavedata['Distance'] = ((wavedata.loc[:,0]-target[0])**2 + (wavedata.loc[:,1]-target[1])**2) ** 0.5\n",
    "\n",
    "    k = 7\n",
    "    wavedata = wavedata.sort_values('Distance', ascending=True)\n",
    "    knn = list(wavedata.head(k).Type)\n",
    "    res = max(knn, key=knn.count)\n",
    "    print(\"---\".join(sorted(knn)))\n",
    "    results.append(res[0])\n",
    "print(\"\".join(results))"
   ]
  },
  {
   "cell_type": "code",
   "execution_count": 10,
   "id": "8e43a35f-219b-4b05-8f69-99cdc85061e0",
   "metadata": {},
   "outputs": [
    {
     "data": {
      "image/png": "[encoded data removed]",
      "text/plain": [
       "<Figure size 640x480 with 1 Axes>"
      ]
     },
     "metadata": {},
     "output_type": "display_data"
    }
   ],
   "source": [
    "data = pd.read_csv(\"radiation.csv\")\n",
    "\n",
    "plt.scatter(data[\"Frequency\"][data[\"Type\"] == \"Solar\"], data[\"Wavelength\"][data[\"Type\"] == \"Solar\"], label=\"Solar\", c=\"orange\", zorder=10)\n",
    "plt.scatter(data[\"Frequency\"][data[\"Type\"] == \"Cosmic\"], data[\"Wavelength\"][data[\"Type\"] == \"Cosmic\"], label=\"Cosmic\", c=\"blueviolet\", zorder=10)\n",
    "\n",
    "for i, x, wave in zip(range(1,10), results, waves):\n",
    "    plt.scatter(wave[0], wave[1], label=\"Target\", c=\"yellow\", marker=\"2\", zorder=10) #\"red\" if x==\"S\" else \"green\"\n",
    "    plt.xlabel(\"Frequency\")\n",
    "    plt.ylabel(\"Wavelength\")\n",
    "    plt.title(\"Frequency vs Wavelength by Type\")\n",
    "\n",
    "    plt.gca().xaxis.set_major_locator(ticker.MultipleLocator(1))\n",
    "    plt.gca().yaxis.set_major_locator(ticker.MultipleLocator(1))\n",
    "\n",
    "    plt.grid(True, zorder=0)\n",
    "    plt.savefig(f'plot{i}.png', transparent=True, bbox_inches='tight')\n",
    "plt.show()"
   ]
  },
  {
   "cell_type": "code",
   "execution_count": null,
   "id": "14040a94-a3ca-4879-b3ab-97f8907ad974",
   "metadata": {
    "tags": []
   },
   "outputs": [],
   "source": []
  },
  {
   "cell_type": "code",
   "execution_count": null,
   "id": "68f990a6-8aaf-4547-9e16-625b4d875436",
   "metadata": {
    "tags": []
   },
   "outputs": [
    {
     "ename": "FileNotFoundError",
     "evalue": "[Errno 2] No such file or directory: '/Users/jefethepug/Desktop/Python Course/challenges/building/06_Graph_Theory_KNN /rolling.gif'",
     "output_type": "error",
     "traceback": [
      "\u001b[0;31m---------------------------------------------------------------------------\u001b[0m",
      "\u001b[0;31mFileNotFoundError\u001b[0m                         Traceback (most recent call last)",
      "Cell \u001b[0;32mIn[139], line 23\u001b[0m\n\u001b[1;32m     20\u001b[0m input_gif \u001b[38;5;241m=\u001b[39m \u001b[38;5;124m\"\u001b[39m\u001b[38;5;124mrolling.gif\u001b[39m\u001b[38;5;124m\"\u001b[39m\n\u001b[1;32m     21\u001b[0m output_gif \u001b[38;5;241m=\u001b[39m \u001b[38;5;124m\"\u001b[39m\u001b[38;5;124mrolling_norep.gif\u001b[39m\u001b[38;5;124m\"\u001b[39m\n\u001b[0;32m---> 23\u001b[0m \u001b[43mprocess_gif\u001b[49m\u001b[43m(\u001b[49m\u001b[43minput_gif\u001b[49m\u001b[43m,\u001b[49m\u001b[43m \u001b[49m\u001b[43moutput_gif\u001b[49m\u001b[43m)\u001b[49m\n\u001b[1;32m     24\u001b[0m \u001b[38;5;28mprint\u001b[39m(\u001b[38;5;124m\"\u001b[39m\u001b[38;5;124mDONE\u001b[39m\u001b[38;5;124m\"\u001b[39m)\n",
      "Cell \u001b[0;32mIn[139], line 4\u001b[0m, in \u001b[0;36mprocess_gif\u001b[0;34m(input_path, output_path)\u001b[0m\n\u001b[1;32m      3\u001b[0m \u001b[38;5;28;01mdef\u001b[39;00m \u001b[38;5;21mprocess_gif\u001b[39m(input_path, output_path):\n\u001b[0;32m----> 4\u001b[0m     \u001b[38;5;28;01mwith\u001b[39;00m \u001b[43mImage\u001b[49m\u001b[38;5;241;43m.\u001b[39;49m\u001b[43mopen\u001b[49m\u001b[43m(\u001b[49m\u001b[43minput_path\u001b[49m\u001b[43m)\u001b[49m \u001b[38;5;28;01mas\u001b[39;00m im:\n\u001b[1;32m      5\u001b[0m         frames \u001b[38;5;241m=\u001b[39m []\n\u001b[1;32m      6\u001b[0m         durations \u001b[38;5;241m=\u001b[39m []\n",
      "File \u001b[0;32m/Library/Frameworks/Python.framework/Versions/3.10/lib/python3.10/site-packages/PIL/Image.py:3277\u001b[0m, in \u001b[0;36mopen\u001b[0;34m(fp, mode, formats)\u001b[0m\n\u001b[1;32m   3274\u001b[0m     filename \u001b[38;5;241m=\u001b[39m os\u001b[38;5;241m.\u001b[39mpath\u001b[38;5;241m.\u001b[39mrealpath(os\u001b[38;5;241m.\u001b[39mfspath(fp))\n\u001b[1;32m   3276\u001b[0m \u001b[38;5;28;01mif\u001b[39;00m filename:\n\u001b[0;32m-> 3277\u001b[0m     fp \u001b[38;5;241m=\u001b[39m \u001b[43mbuiltins\u001b[49m\u001b[38;5;241;43m.\u001b[39;49m\u001b[43mopen\u001b[49m\u001b[43m(\u001b[49m\u001b[43mfilename\u001b[49m\u001b[43m,\u001b[49m\u001b[43m \u001b[49m\u001b[38;5;124;43m\"\u001b[39;49m\u001b[38;5;124;43mrb\u001b[39;49m\u001b[38;5;124;43m\"\u001b[39;49m\u001b[43m)\u001b[49m\n\u001b[1;32m   3278\u001b[0m     exclusive_fp \u001b[38;5;241m=\u001b[39m \u001b[38;5;28;01mTrue\u001b[39;00m\n\u001b[1;32m   3280\u001b[0m \u001b[38;5;28;01mtry\u001b[39;00m:\n",
      "\u001b[0;31mFileNotFoundError\u001b[0m: [Errno 2] No such file or directory: '/Users/jefethepug/Desktop/Python Course/challenges/building/06_Graph_Theory_KNN /rolling.gif'"
     ]
    }
   ],
   "source": [
    "from PIL import Image, ImageSequence\n",
    "\n",
    "def process_gif(input_path, output_path):\n",
    "    with Image.open(input_path) as im:\n",
    "        frames = []\n",
    "        durations = []\n",
    "        for frame in ImageSequence.Iterator(im):\n",
    "            frames.append(frame.copy().convert('RGBA'))\n",
    "            durations.append(frame.info['duration'])\n",
    "\n",
    "        frames[0].save(\n",
    "            output_path,\n",
    "            save_all=True,\n",
    "            append_images=frames[1:],\n",
    "            loop=None,\n",
    "            duration=durations,\n",
    "            disposal=2\n",
    "        )\n",
    "\n",
    "\n",
    "input_gif = \"plots.gif\"\n",
    "output_gif = \"plots_norep.gif\"\n",
    "\n",
    "process_gif(input_gif, output_gif)\n",
    "print(\"DONE\")"
   ]
  },
  {
   "cell_type": "code",
   "execution_count": null,
   "id": "766baa84-a274-49ee-ab44-a5e75dee3a0a",
   "metadata": {
    "tags": []
   },
   "outputs": [],
   "source": []
  },
  {
   "cell_type": "code",
   "execution_count": null,
   "id": "9a564418-6bf5-4bd8-a736-4d50cc3c15b2",
   "metadata": {},
   "outputs": [],
   "source": [
    "dd"
   ]
  }
 ],
 "metadata": {
  "kernelspec": {
   "display_name": "Python 3 (ipykernel)",
   "language": "python",
   "name": "python3"
  },
  "language_info": {
   "codemirror_mode": {
    "name": "ipython",
    "version": 3
   },
   "file_extension": ".py",
   "mimetype": "text/x-python",
   "name": "python",
   "nbconvert_exporter": "python",
   "pygments_lexer": "ipython3",
   "version": "3.10.9"
  }
 },
 "nbformat": 4,
 "nbformat_minor": 5
}
