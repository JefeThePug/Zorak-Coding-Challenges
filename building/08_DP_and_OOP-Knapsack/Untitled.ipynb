{
 "cells": [
  {
   "cell_type": "markdown",
   "id": "9c320b0c-93e6-4ff9-b61b-5346469e3b86",
   "metadata": {},
   "source": [
    "## Part 2"
   ]
  },
  {
   "cell_type": "code",
   "execution_count": 14,
   "id": "bedf7898-996e-4d37-a9dc-fd3d3d9e1e56",
   "metadata": {
    "tags": []
   },
   "outputs": [
    {
     "name": "stdout",
     "output_type": "stream",
     "text": [
      "{'Excelsa': [Georgia          Excelsa   Vienna Roast     (50mm, 40⭐️),\n",
      "             Saint Barthélemy Excelsa   Extra Dark Roast (132mm, 132⭐️),\n",
      "             Iceland          Excelsa   Breakfast Roast  (11mm, 1⭐️),\n",
      "             Malta            Excelsa   Extra Dark Roast (109mm, 98⭐️),\n",
      "             Niger            Excelsa   Light Roast      (52mm, 42⭐️),\n",
      "             Cook Islands     Excelsa   Blonde Roast     (105mm, 94⭐️),\n",
      "             Peru             Excelsa   Dark Roast       (53mm, 43⭐️),\n",
      "             United Arab Emir Excelsa   Breakfast Roast  (38mm, 28⭐️),\n",
      "             Aruba            Excelsa   Blonde Roast     (24mm, 14⭐️),\n",
      "             Slovakia         Excelsa   Vienna Roast     (35mm, 24⭐️),\n",
      "             Angola           Excelsa   Vienna Roast     (44mm, 40⭐️),\n",
      "             Madagascar       Excelsa   Dark Roast       (12mm, 2⭐️),\n",
      "             Afghanistan      Excelsa   Medium Roast     (28mm, 11⭐️),\n",
      "             Åland Islands    Excelsa   Breakfast Roast  (104mm, 94⭐️),\n",
      "             Micronesia       Excelsa   Medium Roast     (39mm, 28⭐️),\n",
      "             New Zealand      Excelsa   Extra Dark Roast (81mm, 71⭐️),\n",
      "             French Polynesia Excelsa   Blonde Roast     (43mm, 33⭐️),\n",
      "             Kiribati         Excelsa   Cinnamon Roast   (105mm, 93⭐️),\n",
      "             Jordan           Excelsa   Dark Roast       (106mm, 122⭐️),\n",
      "             Japan            Excelsa   Dark Roast       (84mm, 82⭐️),\n",
      "             Ireland          Excelsa   Blonde Roast     (88mm, 74⭐️)],\n",
      " 'Liberica': [Solomon Islands  Liberica  French Roast     (102mm, 92⭐️),\n",
      "              Bulgaria         Liberica  Cinnamon Roast   (53mm, 42⭐️),\n",
      "              China            Liberica  Extra Dark Roast (90mm, 97⭐️),\n",
      "              Guernsey         Liberica  Cinnamon Roast   (43mm, 32⭐️),\n",
      "              South Sudan      Liberica  Vienna Roast     (58mm, 48⭐️),\n",
      "              Grenada          Liberica  Light Roast      (89mm, 81⭐️),\n",
      "              Tunisia          Liberica  French Roast     (80mm, 70⭐️),\n",
      "              Chile            Liberica  Dark Roast       (154mm, 194⭐️),\n",
      "              Georgia          Liberica  Blonde Roast     (103mm, 126⭐️),\n",
      "              Norfolk Island   Liberica  Vienna Roast     (70mm, 60⭐️),\n",
      "              French Polynesia Liberica  Breakfast Roast  (106mm, 96⭐️),\n",
      "              Equatorial Guine Liberica  Medium Roast     (56mm, 46⭐️),\n",
      "              Colombia         Liberica  Cinnamon Roast   (77mm, 74⭐️),\n",
      "              Marshall Islands Liberica  Vienna Roast     (105mm, 94⭐️),\n",
      "              Madagascar       Liberica  Cinnamon Roast   (62mm, 54⭐️),\n",
      "              Guernsey         Liberica  French Roast     (26mm, 16⭐️),\n",
      "              Vietnam          Liberica  Breakfast Roast  (80mm, 75⭐️),\n",
      "              Mongolia         Liberica  Vienna Roast     (109mm, 117⭐️),\n",
      "              Laos             Liberica  Blonde Roast     (25mm, 15⭐️),\n",
      "              Mexico           Liberica  Blonde Roast     (80mm, 68⭐️),\n",
      "              Macedonia        Liberica  Vienna Roast     (35mm, 25⭐️),\n",
      "              Bosnia and Herze Liberica  Dark Roast       (67mm, 56⭐️)],\n",
      " 'Arabica': [Antigua and Barb Arabica   Cinnamon Roast   (119mm, 100⭐️),\n",
      "             Eritrea          Arabica   Vienna Roast     (20mm, 10⭐️),\n",
      "             Norfolk Island   Arabica   Dark Roast       (110mm, 94⭐️),\n",
      "             Faroe Islands    Arabica   Blonde Roast     (39mm, 29⭐️),\n",
      "             Faroe Islands    Arabica   Extra Dark Roast (47mm, 37⭐️),\n",
      "             Barbados         Arabica   Blonde Roast     (105mm, 95⭐️),\n",
      "             Kazakhstan       Arabica   Light Roast      (109mm, 99⭐️),\n",
      "             Guatemala        Arabica   Extra Dark Roast (32mm, 22⭐️),\n",
      "             Cook Islands     Arabica   Medium Roast     (57mm, 47⭐️),\n",
      "             Pakistan         Arabica   Cinnamon Roast   (79mm, 69⭐️),\n",
      "             Czech Republic   Arabica   Cinnamon Roast   (119mm, 101⭐️),\n",
      "             Indonesia        Arabica   Vienna Roast     (105mm, 119⭐️),\n",
      "             Angola           Arabica   Cinnamon Roast   (64mm, 54⭐️),\n",
      "             Samoa            Arabica   French Roast     (89mm, 74⭐️),\n",
      "             Libya            Arabica   Light Roast      (77mm, 67⭐️),\n",
      "             Iran             Arabica   Medium Roast     (94mm, 84⭐️)],\n",
      " 'Typica': [Malaysia         Typica    Dark Roast       (93mm, 83⭐️),\n",
      "            Panama           Typica    Light Roast      (124mm, 136⭐️),\n",
      "            San Marino       Typica    Medium Roast     (75mm, 65⭐️),\n",
      "            Armenia          Typica    Extra Dark Roast (57mm, 66⭐️),\n",
      "            Monaco           Typica    Cinnamon Roast   (67mm, 57⭐️),\n",
      "            Japan            Typica    Blonde Roast     (78mm, 67⭐️),\n",
      "            Iceland          Typica    Medium Roast     (125mm, 160⭐️),\n",
      "            Kyrgyzstan       Typica    French Roast     (110mm, 123⭐️),\n",
      "            Kazakhstan       Typica    French Roast     (19mm, 9⭐️),\n",
      "            Somalia          Typica    Dark Roast       (34mm, 24⭐️),\n",
      "            Barbados         Typica    Cinnamon Roast   (34mm, 23⭐️),\n",
      "            Cocos (Keeling)  Typica    Dark Roast       (30mm, 20⭐️),\n",
      "            Slovenia         Typica    Extra Dark Roast (101mm, 91⭐️),\n",
      "            Romania          Typica    Light Roast      (17mm, 7⭐️),\n",
      "            Western Sahara   Typica    Dark Roast       (107mm, 97⭐️),\n",
      "            Argentina        Typica    Blonde Roast     (31mm, 21⭐️),\n",
      "            Paraguay         Typica    Light Roast      (77mm, 66⭐️),\n",
      "            Guam             Typica    Vienna Roast     (78mm, 68⭐️),\n",
      "            Bhutan           Typica    French Roast     (40mm, 30⭐️)],\n",
      " 'MundoNovo': [Curaçao          MundoNovo Vienna Roast     (71mm, 67⭐️),\n",
      "               Poland           MundoNovo Blonde Roast     (80mm, 69⭐️),\n",
      "               Northern Mariana MundoNovo Vienna Roast     (178mm, 165⭐️),\n",
      "               China            MundoNovo Extra Dark Roast (136mm, 137⭐️),\n",
      "               Marshall Islands MundoNovo French Roast     (37mm, 27⭐️),\n",
      "               Niger            MundoNovo Cinnamon Roast   (93mm, 75⭐️),\n",
      "               Costa Rica       MundoNovo Extra Dark Roast (13mm, 3⭐️),\n",
      "               Switzerland      MundoNovo Dark Roast       (109mm, 97⭐️),\n",
      "               Canada           MundoNovo Blonde Roast     (141mm, 196⭐️),\n",
      "               Namibia          MundoNovo Medium Roast     (48mm, 38⭐️)],\n",
      " 'Robusta': [Papua New Guinea Robusta   Blonde Roast     (105mm, 95⭐️),\n",
      "             Ecuador          Robusta   Extra Dark Roast (64mm, 53⭐️),\n",
      "             Saint Kitts and  Robusta   Light Roast      (117mm, 107⭐️),\n",
      "             Armenia          Robusta   Cinnamon Roast   (100mm, 90⭐️),\n",
      "             Honduras         Robusta   French Roast     (15mm, 5⭐️),\n",
      "             Anguilla         Robusta   Extra Dark Roast (140mm, 129⭐️),\n",
      "             Faroe Islands    Robusta   Dark Roast       (119mm, 108⭐️),\n",
      "             Bahrain          Robusta   Breakfast Roast  (106mm, 95⭐️),\n",
      "             Finland          Robusta   Vienna Roast     (13mm, 20⭐️),\n",
      "             Yemen            Robusta   Vienna Roast     (67mm, 83⭐️),\n",
      "             Anguilla         Robusta   Vienna Roast     (10mm, 1⭐️),\n",
      "             Serbia           Robusta   Medium Roast     (86mm, 68⭐️)]}\n"
     ]
    }
   ],
   "source": [
    "import csv\n",
    "from pprint import pprint\n",
    "\n",
    "class Coffee:\n",
    "    def __init__(self, country, bean, roast, width, rating):\n",
    "        self.country = country\n",
    "        self.bean = bean\n",
    "        self.roast = roast\n",
    "        self.width = int(width)\n",
    "        self.rating = int(rating)\n",
    "    \n",
    "    def __repr__(self):\n",
    "        return f\"{self.country[:16]:<17}{self.bean:<10}{self.roast:<16} ({self.width}mm, {self.rating}⭐️)\"\n",
    "\n",
    "    \n",
    "beans = {}\n",
    "with open(\"coffee2.csv\") as file:\n",
    "    for item in csv.DictReader(file):\n",
    "        beans.setdefault(item[\"bean\"], []).append(Coffee(**item))\n",
    "\n",
    "w = 500\n",
    "\n",
    "beantypes = [*beans.keys()]\n",
    "\n",
    "for a in beantypes[0]:\n",
    "    for b in beantypes[1]:\n",
    "        for c in beantypes[2]:\n",
    "            for d in beantypes[3]:\n",
    "                pass\n"
   ]
  },
  {
   "cell_type": "code",
   "execution_count": 49,
   "id": "b1305abe-a7dd-4c8c-b43a-f10011f7ab61",
   "metadata": {
    "tags": []
   },
   "outputs": [
    {
     "name": "stdout",
     "output_type": "stream",
     "text": [
      "655\n",
      "Argentina Arabica   American Roast  (141mm, 196⭐️)\n",
      "Laos      Liberica  Light Roast     (154mm, 194⭐️)\n",
      "Ecuador   Excelsa   Espresso Roast  (125mm, 160⭐️)\n",
      "Rawanda   Robusta   Regular Roast   (67mm, 83⭐️)\n",
      "Turkey    Typica    Turkish Roast   (12mm, 22⭐️)\n",
      "                                    (0mm, 0⭐️)\n"
     ]
    }
   ],
   "source": [
    "import csv\n",
    "from itertools import product\n",
    "\n",
    "class Coffee:\n",
    "    def __init__(self, country, bean, roast, width, rating):\n",
    "        self.country = country\n",
    "        self.bean = bean\n",
    "        self.roast = roast\n",
    "        self.width = int(width)\n",
    "        self.rating = int(rating)\n",
    "    \n",
    "    def __repr__(self):\n",
    "        return f\"{self.country[:16]:<10}{self.bean:<10}{self.roast:<15} ({self.width}mm, {self.rating}⭐️)\"\n",
    "    \n",
    "class Shelf:\n",
    "    def __init__(self, coffees):\n",
    "        self.coffees = coffees\n",
    "        \n",
    "    def total_people(self):\n",
    "        return sum(x.rating for x in self.coffees)\n",
    "        \n",
    "    def __repr__(self):\n",
    "        return \"\\n\".join(f\"{i}\" for i in sorted(self.coffees, key=lambda x: x.rating, reverse=True))\n",
    "\n",
    "beans = {}\n",
    "roasts = set()\n",
    "with open(\"coffee2.csv\") as file:\n",
    "    for item in csv.DictReader(file):\n",
    "        roasts.add(item[\"roast\"])\n",
    "        beans.setdefault(item[\"bean\"], [Coffee(\"\",\"\",\"\",0,0)]).append(Coffee(**item))\n",
    "\n",
    "w = 500\n",
    "\n",
    "beantypes = [*beans.values()]\n",
    "\n",
    "bestval = -1\n",
    "best = Shelf([])\n",
    "\n",
    "for combo in product(*beantypes):\n",
    "    if sum(bean.width for bean in combo) > w:\n",
    "        continue\n",
    "    if len(combo) != len({bean.roast for bean in combo}):\n",
    "        continue\n",
    "    val = sum(bean.rating for bean in combo)\n",
    "    if val > bestval:\n",
    "        bestval = val\n",
    "        best = Shelf(combo)\n",
    "\n",
    "print(bestval)\n",
    "print(best)"
   ]
  },
  {
   "cell_type": "code",
   "execution_count": 44,
   "id": "2a7f7d22-7898-4aed-90ac-e80065351834",
   "metadata": {
    "tags": []
   },
   "outputs": [
    {
     "data": {
      "text/plain": [
       "499"
      ]
     },
     "execution_count": 44,
     "metadata": {},
     "output_type": "execute_result"
    }
   ],
   "source": [
    "sum(b.width for b in best.coffees)"
   ]
  },
  {
   "cell_type": "code",
   "execution_count": 50,
   "id": "e3904750-37d9-4760-aea1-3e8e3100a7af",
   "metadata": {
    "tags": []
   },
   "outputs": [
    {
     "name": "stdout",
     "output_type": "stream",
     "text": [
      "634\n",
      "Canada    MundoNovo Blonde Roast    (141mm, 196⭐️)\n",
      "Chile     Liberica  Dark Roast      (154mm, 194⭐️)\n",
      "Iceland   Typica    Medium Roast    (125mm, 160⭐️)\n",
      "Yemen     Robusta   Vienna Roast    (67mm, 83⭐️)\n",
      "Iceland   Excelsa   Breakfast Roast (11mm, 1⭐️)\n",
      "                                    (0mm, 0⭐️)\n"
     ]
    }
   ],
   "source": [
    "beans = {}\n",
    "roasts = set()\n",
    "with open(\"input2.txt\") as file:\n",
    "    for item in csv.DictReader(file):\n",
    "        roasts.add(item[\"roast\"])\n",
    "        beans.setdefault(item[\"bean\"], [Coffee(\"\",\"\",\"\",0,0)]).append(Coffee(**item))\n",
    "\n",
    "w = 500\n",
    "\n",
    "beantypes = [*beans.values()]\n",
    "\n",
    "bestval = -1\n",
    "best = Shelf([])\n",
    "\n",
    "for combo in product(*beantypes):\n",
    "    if sum(bean.width for bean in combo) > w:\n",
    "        continue\n",
    "    if len(combo) != len({bean.roast for bean in combo}):\n",
    "        continue\n",
    "    val = sum(bean.rating for bean in combo)\n",
    "    if val > bestval:\n",
    "        bestval = val\n",
    "        best = Shelf(combo)\n",
    "\n",
    "print(bestval)\n",
    "print(best)"
   ]
  },
  {
   "cell_type": "code",
   "execution_count": null,
   "id": "14d83e51-72c5-4b8d-854f-f1f17927c9ab",
   "metadata": {},
   "outputs": [],
   "source": []
  },
  {
   "cell_type": "code",
   "execution_count": null,
   "id": "7f9bbf17-16b8-4280-a3ce-fd12fac4110a",
   "metadata": {},
   "outputs": [],
   "source": []
  },
  {
   "cell_type": "code",
   "execution_count": null,
   "id": "bdbff987-f8bf-4452-a84b-0c567c523239",
   "metadata": {},
   "outputs": [],
   "source": []
  }
 ],
 "metadata": {
  "kernelspec": {
   "display_name": "Python 3 (ipykernel)",
   "language": "python",
   "name": "python3"
  },
  "language_info": {
   "codemirror_mode": {
    "name": "ipython",
    "version": 3
   },
   "file_extension": ".py",
   "mimetype": "text/x-python",
   "name": "python",
   "nbconvert_exporter": "python",
   "pygments_lexer": "ipython3",
   "version": "3.10.9"
  }
 },
 "nbformat": 4,
 "nbformat_minor": 5
}
