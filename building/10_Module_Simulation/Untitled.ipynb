{
 "cells": [
  {
   "cell_type": "markdown",
   "id": "e325f410-25b5-48db-b283-aebd3c607a25",
   "metadata": {},
   "source": [
    "# BUILDING"
   ]
  },
  {
   "cell_type": "code",
   "execution_count": 149,
   "id": "fea52049-e598-407b-bebe-48044ff58529",
   "metadata": {
    "tags": []
   },
   "outputs": [],
   "source": [
    "numbers = []"
   ]
  },
  {
   "cell_type": "code",
   "execution_count": 162,
   "id": "f2ac5715-85e5-48ad-be3d-9821151d135a",
   "metadata": {
    "tags": []
   },
   "outputs": [
    {
     "name": "stdout",
     "output_type": "stream",
     "text": [
      "(17, 'S sending 1 to Z')\n",
      "(48, 'S sending 1 to Z')\n",
      "17 31\n"
     ]
    }
   ],
   "source": [
    "import re\n",
    "\n",
    "from typing import List, Tuple\n",
    "from math import prod\n",
    "\n",
    "\n",
    "class Module:\n",
    "    def __init__(self, kind: str, name: str, dest: str):\n",
    "        self.name = name\n",
    "        self.relay = dest.split(\", \")\n",
    "        self.mem = {0:0, 1:0} if kind == \"&\" else 0\n",
    "        self.kind = kind\n",
    "            \n",
    "    def send(self, o: str, pulse: int) -> List[Tuple[str, int, str]]:\n",
    "        if self.kind == \"&\":\n",
    "            self.mem[pulse] += 1\n",
    "            sending = int(self.mem[1] > self.mem[0])\n",
    "            return [(self.name, sending, i) for i in self.relay]\n",
    "        elif self.kind == \"%\":\n",
    "            if not pulse:\n",
    "                self.mem = abs(self.mem - 1)\n",
    "                return [(self.name, self.mem, i) for i in self.relay]\n",
    "        elif self.kind == \"#\":\n",
    "            if not pulse:\n",
    "                #self.mem = abs(self.mem - 1)\n",
    "                return [(self.name, self.mem, i) for i in self.relay]\n",
    "        else:\n",
    "            return [(self.name, pulse, i) for i in self.relay]\n",
    "        return []\n",
    "\n",
    "\n",
    "    def __repr__(self):\n",
    "        return f\"{self.kind}{self.relay}\"\n",
    "\n",
    "modules = {}\n",
    "\n",
    "txt = \"\"\"#X -> A\n",
    "#A -> B\n",
    "%B -> C\n",
    "%C -> D\n",
    "%D -> E\n",
    "&E -> F, H\n",
    "%F -> G\n",
    "%G -> B\n",
    "%H -> I\n",
    "%I -> J\n",
    "&J -> K\n",
    "&K -> L\n",
    "&L -> M\n",
    "&M -> N\n",
    "&N -> O\n",
    "&O -> P\n",
    "&P -> Q\n",
    "&Q -> R\n",
    "&R -> S\n",
    "S -> Z\"\"\"\n",
    "            \n",
    "for x in txt.split(\"\\n\"):\n",
    "    kind, name, dest = re.match(r\"([%&#]?)(\\w+) -> (.*)\", x).groups()\n",
    "    if name == \"#X\":\n",
    "        initial = dest.split(\", \")\n",
    "        continue\n",
    "    modules[name] = Module(kind, name, dest)\n",
    "            \n",
    "history = []\n",
    "n = 1\n",
    "\n",
    "while len(history) < 2:\n",
    "    n += 1\n",
    "    queue = [(\"start\", 0, d) for d in initial]\n",
    "    while queue:\n",
    "        orig, pulse, dest = queue.pop(0)\n",
    "        if dest == \"Z\" and pulse == 1:\n",
    "                history.append((n, f\"{orig} sending {pulse} to {dest}\"))\n",
    "        if dest in modules:\n",
    "            queue.extend(modules[dest].send(orig, pulse))\n",
    "            \n",
    "    if n == 1_000_000: break\n",
    "\n",
    "print(*history, sep=\"\\n\")\n",
    "print(history[0][0], history[1][0] - history[0][0])\n",
    "numbers += [(history[0][0], history[1][0] - history[0][0])]"
   ]
  },
  {
   "cell_type": "code",
   "execution_count": 151,
   "id": "f7d3921b-feb6-4ea2-b24d-420bb15b27a6",
   "metadata": {
    "tags": []
   },
   "outputs": [
    {
     "name": "stdout",
     "output_type": "stream",
     "text": [
      "(9, 'R sending 1 to S')\n",
      "(25, 'R sending 1 to S')\n",
      "9 16\n"
     ]
    }
   ],
   "source": [
    "modules = {}\n",
    "\n",
    "txt = \"\"\"#X -> A\n",
    "#A -> B\n",
    "%B -> C\n",
    "%C -> D\n",
    "%D -> E\n",
    "&E -> F, H\n",
    "%F -> G\n",
    "%H -> I\n",
    "&I -> J\n",
    "&J -> K\n",
    "&K -> L\n",
    "&L -> M\n",
    "&M -> N\n",
    "&N -> O\n",
    "&O -> P\n",
    "&P -> Q\n",
    "&Q -> R\n",
    "&R -> S\"\"\"\n",
    "            \n",
    "for x in txt.split(\"\\n\"):\n",
    "    kind, name, dest = re.match(r\"([%&#]?)(\\w+) -> (.*)\", x).groups()\n",
    "    if name == \"#X\":\n",
    "        initial = dest.split(\", \")\n",
    "        continue\n",
    "    modules[name] = Module(kind, name, dest)\n",
    "            \n",
    "history = []\n",
    "n = 1\n",
    "\n",
    "while len(history) < 2:\n",
    "    n += 1\n",
    "    queue = [(\"start\", 0, d) for d in initial]\n",
    "    while queue:\n",
    "        orig, pulse, dest = queue.pop(0)\n",
    "        if dest == \"S\" and pulse == 1:\n",
    "                history.append((n, f\"{orig} sending {pulse} to {dest}\"))\n",
    "        if dest in modules:\n",
    "            queue.extend(modules[dest].send(orig, pulse))\n",
    "            \n",
    "    if n == 1_000_000: break\n",
    "\n",
    "print(*history, sep=\"\\n\")\n",
    "print(history[0][0], history[1][0] - history[0][0])\n",
    "numbers += [(history[0][0], history[1][0] - history[0][0])]"
   ]
  },
  {
   "cell_type": "code",
   "execution_count": 152,
   "id": "ac99aee0-6dd5-4df1-90bf-1b0d0296843a",
   "metadata": {
    "tags": []
   },
   "outputs": [
    {
     "name": "stdout",
     "output_type": "stream",
     "text": [
      "(167, 'R sending 1 to S')\n",
      "(498, 'R sending 1 to S')\n",
      "167 331\n"
     ]
    }
   ],
   "source": [
    "modules = {}\n",
    "\n",
    "txt = \"\"\"#X -> A\n",
    "#A -> B\n",
    "&B -> C, G\n",
    "&C -> D\n",
    "&D -> E\n",
    "&E -> H\n",
    "%F -> E\n",
    "%G -> F\n",
    "%H -> I\n",
    "%I -> J\n",
    "%J -> K\n",
    "%K -> L\n",
    "%L -> M\n",
    "&M -> H, N\n",
    "%N -> O\n",
    "%O -> P\n",
    "%P -> Q\n",
    "%Q -> R\n",
    "&R -> S\"\"\"\n",
    "            \n",
    "for x in txt.split(\"\\n\"):\n",
    "    kind, name, dest = re.match(r\"([%&#]?)(\\w+) -> (.*)\", x).groups()\n",
    "    if name == \"#X\":\n",
    "        initial = dest.split(\", \")\n",
    "        continue\n",
    "    modules[name] = Module(kind, name, dest)\n",
    "            \n",
    "history = []\n",
    "n = 1\n",
    "\n",
    "while len(history) < 2:\n",
    "    n += 1\n",
    "    queue = [(\"start\", 0, d) for d in initial]\n",
    "    while queue:\n",
    "        orig, pulse, dest = queue.pop(0)\n",
    "        if dest == \"S\" and pulse == 1:\n",
    "                history.append((n, f\"{orig} sending {pulse} to {dest}\"))\n",
    "        if dest in modules:\n",
    "            queue.extend(modules[dest].send(orig, pulse))\n",
    "            \n",
    "    if n == 1_000_000: break\n",
    "\n",
    "print(*history, sep=\"\\n\")\n",
    "print(history[0][0], history[1][0] - history[0][0])\n",
    "numbers += [(history[0][0], history[1][0] - history[0][0])]"
   ]
  },
  {
   "cell_type": "code",
   "execution_count": 153,
   "id": "bbb4a7c4-7a15-4ea2-88bb-fb59ffed7846",
   "metadata": {
    "tags": []
   },
   "outputs": [
    {
     "name": "stdout",
     "output_type": "stream",
     "text": [
      "(17, 'R sending 1 to S')\n",
      "(40, 'R sending 1 to S')\n",
      "17 23\n"
     ]
    }
   ],
   "source": [
    "modules = {}\n",
    "\n",
    "txt = \"\"\"#X -> A\n",
    "#A -> B\n",
    "%B -> C\n",
    "%C -> D\n",
    "%D -> E\n",
    "&E -> F, H\n",
    "%F -> G\n",
    "%G -> B\n",
    "#H -> I\n",
    "%I -> J\n",
    "%J -> K\n",
    "&K -> L\n",
    "&L -> M\n",
    "&M -> H, N\n",
    "&N -> O\n",
    "&O -> P\n",
    "&P -> Q\n",
    "&Q -> R\n",
    "&R -> S\"\"\"\n",
    "            \n",
    "for x in txt.split(\"\\n\"):\n",
    "    kind, name, dest = re.match(r\"([%&#]?)(\\w+) -> (.*)\", x).groups()\n",
    "    if name == \"#X\":\n",
    "        initial = dest.split(\", \")\n",
    "        continue\n",
    "    modules[name] = Module(kind, name, dest)\n",
    "            \n",
    "history = []\n",
    "n = 1\n",
    "\n",
    "while len(history) < 2:\n",
    "    n += 1\n",
    "    queue = [(\"start\", 0, d) for d in initial]\n",
    "    while queue:\n",
    "        orig, pulse, dest = queue.pop(0)\n",
    "        if dest == \"S\" and pulse == 1:\n",
    "                history.append((n, f\"{orig} sending {pulse} to {dest}\"))\n",
    "        if dest in modules:\n",
    "            queue.extend(modules[dest].send(orig, pulse))\n",
    "            \n",
    "    if n == 1_000_000: break\n",
    "\n",
    "print(*history, sep=\"\\n\")\n",
    "print(history[0][0], history[1][0] - history[0][0])\n",
    "numbers += [(history[0][0], history[1][0] - history[0][0])]"
   ]
  },
  {
   "cell_type": "code",
   "execution_count": 154,
   "id": "a1e30238-7f3f-42f1-b021-0a8b65d5fbf6",
   "metadata": {
    "tags": []
   },
   "outputs": [
    {
     "name": "stdout",
     "output_type": "stream",
     "text": [
      "(58, 'R sending 1 to S')\n",
      "(163, 'R sending 1 to S')\n",
      "58 105\n"
     ]
    }
   ],
   "source": [
    "modules = {}\n",
    "\n",
    "txt = \"\"\"#X -> A\n",
    "#A -> B\n",
    "&B -> C, G\n",
    "&C -> D\n",
    "&D -> E\n",
    "&E -> H\n",
    "&F -> E\n",
    "&G -> F\n",
    "&H -> I\n",
    "%I -> J\n",
    "%J -> K\n",
    "%K -> L\n",
    "%L -> M\n",
    "&M -> H, N\n",
    "%N -> O\n",
    "%O -> P\n",
    "%P -> Q\n",
    "%Q -> R\n",
    "&R -> N, S\"\"\"\n",
    "            \n",
    "for x in txt.split(\"\\n\"):\n",
    "    kind, name, dest = re.match(r\"([%&#]?)(\\w+) -> (.*)\", x).groups()\n",
    "    if name == \"#X\":\n",
    "        initial = dest.split(\", \")\n",
    "        continue\n",
    "    modules[name] = Module(kind, name, dest)\n",
    "            \n",
    "history = []\n",
    "n = 1\n",
    "\n",
    "while len(history) < 2:\n",
    "    n += 1\n",
    "    queue = [(\"start\", 0, d) for d in initial]\n",
    "    while queue:\n",
    "        orig, pulse, dest = queue.pop(0)\n",
    "        if dest == \"S\" and pulse == 1:\n",
    "                history.append((n, f\"{orig} sending {pulse} to {dest}\"))\n",
    "        if dest in modules:\n",
    "            queue.extend(modules[dest].send(orig, pulse))\n",
    "            \n",
    "    if n == 1_000_000: break\n",
    "\n",
    "print(*history, sep=\"\\n\")\n",
    "print(history[0][0], history[1][0] - history[0][0])\n",
    "numbers += [(history[0][0], history[1][0] - history[0][0])]"
   ]
  },
  {
   "cell_type": "code",
   "execution_count": 339,
   "id": "44e4e966-5b9e-4e30-b9c3-562aa50981e8",
   "metadata": {
    "tags": []
   },
   "outputs": [
    {
     "data": {
      "text/plain": [
       "18"
      ]
     },
     "execution_count": 339,
     "metadata": {},
     "output_type": "execute_result"
    }
   ],
   "source": [
    "# Euclidian Algorithm (find GCD)\n",
    "\n",
    "def euclidian(a, b):\n",
    "    if not a%b:\n",
    "        return b\n",
    "    return euclidian(b, a%b)\n",
    "\n",
    "\n",
    "a = 432\n",
    "b = 126\n",
    "euclidian(a, b)\n",
    "    "
   ]
  },
  {
   "cell_type": "code",
   "execution_count": 156,
   "id": "256c4fe5-35d2-4670-ac08-96e3e8ae0c08",
   "metadata": {
    "tags": []
   },
   "outputs": [
    {
     "data": {
      "text/plain": [
       "34902793"
      ]
     },
     "execution_count": 156,
     "metadata": {},
     "output_type": "execute_result"
    }
   ],
   "source": [
    "from math import prod\n",
    "\n",
    "def extended_gcd(a, b):\n",
    "    if a == 0:\n",
    "        return b, 0, 1\n",
    "    gcd, x1, y1 = extended_gcd(b % a, a)\n",
    "    x = y1 - (b // a) * x1\n",
    "    y = x1\n",
    "    return gcd, x, y\n",
    "\n",
    "def mod_inverse(a, m):\n",
    "    gcd, x, _ = extended_gcd(a, m)\n",
    "    return x % m\n",
    "\n",
    "def crt(*equations):\n",
    "    a, mods = zip(*equations)\n",
    "    M = prod(mods)\n",
    "    c = [M//m for m in mods]\n",
    "    b = [mod_inverse(M, m) for m, M in zip(mods, c)]\n",
    "    return sum(prod(i) for i in zip(a, b, c)) % M\n",
    "\n",
    "crt(*numbers)"
   ]
  },
  {
   "cell_type": "code",
   "execution_count": 155,
   "id": "6f9df152-d76d-44a1-8c3d-630fa35f2bb1",
   "metadata": {
    "tags": []
   },
   "outputs": [
    {
     "data": {
      "text/plain": [
       "[(17, 31), (9, 16), (167, 331), (17, 23), (58, 105)]"
      ]
     },
     "execution_count": 155,
     "metadata": {},
     "output_type": "execute_result"
    }
   ],
   "source": [
    "numbers"
   ]
  },
  {
   "cell_type": "code",
   "execution_count": 164,
   "id": "1ef73e89-4205-41cf-adca-5daa4cdc1f2a",
   "metadata": {
    "tags": []
   },
   "outputs": [],
   "source": [
    "from random import shuffle\n",
    "\n",
    "with open(\"map.txt\") as f:\n",
    "    data = f.readlines()\n",
    "    \n",
    "shuffle(data)\n",
    "\n",
    "with open(\"map2.txt\", \"w\") as f:\n",
    "    f.writelines(data)"
   ]
  },
  {
   "cell_type": "markdown",
   "id": "26e9ef34-4c07-4304-bfdb-a1e8f6a8ff14",
   "metadata": {
    "tags": []
   },
   "source": [
    "# Solving"
   ]
  },
  {
   "cell_type": "code",
   "execution_count": null,
   "id": "f970027d-5cc4-4cd1-a123-b6e6564f77c8",
   "metadata": {},
   "outputs": [],
   "source": [
    "from typing import List, Tuple\n",
    "\n",
    "\n",
    "class Module:\n",
    "    def __init__(self, kind: str, name: str, dest: str):\n",
    "        self.kind = kind\n",
    "        self.name = name\n",
    "        self.relay = dest.split(\",\")\n",
    "        if kind in \"=#@\":\n",
    "            if kind == \"#\":\n",
    "                self.mem = dict.fromkeys([0,1], 0)\n",
    "            else: \n",
    "                self.mem = dict.fromkeys([\"aS\",\"eS\",\"iS\",\"oS\",\"uS\"], 0)\n",
    "        else:\n",
    "            self.mem = 0\n",
    "            \n",
    "    def send(self, o: str, pulse: int) -> List[Tuple[str, int, str]]:\n",
    "        if self.kind == \"#\":\n",
    "            self.mem[pulse] += 1\n",
    "            sending = int(self.mem[1] > self.mem[0])\n",
    "            return [(self.name, sending, i) for i in self.relay]\n",
    "        elif self.kind == \"!\":\n",
    "            if not pulse:\n",
    "                self.mem = abs(self.mem - 1)\n",
    "                return [(self.name, self.mem, i) for i in self.relay]\n",
    "        elif self.kind == \"_\":\n",
    "            if not pulse:\n",
    "                return [(self.name, self.mem, i) for i in self.relay]\n",
    "        elif self.kind == \"=\":\n",
    "            return [(self.name, pulse, i) for i in self.relay]\n",
    "        else: # self.kind == \"@\":\n",
    "            self.mem[o] = pulse\n",
    "            sending = int(all(v == 1 for _, v in self.mem.items()))\n",
    "            return [(self.name, sending, \"Z\")]\n",
    "        return []\n",
    "\n",
    "\n",
    "    def __repr__(self):\n",
    "        return f\"{self.kind}{self.relay}\"\n",
    "\n",
    "\n",
    "modules = {}\n",
    "\n",
    "with open(\"map.txt\") as f:\n",
    "    for line in f:\n",
    "        kind, name, dest = line.split()\n",
    "        if name == \"X\":\n",
    "            initial = dest.split(\",\")\n",
    "            continue\n",
    "        modules[name] = Module(kind, name, dest)\n",
    "            \n",
    "history = []\n",
    "n = 1\n",
    "\n",
    "while \"T sending 1 to Z\" not in history:\n",
    "    n += 1\n",
    "    queue = [(\"X\", 0, d) for d in initial]\n",
    "    while queue:\n",
    "        orig, pulse, dest = queue.pop(0)\n",
    "        # if dest == \"Z\" and pulse == 1:\n",
    "        history.append((n, f\"{orig} sending {pulse} to {dest}\"))\n",
    "        if dest in modules:\n",
    "            queue.extend(modules[dest].send(orig, pulse))\n",
    "            \n",
    "    if n == 10_000_000: break\n",
    "\n",
    "print(*history[-20:], sep=\"\\n\")"
   ]
  },
  {
   "cell_type": "code",
   "execution_count": 179,
   "id": "3548116f-bd6a-489f-b2af-f538e646b043",
   "metadata": {
    "tags": []
   },
   "outputs": [
    {
     "data": {
      "text/plain": [
       "{'aS': 0, 'eS': 0, 'iS': 0, 'oS': 0, 'uS': 0}"
      ]
     },
     "execution_count": 179,
     "metadata": {},
     "output_type": "execute_result"
    }
   ],
   "source": [
    "dict.fromkeys([\"aS\",\"eS\",\"iS\",\"oS\",\"uS\"], 0)"
   ]
  },
  {
   "cell_type": "code",
   "execution_count": null,
   "id": "c54389bd-371a-4560-b2e9-3132ca949eea",
   "metadata": {},
   "outputs": [],
   "source": []
  }
 ],
 "metadata": {
  "kernelspec": {
   "display_name": "Python 3 (ipykernel)",
   "language": "python",
   "name": "python3"
  },
  "language_info": {
   "codemirror_mode": {
    "name": "ipython",
    "version": 3
   },
   "file_extension": ".py",
   "mimetype": "text/x-python",
   "name": "python",
   "nbconvert_exporter": "python",
   "pygments_lexer": "ipython3",
   "version": "3.10.9"
  }
 },
 "nbformat": 4,
 "nbformat_minor": 5
}
