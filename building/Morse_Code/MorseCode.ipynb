{
 "cells": [
  {
   "cell_type": "code",
   "execution_count": 7,
   "id": "ea818281-23dd-4bdc-a04a-0f75bafdb8c6",
   "metadata": {
    "jupyter": {
     "source_hidden": true
    },
    "tags": []
   },
   "outputs": [],
   "source": [
    "table = {\n",
    "    \"A\": \"._\",\n",
    "    \"B\": \"_...\",\n",
    "    \"C\": \"_._.\",\n",
    "    \"D\": \"_..\",\n",
    "    \"E\": \".\",\n",
    "    \"F\": \".._.\",\n",
    "    \"G\": \"__.\",\n",
    "    \"H\": \"....\",\n",
    "    \"I\": \"..\",\n",
    "    \"J\": \".___\",\n",
    "    \"K\": \"_._\",\n",
    "    \"L\": \"._..\",\n",
    "    \"M\": \"__\",\n",
    "    \"N\": \"_.\",\n",
    "    \"O\": \"___\",\n",
    "    \"P\": \".__.\",\n",
    "    \"Q\": \"__._\",\n",
    "    \"R\": \"._.\",\n",
    "    \"S\": \"...\",\n",
    "    \"T\": \"_\",\n",
    "    \"U\": \".._\",\n",
    "    \"V\": \"..._\",\n",
    "    \"W\": \".__\",\n",
    "    \"X\": \"_.._\",\n",
    "    \"Y\": \"_.__\",\n",
    "    \"Z\": \"__..\",\n",
    "    \"1\": \".____\",\n",
    "    \"2\": \"..___\",\n",
    "    \"3\": \"...__\",\n",
    "    \"4\": \"...._\",\n",
    "    \"5\": \".....\",\n",
    "    \"6\": \"_....\",\n",
    "    \"7\": \"__...\",\n",
    "    \"8\": \"___..\",\n",
    "    \"9\": \"____.\",\n",
    "    \"0\": \"_____\",\n",
    "    \",\": \"__..__\",\n",
    "    \".\": \"._._._\",\n",
    "    \"?\": \"..__..\",\n",
    "    '\"': \"._.._.\",\n",
    "    \":\": \"___...\",\n",
    "    \"'\": \".____.\",\n",
    "    \"-\": \"_...._\",\n",
    "    \"/\": \"_.._.\",\n",
    "    \"(\": \"_.__.\",\n",
    "    \")\": \"_.__._\",\n",
    "    \"!\": \"_._.__\",\n",
    "    \" \": \"\\n\",\n",
    "}"
   ]
  },
  {
   "cell_type": "code",
   "execution_count": 8,
   "id": "82915949-4114-441d-ad1d-ddd5ff086f44",
   "metadata": {
    "tags": []
   },
   "outputs": [
    {
     "name": "stdout",
     "output_type": "stream",
     "text": [
      "_._.__ _._.__ _._.__ .... _._.__ .._ _._.__ __ _._.__ ._ _._.__ _. _._.__ _._.__ _._.__\n"
     ]
    }
   ],
   "source": [
    "def morse(s):\n",
    "    return \" \".join(table[x.upper()] for x in s)\n",
    "\n",
    "m = morse('!!!H!U!M!A!N!!!')\n",
    "print(m)\n",
    "\n",
    "# int(m.translate(m.maketrans('_.','10','|')), 2)"
   ]
  },
  {
   "cell_type": "code",
   "execution_count": 10,
   "id": "24c00e44-59c0-420a-9fd7-333d3efc0a21",
   "metadata": {
    "tags": []
   },
   "outputs": [
    {
     "name": "stdout",
     "output_type": "stream",
     "text": [
      "WE HAVE HEARD STORIES OF THIS ZORAK. WHAT IS ZORAK?\n"
     ]
    }
   ],
   "source": [
    "r = {v:k for k,v in table.items()}\n",
    "def r_morse(s):\n",
    "    return \" \".join(\"\".join(r[c] for c in word.split(\" \")) for word in s.split(\"\\n\"))\n",
    "m = \"\"\".__ .\n",
    ".... ._ ..._ .\n",
    ".... . ._ ._. _..\n",
    "... _ ___ ._. .. . ...\n",
    "___ .._.\n",
    "_ .... .. ...\n",
    "__.. ___ ._. ._ _._ ._._._\n",
    ".__ .... ._ _\n",
    ".. ...\n",
    "__.. ___ ._. ._ _._ ..__..\"\"\"\n",
    "print(r_morse(m))"
   ]
  },
  {
   "cell_type": "code",
   "execution_count": 175,
   "id": "cf4087cc-657f-4a16-9f4a-533906249d5d",
   "metadata": {
    "tags": []
   },
   "outputs": [
    {
     "data": {
      "text/plain": [
       "6446381969368269109995"
      ]
     },
     "execution_count": 175,
     "metadata": {},
     "output_type": "execute_result"
    }
   ],
   "source": [
    "l = [i.replace(\".\",\"0\").replace(\"_\",\"1\") for i in m.split(\" \")]\n",
    "int(\"\".join(l), 2)\n"
   ]
  },
  {
   "cell_type": "code",
   "execution_count": 182,
   "id": "fc0656dc-4a9a-499b-92e0-715822ee64f4",
   "metadata": {
    "tags": []
   },
   "outputs": [
    {
     "name": "stdout",
     "output_type": "stream",
     "text": [
      "644 ʄ  - 638 ɾ  - 196 Ä  - 936 Ψ  - 82 R  - 69 E  - 109 m  - 995 ϣ  - \n",
      "ʄɾÄΨREmϣ"
     ]
    }
   ],
   "source": [
    "out = \"644 638 196 936 82 69 109 995\"\n",
    "for o in out.split(\" \"):\n",
    "    print(o, chr(int(o)), \" - \", end = \"\")\n",
    "print()\n",
    "for o in out.split(\" \"):\n",
    "    print(chr(int(o)), end = \"\")"
   ]
  },
  {
   "cell_type": "code",
   "execution_count": 12,
   "id": "b5f1fa46-8354-4c02-b1be-694b7f482e4c",
   "metadata": {
    "tags": []
   },
   "outputs": [
    {
     "name": "stdout",
     "output_type": "stream",
     "text": [
      "['', '', '', '_..', '___', '_._', '._', '._.', '..', '._', '_.', '', '', '']\n",
      "DOKARIAN\n"
     ]
    }
   ],
   "source": [
    "# Zorak's Breed:\n",
    "breed = \"ØıŖʬĴ˅ˁ˚ʝģ\" #actual\n",
    "#breed = \"ʄɾÄΨREmϣ\" #test\n",
    "\n",
    "# Get the ascii number for the letters\n",
    "# -> 216 305 342 684 308 709 705 730 669 291\n",
    "breed = \"\".join(f\"{ord(x)}\" for x in breed)\n",
    "\n",
    "# Convert the number to binary\n",
    "# -> '10101110101110101110010101111110101110110101101101011010101011001010110110101110101011101011101011'\n",
    "breed = f\"{int(breed):b}\"\n",
    "\n",
    "# There's a note in the margin that says words begin with three ! marks and then have one ! between \n",
    "# each letter sent. You notice this pattern is apparent in the binary message you have:\n",
    "# -> sep = 101011 (! = _._.__)\n",
    "# -> ['', '', '', '100', '111', '101', '01', '010', '00', '01', '10', '', '', '']\n",
    "sep = morse(\"!\").replace(\".\", \"0\").replace(\"_\", \"1\")\n",
    "breed = breed.split(sep)\n",
    "\n",
    "# Convert binary to morse code symbols: . for 0 and _ for 1\n",
    "# -> ['', '', '', '_..', '___', '_._', '._', '._.', '..', '._', '_.', '', '', '']\n",
    "breed = [n.replace(\"0\", \".\").replace(\"1\", \"_\") for n in breed]\n",
    "print(breed)\n",
    "\n",
    "# Read the morse code letters from the dictionary of symbol to letter conversion (ignoring blanks)\n",
    "# -> 'DOKARIAN'\n",
    "breed = \"\".join(r_morse(n) for n in breed if n)\n",
    "\n",
    "# Breed in English is:\n",
    "print(breed)"
   ]
  },
  {
   "cell_type": "markdown",
   "id": "70d030d7-5ce1-43c7-bada-473f5e517888",
   "metadata": {
    "jupyter": {
     "source_hidden": true
    },
    "tags": []
   },
   "source": [
    "### Challenge X - Part One:\n",
    "    \n",
    "## <u>Morse De-Code</u>\n",
    "\n",
    "<div><p>Welcome to your first day aboard the STS Space Ghost, where you'll be venturing into the vastness<br>\n",
    "of space for the very first time. After settling into your cabin, your next stop is to meet with the<br>\n",
    "Officer on Deck who will provide you with your inaugural job assignment.</p>\n",
    "\n",
    "<p>To your surprise, you find yourself entrusted with the important task of communications decoding,<br>\n",
    "despite your limited experience in the field. Fortunately, a stroke of luck comes your way when you<br>\n",
    "recall that a significant portion of space communications is conducted using \n",
    "    <a href=\"https://en.wikipedia.org/wiki/Morse_code\">Morse Code</a>.</p>\n",
    "\n",
    "\n",
    "<p>Although you've heard of Morse Code in passing, your understanding of it is a bit hazy. With a<br>\n",
    "sense of urgency, you frantically search through your desk drawer, and lo and behold! Serendipity leads<br>\n",
    "you to a weathered booklet with yellowed pages bearing the title \"Deciphering Morse Code.\"<br>\n",
    "Inside, you discover a comprehensive table containing Letter to Morse Code translations, along with a<br>\n",
    "detailed guide on how your machine interprets the input code:\n",
    "\n",
    "<ul>\n",
    "    <li>Letters in the words will be seperated by spaces</li>\n",
    "    <li>Words will be seperated by new lines ( \\n )</li>\n",
    "    <li>Dashes will be represented by underscore characters ( _ )</li>\n",
    "    <li>Dots will be represented by decimal characters ( . )</li>\n",
    "    <li>Dots and dashes for each letter or character will not have spaces between them</li>\n",
    "</ul>\n",
    "</p></div>\n",
    "\n",
    "<div><table style=\"float:left\">\n",
    "<thead>\n",
    "<tr>\n",
    "<th style=\"text-align:center\">Letter</th>\n",
    "<th style=\"text-align:center\">Code</th>\n",
    "<th style=\"text-align:left\"></th>\n",
    "<th style=\"text-align:center\">Letter</th>\n",
    "<th style=\"text-align:center\">Code</th>\n",
    "<th style=\"text-align:left\"></th>\n",
    "<th style=\"text-align:center\">Letter</th>\n",
    "<th style=\"text-align:center\">Code</th>\n",
    "</tr>\n",
    "</thead>\n",
    "<tbody>\n",
    "<tr>\n",
    "<td style=\"text-align:center\">A</td>\n",
    "<td style=\"text-align:center\">. _</td>\n",
    "<td style=\"text-align:left\"></td>\n",
    "<td style=\"text-align:center\">K</td>\n",
    "<td style=\"text-align:center\">_ . _</td>\n",
    "<td style=\"text-align:left\"></td>\n",
    "<td style=\"text-align:center\">U</td>\n",
    "<td style=\"text-align:center\">. . _</td>\n",
    "</tr>\n",
    "<tr>\n",
    "<td style=\"text-align:center\">B</td>\n",
    "<td style=\"text-align:center\">_ . . .</td>\n",
    "<td style=\"text-align:left\"></td>\n",
    "<td style=\"text-align:center\">L</td>\n",
    "<td style=\"text-align:center\">. _ . .</td>\n",
    "<td style=\"text-align:left\"></td>\n",
    "<td style=\"text-align:center\">V</td>\n",
    "<td style=\"text-align:center\">. . . _</td>\n",
    "</tr>\n",
    "<tr>\n",
    "<td style=\"text-align:center\">C</td>\n",
    "<td style=\"text-align:center\">_ . _ .</td>\n",
    "<td style=\"text-align:left\"></td>\n",
    "<td style=\"text-align:center\">M</td>\n",
    "<td style=\"text-align:center\"><em>_ _</em></td>\n",
    "<td style=\"text-align:left\"></td>\n",
    "<td style=\"text-align:center\">W</td>\n",
    "<td style=\"text-align:center\">. _ _</td>\n",
    "</tr>\n",
    "<tr>\n",
    "<td style=\"text-align:center\">D</td>\n",
    "<td style=\"text-align:center\">_ . .</td>\n",
    "<td style=\"text-align:left\"></td>\n",
    "<td style=\"text-align:center\">N</td>\n",
    "<td style=\"text-align:center\">_ .</td>\n",
    "<td style=\"text-align:left\"></td>\n",
    "<td style=\"text-align:center\">X</td>\n",
    "<td style=\"text-align:center\">_ . . _</td>\n",
    "</tr>\n",
    "<tr>\n",
    "<td style=\"text-align:center\">E</td>\n",
    "<td style=\"text-align:center\">.</td>\n",
    "<td style=\"text-align:left\"></td>\n",
    "<td style=\"text-align:center\">O</td>\n",
    "<td style=\"text-align:center\">_ _ _</td>\n",
    "<td style=\"text-align:left\"></td>\n",
    "<td style=\"text-align:center\">Y</td>\n",
    "<td style=\"text-align:center\">_ . _ _</td>\n",
    "</tr>\n",
    "<tr>\n",
    "<td style=\"text-align:center\">F</td>\n",
    "<td style=\"text-align:center\">. . _ .</td>\n",
    "<td style=\"text-align:left\"></td>\n",
    "<td style=\"text-align:center\">P</td>\n",
    "<td style=\"text-align:center\">. _ _ .</td>\n",
    "<td style=\"text-align:left\"></td>\n",
    "<td style=\"text-align:center\">Z</td>\n",
    "<td style=\"text-align:center\">_ _ . .</td>\n",
    "</tr>\n",
    "<tr>\n",
    "<td style=\"text-align:center\">G</td>\n",
    "<td style=\"text-align:center\">_ _ .</td>\n",
    "<td style=\"text-align:left\"></td>\n",
    "<td style=\"text-align:center\">Q</td>\n",
    "<td style=\"text-align:center\">_ _ . _</td>\n",
    "<td style=\"text-align:left\"></td>\n",
    "<td style=\"text-align:center\">.</td>\n",
    "<td style=\"text-align:center\">. _ . _ . _</td>\n",
    "</tr>\n",
    "<tr>\n",
    "<td style=\"text-align:center\">H</td>\n",
    "<td style=\"text-align:center\">. . . .</td>\n",
    "<td style=\"text-align:left\"></td>\n",
    "<td style=\"text-align:center\">R</td>\n",
    "<td style=\"text-align:center\">. _ .</td>\n",
    "<td style=\"text-align:left\"></td>\n",
    "<td style=\"text-align:center\">?</td>\n",
    "<td style=\"text-align:center\">. . _ _ . .</td>\n",
    "</tr>\n",
    "<tr>\n",
    "<td style=\"text-align:center\">I</td>\n",
    "<td style=\"text-align:center\">. .</td>\n",
    "<td style=\"text-align:left\"></td>\n",
    "<td style=\"text-align:center\">S</td>\n",
    "<td style=\"text-align:center\">. . .</td>\n",
    "<td style=\"text-align:left\"></td>\n",
    "<td style=\"text-align:center\">!</td>\n",
    "<td style=\"text-align:center\">_ . _ . _ _</td>\n",
    "</tr>\n",
    "<tr>\n",
    "<td style=\"text-align:center\">J</td>\n",
    "<td style=\"text-align:center\">. _ _ _</td>\n",
    "<td style=\"text-align:left\"></td>\n",
    "<td style=\"text-align:center\">T</td>\n",
    "<td style=\"text-align:center\">_</td>\n",
    "<td style=\"text-align:left\"></td>\n",
    "<td style=\"text-align:center\">-</td>\n",
    "<td style=\"text-align:center\">_ . . . . _</td>\n",
    "</tr>\n",
    "</tbody>\n",
    "</table>\n",
    "<p><br></p>\n",
    "<p><em>\n",
    "    &emsp;This table shows the corresponding code for each letter<br> \n",
    "    &emsp;or symbol with spaces between each dot or dash for ease<br>\n",
    "    &emsp;of viewing. Remember, as per the rules of input, the<br>\n",
    "    &emsp;actual input will not contain spaces between the dots<br>\n",
    "    &emsp;and dashes for a single character\n",
    "</em></p>\n",
    "<p><br><br><br>\n",
    "    &emsp;Additional symbols and numerical digits are not required<br>\n",
    "    &emsp;for this challenge but can be included in your solution <br>\n",
    "    &emsp;if you would like.\n",
    "</p><br></div>\n",
    "\n",
    "#### For example:\n",
    "<p><code>... .__. ._ _._. . \n",
    "__. .... ___ ... _</code><br>\n",
    "will result in \"SPACE GHOST\". Each word is seperated by a new line character<br>\n",
    "and each letter in the words \"SPACE\" and \"GHOST\" are seperated by a space, <br>\n",
    "but there are no spaces between the Morse Code dashes and dots of individual<br>\n",
    "letters: <br>\n",
    "\"O\" is <code>___</code> not <code>_ _ _</code><br>\n",
    "\"H\" is <code>.__.</code> not <code>. _ _ .</code></p>\n",
    "\n",
    "<div><p>You decide that you should quickly make a python script which reads the input from the machine<br>\n",
    "And decodes the Morse Code into text for you. Just in time to because the first message is<br>\n",
    "already coming in...</p>\n",
    "\n",
    "<p>Decode<br>\n",
    "<code>.__ . \n",
    ".... ._ ..._ . \n",
    ".... . ._ ._. _.. \n",
    "... _ ___ ._. .. . ... \n",
    "___ .._. \n",
    "_ .... .. ... \n",
    "__.. ___ ._. ._ _._ ._._._ \n",
    ".__ .... ._ _ \n",
    ".. ... \n",
    "__.. ___ ._. ._ _._ ..__..</code></p></div>\n",
    "\n",
    "<div><input type=\"text\" id=\"answer\" placeholder=\"The text is...\"></div>"
   ]
  },
  {
   "cell_type": "markdown",
   "id": "9d1dda80-22b2-48c3-b808-32a1c1dd0436",
   "metadata": {
    "jupyter": {
     "source_hidden": true
    },
    "tags": []
   },
   "source": [
    "### Challenge X - Part Two:\n",
    "    \n",
    "## <u>Something Alien...</u>\n",
    "\n",
    "<div><p>Just as you translate the question recieved, another source has sent a reply.<br>\n",
    "Perhaps this is the answer to the question previously asked? But the contents of the<br>\n",
    "incoming message cause your script to error. This is not Morse Code. This looks instead<br>\n",
    "like something alien.</p>\n",
    "    \n",
    "<p>Rather than panic and run to your supervisor, you set your mind toward solving this<br>\n",
    "problem on your own. This clearly cannot be the first time your machine has intercepted<br>\n",
    "alien communication. You re-read your Morse Code booklet to no avail and open up your<br>\n",
    "desk drawer to see if there is anything else that might be of use... Nothing.</p>\n",
    "    \n",
    "<p>Sighing heavily and putting your head in your hands, you catch a glimpse of a poster<br>\n",
    "on the wall beside your monitor. It is titled \"U.B.M. for Alien Communication\". Has this<br>\n",
    "been here the whole time? You continue reading...</p>\n",
    "    \n",
    "<p>The poster outlines that before converting from Morse Code to text, alien communication<br>\n",
    "must first be translated into Unicode, and then Binary.</p></div>\n",
    "<ol>\n",
    "<li>Convert each character to Unicode</li>\n",
    "<li>Concatenate those numbers to one large integer and convert that number to Binary</li>\n",
    "<li>Convert the Binary into Morse Code by considering the 0s dots and the 1s dashes</li>\n",
    "<li>Convert the Morse Code to text</li>\n",
    "</ol>\n",
    "\n",
    "<div><p>Here's an example of the alien input <code>ʄɾÄΨREmϣ</code>.</p>\n",
    "<ol>\n",
    "<li>Convert each character to Unicode<br>\n",
    "    You get <code>ʄ=644 ɾ=638 Ä=196 Ψ=936 R=82 E=69 m=109 ϣ=995</code></li>\n",
    "<li>Concatenate those numbers to one large integer and convert that number to Binary<br>\n",
    "    You get <code>1010111010111010110000101011001101011111010110110101110101011101011101011</code></li>\n",
    "<li>Convert the Binary into Morse Code by considering the 0s dots and the 1s dashes<br>\n",
    "    You get<code>_._.___._.___._.__...._._.__..__._._____._.__.__._.___._._.___._.___._.__</code></li>\n",
    "<li>Convert the Morse Code to text<br>\n",
    "    hmmm...</code></li>\n",
    "</ol>\n",
    "\n",
    "<p>Unlike before, there are no spaces between letters, or new lines between words.<br>\n",
    "Could this day get and more difficult? Wait... What's this? You notice a small asterisk<br>\n",
    "drawn next to this step in pen on the poster and a footnote handwritten at the bottom.</p>\n",
    "\n",
    "<p>\"Alien communication is always only one word.\" Well that certainly makes this easier... But what about the spaces?<br>\n",
    "You continue reading. \"Each recieved alien transmission begins with three <a href= \"https://en.wikipedia.org/wiki/Exclamation_mark\">Exclamation Marks</a> at the start and end<br>\n",
    "of the message with an additional exclamation mark between each letter.\"</p>\n",
    "\n",
    "<p>Taking this into consideration, your Morse Code actually looks like this:<br>\n",
    "<code>.... .._ __ ._ _.</code><br><br>\n",
    "Taking your original code<br>\n",
    "<code>_._.___._.___._.__...._._.__..__._._____._.__.__._.___._._.___._.___._.__</code><br>\n",
    "And separating the exclamation marks<br>\n",
    "<code> (!)   (!)   (!)  ....  (!) .._ (!) __  (!)  ._ (!)  _. (!)   (!)   (!)  </code><br>\n",
    "To get the result<br>\n",
    "<code>.... .._ __ ._ _.</code></p>\n",
    "\n",
    "\n",
    "<p>Translating <code>.... .._ __ ._ _.</code> into text gives you \"HUMAN\".<br>\n",
    "So <code>ʄɾÄΨREmϣ</code> translates to <code>HUMAN</code></p>\n",
    "\n",
    "<p><br>Ok. You think you've got the hang of this!<br>\n",
    "The message you recieved is <code>ØıŖʬĴ˅ˁ˚ʝģ</code><br>\n",
    "What is Zorak?</p>\n",
    "\n",
    "<div><input type=\"text\" id=\"answer\" placeholder=\"The answer is...\"></div>"
   ]
  },
  {
   "cell_type": "code",
   "execution_count": 1,
   "id": "847f9a33-ea97-43c4-ae6a-88f0642f2298",
   "metadata": {},
   "outputs": [
    {
     "data": {
      "text/plain": [
       "73"
      ]
     },
     "execution_count": 1,
     "metadata": {},
     "output_type": "execute_result"
    }
   ],
   "source": [
    "len('1010111010111010110000101011001101011111010110110101110101011101011101011')"
   ]
  },
  {
   "cell_type": "code",
   "execution_count": 5,
   "id": "6fb16cb8-cade-4726-8d75-d6e1f43d85f8",
   "metadata": {
    "tags": []
   },
   "outputs": [
    {
     "data": {
      "text/plain": [
       "12.166666666666666"
      ]
     },
     "execution_count": 5,
     "metadata": {},
     "output_type": "execute_result"
    }
   ],
   "source": [
    "73/6"
   ]
  },
  {
   "cell_type": "code",
   "execution_count": null,
   "id": "bec5683d-d72c-43af-857c-1554d45edcf6",
   "metadata": {},
   "outputs": [],
   "source": []
  }
 ],
 "metadata": {
  "kernelspec": {
   "display_name": "Python 3 (ipykernel)",
   "language": "python",
   "name": "python3"
  },
  "language_info": {
   "codemirror_mode": {
    "name": "ipython",
    "version": 3
   },
   "file_extension": ".py",
   "mimetype": "text/x-python",
   "name": "python",
   "nbconvert_exporter": "python",
   "pygments_lexer": "ipython3",
   "version": "3.10.9"
  }
 },
 "nbformat": 4,
 "nbformat_minor": 5
}
