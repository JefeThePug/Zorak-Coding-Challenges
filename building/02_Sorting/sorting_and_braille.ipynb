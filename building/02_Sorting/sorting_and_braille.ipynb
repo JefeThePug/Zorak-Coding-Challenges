{
 "cells": [
  {
   "cell_type": "code",
   "execution_count": null,
   "id": "b9b20dd0-8a4c-4747-a224-4f9d4fcac27d",
   "metadata": {
    "tags": []
   },
   "outputs": [],
   "source": [
    "sentence = \"Exploring_the_cosmos:_an_incredible_journey_through_space,_one_galaxy_at_a_time.\".upper()"
   ]
  },
  {
   "cell_type": "code",
   "execution_count": 205,
   "id": "265a8cea-b453-4b82-a20b-93c062c34276",
   "metadata": {
    "tags": []
   },
   "outputs": [
    {
     "name": "stdout",
     "output_type": "stream",
     "text": [
      "EXPLORING_THE_COSMOS:_AN_INCREDIBLE_JOURNEY_THROUGH_SPACE,_ONE_GALAXY_AT_A_TIME.\n",
      "interstellar\n",
      "\n",
      "[['Eeu', '1', 'E', '3'], ['Xin', '1', 'H', '5'], ['Pormare', '1', 'K', '3'], ['Llorem', '1', 'M', '8'], ['Oplacerat', '1', 'N', '2'], ['Rluctus', '1', 'V', '3'], ['Iurna', '2', 'D', '3'], ['Nnon', '2', 'E', '4'], ['Gsagittis', '2', 'F', '6'], ['_iturpis', '2', 'P', '3'], ['Tdolor', '2', 'R', '8'], ['Hdonec', '2', 'S', '3'], ['Eviverra', '2', 'T', '4'], ['_nociosqu', '2', 'T', '6'], ['Cmalesuada', '2', 'X', '6'], ['Ovel', '3', 'D', '5'], ['Sest', '3', 'D', '8'], ['Mamet', '3', 'F', '5'], ['Oet', '3', 'G', '5'], ['Smaecenas', '3', 'T', '2'], [':aenean', '3', 'Y', '4'], ['_tenenatis', '4', 'B', '5'], ['Anatoque', '4', 'G', '2'], ['Ncubilia', '4', 'Q', '7'], ['_emoletie', '4', 'S', '8'], ['Imoletie', '5', 'A', '1'], ['Ncommodo', '5', 'A', '2'], ['Cdiam', '5', 'B', '2'], ['Rnulla', '5', 'B', '6'], ['Eturpis', '5', 'F', '7'], ['Dnisl', '5', 'P', '3'], ['Ialiquam', '5', 'Q', '7'], ['Bmattis', '5', 'X', '3'], ['Lvel', '5', 'X', '8'], ['Ediam', '5', 'Z', '4'], ['_rharetra', '6', 'A', '3'], ['Jsem', '6', 'B', '5'], ['Opurus', '6', 'H', '2'], ['Uipsum', '6', 'J', '4'], ['Rmetus', '6', 'O', '4'], ['Nhabitant', '7', 'D', '6'], ['Elacus', '7', 'E', '7'], ['Ydonec', '7', 'K', '1'], ['_saac', '7', 'L', '2'], ['Tin', '7', 'M', '5'], ['Hproin', '7', 'N', '3'], ['Rplacerat', '7', 'O', '7'], ['Ophasellus', '7', 'Q', '3'], ['Ulectus', '7', 'R', '2'], ['Gerat', '7', 'R', '7'], ['Henim', '7', 'T', '3'], ['_teneque', '7', 'U', '4'], ['Ssociis', '7', 'X', '4'], ['Pmauris', '7', 'X', '6'], ['Aconsequat', '8', 'B', '2'], ['Cauctor', '8', 'B', '3'], ['Eut', '8', 'B', '5'], [',neque', '8', 'C', '4'], ['_edonec', '8', 'E', '5'], ['Osem', '8', 'G', '1'], ['Ndonec', '8', 'H', '6'], ['Efaucibus', '8', 'J', '2'], ['_lenim', '8', 'P', '7'], ['Gclass', '8', 'R', '2'], ['Aconvallis', '8', 'U', '6'], ['Lconsectetuer', '8', 'V', '6'], ['Aornare', '8', 'Y', '7'], ['Xsodales', '8', 'Z', '3'], ['Ysem', '9', 'C', '2'], ['_listique', '9', 'C', '7'], ['Asociis', '9', 'F', '6'], ['Tat', '9', 'F', '7'], ['_aet', '9', 'H', '2'], ['Aligula', '9', 'H', '5'], ['_rpode', '9', 'M', '8'], ['Tfermentum', '9', 'P', '2'], ['Itempor', '9', 'W', '5'], ['Msit', '10', 'M', '3'], ['Eat', '10', 'P', '7'], ['.duis', '10', 'R', '6']]\n"
     ]
    }
   ],
   "source": [
    "from random import shuffle\n",
    "import csv\n",
    "\n",
    "# commented code was for creating the file\n",
    "\n",
    "with open(\"manual.csv\") as f:\n",
    "    # next(f)\n",
    "    # data = [[int(i) if i.isnumeric() else \"\".join(c for c in i if c.isalpha()).title() for i in p.split(\";\")] for p in f.read().strip().split(\"\\n\")]\n",
    "    csv_reader = csv.reader(f)\n",
    "    header = next(csv_reader)\n",
    "    data = [row for row in csv_reader]\n",
    "\n",
    "def custom_sort(entry):\n",
    "    return int(entry[1]), entry[2].lower(), int(entry[3])\n",
    "\n",
    "sorted_data = sorted(data, key=custom_sort)\n",
    "\n",
    "# for i, letter in enumerate(sentence):\n",
    "#     sorted_data[i][0] = letter + sorted_data[i][0].lower()\n",
    "    \n",
    "print(*[x[0][0] for x in sorted_data], sep=\"\")\n",
    "# Easter Egg?\n",
    "print(*[word[1] for x in sorted_data if (word:=x[0])[0] == \"_\"], sep=\"\")\n",
    "\n",
    "# for _ in range(4):\n",
    "#     shuffle(sorted_data)\n",
    "    \n",
    "# with open('output.csv', 'w') as file:\n",
    "#     writer = csv.writer(file)\n",
    "#     writer.writerows(sorted_data)\n",
    "print()\n",
    "print(sorted_data)"
   ]
  },
  {
   "cell_type": "code",
   "execution_count": null,
   "id": "ca7e65d8-99c9-42e0-b5ba-d57628511ebe",
   "metadata": {},
   "outputs": [],
   "source": []
  },
  {
   "cell_type": "code",
   "execution_count": 4,
   "id": "ac3fe0b7-f843-49ab-823a-7488938e669a",
   "metadata": {
    "tags": []
   },
   "outputs": [
    {
     "name": "stdout",
     "output_type": "stream",
     "text": [
      "{'A': '⠁', 'B': '⠃', 'C': '⠉', 'D': '⠙', 'E': '⠑', 'F': '⠋', 'G': '⠛', 'H': '⠓', 'I': '⠊', 'J': '⠚', 'K': '⠅', 'L': '⠇', 'M': '⠍', 'N': '⠝', 'O': '⠕', 'P': '⠏', 'Q': '⠟', 'R': '⠗', 'S': '⠎', 'T': '⠞', 'U': '⠥', 'V': '⠧', 'W': '⠺', 'X': '⠭', 'Y': '⠽', 'Z': '⠵'}\n"
     ]
    }
   ],
   "source": [
    "braille_text = {\n",
    "    'A': '⠁', 'B': '⠃', 'C': '⠉', 'D': '⠙', 'E': '⠑', 'F': '⠋', 'G': '⠛', \n",
    "    'H': '⠓', 'I': '⠊', 'J': '⠚', 'K': '⠅', 'L': '⠇', 'M': '⠍', 'N': '⠝', \n",
    "    'O': '⠕', 'P': '⠏', 'Q': '⠟', 'R': '⠗', 'S': '⠎', 'T': '⠞', 'U': '⠥', \n",
    "    'V': '⠧', 'W': '⠺', 'X': '⠭', 'Y': '⠽', 'Z': '⠵'\n",
    "}\n",
    "print(braille_text)"
   ]
  },
  {
   "cell_type": "code",
   "execution_count": 5,
   "id": "51935188-f144-4628-a90b-a4172a593c59",
   "metadata": {
    "tags": []
   },
   "outputs": [],
   "source": [
    "braille = {\n",
    "    \"A\": [1,0,0,0,0,0], \"B\": [1,0,1,0,0,0], \"C\": [1,1,0,0,0,0], \"D\": [1,1,0,1,0,0],\n",
    "    \"E\": [1,0,0,1,0,0], \"F\": [1,1,1,0,0,0], \"G\": [1,1,1,1,0,0], \"H\": [1,0,1,1,0,0],\n",
    "    \"I\": [0,1,1,0,0,0], \"J\": [0,1,1,1,0,0], \"K\": [1,0,0,0,1,0], \"L\": [1,0,1,0,1,0],\n",
    "    \"M\": [1,1,0,0,1,0], \"N\": [1,1,0,1,1,0], \"O\": [1,0,0,1,1,0], \"P\": [1,1,1,0,1,0],\n",
    "    \"Q\": [1,1,1,1,1,0], \"R\": [1,0,1,1,1,0], \"S\": [0,1,1,0,1,0], \"T\": [0,1,1,1,1,0],\n",
    "    \"U\": [1,0,0,0,1,1], \"V\": [1,0,1,0,1,1], \"W\": [0,1,1,1,0,1], \"X\": [1,1,0,0,1,1],\n",
    "    \"Y\": [1,1,0,1,1,1], \"Z\": [1,0,0,1,1,1], \" \": [0,0,0,0,0,0], \"?\": [0,0,1,1,1,1],\n",
    "}"
   ]
  },
  {
   "cell_type": "code",
   "execution_count": 16,
   "id": "84f6dd5c-35a7-49cf-bc28-7ab1b3983c11",
   "metadata": {
    "tags": []
   },
   "outputs": [
    {
     "name": "stdout",
     "output_type": "stream",
     "text": [
      "🔵 🔵 🔵 ⚪ 🔵 🔵 🔵 ⚪ ⚪ 🔵 ⚪ ⚪ 🔵 🔵 🔵 ⚪ 🔵 ⚪ 🔵 ⚪ ⚪ ⚪ 🔵 🔵 🔵 ⚪ 🔵 🔵 ⚪ 🔵 ⚪ ⚪ 🔵 🔵 ⚪ 🔵 ⚪ 🔵 ⚪ 🔵 ⚪ 🔵 🔵 ⚪\n",
      "⚪ ⚪ ⚪ ⚪ ⚪ 🔵 ⚪ 🔵 🔵 🔵 ⚪ ⚪ ⚪ 🔵 ⚪ 🔵 ⚪ ⚪ 🔵 🔵 ⚪ ⚪ ⚪ 🔵 ⚪ 🔵 ⚪ ⚪ 🔵 🔵 ⚪ ⚪ ⚪ ⚪ 🔵 ⚪ 🔵 ⚪ 🔵 ⚪ 🔵 ⚪ ⚪ 🔵\n",
      "⚪ ⚪ ⚪ ⚪ ⚪ ⚪ ⚪ ⚪ 🔵 ⚪ ⚪ ⚪ 🔵 🔵 🔵 ⚪ 🔵 🔵 🔵 ⚪ ⚪ ⚪ 🔵 ⚪ ⚪ ⚪ 🔵 🔵 🔵 ⚪ ⚪ ⚪ 🔵 ⚪ ⚪ ⚪ 🔵 ⚪ 🔵 ⚪ ⚪ ⚪ 🔵 ⚪\n",
      "🔵 🔵 ⚪ ⚪ ⚪ 🔵 ⚪ 🔵 ⚪ ⚪ ⚪ 🔵 🔵 🔵 ⚪ ⚪ ⚪ 🔵 🔵 ⚪ 🔵 ⚪ ⚪ ⚪ 🔵 🔵 🔵 ⚪ 🔵 ⚪ 🔵 🔵 🔵 ⚪ ⚪ ⚪ 🔵 ⚪ 🔵 ⚪ 🔵 ⚪ 🔵 🔵\n",
      "⚪ 🔵 ⚪ ⚪ 🔵 ⚪ 🔵 ⚪ ⚪ ⚪ 🔵 ⚪ ⚪ 🔵 ⚪ ⚪ 🔵 🔵 🔵 🔵 ⚪ 🔵 ⚪ ⚪ ⚪ ⚪ ⚪ ⚪ 🔵 🔵 🔵 🔵 ⚪ 🔵 ⚪ ⚪ 🔵 🔵 ⚪ 🔵 🔵 ⚪ ⚪ 🔵\n",
      "🔵 ⚪ ⚪ ⚪ ⚪ ⚪ 🔵 ⚪ ⚪ ⚪ ⚪ ⚪ 🔵 ⚪ ⚪ ⚪ 🔵 ⚪ ⚪ ⚪ ⚪ ⚪ ⚪ ⚪ ⚪ ⚪ ⚪ ⚪ 🔵 ⚪ ⚪ ⚪ 🔵 ⚪ ⚪ ⚪ ⚪ ⚪ 🔵 ⚪ 🔵 ⚪ ⚪ ⚪\n"
     ]
    }
   ],
   "source": [
    "word = \"CADET YOUR NEXT MISSION IS IN THE CARGO HOLD\"\n",
    "lw = len(word)//2\n",
    "display = []\n",
    "for i in range(2):\n",
    "    for row in range(0,6,2):\n",
    "        result = [\" \".join(\"⚪🔵\"[x] for x in braille[c][row:row+2]) for c in word[i*lw: i*lw+lw]]\n",
    "        display.append(result)\n",
    "        print(*result, sep=\" \")"
   ]
  },
  {
   "cell_type": "code",
   "execution_count": 17,
   "id": "a19325a4-7a34-4883-aabc-db9316604cc3",
   "metadata": {
    "tags": []
   },
   "outputs": [
    {
     "name": "stdout",
     "output_type": "stream",
     "text": [
      "11101110010011101010001110110100110101010110\n",
      "00000101110001010011000101001100001010101001\n",
      "00000000100011101110001000111000100010100010\n",
      "11000101000111000110100011101011100010101011\n",
      "01001010001001001111010000001111010011011001\n",
      "10000010000010001000000000001000100000101000\n",
      "1: 16376345087318 - 2: 396530860713 - 3: 38355044514 - 4: 13545363126443 - 5: 5095160870105 - 6: 8935813711912\n"
     ]
    }
   ],
   "source": [
    "trans = str.maketrans(\"🔵⚪\",\"10\",\" \")\n",
    "print(*[\"\".join(row).translate(trans) for row in display], sep=\"\\n\")\n",
    "int_vals_h = [int(\"\".join(row).translate(trans), 2) for row in display]\n",
    "print(*[f\"{i}: {val}\" for i, val in enumerate(int_vals_h, 1)], sep=\" - \")"
   ]
  },
  {
   "cell_type": "code",
   "execution_count": 18,
   "id": "2ed5befd-fa63-4166-a904-9cab93b4e838",
   "metadata": {
    "tags": []
   },
   "outputs": [
    {
     "name": "stdout",
     "output_type": "stream",
     "text": [
      "⠉⠁⠙⠑⠞\t⠽⠕⠥⠗\t⠝⠑⠭⠞\t⠍⠊⠎⠎⠊⠕⠝\t⠊⠎\t⠊⠝\t⠞⠓⠑\t⠉⠁⠗⠛⠕\t⠓⠕⠇⠙\n"
     ]
    }
   ],
   "source": [
    "print(*[\"\".join(braille_text[c] for c in w)for w in word.split()], sep=\"\\t\")"
   ]
  },
  {
   "cell_type": "code",
   "execution_count": 20,
   "id": "9dd6b6f1-3626-42d9-9555-f437699f273c",
   "metadata": {
    "tags": []
   },
   "outputs": [
    {
     "name": "stdout",
     "output_type": "stream",
     "text": [
      "100101\n",
      "100110\n",
      "100000\n",
      "000000\n",
      "100010\n",
      "110100\n",
      "100011\n",
      "010100\n",
      "011000\n",
      "110000\n",
      "000010\n",
      "000100\n",
      "101101\n",
      "111110\n",
      "101000\n",
      "010000\n",
      "101011\n",
      "001110\n",
      "111110\n",
      "010010\n",
      "000100\n",
      "000010\n",
      "101000\n",
      "110000\n",
      "100100\n",
      "010100\n",
      "101100\n",
      "101000\n",
      "011111\n",
      "110010\n",
      "000110\n",
      "000110\n",
      "101101\n",
      "100010\n",
      "010000\n",
      "100000\n",
      "011110\n",
      "100010\n",
      "011101\n",
      "100010\n",
      "010111\n",
      "100000\n",
      "101100\n",
      "010110\n",
      "1: 37 - 2: 38 - 3: 32 - 4: 0 - 5: 34 - 6: 52 - 7: 35 - 8: 20 - 9: 24 - 10: 48 - 11: 2 - 12: 4 - 13: 45 - 14: 62 - 15: 40 - 16: 16 - 17: 43 - 18: 14 - 19: 62 - 20: 18 - 21: 4 - 22: 2 - 23: 40 - 24: 48 - 25: 36 - 26: 20 - 27: 44 - 28: 40 - 29: 31 - 30: 50 - 31: 6 - 32: 6 - 33: 45 - 34: 34 - 35: 16 - 36: 32 - 37: 30 - 38: 34 - 39: 29 - 40: 34 - 41: 23 - 42: 32 - 43: 44 - 44: 22\n"
     ]
    }
   ],
   "source": [
    "map = [\" \".join(i) for i in display]\n",
    "turned = [x for i in zip(*map) if (x:=\" \".join(i)).strip()]\n",
    "\n",
    "trans = str.maketrans(\"🔵⚪\",\"10\",\" \")\n",
    "print(*[row.translate(trans) for row in turned], sep=\"\\n\")\n",
    "int_vals = [int(row.translate(trans), 2) for row in turned]\n",
    "print(*[f\"{i}: {val}\" for i, val in enumerate(int_vals, 1)], sep=\" - \")"
   ]
  },
  {
   "cell_type": "code",
   "execution_count": 35,
   "id": "d6ca6fe0-6af4-470c-80ba-762b6563981f",
   "metadata": {
    "tags": []
   },
   "outputs": [],
   "source": [
    "lights = \"\"\"100101\n",
    "100110\n",
    "100000\n",
    "000000\n",
    "100010\n",
    "110100\n",
    "100011\n",
    "010100\n",
    "011000\n",
    "110000\n",
    "000010\n",
    "000100\n",
    "101101\n",
    "111110\n",
    "101000\n",
    "010000\n",
    "101011\n",
    "001110\n",
    "111110\n",
    "010010\n",
    "000100\n",
    "000010\n",
    "101000\n",
    "110000\n",
    "100100\n",
    "010100\n",
    "101100\n",
    "101000\n",
    "011111\n",
    "110010\n",
    "000110\n",
    "000110\n",
    "101101\n",
    "100010\n",
    "010000\n",
    "100000\n",
    "011110\n",
    "100010\n",
    "011101\n",
    "100010\n",
    "010111\n",
    "100000\n",
    "101100\n",
    "010110\n",
    "000000\n",
    "000000\n",
    "000000\n",
    "000000\n",
    "000000\n",
    "000000\n",
    "000000\n",
    "000000\"\"\""
   ]
  },
  {
   "cell_type": "code",
   "execution_count": 36,
   "id": "94470714-0d2a-4faa-9d16-822ede839e0f",
   "metadata": {},
   "outputs": [
    {
     "data": {
      "text/plain": [
       "[('000000', 'x'),\n",
       " ('111110', 'N'),\n",
       " ('000100', 'L'),\n",
       " ('100000', 'p'),\n",
       " ('100010', 'E'),\n",
       " ('000110', 'f'),\n",
       " ('100000', 'j'),\n",
       " ('000000', 'z'),\n",
       " ('010010', 'T'),\n",
       " ('000000', 'y'),\n",
       " ('100100', 'Y'),\n",
       " ('100000', 'C'),\n",
       " ('101101', 'M'),\n",
       " ('101000', 'W'),\n",
       " ('000000', 's'),\n",
       " ('010000', 'i'),\n",
       " ('101000', 'O'),\n",
       " ('010100', 'Z'),\n",
       " ('010111', 'o'),\n",
       " ('000010', 'K'),\n",
       " ('100011', 'G'),\n",
       " ('110010', 'd'),\n",
       " ('110100', 'F'),\n",
       " ('001110', 'R'),\n",
       " ('011111', 'c'),\n",
       " ('000100', 'U'),\n",
       " ('110000', 'J'),\n",
       " ('100010', 'h'),\n",
       " ('110000', 'X'),\n",
       " ('011000', 'I'),\n",
       " ('000010', 'V'),\n",
       " ('000000', 'u'),\n",
       " ('100010', 'l'),\n",
       " ('010000', 'P'),\n",
       " ('000000', 't'),\n",
       " ('101101', 'g'),\n",
       " ('101100', 'a'),\n",
       " ('101000', 'b'),\n",
       " ('100101', 'A'),\n",
       " ('010110', 'r'),\n",
       " ('100010', 'n'),\n",
       " ('011110', 'k'),\n",
       " ('000000', 'v'),\n",
       " ('111110', 'S'),\n",
       " ('010100', 'H'),\n",
       " ('101011', 'Q'),\n",
       " ('000000', 'D'),\n",
       " ('100110', 'B'),\n",
       " ('101100', 'q'),\n",
       " ('011101', 'm'),\n",
       " ('000000', 'w'),\n",
       " ('000110', 'e')]"
      ]
     },
     "execution_count": 36,
     "metadata": {},
     "output_type": "execute_result"
    }
   ],
   "source": [
    "from string import ascii_letters\n",
    "from random import shuffle\n",
    "\n",
    "light_data = [(light, c) for light, c in zip(lights.split(\"\\n\"), ascii_letters.swapcase())]\n",
    "sorted_light_data = light_data[:]\n",
    "\n",
    "for _ in range(5):\n",
    "    shuffle(light_data)\n",
    "    \n",
    "light_data"
   ]
  },
  {
   "cell_type": "code",
   "execution_count": 176,
   "id": "d529eb0c-0ee6-428a-9083-3a317d6bc470",
   "metadata": {
    "tags": []
   },
   "outputs": [],
   "source": [
    "# Solving"
   ]
  },
  {
   "cell_type": "code",
   "execution_count": 37,
   "id": "0748aff0-50bc-4735-82eb-7dd4f7e4c99b",
   "metadata": {},
   "outputs": [],
   "source": [
    "text = \"\".join(\"\".join(p for p in item) for item in light_data)\n",
    "braille = {\n",
    "    \"A\": [1,0,0,0,0,0], \"B\": [1,0,1,0,0,0], \"C\": [1,1,0,0,0,0], \"D\": [1,1,0,1,0,0],\n",
    "    \"E\": [1,0,0,1,0,0], \"F\": [1,1,1,0,0,0], \"G\": [1,1,1,1,0,0], \"H\": [1,0,1,1,0,0],\n",
    "    \"I\": [0,1,1,0,0,0], \"J\": [0,1,1,1,0,0], \"K\": [1,0,0,0,1,0], \"L\": [1,0,1,0,1,0],\n",
    "    \"M\": [1,1,0,0,1,0], \"N\": [1,1,0,1,1,0], \"O\": [1,0,0,1,1,0], \"P\": [1,1,1,0,1,0],\n",
    "    \"Q\": [1,1,1,1,1,0], \"R\": [1,0,1,1,1,0], \"S\": [0,1,1,0,1,0], \"T\": [0,1,1,1,1,0],\n",
    "    \"U\": [1,0,0,0,1,1], \"V\": [1,0,1,0,1,1], \"W\": [0,1,1,1,0,1], \"X\": [1,1,0,0,1,1],\n",
    "    \"Y\": [1,1,0,1,1,1], \"Z\": [1,0,0,1,1,1], \" \": [0,0,0,0,0,0],\n",
    "}"
   ]
  },
  {
   "cell_type": "code",
   "execution_count": 38,
   "id": "02455652-c792-425f-99b2-0232e8e5c397",
   "metadata": {
    "tags": []
   },
   "outputs": [
    {
     "data": {
      "text/plain": [
       "'000000x111110N000100L100000p100010E000110f100000j000000z010010T000000y100100Y100000C101101M101000W000000s010000i101000O010100Z010111o000010K100011G110010d110100F001110R011111c000100U110000J100010h110000X011000I000010V000000u100010l010000P000000t101101g101100a101000b100101A010110r100010n011110k000000v111110S010100H101011Q000000D100110B101100q011101m000000w000110e'"
      ]
     },
     "execution_count": 38,
     "metadata": {},
     "output_type": "execute_result"
    }
   ],
   "source": [
    "text"
   ]
  },
  {
   "cell_type": "code",
   "execution_count": 34,
   "id": "8cdedae7-94af-407e-b2a2-deaac9aaf79b",
   "metadata": {},
   "outputs": [
    {
     "name": "stdout",
     "output_type": "stream",
     "text": [
      "🔵 ⚪ ⚪ 🔵 ⚪ 🔵\n",
      "🔵 ⚪ ⚪ 🔵 🔵 ⚪\n",
      "🔵 ⚪ ⚪ ⚪ ⚪ ⚪\n",
      "⚪ ⚪ ⚪ ⚪ ⚪ ⚪\n",
      "🔵 ⚪ ⚪ ⚪ 🔵 ⚪\n",
      "🔵 🔵 ⚪ 🔵 ⚪ ⚪\n",
      "🔵 ⚪ ⚪ ⚪ 🔵 🔵\n",
      "⚪ 🔵 ⚪ 🔵 ⚪ ⚪\n",
      "⚪ 🔵 🔵 ⚪ ⚪ ⚪\n",
      "🔵 🔵 ⚪ ⚪ ⚪ ⚪\n",
      "⚪ ⚪ ⚪ ⚪ 🔵 ⚪\n",
      "⚪ ⚪ ⚪ 🔵 ⚪ ⚪\n",
      "🔵 ⚪ 🔵 🔵 ⚪ 🔵\n",
      "🔵 🔵 🔵 🔵 🔵 ⚪\n",
      "🔵 ⚪ 🔵 ⚪ ⚪ ⚪\n",
      "⚪ 🔵 ⚪ ⚪ ⚪ ⚪\n",
      "🔵 ⚪ 🔵 ⚪ 🔵 🔵\n",
      "⚪ ⚪ 🔵 🔵 🔵 ⚪\n",
      "🔵 🔵 🔵 🔵 🔵 ⚪\n",
      "⚪ 🔵 ⚪ ⚪ 🔵 ⚪\n",
      "⚪ ⚪ ⚪ 🔵 ⚪ ⚪\n",
      "⚪ ⚪ ⚪ ⚪ 🔵 ⚪\n",
      "🔵 ⚪ 🔵 ⚪ ⚪ ⚪\n",
      "🔵 🔵 ⚪ ⚪ ⚪ ⚪\n",
      "🔵 ⚪ ⚪ 🔵 ⚪ ⚪\n",
      "⚪ 🔵 ⚪ 🔵 ⚪ ⚪\n",
      "🔵 ⚪ 🔵 🔵 ⚪ ⚪\n",
      "🔵 ⚪ 🔵 ⚪ ⚪ ⚪\n",
      "⚪ 🔵 🔵 🔵 🔵 🔵\n",
      "🔵 🔵 ⚪ ⚪ 🔵 ⚪\n",
      "⚪ ⚪ ⚪ 🔵 🔵 ⚪\n",
      "⚪ ⚪ ⚪ 🔵 🔵 ⚪\n",
      "🔵 ⚪ 🔵 🔵 ⚪ 🔵\n",
      "🔵 ⚪ ⚪ ⚪ 🔵 ⚪\n",
      "⚪ 🔵 ⚪ ⚪ ⚪ ⚪\n",
      "🔵 ⚪ ⚪ ⚪ ⚪ ⚪\n",
      "⚪ 🔵 🔵 🔵 🔵 ⚪\n",
      "🔵 ⚪ ⚪ ⚪ 🔵 ⚪\n",
      "⚪ 🔵 🔵 🔵 ⚪ 🔵\n",
      "🔵 ⚪ ⚪ ⚪ 🔵 ⚪\n",
      "⚪ 🔵 ⚪ 🔵 🔵 🔵\n",
      "🔵 ⚪ ⚪ ⚪ ⚪ ⚪\n",
      "🔵 ⚪ 🔵 🔵 ⚪ ⚪\n",
      "⚪ 🔵 ⚪ 🔵 🔵 ⚪\n",
      "🔵 🔵 🔵 ⚪ 🔵 🔵 🔵 ⚪ ⚪ 🔵 ⚪ ⚪ 🔵 🔵 🔵 ⚪ 🔵 ⚪ 🔵 ⚪ ⚪ ⚪ 🔵 🔵 🔵 ⚪ 🔵 🔵 ⚪ 🔵 ⚪ ⚪ 🔵 🔵 ⚪ 🔵 ⚪ 🔵 ⚪ 🔵 ⚪ 🔵 🔵 ⚪\n",
      "⚪ ⚪ ⚪ ⚪ ⚪ 🔵 ⚪ 🔵 🔵 🔵 ⚪ ⚪ ⚪ 🔵 ⚪ 🔵 ⚪ ⚪ 🔵 🔵 ⚪ ⚪ ⚪ 🔵 ⚪ 🔵 ⚪ ⚪ 🔵 🔵 ⚪ ⚪ ⚪ ⚪ 🔵 ⚪ 🔵 ⚪ 🔵 ⚪ 🔵 ⚪ ⚪ 🔵\n",
      "⚪ ⚪ ⚪ ⚪ ⚪ ⚪ ⚪ ⚪ 🔵 ⚪ ⚪ ⚪ 🔵 🔵 🔵 ⚪ 🔵 🔵 🔵 ⚪ ⚪ ⚪ 🔵 ⚪ ⚪ ⚪ 🔵 🔵 🔵 ⚪ ⚪ ⚪ 🔵 ⚪ ⚪ ⚪ 🔵 ⚪ 🔵 ⚪ ⚪ ⚪ 🔵 ⚪\n",
      "🔵 🔵 ⚪ ⚪ ⚪ 🔵 ⚪ 🔵 ⚪ ⚪ ⚪ 🔵 🔵 🔵 ⚪ ⚪ ⚪ 🔵 🔵 ⚪ 🔵 ⚪ ⚪ ⚪ 🔵 🔵 🔵 ⚪ 🔵 ⚪ 🔵 🔵 🔵 ⚪ ⚪ ⚪ 🔵 ⚪ 🔵 ⚪ 🔵 ⚪ 🔵 🔵\n",
      "⚪ 🔵 ⚪ ⚪ 🔵 ⚪ 🔵 ⚪ ⚪ ⚪ 🔵 ⚪ ⚪ 🔵 ⚪ ⚪ 🔵 🔵 🔵 🔵 ⚪ 🔵 ⚪ ⚪ ⚪ ⚪ ⚪ ⚪ 🔵 🔵 🔵 🔵 ⚪ 🔵 ⚪ ⚪ 🔵 🔵 ⚪ 🔵 🔵 ⚪ ⚪ 🔵\n",
      "🔵 ⚪ ⚪ ⚪ ⚪ ⚪ 🔵 ⚪ ⚪ ⚪ ⚪ ⚪ 🔵 ⚪ ⚪ ⚪ 🔵 ⚪ ⚪ ⚪ ⚪ ⚪ ⚪ ⚪ ⚪ ⚪ ⚪ ⚪ 🔵 ⚪ ⚪ ⚪ 🔵 ⚪ ⚪ ⚪ ⚪ ⚪ 🔵 ⚪ 🔵 ⚪ ⚪ ⚪\n",
      "CADET YOUR NEXT MISSION IS IN THE CARGO HOLD\n"
     ]
    }
   ],
   "source": [
    "sorted_lights = sorted(((text[i:i+6], text[i+6])for i in range(0, len(text), 7)), key=lambda x: x[1])\n",
    "\n",
    "lightboard = [[int(c) for c in i] for i, _ in sorted_lights]\n",
    "lightboard_vis = [i.replace(\"1\", \"🔵\").replace(\"0\", \"⚪\") for i, _ in sorted_lights]\n",
    "print(*[\" \".join(x) for x in lightboard_vis], sep=\"\\n\")\n",
    "lightboard = [*zip(*lightboard)]\n",
    "lightboard_vis = [*zip(*lightboard_vis)]\n",
    "\n",
    "print(*[\" \".join(x) for x in lightboard_vis], sep=\"\\n\")\n",
    "\n",
    "reverse_lookup = {tuple(val): key for key, val in braille.items()}\n",
    "\n",
    "result = \"\"\n",
    "for line in range(2):\n",
    "    for block in range(0, len(lightboard[0]), 2):\n",
    "        chain = tuple()\n",
    "        for i in range(3):\n",
    "            chain += lightboard[3*line + i][block:block + 2]\n",
    "        result += reverse_lookup[chain]\n",
    "\n",
    "print(result)"
   ]
  },
  {
   "cell_type": "code",
   "execution_count": 33,
   "id": "6a9e04e9-a912-4da4-8a36-b239c5b293ec",
   "metadata": {},
   "outputs": [
    {
     "data": {
      "text/plain": [
       "[('100101', 'A'),\n",
       " ('100110', 'B'),\n",
       " ('100000', 'C'),\n",
       " ('000000', 'D'),\n",
       " ('100010', 'E'),\n",
       " ('110100', 'F'),\n",
       " ('100011', 'G'),\n",
       " ('010100', 'H'),\n",
       " ('011000', 'I'),\n",
       " ('110000', 'J'),\n",
       " ('000010', 'K'),\n",
       " ('000100', 'L'),\n",
       " ('101101', 'M'),\n",
       " ('111110', 'N'),\n",
       " ('101000', 'O'),\n",
       " ('010000', 'P'),\n",
       " ('101011', 'Q'),\n",
       " ('001110', 'R'),\n",
       " ('111110', 'S'),\n",
       " ('010010', 'T'),\n",
       " ('000100', 'U'),\n",
       " ('000010', 'V'),\n",
       " ('101000', 'W'),\n",
       " ('110000', 'X'),\n",
       " ('100100', 'Y'),\n",
       " ('010100', 'Z'),\n",
       " ('101100', 'a'),\n",
       " ('101000', 'b'),\n",
       " ('011111', 'c'),\n",
       " ('110010', 'd'),\n",
       " ('000110', 'e'),\n",
       " ('000110', 'f'),\n",
       " ('101101', 'g'),\n",
       " ('100010', 'h'),\n",
       " ('010000', 'i'),\n",
       " ('100000', 'j'),\n",
       " ('011110', 'k'),\n",
       " ('100010', 'l'),\n",
       " ('011101', 'm'),\n",
       " ('100010', 'n'),\n",
       " ('010111', 'o'),\n",
       " ('100000', 'p'),\n",
       " ('101100', 'q'),\n",
       " ('010110', 'r'),\n",
       " ('000000', 's'),\n",
       " ('000000', 't'),\n",
       " ('000000', 'u'),\n",
       " ('000000', 'v'),\n",
       " ('000000', 'w'),\n",
       " ('000000', 'x'),\n",
       " ('000000', 'y'),\n",
       " ('000000', 'z')]"
      ]
     },
     "execution_count": 33,
     "metadata": {},
     "output_type": "execute_result"
    }
   ],
   "source": [
    "sorted_lights"
   ]
  },
  {
   "cell_type": "code",
   "execution_count": 30,
   "id": "825fa768-30d9-4ce3-9af1-7327feafdd76",
   "metadata": {
    "tags": []
   },
   "outputs": [
    {
     "data": {
      "text/plain": [
       "52"
      ]
     },
     "execution_count": 30,
     "metadata": {},
     "output_type": "execute_result"
    }
   ],
   "source": [
    "26*2"
   ]
  },
  {
   "cell_type": "code",
   "execution_count": 32,
   "id": "2c1ad9c5-50a0-4842-a3f3-d2e289b1acb1",
   "metadata": {
    "tags": []
   },
   "outputs": [],
   "source": [
    "for l in \"stuvwxyz\":\n",
    "    sorted_lights.append(('000000', l))"
   ]
  },
  {
   "cell_type": "code",
   "execution_count": null,
   "id": "16ab5835-ce93-4e28-95fa-7bb9a0285cda",
   "metadata": {},
   "outputs": [],
   "source": []
  }
 ],
 "metadata": {
  "kernelspec": {
   "display_name": "Python 3 (ipykernel)",
   "language": "python",
   "name": "python3"
  },
  "language_info": {
   "codemirror_mode": {
    "name": "ipython",
    "version": 3
   },
   "file_extension": ".py",
   "mimetype": "text/x-python",
   "name": "python",
   "nbconvert_exporter": "python",
   "pygments_lexer": "ipython3",
   "version": "3.10.9"
  }
 },
 "nbformat": 4,
 "nbformat_minor": 5
}
