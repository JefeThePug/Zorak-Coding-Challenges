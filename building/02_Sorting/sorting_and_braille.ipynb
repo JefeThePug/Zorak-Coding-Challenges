{
 "cells": [
  {
   "cell_type": "code",
   "execution_count": 120,
   "id": "b9b20dd0-8a4c-4747-a224-4f9d4fcac27d",
   "metadata": {
    "tags": []
   },
   "outputs": [],
   "source": [
    "sentence = \"Exploring_the_cosmos:_an_incredible_journey_through_space,_one_galaxy_at_a_time.\".upper()"
   ]
  },
  {
   "cell_type": "code",
   "execution_count": 205,
   "id": "265a8cea-b453-4b82-a20b-93c062c34276",
   "metadata": {
    "tags": []
   },
   "outputs": [
    {
     "name": "stdout",
     "output_type": "stream",
     "text": [
      "EXPLORING_THE_COSMOS:_AN_INCREDIBLE_JOURNEY_THROUGH_SPACE,_ONE_GALAXY_AT_A_TIME.\n",
      "interstellar\n",
      "\n",
      "[['Eeu', '1', 'E', '3'], ['Xin', '1', 'H', '5'], ['Pormare', '1', 'K', '3'], ['Llorem', '1', 'M', '8'], ['Oplacerat', '1', 'N', '2'], ['Rluctus', '1', 'V', '3'], ['Iurna', '2', 'D', '3'], ['Nnon', '2', 'E', '4'], ['Gsagittis', '2', 'F', '6'], ['_iturpis', '2', 'P', '3'], ['Tdolor', '2', 'R', '8'], ['Hdonec', '2', 'S', '3'], ['Eviverra', '2', 'T', '4'], ['_nociosqu', '2', 'T', '6'], ['Cmalesuada', '2', 'X', '6'], ['Ovel', '3', 'D', '5'], ['Sest', '3', 'D', '8'], ['Mamet', '3', 'F', '5'], ['Oet', '3', 'G', '5'], ['Smaecenas', '3', 'T', '2'], [':aenean', '3', 'Y', '4'], ['_tenenatis', '4', 'B', '5'], ['Anatoque', '4', 'G', '2'], ['Ncubilia', '4', 'Q', '7'], ['_emoletie', '4', 'S', '8'], ['Imoletie', '5', 'A', '1'], ['Ncommodo', '5', 'A', '2'], ['Cdiam', '5', 'B', '2'], ['Rnulla', '5', 'B', '6'], ['Eturpis', '5', 'F', '7'], ['Dnisl', '5', 'P', '3'], ['Ialiquam', '5', 'Q', '7'], ['Bmattis', '5', 'X', '3'], ['Lvel', '5', 'X', '8'], ['Ediam', '5', 'Z', '4'], ['_rharetra', '6', 'A', '3'], ['Jsem', '6', 'B', '5'], ['Opurus', '6', 'H', '2'], ['Uipsum', '6', 'J', '4'], ['Rmetus', '6', 'O', '4'], ['Nhabitant', '7', 'D', '6'], ['Elacus', '7', 'E', '7'], ['Ydonec', '7', 'K', '1'], ['_saac', '7', 'L', '2'], ['Tin', '7', 'M', '5'], ['Hproin', '7', 'N', '3'], ['Rplacerat', '7', 'O', '7'], ['Ophasellus', '7', 'Q', '3'], ['Ulectus', '7', 'R', '2'], ['Gerat', '7', 'R', '7'], ['Henim', '7', 'T', '3'], ['_teneque', '7', 'U', '4'], ['Ssociis', '7', 'X', '4'], ['Pmauris', '7', 'X', '6'], ['Aconsequat', '8', 'B', '2'], ['Cauctor', '8', 'B', '3'], ['Eut', '8', 'B', '5'], [',neque', '8', 'C', '4'], ['_edonec', '8', 'E', '5'], ['Osem', '8', 'G', '1'], ['Ndonec', '8', 'H', '6'], ['Efaucibus', '8', 'J', '2'], ['_lenim', '8', 'P', '7'], ['Gclass', '8', 'R', '2'], ['Aconvallis', '8', 'U', '6'], ['Lconsectetuer', '8', 'V', '6'], ['Aornare', '8', 'Y', '7'], ['Xsodales', '8', 'Z', '3'], ['Ysem', '9', 'C', '2'], ['_listique', '9', 'C', '7'], ['Asociis', '9', 'F', '6'], ['Tat', '9', 'F', '7'], ['_aet', '9', 'H', '2'], ['Aligula', '9', 'H', '5'], ['_rpode', '9', 'M', '8'], ['Tfermentum', '9', 'P', '2'], ['Itempor', '9', 'W', '5'], ['Msit', '10', 'M', '3'], ['Eat', '10', 'P', '7'], ['.duis', '10', 'R', '6']]\n"
     ]
    }
   ],
   "source": [
    "from random import shuffle\n",
    "import csv\n",
    "\n",
    "# commented code was for creating the file\n",
    "\n",
    "with open(\"manual.csv\") as f:\n",
    "    # next(f)\n",
    "    # data = [[int(i) if i.isnumeric() else \"\".join(c for c in i if c.isalpha()).title() for i in p.split(\";\")] for p in f.read().strip().split(\"\\n\")]\n",
    "    csv_reader = csv.reader(f)\n",
    "    header = next(csv_reader)\n",
    "    data = [row for row in csv_reader]\n",
    "\n",
    "def custom_sort(entry):\n",
    "    return int(entry[1]), entry[2].lower(), int(entry[3])\n",
    "\n",
    "sorted_data = sorted(data, key=custom_sort)\n",
    "\n",
    "# for i, letter in enumerate(sentence):\n",
    "#     sorted_data[i][0] = letter + sorted_data[i][0].lower()\n",
    "    \n",
    "print(*[x[0][0] for x in sorted_data], sep=\"\")\n",
    "# Easter Egg?\n",
    "print(*[word[1] for x in sorted_data if (word:=x[0])[0] == \"_\"], sep=\"\")\n",
    "\n",
    "# for _ in range(4):\n",
    "#     shuffle(sorted_data)\n",
    "    \n",
    "# with open('output.csv', 'w') as file:\n",
    "#     writer = csv.writer(file)\n",
    "#     writer.writerows(sorted_data)\n",
    "print()\n",
    "print(sorted_data)"
   ]
  },
  {
   "cell_type": "code",
   "execution_count": null,
   "id": "ca7e65d8-99c9-42e0-b5ba-d57628511ebe",
   "metadata": {},
   "outputs": [],
   "source": []
  },
  {
   "cell_type": "code",
   "execution_count": 148,
   "id": "ac3fe0b7-f843-49ab-823a-7488938e669a",
   "metadata": {
    "tags": []
   },
   "outputs": [
    {
     "name": "stdout",
     "output_type": "stream",
     "text": [
      "{'A': '⠁', 'B': '⠃', 'C': '⠉', 'D': '⠙', 'E': '⠑', 'F': '⠋', 'G': '⠛', 'H': '⠓', 'I': '⠊', 'J': '⠚', 'K': '⠅', 'L': '⠇', 'M': '⠍', 'N': '⠝', 'O': '⠕', 'P': '⠏', 'Q': '⠟', 'R': '⠗', 'S': '⠎', 'T': '⠞', 'U': '⠥', 'V': '⠧', 'W': '⠺', 'X': '⠭', 'Y': '⠽', 'Z': '⠵'}\n"
     ]
    }
   ],
   "source": [
    "braille_text = {\n",
    "    'A': '⠁', 'B': '⠃', 'C': '⠉', 'D': '⠙', 'E': '⠑', 'F': '⠋', 'G': '⠛', \n",
    "    'H': '⠓', 'I': '⠊', 'J': '⠚', 'K': '⠅', 'L': '⠇', 'M': '⠍', 'N': '⠝', \n",
    "    'O': '⠕', 'P': '⠏', 'Q': '⠟', 'R': '⠗', 'S': '⠎', 'T': '⠞', 'U': '⠥', \n",
    "    'V': '⠧', 'W': '⠺', 'X': '⠭', 'Y': '⠽', 'Z': '⠵'\n",
    "}\n",
    "print(braille_text)"
   ]
  },
  {
   "cell_type": "code",
   "execution_count": 149,
   "id": "51935188-f144-4628-a90b-a4172a593c59",
   "metadata": {
    "tags": []
   },
   "outputs": [],
   "source": [
    "braille = {\n",
    "    \"A\": [1,0,0,0,0,0], \"B\": [1,0,1,0,0,0], \"C\": [1,1,0,0,0,0], \"D\": [1,1,0,1,0,0],\n",
    "    \"E\": [1,0,0,1,0,0], \"F\": [1,1,1,0,0,0], \"G\": [1,1,1,1,0,0], \"H\": [1,0,1,1,0,0],\n",
    "    \"I\": [0,1,1,0,0,0], \"J\": [0,1,1,1,0,0], \"K\": [1,0,0,0,1,0], \"L\": [1,0,1,0,1,0],\n",
    "    \"M\": [1,1,0,0,1,0], \"N\": [1,1,0,1,1,0], \"O\": [1,0,0,1,1,0], \"P\": [1,1,1,0,1,0],\n",
    "    \"Q\": [1,1,1,1,1,0], \"R\": [1,0,1,1,1,0], \"S\": [0,1,1,0,1,0], \"T\": [0,1,1,1,1,0],\n",
    "    \"U\": [1,0,0,0,1,1], \"V\": [1,0,1,0,1,1], \"W\": [0,1,1,1,0,1], \"X\": [1,1,0,0,1,1],\n",
    "    \"Y\": [1,1,0,1,1,1], \"Z\": [1,0,0,1,1,1], \" \": [0,0,0,0,0,0], \"?\": [0,0,1,1,1,1],\n",
    "}"
   ]
  },
  {
   "cell_type": "code",
   "execution_count": 171,
   "id": "84f6dd5c-35a7-49cf-bc28-7ab1b3983c11",
   "metadata": {
    "tags": []
   },
   "outputs": [
    {
     "name": "stdout",
     "output_type": "stream",
     "text": [
      "🔵 ⚪ 🔵 ⚪ 🔵 ⚪ 🔵 ⚪ ⚪ 🔵 🔵 ⚪ ⚪ ⚪ 🔵 🔵 🔵 ⚪ 🔵 ⚪ 🔵 ⚪ ⚪ ⚪ 🔵 🔵 🔵 ⚪ 🔵 🔵 ⚪ 🔵 ⚪ ⚪ 🔵 🔵 ⚪ 🔵 ⚪ 🔵 ⚪ 🔵 ⚪ 🔵\n",
      "🔵 🔵 ⚪ 🔵 ⚪ 🔵 ⚪ ⚪ 🔵 ⚪ ⚪ 🔵 ⚪ ⚪ ⚪ 🔵 ⚪ 🔵 ⚪ ⚪ 🔵 🔵 ⚪ ⚪ ⚪ 🔵 ⚪ 🔵 ⚪ ⚪ 🔵 🔵 ⚪ ⚪ ⚪ ⚪ 🔵 ⚪ 🔵 ⚪ 🔵 ⚪ 🔵 ⚪\n",
      "🔵 ⚪ 🔵 ⚪ 🔵 ⚪ 🔵 ⚪ ⚪ ⚪ ⚪ ⚪ ⚪ ⚪ 🔵 🔵 🔵 ⚪ 🔵 🔵 🔵 ⚪ ⚪ ⚪ 🔵 ⚪ ⚪ ⚪ 🔵 🔵 🔵 ⚪ ⚪ ⚪ 🔵 ⚪ ⚪ ⚪ 🔵 ⚪ 🔵 ⚪ ⚪ ⚪\n",
      "🔵 ⚪ 🔵 🔵 ⚪ ⚪ ⚪ 🔵 ⚪ 🔵 ⚪ ⚪ ⚪ 🔵 🔵 🔵 ⚪ ⚪ ⚪ 🔵 🔵 ⚪ 🔵 ⚪ ⚪ ⚪ 🔵 🔵 🔵 ⚪ 🔵 ⚪ 🔵 🔵 🔵 ⚪ ⚪ ⚪ 🔵 ⚪ 🔵 ⚪ 🔵 ⚪\n",
      "⚪ 🔵 ⚪ 🔵 ⚪ ⚪ 🔵 ⚪ 🔵 ⚪ ⚪ ⚪ 🔵 ⚪ ⚪ 🔵 ⚪ ⚪ 🔵 🔵 🔵 🔵 ⚪ 🔵 ⚪ ⚪ ⚪ ⚪ ⚪ ⚪ 🔵 🔵 🔵 🔵 ⚪ 🔵 ⚪ ⚪ 🔵 🔵 ⚪ 🔵 🔵 ⚪\n",
      "🔵 ⚪ 🔵 ⚪ ⚪ ⚪ ⚪ ⚪ 🔵 ⚪ ⚪ ⚪ ⚪ ⚪ 🔵 ⚪ ⚪ ⚪ 🔵 ⚪ ⚪ ⚪ ⚪ ⚪ ⚪ ⚪ ⚪ ⚪ ⚪ ⚪ 🔵 ⚪ ⚪ ⚪ 🔵 ⚪ ⚪ ⚪ ⚪ ⚪ 🔵 ⚪ 🔵 ⚪\n"
     ]
    }
   ],
   "source": [
    "word = \"ROOKIE YOUR NEXT MISSION IS IN THE CARGO HOLD\"\n",
    "lw = len(word)//2\n",
    "display = []\n",
    "for i in range(2):\n",
    "    for row in range(0,6,2):\n",
    "        result = [\" \".join(\"⚪🔵\"[x] for x in braille[c][row:row+2]) for c in word[i*lw: i*lw+lw]]\n",
    "        display.append(result)\n",
    "        print(*result, sep=\" \")"
   ]
  },
  {
   "cell_type": "code",
   "execution_count": 172,
   "id": "a19325a4-7a34-4883-aabc-db9316604cc3",
   "metadata": {
    "tags": []
   },
   "outputs": [
    {
     "name": "stdout",
     "output_type": "stream",
     "text": [
      "10101010011000111010100011101101001101010101\n",
      "11010100100100010100110001010011000010101010\n",
      "10101010000000111011100010001110001000101000\n",
      "10110001010001110001101000111010111000101010\n",
      "01010010100010010011110100000011110100110110\n",
      "10100000100000100010000000000010001000001010\n",
      "1: 11709063287637 - 2: 14607532241066 - 3: 11683309871656 - 4: 12182433803818 - 5: 5671836728630 - 6: 11030046450186\n"
     ]
    }
   ],
   "source": [
    "trans = str.maketrans(\"🔵⚪\",\"10\",\" \")\n",
    "print(*[\"\".join(row).translate(trans) for row in display], sep=\"\\n\")\n",
    "int_vals_h = [int(\"\".join(row).translate(trans), 2) for row in display]\n",
    "print(*[f\"{i}: {val}\" for i, val in enumerate(int_vals_h, 1)], sep=\" - \")"
   ]
  },
  {
   "cell_type": "code",
   "execution_count": 173,
   "id": "2ed5befd-fa63-4166-a904-9cab93b4e838",
   "metadata": {
    "tags": []
   },
   "outputs": [
    {
     "name": "stdout",
     "output_type": "stream",
     "text": [
      "⠗⠕⠕⠅⠊⠑\t⠽⠕⠥⠗\t⠝⠑⠭⠞\t⠍⠊⠎⠎⠊⠕⠝\t⠊⠎\t⠊⠝\t⠞⠓⠑\t⠉⠁⠗⠛⠕\t⠓⠕⠇⠙\n"
     ]
    }
   ],
   "source": [
    "print(*[\"\".join(braille_text[c] for c in w)for w in word.split()], sep=\"\\t\")"
   ]
  },
  {
   "cell_type": "code",
   "execution_count": 174,
   "id": "9dd6b6f1-3626-42d9-9555-f437699f273c",
   "metadata": {
    "tags": []
   },
   "outputs": [
    {
     "name": "stdout",
     "output_type": "stream",
     "text": [
      "111101     010010     101101     010110     101000     010000     101010     000100     010011     100100     100000     010000     000010     000100     101101     111110     101000     010000     101011     001110     111110     010010     000100     000010     101000     110000     100100     010100     101100     101000     011111     110010     000110     000110     101101     100010     010000     100000     011110     100010     011101     100010     010111     100000\n",
      "1: 61 - 2: 18 - 3: 45 - 4: 22 - 5: 40 - 6: 16 - 7: 42 - 8: 4 - 9: 19 - 10: 36 - 11: 32 - 12: 16 - 13: 2 - 14: 4 - 15: 45 - 16: 62 - 17: 40 - 18: 16 - 19: 43 - 20: 14 - 21: 62 - 22: 18 - 23: 4 - 24: 2 - 25: 40 - 26: 48 - 27: 36 - 28: 20 - 29: 44 - 30: 40 - 31: 31 - 32: 50 - 33: 6 - 34: 6 - 35: 45 - 36: 34 - 37: 16 - 38: 32 - 39: 30 - 40: 34 - 41: 29 - 42: 34 - 43: 23 - 44: 32\n"
     ]
    }
   ],
   "source": [
    "map = [\" \".join(i) for i in display]\n",
    "turned = [x for i in zip(*map) if (x:=\" \".join(i)).strip()]\n",
    "\n",
    "trans = str.maketrans(\"🔵⚪\",\"10\",\" \")\n",
    "print(*[row.translate(trans) for row in turned], sep=\"     \")\n",
    "int_vals = [int(row.translate(trans), 2) for row in turned]\n",
    "print(*[f\"{i}: {val}\" for i, val in enumerate(int_vals, 1)], sep=\" - \")"
   ]
  },
  {
   "cell_type": "code",
   "execution_count": 97,
   "id": "d6ca6fe0-6af4-470c-80ba-762b6563981f",
   "metadata": {
    "jupyter": {
     "source_hidden": true
    },
    "tags": []
   },
   "outputs": [],
   "source": [
    "lights = \"\"\"100101\n",
    "100110\n",
    "100000\n",
    "000000\n",
    "100010\n",
    "110100\n",
    "100011\n",
    "010100\n",
    "011000\n",
    "110000\n",
    "000010\n",
    "000100\n",
    "101101\n",
    "111110\n",
    "101000\n",
    "010000\n",
    "101011\n",
    "001110\n",
    "111110\n",
    "010010\n",
    "000100\n",
    "000010\n",
    "101000\n",
    "110000\n",
    "100100\n",
    "010100\n",
    "101100\n",
    "101000\n",
    "011111\n",
    "110010\n",
    "000110\n",
    "000110\n",
    "101101\n",
    "100010\n",
    "010000\n",
    "100000\n",
    "011110\n",
    "100010\n",
    "011101\n",
    "100010\n",
    "010111\n",
    "100000\n",
    "101100\n",
    "010110\"\"\""
   ]
  },
  {
   "cell_type": "code",
   "execution_count": 203,
   "id": "94470714-0d2a-4faa-9d16-822ede839e0f",
   "metadata": {},
   "outputs": [],
   "source": [
    "from string import ascii_letters\n",
    "\n",
    "light_data = [(light, c) for light, c in zip(lights.split(\"\\n\"), ascii_letters.swapcase())]\n",
    "sorted_light_data = light_data[:]\n",
    "\n",
    "for _ in range(5):\n",
    "    shuffle(light_data)\n",
    "    \n",
    "#light_data"
   ]
  },
  {
   "cell_type": "code",
   "execution_count": 176,
   "id": "d529eb0c-0ee6-428a-9083-3a317d6bc470",
   "metadata": {
    "tags": []
   },
   "outputs": [],
   "source": [
    "# Solving"
   ]
  },
  {
   "cell_type": "code",
   "execution_count": 201,
   "id": "0748aff0-50bc-4735-82eb-7dd4f7e4c99b",
   "metadata": {},
   "outputs": [],
   "source": [
    "text = \"\".join(\"\".join(p for p in item) for item in light_data)\n",
    "braille = {\n",
    "    \"A\": [1,0,0,0,0,0], \"B\": [1,0,1,0,0,0], \"C\": [1,1,0,0,0,0], \"D\": [1,1,0,1,0,0],\n",
    "    \"E\": [1,0,0,1,0,0], \"F\": [1,1,1,0,0,0], \"G\": [1,1,1,1,0,0], \"H\": [1,0,1,1,0,0],\n",
    "    \"I\": [0,1,1,0,0,0], \"J\": [0,1,1,1,0,0], \"K\": [1,0,0,0,1,0], \"L\": [1,0,1,0,1,0],\n",
    "    \"M\": [1,1,0,0,1,0], \"N\": [1,1,0,1,1,0], \"O\": [1,0,0,1,1,0], \"P\": [1,1,1,0,1,0],\n",
    "    \"Q\": [1,1,1,1,1,0], \"R\": [1,0,1,1,1,0], \"S\": [0,1,1,0,1,0], \"T\": [0,1,1,1,1,0],\n",
    "    \"U\": [1,0,0,0,1,1], \"V\": [1,0,1,0,1,1], \"W\": [0,1,1,1,0,1], \"X\": [1,1,0,0,1,1],\n",
    "    \"Y\": [1,1,0,1,1,1], \"Z\": [1,0,0,1,1,1], \" \": [0,0,0,0,0,0],\n",
    "}"
   ]
  },
  {
   "cell_type": "code",
   "execution_count": 224,
   "id": "8cdedae7-94af-407e-b2a2-deaac9aaf79b",
   "metadata": {},
   "outputs": [
    {
     "name": "stdout",
     "output_type": "stream",
     "text": [
      "🔵 🔵 🔵 ⚪ 🔵 🔵 🔵 ⚪ ⚪ 🔵 ⚪ ⚪ 🔵 🔵 🔵 ⚪ 🔵 ⚪ 🔵 ⚪ ⚪ ⚪ 🔵 🔵 🔵 ⚪ 🔵 🔵 ⚪ 🔵 ⚪ ⚪ 🔵 🔵 ⚪ 🔵 ⚪ 🔵 ⚪ 🔵 ⚪ 🔵 🔵 ⚪\n",
      "⚪ ⚪ ⚪ ⚪ ⚪ 🔵 ⚪ 🔵 🔵 🔵 ⚪ ⚪ ⚪ 🔵 ⚪ 🔵 ⚪ ⚪ 🔵 🔵 ⚪ ⚪ ⚪ 🔵 ⚪ 🔵 ⚪ ⚪ 🔵 🔵 ⚪ ⚪ ⚪ ⚪ 🔵 ⚪ 🔵 ⚪ 🔵 ⚪ 🔵 ⚪ ⚪ 🔵\n",
      "⚪ ⚪ ⚪ ⚪ ⚪ ⚪ ⚪ ⚪ 🔵 ⚪ ⚪ ⚪ 🔵 🔵 🔵 ⚪ 🔵 🔵 🔵 ⚪ ⚪ ⚪ 🔵 ⚪ ⚪ ⚪ 🔵 🔵 🔵 ⚪ ⚪ ⚪ 🔵 ⚪ ⚪ ⚪ 🔵 ⚪ 🔵 ⚪ ⚪ ⚪ 🔵 ⚪\n",
      "🔵 🔵 ⚪ ⚪ ⚪ 🔵 ⚪ 🔵 ⚪ ⚪ ⚪ 🔵 🔵 🔵 ⚪ ⚪ ⚪ 🔵 🔵 ⚪ 🔵 ⚪ ⚪ ⚪ 🔵 🔵 🔵 ⚪ 🔵 ⚪ 🔵 🔵 🔵 ⚪ ⚪ ⚪ 🔵 ⚪ 🔵 ⚪ 🔵 ⚪ 🔵 🔵\n",
      "⚪ 🔵 ⚪ ⚪ 🔵 ⚪ 🔵 ⚪ ⚪ ⚪ 🔵 ⚪ ⚪ 🔵 ⚪ ⚪ 🔵 🔵 🔵 🔵 ⚪ 🔵 ⚪ ⚪ ⚪ ⚪ ⚪ ⚪ 🔵 🔵 🔵 🔵 ⚪ 🔵 ⚪ ⚪ 🔵 🔵 ⚪ 🔵 🔵 ⚪ ⚪ 🔵\n",
      "🔵 ⚪ ⚪ ⚪ ⚪ ⚪ 🔵 ⚪ ⚪ ⚪ ⚪ ⚪ 🔵 ⚪ ⚪ ⚪ 🔵 ⚪ ⚪ ⚪ ⚪ ⚪ ⚪ ⚪ ⚪ ⚪ ⚪ ⚪ 🔵 ⚪ ⚪ ⚪ 🔵 ⚪ ⚪ ⚪ ⚪ ⚪ 🔵 ⚪ 🔵 ⚪ ⚪ ⚪\n",
      "CADET YOUR NEXT MISSION IS IN THE CARGO HOLD\n"
     ]
    }
   ],
   "source": [
    "sorted_lights = sorted(((text[i:i+6], text[i+6])for i in range(0, len(text), 7)), key=lambda x: x[1])\n",
    "\n",
    "lightboard = [[int(c) for c in i] for i, _ in sorted_lights]\n",
    "lightboard_vis = [i.replace(\"1\", \"🔵\").replace(\"0\", \"⚪\") for i, _ in sorted_lights]\n",
    "lightboard = [*zip(*lightboard)]\n",
    "lightboard_vis = [*zip(*lightboard_vis)]\n",
    "\n",
    "print(*[\" \".join(x) for x in lightboard_vis], sep=\"\\n\")\n",
    "\n",
    "reverse_lookup = {tuple(val): key for key, val in braille.items()}\n",
    "\n",
    "result = \"\"\n",
    "for line in range(2):\n",
    "    for block in range(0, len(lightboard[0]), 2):\n",
    "        chain = tuple()\n",
    "        for i in range(3):\n",
    "            chain += lightboard[3*line + i][block:block + 2]\n",
    "        result += reverse_lookup[chain]\n",
    "\n",
    "print(result)"
   ]
  },
  {
   "cell_type": "code",
   "execution_count": null,
   "id": "6a9e04e9-a912-4da4-8a36-b239c5b293ec",
   "metadata": {},
   "outputs": [],
   "source": []
  }
 ],
 "metadata": {
  "kernelspec": {
   "display_name": "Python 3 (ipykernel)",
   "language": "python",
   "name": "python3"
  },
  "language_info": {
   "codemirror_mode": {
    "name": "ipython",
    "version": 3
   },
   "file_extension": ".py",
   "mimetype": "text/x-python",
   "name": "python",
   "nbconvert_exporter": "python",
   "pygments_lexer": "ipython3",
   "version": "3.10.9"
  }
 },
 "nbformat": 4,
 "nbformat_minor": 5
}
