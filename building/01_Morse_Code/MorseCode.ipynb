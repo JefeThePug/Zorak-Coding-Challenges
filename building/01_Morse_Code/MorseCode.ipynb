{
 "cells": [
  {
   "cell_type": "code",
   "execution_count": 1,
   "id": "ea818281-23dd-4bdc-a04a-0f75bafdb8c6",
   "metadata": {
    "tags": []
   },
   "outputs": [],
   "source": [
    "table = {\n",
    "    \"A\": \"._\",\n",
    "    \"B\": \"_...\",\n",
    "    \"C\": \"_._.\",\n",
    "    \"D\": \"_..\",\n",
    "    \"E\": \".\",\n",
    "    \"F\": \".._.\",\n",
    "    \"G\": \"__.\",\n",
    "    \"H\": \"....\",\n",
    "    \"I\": \"..\",\n",
    "    \"J\": \".___\",\n",
    "    \"K\": \"_._\",\n",
    "    \"L\": \"._..\",\n",
    "    \"M\": \"__\",\n",
    "    \"N\": \"_.\",\n",
    "    \"O\": \"___\",\n",
    "    \"P\": \".__.\",\n",
    "    \"Q\": \"__._\",\n",
    "    \"R\": \"._.\",\n",
    "    \"S\": \"...\",\n",
    "    \"T\": \"_\",\n",
    "    \"U\": \".._\",\n",
    "    \"V\": \"..._\",\n",
    "    \"W\": \".__\",\n",
    "    \"X\": \"_.._\",\n",
    "    \"Y\": \"_.__\",\n",
    "    \"Z\": \"__..\",\n",
    "    \"1\": \".____\",\n",
    "    \"2\": \"..___\",\n",
    "    \"3\": \"...__\",\n",
    "    \"4\": \"...._\",\n",
    "    \"5\": \".....\",\n",
    "    \"6\": \"_....\",\n",
    "    \"7\": \"__...\",\n",
    "    \"8\": \"___..\",\n",
    "    \"9\": \"____.\",\n",
    "    \"0\": \"_____\",\n",
    "    \",\": \"__..__\",\n",
    "    \".\": \"._._._\",\n",
    "    \"?\": \"..__..\",\n",
    "    '\"': \"._.._.\",\n",
    "    \":\": \"___...\",\n",
    "    \"'\": \".____.\",\n",
    "    \"-\": \"_...._\",\n",
    "    \"/\": \"_.._.\",\n",
    "    \"(\": \"_.__.\",\n",
    "    \")\": \"_.__._\",\n",
    "    \"!\": \"_._.__\",\n",
    "    \" \": \"\\n\",\n",
    "}"
   ]
  },
  {
   "cell_type": "code",
   "execution_count": 2,
   "id": "b19cb7ae-452a-45e6-b33d-2fef9a03d099",
   "metadata": {
    "tags": []
   },
   "outputs": [
    {
     "name": "stdout",
     "output_type": "stream",
     "text": [
      "{'._': 'A',\n",
      " '_...': 'B',\n",
      " '_._.': 'C',\n",
      " '_..': 'D',\n",
      " '.': 'E',\n",
      " '.._.': 'F',\n",
      " '__.': 'G',\n",
      " '....': 'H',\n",
      " '..': 'I',\n",
      " '.___': 'J',\n",
      " '_._': 'K',\n",
      " '._..': 'L',\n",
      " '__': 'M',\n",
      " '_.': 'N',\n",
      " '___': 'O',\n",
      " '.__.': 'P',\n",
      " '__._': 'Q',\n",
      " '._.': 'R',\n",
      " '...': 'S',\n",
      " '_': 'T',\n",
      " '.._': 'U',\n",
      " '..._': 'V',\n",
      " '.__': 'W',\n",
      " '_.._': 'X',\n",
      " '_.__': 'Y',\n",
      " '__..': 'Z',\n",
      " '.____': '1',\n",
      " '..___': '2',\n",
      " '...__': '3',\n",
      " '...._': '4',\n",
      " '.....': '5',\n",
      " '_....': '6',\n",
      " '__...': '7',\n",
      " '___..': '8',\n",
      " '____.': '9',\n",
      " '_____': '0',\n",
      " '__..__': ',',\n",
      " '._._._': '.',\n",
      " '..__..': '?',\n",
      " '._.._.': '\"',\n",
      " '___...': ':',\n",
      " '.____.': \"'\",\n",
      " '_...._': '-',\n",
      " '_.._.': '/',\n",
      " '_.__.': '(',\n",
      " '_.__._': ')',\n",
      " '_._.__': '!',\n",
      " '\\n': ' '}\n"
     ]
    }
   ],
   "source": [
    "from pprint import pprint\n",
    "r = {v:k for k,v in table.items()}\n",
    "pprint(r, sort_dicts=False)"
   ]
  },
  {
   "cell_type": "code",
   "execution_count": 3,
   "id": "82915949-4114-441d-ad1d-ddd5ff086f44",
   "metadata": {
    "tags": []
   },
   "outputs": [
    {
     "name": "stdout",
     "output_type": "stream",
     "text": [
      "_._.__ _._.__ _._.__ .... _._.__ .._ _._.__ __ _._.__ ._ _._.__ _. _._.__ _._.__ _._.__\n"
     ]
    }
   ],
   "source": [
    "def morse(s):\n",
    "    return \" \".join(table[x.upper()] for x in s)\n",
    "\n",
    "m = morse('!!!H!U!M!A!N!!!')\n",
    "print(m)\n",
    "\n",
    "# int(m.translate(m.maketrans('_.','10','|')), 2)"
   ]
  },
  {
   "cell_type": "code",
   "execution_count": 4,
   "id": "24c00e44-59c0-420a-9fd7-333d3efc0a21",
   "metadata": {
    "tags": []
   },
   "outputs": [
    {
     "name": "stdout",
     "output_type": "stream",
     "text": [
      "WE HAVE HEARD STORIES OF THIS ZORAK. WHAT IS ZORAK?\n"
     ]
    }
   ],
   "source": [
    "r = {v:k for k,v in table.items()}\n",
    "def r_morse(s):\n",
    "    return \" \".join(\"\".join(r[c] for c in word.split(\" \")) for word in s.split(\"\\n\"))\n",
    "m = \"\"\".__ .\n",
    ".... ._ ..._ .\n",
    ".... . ._ ._. _..\n",
    "... _ ___ ._. .. . ...\n",
    "___ .._.\n",
    "_ .... .. ...\n",
    "__.. ___ ._. ._ _._ ._._._\n",
    ".__ .... ._ _\n",
    ".. ...\n",
    "__.. ___ ._. ._ _._ ..__..\"\"\"\n",
    "print(r_morse(m))"
   ]
  },
  {
   "cell_type": "code",
   "execution_count": 5,
   "id": "cf4087cc-657f-4a16-9f4a-533906249d5d",
   "metadata": {
    "tags": []
   },
   "outputs": [],
   "source": [
    "# l = [i.replace(\".\",\"0\").replace(\"_\",\"1\") for i in m.split(\" \")]\n",
    "# int(\"\".join(l), 2)"
   ]
  },
  {
   "cell_type": "code",
   "execution_count": 6,
   "id": "fc0656dc-4a9a-499b-92e0-715822ee64f4",
   "metadata": {
    "tags": []
   },
   "outputs": [
    {
     "name": "stdout",
     "output_type": "stream",
     "text": [
      "644 ʄ  - 638 ɾ  - 196 Ä  - 936 Ψ  - 82 R  - 69 E  - 109 m  - 995 ϣ  - \n",
      "ʄɾÄΨREmϣ"
     ]
    }
   ],
   "source": [
    "out = \"644 638 196 936 82 69 109 995\"\n",
    "for o in out.split(\" \"):\n",
    "    print(o, chr(int(o)), \" - \", end = \"\")\n",
    "print()\n",
    "for o in out.split(\" \"):\n",
    "    print(chr(int(o)), end = \"\")"
   ]
  },
  {
   "cell_type": "code",
   "execution_count": 137,
   "id": "b5f1fa46-8354-4c02-b1be-694b7f482e4c",
   "metadata": {
    "tags": []
   },
   "outputs": [
    {
     "name": "stdout",
     "output_type": "stream",
     "text": [
      "['', '', '', '_..', '._', '_.', '__.', '.', '._.', '', '', '']\n",
      "DANGER\n"
     ]
    }
   ],
   "source": [
    "# Zorak's Breed:\n",
    "#breed = \"ØıŖʬĴ˅ˁ˚ʝģ\" #actual\n",
    "breed = \"ছ⢂ᱴ▫\"\n",
    "breed = \"※ƉΰـᒠW౻\" #test\n",
    "\n",
    "# Get the ascii number for the letters\n",
    "# -> 216 305 342 684 308 709 705 730 669 291\n",
    "breed = \"\".join(f\"{ord(x)}\" for x in breed)\n",
    "\n",
    "# Convert the number to binary\n",
    "# -> '10101110101110101110010101111110101110110101101101011010101011001010110110101110101011101011101011'\n",
    "breed = f\"{int(breed):b}\"\n",
    "\n",
    "# There's a note in the margin that says words begin with three ! marks and then have one ! between \n",
    "# each letter sent. You notice this pattern is apparent in the binary message you have:\n",
    "# -> sep = 101011 (! = _._.__)\n",
    "# -> ['', '', '', '100', '111', '101', '01', '010', '00', '01', '10', '', '', '']\n",
    "sep = morse(\"!\").replace(\".\", \"0\").replace(\"_\", \"1\")\n",
    "breed = breed.split(sep)\n",
    "\n",
    "# Convert binary to morse code symbols: . for 0 and _ for 1\n",
    "# -> ['', '', '', '_..', '___', '_._', '._', '._.', '..', '._', '_.', '', '', '']\n",
    "breed = [n.replace(\"0\", \".\").replace(\"1\", \"_\") for n in breed]\n",
    "print(breed)\n",
    "\n",
    "# Read the morse code letters from the dictionary of symbol to letter conversion (ignoring blanks)\n",
    "# -> 'DOKARIAN'\n",
    "breed = \"\".join(r_morse(n) for n in breed if n)\n",
    "\n",
    "# Breed in English is:\n",
    "print(breed)"
   ]
  },
  {
   "cell_type": "code",
   "execution_count": 53,
   "id": "082ea759-803c-44e4-be5f-804f0182fc3e",
   "metadata": {
    "tags": []
   },
   "outputs": [
    {
     "name": "stdout",
     "output_type": "stream",
     "text": [
      "24591037072849643\n"
     ]
    },
    {
     "data": {
      "text/plain": [
       "'ছ⢂ᱴ▫'"
      ]
     },
     "execution_count": 53,
     "metadata": {},
     "output_type": "execute_result"
    }
   ],
   "source": [
    "# EOS\n",
    "\". ___ ...\"\n",
    "# !!!E!O!S!!!\n",
    "m = \"-.-.-- -.-.-- -.-.-- . -.-.-- --- -.-.-- ... -.-.-- -.-.-- -.-.--\"\n",
    "\n",
    "m = m.replace(\" \", \"\").replace(\".\", \"0\").replace(\"-\", \"1\")\n",
    "print(int(m, 2))\n",
    "\n",
    "chars = [2459,10370,7284,9643]\n",
    "\"\".join(chr(x) for x in chars)"
   ]
  },
  {
   "cell_type": "code",
   "execution_count": 135,
   "id": "f9f2a315-6902-455f-926b-93b3512dc7fd",
   "metadata": {
    "tags": []
   },
   "outputs": [
    {
     "name": "stdout",
     "output_type": "stream",
     "text": [
      "825139394416005280873195\n",
      "['※', 'Ɖ', 'ΰ', 'ـ', 'ᒠ', 'W', '౻']\n",
      "※ƉΰـᒠW౻\n"
     ]
    }
   ],
   "source": [
    "# DANGER\n",
    "\"-.. .- -. --. . .-.\"\n",
    "# !!!D!A!N!G!E!R!!!\n",
    "m = \"-.-.-- -.-.-- -.-.-- -.. -.-.-- .- -.-.-- -. -.-.-- --. -.-.-- . -.-.-- .-. -.-.-- -.-.-- -.-.--\"\n",
    "\n",
    "m = m.replace(\" \", \"\").replace(\".\", \"0\").replace(\"-\", \"1\")\n",
    "print(int(m, 2))\n",
    "#825 139 394 416 005 280 873 195\n",
    "chars = [8251,393,944,1600,5280,87,3195]\n",
    "result = [chr(x) for x in chars]\n",
    "print(result)\n",
    "print(\"\".join(result))"
   ]
  },
  {
   "cell_type": "code",
   "execution_count": 139,
   "id": "7558729c-bd7a-4215-821b-c77d2359c551",
   "metadata": {
    "tags": []
   },
   "outputs": [
    {
     "data": {
      "text/plain": [
       "'※=8251 Ɖ=393 ΰ=944 ـ=1600 ᒠ=5280 W=87 ౻=3195'"
      ]
     },
     "execution_count": 139,
     "metadata": {},
     "output_type": "execute_result"
    }
   ],
   "source": [
    "\" \".join(f\"{x}={ord(x)}\" for x in \"※ƉΰـᒠW౻\")"
   ]
  },
  {
   "cell_type": "code",
   "execution_count": 142,
   "id": "fc18ba6d-f668-4985-b1d8-004f0cb4bf94",
   "metadata": {
    "tags": []
   },
   "outputs": [
    {
     "data": {
      "text/plain": [
       "'10101110101110101110010101101101011101010111101010110101011010101011101011101011'"
      ]
     },
     "execution_count": 142,
     "metadata": {},
     "output_type": "execute_result"
    }
   ],
   "source": [
    "f\"{825139394416005280873195:b}\""
   ]
  },
  {
   "cell_type": "code",
   "execution_count": 145,
   "id": "ff977ef5-3d13-4be7-9477-4818577d4fc4",
   "metadata": {
    "tags": []
   },
   "outputs": [
    {
     "data": {
      "text/plain": [
       "'_._.___._.___._.___.._._.__.__._.___._._.____._._.__._._.__._._._.___._.___._.__'"
      ]
     },
     "execution_count": 145,
     "metadata": {},
     "output_type": "execute_result"
    }
   ],
   "source": [
    "new = '10101110101110101110010101101101011101010111101010110101011010101011101011101011'.replace(\"0\", \".\").replace(\"1\", \"_\")\n",
    "new"
   ]
  },
  {
   "cell_type": "code",
   "execution_count": 147,
   "id": "c84c0c8a-2628-4f6a-9c79-2690fe293466",
   "metadata": {
    "tags": []
   },
   "outputs": [
    {
     "name": "stdout",
     "output_type": "stream",
     "text": [
      "&nbsp;(!)&nbsp;&nbsp;\n",
      "&nbsp;(!)&nbsp;&nbsp;\n",
      "&nbsp;(!)&nbsp;&nbsp;\n",
      "_..&nbsp;(!)&nbsp;&nbsp;\n",
      "._&nbsp;(!)&nbsp;&nbsp;\n",
      "_.&nbsp;(!)&nbsp;&nbsp;\n",
      "__.&nbsp;(!)&nbsp;&nbsp;\n",
      ".&nbsp;(!)&nbsp;&nbsp;\n",
      "._.&nbsp;(!)&nbsp;&nbsp;\n",
      "&nbsp;(!)&nbsp;&nbsp;\n",
      "&nbsp;(!)&nbsp;&nbsp;\n",
      "\n"
     ]
    }
   ],
   "source": [
    "print(new.replace(\"_._.__\", \"&nbsp;(!)&nbsp;&nbsp;\\n\"))"
   ]
  },
  {
   "cell_type": "code",
   "execution_count": null,
   "id": "d8989424-8642-48d0-9cd2-98b6c4d593f2",
   "metadata": {},
   "outputs": [],
   "source": []
  },
  {
   "cell_type": "code",
   "execution_count": null,
   "id": "da6d06ce-4c22-49a8-9034-820f9b005900",
   "metadata": {},
   "outputs": [],
   "source": []
  },
  {
   "cell_type": "code",
   "execution_count": null,
   "id": "e71ff2fe-b6cd-4dbf-9d97-6c58cfbecedd",
   "metadata": {},
   "outputs": [],
   "source": []
  },
  {
   "cell_type": "markdown",
   "id": "70d030d7-5ce1-43c7-bada-473f5e517888",
   "metadata": {
    "jp-MarkdownHeadingCollapsed": true,
    "tags": []
   },
   "source": [
    "### Challenge X - Part One:\n",
    "    \n",
    "## <u>Morse De-Code</u>\n",
    "\n",
    "<div><p>Welcome to your first day aboard the STS Space Ghost, where you'll be venturing into the vastness<br>\n",
    "of space for the very first time. After settling into your cabin, your next stop is to meet with the<br>\n",
    "Officer on Deck who will provide you with your inaugural job assignment.</p>\n",
    "\n",
    "<p>To your surprise, you find yourself entrusted with the important task of communications decoding,<br>\n",
    "despite your limited experience in the field. Fortunately, a stroke of luck comes your way when you<br>\n",
    "recall that a significant portion of space communications is conducted using \n",
    "    <a href=\"https://en.wikipedia.org/wiki/Morse_code\">Morse Code</a>.</p>\n",
    "\n",
    "\n",
    "<p>Although you've heard of Morse Code in passing, your understanding of it is a bit hazy. With a<br>\n",
    "sense of urgency, you frantically search through your desk drawer, and lo and behold! Serendipity leads<br>\n",
    "you to a weathered booklet with yellowed pages bearing the title \"Deciphering Morse Code.\"<br>\n",
    "Inside, you discover a comprehensive table containing Letter to Morse Code translations, along with a<br>\n",
    "detailed guide on how your machine interprets the input code:\n",
    "\n",
    "<ul>\n",
    "    <li>Letters in the words will be seperated by spaces</li>\n",
    "    <li>Words will be seperated by new lines ( \\n )</li>\n",
    "    <li>Dashes will be represented by underscore characters ( _ )</li>\n",
    "    <li>Dots will be represented by decimal characters ( . )</li>\n",
    "    <li>Dots and dashes for each letter or character will not have spaces between them</li>\n",
    "</ul>\n",
    "</p></div>\n",
    "\n",
    "<div><table style=\"float:left\">\n",
    "<thead>\n",
    "<tr>\n",
    "<th style=\"text-align:center\">Letter</th>\n",
    "<th style=\"text-align:center\">Code</th>\n",
    "<th style=\"text-align:left\"></th>\n",
    "<th style=\"text-align:center\">Letter</th>\n",
    "<th style=\"text-align:center\">Code</th>\n",
    "<th style=\"text-align:left\"></th>\n",
    "<th style=\"text-align:center\">Letter</th>\n",
    "<th style=\"text-align:center\">Code</th>\n",
    "</tr>\n",
    "</thead>\n",
    "<tbody>\n",
    "<tr>\n",
    "<td style=\"text-align:center\">A</td>\n",
    "<td style=\"text-align:center\">. _</td>\n",
    "<td style=\"text-align:left\"></td>\n",
    "<td style=\"text-align:center\">K</td>\n",
    "<td style=\"text-align:center\">_ . _</td>\n",
    "<td style=\"text-align:left\"></td>\n",
    "<td style=\"text-align:center\">U</td>\n",
    "<td style=\"text-align:center\">. . _</td>\n",
    "</tr>\n",
    "<tr>\n",
    "<td style=\"text-align:center\">B</td>\n",
    "<td style=\"text-align:center\">_ . . .</td>\n",
    "<td style=\"text-align:left\"></td>\n",
    "<td style=\"text-align:center\">L</td>\n",
    "<td style=\"text-align:center\">. _ . .</td>\n",
    "<td style=\"text-align:left\"></td>\n",
    "<td style=\"text-align:center\">V</td>\n",
    "<td style=\"text-align:center\">. . . _</td>\n",
    "</tr>\n",
    "<tr>\n",
    "<td style=\"text-align:center\">C</td>\n",
    "<td style=\"text-align:center\">_ . _ .</td>\n",
    "<td style=\"text-align:left\"></td>\n",
    "<td style=\"text-align:center\">M</td>\n",
    "<td style=\"text-align:center\"><em>_ _</em></td>\n",
    "<td style=\"text-align:left\"></td>\n",
    "<td style=\"text-align:center\">W</td>\n",
    "<td style=\"text-align:center\">. _ _</td>\n",
    "</tr>\n",
    "<tr>\n",
    "<td style=\"text-align:center\">D</td>\n",
    "<td style=\"text-align:center\">_ . .</td>\n",
    "<td style=\"text-align:left\"></td>\n",
    "<td style=\"text-align:center\">N</td>\n",
    "<td style=\"text-align:center\">_ .</td>\n",
    "<td style=\"text-align:left\"></td>\n",
    "<td style=\"text-align:center\">X</td>\n",
    "<td style=\"text-align:center\">_ . . _</td>\n",
    "</tr>\n",
    "<tr>\n",
    "<td style=\"text-align:center\">E</td>\n",
    "<td style=\"text-align:center\">.</td>\n",
    "<td style=\"text-align:left\"></td>\n",
    "<td style=\"text-align:center\">O</td>\n",
    "<td style=\"text-align:center\">_ _ _</td>\n",
    "<td style=\"text-align:left\"></td>\n",
    "<td style=\"text-align:center\">Y</td>\n",
    "<td style=\"text-align:center\">_ . _ _</td>\n",
    "</tr>\n",
    "<tr>\n",
    "<td style=\"text-align:center\">F</td>\n",
    "<td style=\"text-align:center\">. . _ .</td>\n",
    "<td style=\"text-align:left\"></td>\n",
    "<td style=\"text-align:center\">P</td>\n",
    "<td style=\"text-align:center\">. _ _ .</td>\n",
    "<td style=\"text-align:left\"></td>\n",
    "<td style=\"text-align:center\">Z</td>\n",
    "<td style=\"text-align:center\">_ _ . .</td>\n",
    "</tr>\n",
    "<tr>\n",
    "<td style=\"text-align:center\">G</td>\n",
    "<td style=\"text-align:center\">_ _ .</td>\n",
    "<td style=\"text-align:left\"></td>\n",
    "<td style=\"text-align:center\">Q</td>\n",
    "<td style=\"text-align:center\">_ _ . _</td>\n",
    "<td style=\"text-align:left\"></td>\n",
    "<td style=\"text-align:center\">.</td>\n",
    "<td style=\"text-align:center\">. _ . _ . _</td>\n",
    "</tr>\n",
    "<tr>\n",
    "<td style=\"text-align:center\">H</td>\n",
    "<td style=\"text-align:center\">. . . .</td>\n",
    "<td style=\"text-align:left\"></td>\n",
    "<td style=\"text-align:center\">R</td>\n",
    "<td style=\"text-align:center\">. _ .</td>\n",
    "<td style=\"text-align:left\"></td>\n",
    "<td style=\"text-align:center\">?</td>\n",
    "<td style=\"text-align:center\">. . _ _ . .</td>\n",
    "</tr>\n",
    "<tr>\n",
    "<td style=\"text-align:center\">I</td>\n",
    "<td style=\"text-align:center\">. .</td>\n",
    "<td style=\"text-align:left\"></td>\n",
    "<td style=\"text-align:center\">S</td>\n",
    "<td style=\"text-align:center\">. . .</td>\n",
    "<td style=\"text-align:left\"></td>\n",
    "<td style=\"text-align:center\">!</td>\n",
    "<td style=\"text-align:center\">_ . _ . _ _</td>\n",
    "</tr>\n",
    "<tr>\n",
    "<td style=\"text-align:center\">J</td>\n",
    "<td style=\"text-align:center\">. _ _ _</td>\n",
    "<td style=\"text-align:left\"></td>\n",
    "<td style=\"text-align:center\">T</td>\n",
    "<td style=\"text-align:center\">_</td>\n",
    "<td style=\"text-align:left\"></td>\n",
    "<td style=\"text-align:center\">-</td>\n",
    "<td style=\"text-align:center\">_ . . . . _</td>\n",
    "</tr>\n",
    "</tbody>\n",
    "</table>\n",
    "<p><br></p>\n",
    "<p><em>\n",
    "    &emsp;This table shows the corresponding code for each letter<br> \n",
    "    &emsp;or symbol with spaces between each dot or dash for ease<br>\n",
    "    &emsp;of viewing. Remember, as per the rules of input, the<br>\n",
    "    &emsp;actual input will not contain spaces between the dots<br>\n",
    "    &emsp;and dashes for a single character\n",
    "</em></p>\n",
    "<p><br><br><br>\n",
    "    &emsp;Additional symbols and numerical digits are not required<br>\n",
    "    &emsp;for this challenge but can be included in your solution <br>\n",
    "    &emsp;if you would like.\n",
    "</p><br></div>\n",
    "\n",
    "#### For example:\n",
    "<p><code>... .__. ._ _._. . \n",
    "__. .... ___ ... _</code><br>\n",
    "will result in \"SPACE GHOST\". Each word is seperated by a new line character<br>\n",
    "and each letter in the words \"SPACE\" and \"GHOST\" are seperated by a space, <br>\n",
    "but there are no spaces between the Morse Code dashes and dots of individual<br>\n",
    "letters: <br>\n",
    "\"O\" is <code>___</code> not <code>_ _ _</code><br>\n",
    "\"H\" is <code>.__.</code> not <code>. _ _ .</code></p>\n",
    "\n",
    "<div><p>You decide that you should quickly make a python script which reads the input from the machine<br>\n",
    "And decodes the Morse Code into text for you. Just in time to because the first message is<br>\n",
    "already coming in...</p>\n",
    "\n",
    "<p>Decode<br>\n",
    "<code>.__ . \n",
    ".... ._ ..._ . \n",
    ".... . ._ ._. _.. \n",
    "... _ ___ ._. .. . ... \n",
    "___ .._. \n",
    "_ .... .. ... \n",
    "__.. ___ ._. ._ _._ ._._._ \n",
    ".__ .... ._ _ \n",
    ".. ... \n",
    "__.. ___ ._. ._ _._ ..__..</code></p></div>\n",
    "\n",
    "<div><input type=\"text\" id=\"answer\" placeholder=\"The text is...\"></div>"
   ]
  },
  {
   "cell_type": "markdown",
   "id": "9d1dda80-22b2-48c3-b808-32a1c1dd0436",
   "metadata": {
    "tags": []
   },
   "source": [
    "### Challenge X - Part Two:\n",
    "    \n",
    "## <u>Something Alien...</u>\n",
    "\n",
    "<div><p>Just as you translate the question recieved, another source has sent a reply.<br>\n",
    "Perhaps this is the answer to the question previously asked? But the contents of the<br>\n",
    "incoming message cause your script to error. This is not Morse Code. This looks instead<br>\n",
    "like something alien.</p>\n",
    "    \n",
    "<p>Rather than panic and run to your supervisor, you set your mind toward solving this<br>\n",
    "problem on your own. This clearly cannot be the first time your machine has intercepted<br>\n",
    "alien communication. You re-read your Morse Code booklet to no avail and open up your<br>\n",
    "desk drawer to see if there is anything else that might be of use... Nothing.</p>\n",
    "    \n",
    "<p>Sighing heavily and putting your head in your hands, you catch a glimpse of a poster<br>\n",
    "on the wall beside your monitor. It is titled \"U.B.M. for Alien Communication\". Has this<br>\n",
    "been here the whole time? You continue reading...</p>\n",
    "    \n",
    "<p>The poster outlines that before converting from Morse Code to text, alien communication<br>\n",
    "must first be translated into Unicode, and then Binary.</p></div>\n",
    "<ol>\n",
    "<li>Convert each character to Unicode</li>\n",
    "<li>Concatenate those numbers to one large integer and convert that number to Binary</li>\n",
    "<li>Convert the Binary into Morse Code by considering the 0s dots and the 1s dashes</li>\n",
    "<li>Convert the Morse Code to text</li>\n",
    "</ol>\n",
    "\n",
    "<div><p>Here's an example of the alien input <code>ʄɾÄΨREmϣ</code>.</p>\n",
    "<ol>\n",
    "<li>Convert each character to Unicode<br>\n",
    "    You get <code>ʄ=644 ɾ=638 Ä=196 Ψ=936 R=82 E=69 m=109 ϣ=995</code></li>\n",
    "<li>Concatenate those numbers to one large integer and convert that number to Binary<br>\n",
    "    You get <code>1010111010111010110000101011001101011111010110110101110101011101011101011</code></li>\n",
    "<li>Convert the Binary into Morse Code by considering the 0s dots and the 1s dashes<br>\n",
    "    You get<code>_._.___._.___._.__...._._.__..__._._____._.__.__._.___._._.___._.___._.__</code></li>\n",
    "<li>Convert the Morse Code to text<br>\n",
    "    hmmm...</code></li>\n",
    "</ol>\n",
    "\n",
    "<p>Unlike before, there are no spaces between letters, or new lines between words.<br>\n",
    "Could this day get and more difficult? Wait... What's this? You notice a small asterisk<br>\n",
    "drawn next to this step in pen on the poster and a footnote handwritten at the bottom.</p>\n",
    "\n",
    "<p>\"Alien communication is always only one word.\" Well that certainly makes this easier... But what about the spaces?<br>\n",
    "You continue reading. \"Each recieved alien transmission begins with three <a href= \"https://en.wikipedia.org/wiki/Exclamation_mark\">Exclamation Marks</a> at the start and end<br>\n",
    "of the message with an additional exclamation mark between each letter.\"</p>\n",
    "\n",
    "<p>Taking this into consideration, your Morse Code actually looks like this:<br>\n",
    "<code>.... .._ __ ._ _.</code><br><br>\n",
    "Taking your original code<br>\n",
    "<code>_._.___._.___._.__...._._.__..__._._____._.__.__._.___._._.___._.___._.__</code><br>\n",
    "And separating the exclamation marks<br>\n",
    "<code> (!)   (!)   (!)  ....  (!) .._ (!) __  (!)  ._ (!)  _. (!)   (!)   (!)  </code><br>\n",
    "To get the result<br>\n",
    "<code>.... .._ __ ._ _.</code></p>\n",
    "\n",
    "\n",
    "<p>Translating <code>.... .._ __ ._ _.</code> into text gives you \"HUMAN\".<br>\n",
    "So <code>ʄɾÄΨREmϣ</code> translates to <code>HUMAN</code></p>\n",
    "\n",
    "<p><br>Ok. You think you've got the hang of this!<br>\n",
    "The message you recieved is <code>ØıŖʬĴ˅ˁ˚ʝģ</code><br>\n",
    "What is Zorak?</p>\n",
    "\n",
    "<div><input type=\"text\" id=\"answer\" placeholder=\"The answer is...\"></div>"
   ]
  },
  {
   "cell_type": "raw",
   "id": "8107d864-ed76-4dbf-9efd-cc13e20fe957",
   "metadata": {},
   "source": [
    ".__ .\n",
    ".... ._ ..._ .\n",
    ".... . ._ ._. _..\n",
    "... _ ___ ._. .. . ...\n",
    "___ .._.\n",
    "... .__. ._ _._. ."
   ]
  },
  {
   "cell_type": "raw",
   "id": "43f7ae3b-6f9c-4e3f-bd50-09af7aeb1f4c",
   "metadata": {
    "tags": []
   },
   "source": [
    "'\"Deciphering Morse Code\" a TopNet(_ ___ .__. _. . _) Retroflex Inc. Publication'"
   ]
  },
  {
   "cell_type": "code",
   "execution_count": 8,
   "id": "eeed830a-5c65-44dd-94b0-d74319a4871f",
   "metadata": {
    "tags": []
   },
   "outputs": [],
   "source": [
    "# EE"
   ]
  },
  {
   "cell_type": "code",
   "execution_count": 9,
   "id": "0af8e313-d3a3-4c21-b663-d9638410ae0e",
   "metadata": {
    "tags": []
   },
   "outputs": [],
   "source": [
    "swaps = {\n",
    "    'A': 'N', 'N': 'A', 'B': 'V', 'V': 'B', 'D': 'U', 'U': 'D', 'F': 'L', 'L': 'F', 'G': 'W', 'W': 'G', 'Q': 'Y', \n",
    "    'Y': 'Q', 'E': 'E', 'H': 'H', 'I': 'I', 'K': 'K', 'M': 'M', 'O': 'O', 'P': 'P', 'R': 'R', 'S': 'S', 'T': 'T'\n",
    "}"
   ]
  },
  {
   "cell_type": "code",
   "execution_count": 10,
   "id": "2efc4ab0-8ae7-4e82-9b15-621d7836143e",
   "metadata": {
    "tags": []
   },
   "outputs": [
    {
     "data": {
      "text/plain": [
       "'TEAPOT'"
      ]
     },
     "execution_count": 10,
     "metadata": {},
     "output_type": "execute_result"
    }
   ],
   "source": [
    "word = \"topnet\".upper()\n",
    "\n",
    "\"\".join(swaps[c] for c in word[::-1] if c in swaps)"
   ]
  },
  {
   "cell_type": "code",
   "execution_count": 11,
   "id": "13bdff98-ef07-4c26-b648-0ce1b4643b97",
   "metadata": {
    "tags": []
   },
   "outputs": [
    {
     "data": {
      "text/plain": [
       "'_ ___ .__. _. . _'"
      ]
     },
     "execution_count": 11,
     "metadata": {},
     "output_type": "execute_result"
    }
   ],
   "source": [
    "\" \".join(table[c] for c in \"TOPNET\")"
   ]
  },
  {
   "cell_type": "code",
   "execution_count": 12,
   "id": "c75543c8-2006-445f-b9ec-fe3bad3942cc",
   "metadata": {
    "tags": []
   },
   "outputs": [
    {
     "data": {
      "text/plain": [
       "'_ . ._ .__. ___ _'"
      ]
     },
     "execution_count": 12,
     "metadata": {},
     "output_type": "execute_result"
    }
   ],
   "source": [
    "\" \".join(table[c] for c in \"TEAPOT\")"
   ]
  },
  {
   "cell_type": "code",
   "execution_count": null,
   "id": "0f9d43fd-cf84-4ab6-9875-458db6f36de4",
   "metadata": {
    "tags": []
   },
   "outputs": [],
   "source": []
  },
  {
   "cell_type": "code",
   "execution_count": null,
   "id": "e92cbcc3-f907-4af0-a8d8-34f543a92721",
   "metadata": {},
   "outputs": [],
   "source": []
  },
  {
   "cell_type": "code",
   "execution_count": null,
   "id": "ffd8e12f-267f-41e9-86c7-8a1916680764",
   "metadata": {},
   "outputs": [],
   "source": []
  },
  {
   "cell_type": "code",
   "execution_count": null,
   "id": "019d144b-126a-4b50-9288-0caf326885d4",
   "metadata": {},
   "outputs": [],
   "source": []
  },
  {
   "cell_type": "code",
   "execution_count": 13,
   "id": "6c7c8d84-0871-410d-94db-6d277e265550",
   "metadata": {
    "tags": []
   },
   "outputs": [
    {
     "name": "stdout",
     "output_type": "stream",
     "text": [
      "DONE\n"
     ]
    }
   ],
   "source": [
    "from PIL import Image, ImageSequence\n",
    "\n",
    "def process_gif(input_path, output_path):\n",
    "    with Image.open(input_path) as im:\n",
    "        frames = []\n",
    "        durations = []\n",
    "        for frame in ImageSequence.Iterator(im):\n",
    "            frames.append(frame.copy())\n",
    "            durations.append(frame.info['duration'])\n",
    "\n",
    "        frames[0].save(\n",
    "            output_path,\n",
    "            save_all=True,\n",
    "            append_images=frames[1:],\n",
    "            loop=None,\n",
    "            duration=durations\n",
    "        )\n",
    "\n",
    "\n",
    "input_gif = \"computer.gif\"\n",
    "output_gif = \"computer_norep.gif\"\n",
    "\n",
    "process_gif(input_gif, output_gif)\n",
    "print(\"DONE\")"
   ]
  },
  {
   "cell_type": "code",
   "execution_count": null,
   "id": "fc5ef52e-cf0c-4d48-b90f-441a752cf125",
   "metadata": {},
   "outputs": [],
   "source": []
  },
  {
   "cell_type": "code",
   "execution_count": null,
   "id": "896ac8f0-aed1-4dc2-bcfc-12c4f3d6c5b3",
   "metadata": {},
   "outputs": [],
   "source": []
  }
 ],
 "metadata": {
  "kernelspec": {
   "display_name": "Python 3 (ipykernel)",
   "language": "python",
   "name": "python3"
  },
  "language_info": {
   "codemirror_mode": {
    "name": "ipython",
    "version": 3
   },
   "file_extension": ".py",
   "mimetype": "text/x-python",
   "name": "python",
   "nbconvert_exporter": "python",
   "pygments_lexer": "ipython3",
   "version": "3.10.9"
  }
 },
 "nbformat": 4,
 "nbformat_minor": 5
}
