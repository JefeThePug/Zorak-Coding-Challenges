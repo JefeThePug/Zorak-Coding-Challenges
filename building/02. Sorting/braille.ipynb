{
 "cells": [
  {
   "cell_type": "code",
   "execution_count": 5,
   "id": "ac3fe0b7-f843-49ab-823a-7488938e669a",
   "metadata": {
    "tags": []
   },
   "outputs": [
    {
     "name": "stdout",
     "output_type": "stream",
     "text": [
      "{'A': '⠁', 'B': '⠃', 'C': '⠉', 'D': '⠙', 'E': '⠑', 'F': '⠋', 'G': '⠛', 'H': '⠓', 'I': '⠊', 'J': '⠚', 'K': '⠅', 'L': '⠇', 'M': '⠍', 'N': '⠝', 'O': '⠕', 'P': '⠏', 'Q': '⠟', 'R': '⠗', 'S': '⠎', 'T': '⠞', 'U': '⠥', 'V': '⠧', 'W': '⠺', 'X': '⠭', 'Y': '⠽', 'Z': '⠵'}\n"
     ]
    }
   ],
   "source": [
    "braille = {\n",
    "    'A': '⠁', 'B': '⠃', 'C': '⠉', 'D': '⠙', 'E': '⠑', 'F': '⠋', 'G': '⠛', \n",
    "    'H': '⠓', 'I': '⠊', 'J': '⠚', 'K': '⠅', 'L': '⠇', 'M': '⠍', 'N': '⠝', \n",
    "    'O': '⠕', 'P': '⠏', 'Q': '⠟', 'R': '⠗', 'S': '⠎', 'T': '⠞', 'U': '⠥', \n",
    "    'V': '⠧', 'W': '⠺', 'X': '⠭', 'Y': '⠽', 'Z': '⠵'\n",
    "}\n",
    "print(braille)"
   ]
  },
  {
   "cell_type": "code",
   "execution_count": 23,
   "id": "51935188-f144-4628-a90b-a4172a593c59",
   "metadata": {
    "tags": []
   },
   "outputs": [],
   "source": [
    "braille_chart = {\n",
    "    \"A\": [1,0,0,0,0,0], \"B\": [1,0,1,0,0,0], \"C\": [1,1,0,0,0,0], \"D\": [1,1,0,1,0,0],\n",
    "    \"E\": [1,0,0,1,0,0], \"F\": [1,1,1,0,0,0], \"G\": [1,1,1,1,0,0], \"H\": [1,0,1,1,0,0],\n",
    "    \"I\": [0,1,1,0,0,0], \"J\": [0,1,1,1,0,0], \"K\": [1,0,0,0,1,0], \"L\": [1,0,1,0,1,0],\n",
    "    \"M\": [1,1,0,0,1,0], \"N\": [1,1,0,1,1,0], \"O\": [1,0,0,1,1,0], \"P\": [1,1,1,0,1,0],\n",
    "    \"Q\": [1,1,1,1,1,0], \"R\": [1,0,1,1,1,0], \"S\": [0,1,1,0,1,0], \"T\": [0,1,1,1,1,0],\n",
    "    \"U\": [1,0,0,0,1,1], \"V\": [1,0,1,0,1,1], \"W\": [0,1,1,1,0,1], \"X\": [1,1,0,0,1,1],\n",
    "    \"Y\": [1,1,0,1,1,1], \"Z\": [1,0,0,1,1,1],\n",
    "}"
   ]
  },
  {
   "cell_type": "code",
   "execution_count": 54,
   "id": "84f6dd5c-35a7-49cf-bc28-7ab1b3983c11",
   "metadata": {
    "tags": []
   },
   "outputs": [
    {
     "name": "stdout",
     "output_type": "stream",
     "text": [
      "⚪ 🔵 🔵 ⚪ ⚪ 🔵 🔵 🔵 ⚪ 🔵\n",
      "🔵 ⚪ 🔵 🔵 🔵 ⚪ 🔵 ⚪ 🔵 🔵\n",
      "🔵 ⚪ ⚪ ⚪ ⚪ ⚪ ⚪ ⚪ 🔵 ⚪\n",
      "🔵 ⚪ 🔵 ⚪ 🔵 🔵 🔵 ⚪ ⚪ 🔵\n",
      "🔵 ⚪ ⚪ 🔵 ⚪ ⚪ ⚪ 🔵 🔵 ⚪\n",
      "⚪ ⚪ 🔵 ⚪ 🔵 🔵 ⚪ ⚪ 🔵 ⚪\n"
     ]
    }
   ],
   "source": [
    "word = \"SHIFT BOXES\"\n",
    "\n",
    "display = []\n",
    "for w in word.split():\n",
    "    #print(\"\".join(f\"{c:^5}\" for c in w).center(10))\n",
    "    for row in range(0,6,2):\n",
    "        result = [\" \".join(\"⚪🔵\"[x] for x in braille_chart[c][row:row+2]) for c in w]\n",
    "        display.append(result)\n",
    "        print(*result, sep=\" \")"
   ]
  },
  {
   "cell_type": "code",
   "execution_count": 53,
   "id": "52e2ee31-136e-4d4a-83a9-b235b10c97cd",
   "metadata": {
    "tags": []
   },
   "outputs": [
    {
     "name": "stdout",
     "output_type": "stream",
     "text": [
      "⠎⠓⠊⠋⠞\n",
      "⠃⠕⠭⠑⠎\n"
     ]
    }
   ],
   "source": [
    "for w in word.split():\n",
    "    print(\"\".join(braille[c] for c in w))\n"
   ]
  },
  {
   "cell_type": "code",
   "execution_count": 59,
   "id": "17b59287-cd7c-42b6-b55a-f712cbb27d99",
   "metadata": {
    "tags": []
   },
   "outputs": [],
   "source": [
    "map = [\" \".join(i) for i in display]"
   ]
  },
  {
   "cell_type": "code",
   "execution_count": 65,
   "id": "9dd6b6f1-3626-42d9-9555-f437699f273c",
   "metadata": {
    "tags": []
   },
   "outputs": [
    {
     "data": {
      "text/plain": [
       "['⚪ 🔵 🔵 🔵 🔵 ⚪',\n",
       " '🔵 ⚪ ⚪ ⚪ ⚪ ⚪',\n",
       " '🔵 🔵 ⚪ 🔵 ⚪ 🔵',\n",
       " '⚪ 🔵 ⚪ ⚪ 🔵 ⚪',\n",
       " '⚪ 🔵 ⚪ 🔵 ⚪ 🔵',\n",
       " '🔵 ⚪ ⚪ 🔵 ⚪ 🔵',\n",
       " '🔵 🔵 ⚪ 🔵 ⚪ ⚪',\n",
       " '🔵 ⚪ ⚪ ⚪ 🔵 ⚪',\n",
       " '⚪ 🔵 🔵 ⚪ 🔵 🔵',\n",
       " '🔵 🔵 ⚪ 🔵 ⚪ ⚪']"
      ]
     },
     "execution_count": 65,
     "metadata": {},
     "output_type": "execute_result"
    }
   ],
   "source": [
    "[x for i in zip(*map) if (x:=\" \".join(i)).strip()]"
   ]
  },
  {
   "cell_type": "code",
   "execution_count": null,
   "id": "db82be04-2240-4e4a-98ea-41519717f672",
   "metadata": {},
   "outputs": [],
   "source": []
  }
 ],
 "metadata": {
  "kernelspec": {
   "display_name": "Python 3 (ipykernel)",
   "language": "python",
   "name": "python3"
  },
  "language_info": {
   "codemirror_mode": {
    "name": "ipython",
    "version": 3
   },
   "file_extension": ".py",
   "mimetype": "text/x-python",
   "name": "python",
   "nbconvert_exporter": "python",
   "pygments_lexer": "ipython3",
   "version": "3.10.9"
  }
 },
 "nbformat": 4,
 "nbformat_minor": 5
}
