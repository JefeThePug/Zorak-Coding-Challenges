{
 "cells": [
  {
   "cell_type": "code",
   "execution_count": null,
   "id": "8296f10f-70e0-422c-877e-8969d6b92392",
   "metadata": {},
   "outputs": [],
   "source": [
    "# NUMPY \"Neoteric Unit for Mass Package Yielding\""
   ]
  },
  {
   "cell_type": "raw",
   "id": "401ca448-95db-4cda-ae20-da474de378e0",
   "metadata": {},
   "source": [
    "Package Spheres in individual chutes. Need to be pulled one at a time (FIFO). Final result is one sphere from each chute drawn.\n",
    "\n",
    "eg.\n",
    "┎───┰───┰───┰───┰───┒\n",
    "┃   ┃   ┃(X)┃   ┃   ┃\n",
    "┣━━━╋━━━╋━━━╋━━━╋━━━┫\n",
    "┃(A)┃   ┃(B)┃   ┃   ┃\n",
    "┣━━━╋━━━╋━━━╋━━━╋━━━┫\n",
    "┃(R)┃(F)┃(O)┃   ┃   ┃\n",
    "┣━━━╋━━━╋━━━╋━━━╋━━━┫\n",
    "┃(Y)┃(H)┃(P)┃   ┃(X)┃\n",
    "┣━━━╋━━━╋━━━╋━━━╋━━━┫\n",
    "┃ 0 ┃ 1 ┃ 2 ┃ 3 ┃ 4 ┃\n",
    "┗━━━┻━━━┻━━━┻━━━┻━━━┛"
   ]
  },
  {
   "cell_type": "markdown",
   "id": "af4b4f66-417b-493f-ae45-ad652b4a2f09",
   "metadata": {},
   "source": [
    "# BUILDING"
   ]
  },
  {
   "cell_type": "code",
   "execution_count": 78,
   "id": "43f663e8-b078-4648-913f-efe47afddf0e",
   "metadata": {
    "tags": []
   },
   "outputs": [
    {
     "name": "stdout",
     "output_type": "stream",
     "text": [
      "['L5', 'U4', 'R4', 'D3', 'L1', 'U3', 'L1', 'D4', 'R3', 'U10', 'L3', 'D4', 'R6', 'U4', 'L6', 'D4', 'L1', 'U10', 'L3', 'D5', 'L5', 'U3', 'R4', 'D5', 'R3', 'U4', 'L3', 'D3', 'L1', 'U2', 'L2', 'D5', 'R3', 'U5', 'L3', 'D7', 'L4', 'U5', 'R4', 'D9', 'R5', 'U6', 'L5', 'D4', 'R5', 'U8', 'R4', 'D6', 'R3', 'U7', 'L2', 'D9', 'L1', 'U10', 'L4', 'D4', 'L3', 'U7', 'R6', 'D9', 'R5', 'U2', 'L6', 'D1', 'R6', 'U3', 'R3', 'D2', 'L4', 'U3', 'R5', 'D3', 'L6', 'U9', 'L3', 'D6', 'R3', 'U8', 'L1', 'D4', 'R6', 'U8', 'L5', 'D9', 'R1', 'U5', 'L4', 'D9', 'R4', 'U2', 'L3', 'D2', 'R2', 'U6', 'L6', 'D2', 'L5', 'U5', 'R1', 'D2', 'L1', 'U2', 'R6', 'D8', 'R4', 'U10', 'R3', 'D1', 'L4', 'U5', 'L4', 'D6', 'R4', 'U2', 'R4', 'D10', 'L2', 'U5', 'R1', 'D4', 'L3', 'U7', 'R6', 'D10', 'R2', 'U3', 'R2', 'D4', 'R1', 'U8', 'L6', 'D5', 'L1', 'U2', 'R4', 'D4', 'R1', 'U3', 'R6', 'D9', 'R4', 'U2', 'R1', 'D5', 'L3', 'U10', 'R5', 'D8', 'L3', 'U1', 'R3', 'D1', 'L3', 'U7', 'L4', 'D8', 'L3', 'U6', 'R1', 'D5', 'R3', 'U9', 'R5', 'D7', 'L3', 'U6', 'R3', 'D6', 'R1', 'U1', 'R4', 'D9', 'R1', 'U10', 'L5', 'D5', 'L5', 'U5', 'R5', 'D1', 'L6', 'U9', 'R4', 'D1', 'L6', 'U8', 'L3', 'D1', 'R3', 'U8', 'L1', 'D2', 'R2', 'U9', 'R5', 'D10', 'R1', 'U8', 'L4', 'D1']\n"
     ]
    }
   ],
   "source": [
    "print(CMDS)"
   ]
  },
  {
   "cell_type": "code",
   "execution_count": 113,
   "id": "b1635d75-12f5-4f17-ae08-148b820e7b58",
   "metadata": {
    "tags": []
   },
   "outputs": [
    {
     "name": "stdout",
     "output_type": "stream",
     "text": [
      "sm=0 lg=39 ps={0, 1, 3, 4, 5, 6, 7, 8, 9, 10, 11, 12, 13, 14, 15, 16, 17, 18, 19, 20, 21, 22, 23, 24, 25, 26, 27, 28, 29, 30, 31, 32, 33, 34, 35, 36, 38, 39}\n",
      "{2, 37}\n"
     ]
    }
   ],
   "source": [
    "from random import choice, randint\n",
    "\n",
    "# CMDS = []\n",
    "# holding = False\n",
    "\n",
    "# for _ in range(100):\n",
    "#     cmd = [f'{choice(\"RL\")}{randint(1,6)}',f'{\"UD\"[holding]}{randint(1,10)}']\n",
    "#     CMDS += cmd\n",
    "#     holding = not holding\n",
    "# print(CMDS)\n",
    "with open(\"instructions_A.txt\") as f:\n",
    "    CMDS = f.read().strip().split(\",\")\n",
    "\n",
    "sm = 50000\n",
    "lg = 0\n",
    "p = 12\n",
    "ps = set([p])\n",
    "\n",
    "for i, c in enumerate(CMDS):\n",
    "    d, *n = c\n",
    "    n = int(\"\".join(n))\n",
    "    if d == \"R\":\n",
    "        p += n\n",
    "    elif d == \"L\":\n",
    "        p -= n\n",
    "    #if i%2: print(f\"\\t\\t\\t\\t{p=} {c=}\")\n",
    "    ps.add(p)\n",
    "    sm = min(sm, p)\n",
    "    lg = max(lg, p)\n",
    "print(f\"{sm=} {lg=} {ps=}\")        \n",
    "\n",
    "print(ps.symmetric_difference(range(sm, lg + 1)))"
   ]
  },
  {
   "cell_type": "code",
   "execution_count": 98,
   "id": "f2f42372-3ff6-4d41-adfc-d3e0946463be",
   "metadata": {
    "tags": []
   },
   "outputs": [
    {
     "name": "stdout",
     "output_type": "stream",
     "text": [
      "{2, 37}\n"
     ]
    }
   ],
   "source": [
    "from string import ascii_letters\n",
    "boxes = [[] for _ in range(40)]\n",
    "\n",
    "pool = iter(ascii_letters)\n",
    "p = 12\n",
    "used = set()\n",
    "for d, c in zip(CMDS[::2], CMDS[1::2]):\n",
    "    d, *n = d\n",
    "    n = int(\"\".join(n))\n",
    "    if d == \"R\":\n",
    "        p += n\n",
    "    elif d == \"L\":\n",
    "        p -= n\n",
    "    c, *n = c\n",
    "    n = int(\"\".join(n))\n",
    "    # print(f\"\\t\\t\\t\\t{p=}\")\n",
    "    used.add(p)\n",
    "    if c == \"U\":\n",
    "        ind = next(pool)\n",
    "        boxes[p].append(f\"{ind}^{c}^{n}\")\n",
    "    elif c == \"D\":\n",
    "        boxes[p].append(f\"{ind}_{c}_{n}\")\n",
    "        \n",
    "print(used.symmetric_difference(range(sm, lg + 1)))"
   ]
  },
  {
   "cell_type": "code",
   "execution_count": 100,
   "id": "8d636459-edad-4451-9c2a-bac99d5d52d3",
   "metadata": {
    "tags": []
   },
   "outputs": [],
   "source": [
    "from string import ascii_uppercase as uc"
   ]
  },
  {
   "cell_type": "code",
   "execution_count": 150,
   "id": "396703c1-d110-46d5-b1e4-7aac8c05dc81",
   "metadata": {
    "tags": []
   },
   "outputs": [
    {
     "name": "stdout",
     "output_type": "stream",
     "text": [
      "['0-G', '1-I', '2-I', '3-F']\n",
      "['4-M', '5-G', '6-X', '7-D', '8-H', '9-A']\n",
      "['10-C']\n",
      "['11-F', '12-A', '13-V']\n",
      "[]\n",
      "[]\n",
      "[]\n",
      "['14-N', '15-B', '16-B', '17-Q', '18-S', '19-N', '20-I', '21-C', '22-D', '23-P', '24-M', '25-X', '26-O', '27-H', '28-Y', '29-B']\n",
      "['30-K', '31-P', '32-F', '33-J', '34-X', '35-K', '36-P', '37-Y', '38-V', '39-C', '40-V', '41-C', '42-T', '43-Z', '44-Z', '45-J']\n",
      "[]\n",
      "['46-I', '47-U', '48-G', '49-N', '50-C', '51-P', '52-H', '53-U', '54-H', '55-K', '56-B', '57-L', '58-U', '59-C', '60-K', '61-K', '62-S']\n",
      "[]\n",
      "['63-Q', '64-T', '65-U', '66-P', '67-Q', '68-Z', '69-P', '70-X', '71-B', '72-D']\n",
      "[]\n",
      "['73-T', '74-V', '75-M', '76-J', '77-E', '78-D', '79-Z', '80-A', '81-G', '82-Z', '83-N', '84-E', '85-U', '86-B', '87-O', '88-L', '89-I']\n",
      "['90-A', '91-S', '92-R', '93-D']\n",
      "['94-X', '95-J', '96-A', '97-B', '98-W', '99-D', '100-Y', '101-X', '102-I', '103-P', '104-L', '105-G', '106-B', '107-A', '108-N', '109-M', '110-Y', '111-T', '112-B', '113-X']\n",
      "['114-O', '115-N', '116-N', '117-P', '118-Q', '119-L', '120-V', '121-H', '122-M', '123-F', '124-Y', '125-B', '126-A', '127-V', '128-X', '129-E', '130-F']\n",
      "['131-G', '132-I', '133-N', '134-C', '135-S']\n",
      "[]\n",
      "[]\n",
      "['136-F', '137-B', '138-J', '139-Z', '140-U', '141-E', '142-Z']\n",
      "[]\n",
      "['143-O', '144-M', '145-A']\n",
      "[]\n",
      "['146-X', '147-I', '148-J', '149-L', '150-Y', '151-X', '152-P', '153-H']\n",
      "['154-P', '155-D', '156-P', '157-Z', '158-Z', '159-V', '160-X', '161-E', '162-F', '163-D', '164-A', '165-R', '166-H', '167-X', '168-Z', '169-Q', '170-Q', '171-Z', '172-K', '173-A', '174-O', '175-J', '176-L']\n",
      "['177-U', '178-M', '179-J', '180-D', '181-E']\n",
      "['182-O', '183-E', '184-K', '185-F', '186-B', '187-K', '188-Y', '189-X', '190-A', '191-B']\n",
      "[]\n",
      "['192-L', '193-S', '194-H', '195-D', '196-L', '197-D', '198-I', '199-N', '200-R', '201-Z']\n",
      "['202-T', '203-K', '204-A', '205-K', '206-G', '207-L', '208-C', '209-T', '210-V', '211-D', '212-B']\n",
      "['213-G', '214-D', '215-O', '216-U', '217-O', '218-J']\n",
      "['219-E', '220-C', '221-G', '222-M', '223-I', '224-V', '225-W', '226-U', '227-C', '228-N', '229-T', '230-R', '231-X', '232-I', '233-C', '234-X', '235-V', '236-L', '237-R']\n",
      "[]\n",
      "[]\n",
      "[]\n",
      "['238-D']\n",
      "[]\n",
      "['239-G', '240-R', '241-H', '242-N', '243-W', '244-L', '245-G', '246-C', '247-P', '248-A', '249-T']\n"
     ]
    }
   ],
   "source": [
    "nums = [4, 6, 1, 3, 0, 0, 0, 16, 16, 0, 17, 0, 10, 0, 17, 4, 20, 17, 5, 0, 0, 7, 0, 3, 0, 8, 23, 5, 10, 0, 10, 11, 6, 19, 0, 0, 0, 1, 0, 11]\n",
    "ballnum = 0\n",
    "DISPENCER = []\n",
    "for n in nums:\n",
    "    tube = []\n",
    "    for i in range(n):\n",
    "        tube.append(f\"{ballnum}-{choice(uc)}\")\n",
    "        ballnum += 1\n",
    "    DISPENCER.append(tube)\n",
    "    \n",
    "print(*DISPENCER, sep=\"\\n\")"
   ]
  },
  {
   "cell_type": "code",
   "execution_count": null,
   "id": "431e2d74-6b75-43cd-ab21-0a0913d00723",
   "metadata": {
    "tags": []
   },
   "outputs": [],
   "source": []
  },
  {
   "cell_type": "code",
   "execution_count": null,
   "id": "8117dc17-acda-4783-8df2-9067c0ce3f7b",
   "metadata": {
    "tags": []
   },
   "outputs": [],
   "source": []
  },
  {
   "cell_type": "code",
   "execution_count": 185,
   "id": "0aedb53c-0f3f-41d5-b0dd-6b0577ceeb33",
   "metadata": {
    "tags": []
   },
   "outputs": [
    {
     "name": "stdout",
     "output_type": "stream",
     "text": [
      "1\t0\t6\t6\t11\t9\t10\t7\t5\t1\t3\t5\t3\t9\t7\t8\t9\t9\t12\t16\t15\t14\t14\t18\t21\t15\t24\t23\t15\t16\t13\t12\t15\t13\t7\t4\t6\t6\t5\t6\t8\t8\t0\t5\t9\t17\t24\t30\t29\t36\t"
     ]
    }
   ],
   "source": [
    "import re\n",
    "with open(\"instructions_A.txt\") as f:\n",
    "    steps = f.read().strip()\n",
    "    \n",
    "total = 0\n",
    "row = 0\n",
    "    \n",
    "for c, n in re.findall(r\"([DU])(\\d+)\", steps):\n",
    "    n = int(n)\n",
    "    if c==\"U\":\n",
    "        total += n\n",
    "    else:\n",
    "        total -= n\n",
    "        if total < 0:\n",
    "            print(f\"{row=}: {c}{n}   {total=}\", end=\"\\t\")\n",
    "            break\n",
    "        row += 1\n",
    "        print(total, end=\"\\t\")"
   ]
  },
  {
   "cell_type": "code",
   "execution_count": null,
   "id": "cfb64179-609d-44b6-8b9e-229ccb91e574",
   "metadata": {
    "tags": []
   },
   "outputs": [],
   "source": []
  },
  {
   "cell_type": "code",
   "execution_count": null,
   "id": "baf5a4d0-5bc9-4343-9b54-7f6568362077",
   "metadata": {
    "tags": []
   },
   "outputs": [],
   "source": []
  },
  {
   "cell_type": "code",
   "execution_count": 156,
   "id": "20f0bddb-08c7-4412-a246-ad9a33b167c9",
   "metadata": {
    "tags": []
   },
   "outputs": [],
   "source": [
    "data = {\n",
    "    \"3-F\": \"H\",\n",
    "    \"9-A\": \"U\",\n",
    "    \"10-C\": \"R\",\n",
    "    \"13-V\": \"R\",\n",
    "    \"93-D\": \"Y\",\n",
    "    \"19-N\": \"!\",\n",
    "    \"139-Z\": \" \",\n",
    "    \"29-B\": \"H\",\n",
    "    \"45-J\": \"E\",\n",
    "    \"17-Q\": \"'\",\n",
    "    \"118-Q\": \"S\",\n",
    "    \"14-N\": \" \",\n",
    "    \"22-D\": \"C\",\n",
    "    \"74-V\": \"O\",\n",
    "    \"136-F\": \"M\",\n",
    "    \"122-M\": \"I\",\n",
    "    \"103-P\": \"N\",\n",
    "    \"60-K\": \"G\",\n",
    "    \"71-B\": \".\",\n",
    "    \"101-X\": \" \",\n",
    "    \"115-N\": \"T\",\n",
    "    \"24-M\": \"I\",\n",
    "    \"55-K\": \"M\",\n",
    "    \"246-C\": \"E\",\n",
    "    \"89-I\": \" \",\n",
    "    \"247-P\": \"I\",\n",
    "    \"176-L\": \"S\",\n",
    "    \"228-N\": \" \",\n",
    "    \"191-B\": \"R\",\n",
    "    \"148-J\": \"U\",\n",
    "    \"201-Z\": \"N\",\n",
    "    \"212-B\": \"N\",\n",
    "    \"245-G\": \"I\",\n",
    "    \"237-R\": \"N\",\n",
    "    \"152-P\": \"G\",\n",
    "    \"154-P\": \" \",\n",
    "    \"145-A\": \"O\",\n",
    "    \"238-D\": \"U\",\n",
    "    \"199-N\": \"T\",\n",
    "    \"249-T\": \"!\"\n",
    "}"
   ]
  },
  {
   "cell_type": "code",
   "execution_count": 161,
   "id": "1046abe0-6395-4423-8c64-cf009f180228",
   "metadata": {
    "tags": []
   },
   "outputs": [
    {
     "name": "stdout",
     "output_type": "stream",
     "text": [
      "M,R,M,H\n",
      " ,H,-,T,D,U\n",
      "R\n",
      "K,B,R\n",
      "\n",
      "\n",
      "\n",
      " ,G,I,',',!,N,Y,C, ,I,T,A,!,I,H\n",
      "?,L,U,U,Y,V,P,A,M,I,E,B,G, ,J,E\n",
      "\n",
      "E,G,J,J,',X,F,U,?,M,W,Q,',L,G,A,-\n",
      "\n",
      ".,L, ,J,O,Z,O,A,.,J\n",
      "\n",
      "Y,O,I,:,Y,O,X,-,.,N,O,O,G,C,U,!, \n",
      "',J,B,Y\n",
      " ,R,P,V,K,!,F, , ,N,!,J,V,J,:,D,N,C,A,P\n",
      "K,T,!,H,S,I,',P,I,D,.,M,.,',O,W, \n",
      "F,F,V,.,U\n",
      "\n",
      "\n",
      "M,A,R, ,!,V,Y\n",
      "\n",
      "O,K,O\n",
      "\n",
      "G,Q,U,M,H,?,G,!\n",
      " ,H,X,W,H,.,K,Z,D,V,?,?,H,G,I,K,X,H,A,C,!,Q,S\n",
      "K,!,T,U,H\n",
      "J,S,;,H,V,B,Z,.,O,R\n",
      "\n",
      "B,R,B,F,C,',I,T,G,N\n",
      "J,K,',W,Q,C,A,',W,V,N\n",
      ";,K,G,M,E,V\n",
      "R,L, ,L,W,S,Y,R,C, ,L,T,U,:,W,C,K,N,N\n",
      "\n",
      "\n",
      "\n",
      "U\n",
      "\n",
      "',S,X,T,V,B,I,E,I,;,!\n"
     ]
    }
   ],
   "source": [
    "DISPENCER = [\n",
    "    ['0-G', '1-I', '2-I', '3-F'],\n",
    "    ['4-M', '5-G', '6-X', '7-D', '8-H', '9-A'],\n",
    "    ['10-C'],\n",
    "    ['11-F', '12-A', '13-V'],\n",
    "    [],\n",
    "    [],\n",
    "    [],\n",
    "    ['14-N', '15-B', '16-B', '17-Q', '18-S', '19-N', '20-I', '21-C', '22-D', '23-P', '24-M', '25-X', '26-O', '27-H', '28-Y', '29-B'],\n",
    "    ['30-K', '31-P', '32-F', '33-J', '34-X', '35-K', '36-P', '37-Y', '38-V', '39-C', '40-V', '41-C', '42-T', '43-Z', '44-Z', '45-J'],\n",
    "    [],\n",
    "    ['46-I', '47-U', '48-G', '49-N', '50-C', '51-P', '52-H', '53-U', '54-H', '55-K', '56-B', '57-L', '58-U', '59-C', '60-K', '61-K', '62-S'],\n",
    "    [],\n",
    "    ['63-Q', '64-T', '65-U', '66-P', '67-Q', '68-Z', '69-P', '70-X', '71-B', '72-D'],\n",
    "    [],\n",
    "    ['73-T', '74-V', '75-M', '76-J', '77-E', '78-D', '79-Z', '80-A', '81-G', '82-Z', '83-N', '84-E', '85-U', '86-B', '87-O', '88-L', '89-I'],\n",
    "    ['90-A', '91-S', '92-R', '93-D'],\n",
    "    ['94-X', '95-J', '96-A', '97-B', '98-W', '99-D', '100-Y', '101-X', '102-I', '103-P', '104-L', '105-G', '106-B', '107-A', '108-N', '109-M', '110-Y', '111-T', '112-B', '113-X'],\n",
    "    ['114-O', '115-N', '116-N', '117-P', '118-Q', '119-L', '120-V', '121-H', '122-M', '123-F', '124-Y', '125-B', '126-A', '127-V', '128-X', '129-E', '130-F'],\n",
    "    ['131-G', '132-I', '133-N', '134-C', '135-S'],\n",
    "    [],\n",
    "    [],\n",
    "    ['136-F', '137-B', '138-J', '139-Z', '140-U', '141-E', '142-Z'],\n",
    "    [],\n",
    "    ['143-O', '144-M', '145-A'],\n",
    "    [],\n",
    "    ['146-X', '147-I', '148-J', '149-L', '150-Y', '151-X', '152-P', '153-H'],\n",
    "    ['154-P', '155-D', '156-P', '157-Z', '158-Z', '159-V', '160-X', '161-E', '162-F', '163-D', '164-A', '165-R', '166-H', '167-X', '168-Z', '169-Q', '170-Q', '171-Z', '172-K', '173-A', '174-O', '175-J', '176-L'],\n",
    "    ['177-U', '178-M', '179-J', '180-D', '181-E'],\n",
    "    ['182-O', '183-E', '184-K', '185-F', '186-B', '187-K', '188-Y', '189-X', '190-A', '191-B'],\n",
    "    [],\n",
    "    ['192-L', '193-S', '194-H', '195-D', '196-L', '197-D', '198-I', '199-N', '200-R', '201-Z'],\n",
    "    ['202-T', '203-K', '204-A', '205-K', '206-G', '207-L', '208-C', '209-T', '210-V', '211-D', '212-B'],\n",
    "    ['213-G', '214-D', '215-O', '216-U', '217-O', '218-J'],\n",
    "    ['219-E', '220-C', '221-G', '222-M', '223-I', '224-V', '225-W', '226-U', '227-C', '228-N', '229-T', '230-R', '231-X', '232-I', '233-C', '234-X', '235-V', '236-L', '237-R'],\n",
    "    [],\n",
    "    [],\n",
    "    [],\n",
    "    ['238-D'],\n",
    "    [],\n",
    "    ['239-G', '240-R', '241-H', '242-N', '243-W', '244-L', '245-G', '246-C', '247-P', '248-A', '249-T'],\n",
    "]\n",
    "\n",
    "for sub in range(len(DISPENCER)):\n",
    "    for i in range(len(DISPENCER[sub])):\n",
    "        DISPENCER[sub][i] = data.get(DISPENCER[sub][i], choice(pkgs))\n",
    "            \n",
    "print(*[\",\".join(d) for d in DISPENCER], sep=\"\\n\")"
   ]
  },
  {
   "cell_type": "code",
   "execution_count": 157,
   "id": "bb407020-cd44-49a9-971d-f2b811b74006",
   "metadata": {
    "tags": []
   },
   "outputs": [],
   "source": [
    "from string import ascii_uppercase as uc\n",
    "\n",
    "pkgs = uc+\" .!?':-;\""
   ]
  },
  {
   "cell_type": "markdown",
   "id": "8c6cee31-eaa9-4210-aa60-7d73ec1d8144",
   "metadata": {},
   "source": [
    "# SOLVING"
   ]
  },
  {
   "cell_type": "code",
   "execution_count": 205,
   "id": "e2709814-edc2-4b7b-8163-d1e9156921d7",
   "metadata": {
    "tags": []
   },
   "outputs": [
    {
     "name": "stdout",
     "output_type": "stream",
     "text": [
      "HURRY! HE'S COMING. TIME IS RUNNING OUT!\n",
      "21\n",
      "\tFISH\n",
      "\tAMIMR\n",
      "\t?LUUYVP\n",
      "\tNYKBEBG J H-TDS'X\n",
      "\t!\n",
      "\tEGG.L JAZZA\n",
      "\tI'YAR CAPRP\n",
      "\tGIVY .MASK\n",
      "\tI:FOX-.NIFFV.U!APPLE\n",
      "\tD \n",
      "\tA-K\n",
      "\tJ'JBM''L\n",
      "\t FU?\n",
      "\t!HPOOGCU!\n",
      "\tWQN\n",
      "\tK!F\n",
      "\t;\n",
      "\tMMYCA'WV LWB\n",
      "\tTA!GGJS;HV\n",
      "\t!SVO'SITVB\n",
      "\tHXWH.BRBFC'I\n",
      "\tRLJK'WQ\n",
      "\tFOOD\n",
      "\tOOFTG;KGMEVK\n"
     ]
    }
   ],
   "source": [
    "with open(\"instructions.txt\") as f:\n",
    "    position = int(f.readline().strip())\n",
    "    CMDS = f.readline().strip().split(\",\")\n",
    "    dispencer = [line.split(\",\") if line else [] for line in f.read().split(\"\\n\")]\n",
    "\n",
    "transporter = []\n",
    "\n",
    "for index, cmd in enumerate(CMDS):\n",
    "    try:\n",
    "        c, *num = cmd\n",
    "        num = int(\"\".join(num))\n",
    "\n",
    "        if c in \"RL\":\n",
    "            position += -num if c==\"L\" else num\n",
    "        elif c == \"U\":\n",
    "            for i in range(num):\n",
    "                item = dispencer[position].pop(0)\n",
    "                transporter.append(item)\n",
    "        elif c == \"D\":\n",
    "            for i in range(num):\n",
    "                item = transporter.pop(0)\n",
    "                dispencer[position].append(item)\n",
    "    except IndexError:\n",
    "        raise IndexError(f\"Broke at line{index}!\")\n",
    "\n",
    "print(\"\".join(d[0] for d in dispencer))\n",
    "print(*[\"\\t\" + \"\".join(line[1:]) for line in dispencer if line[1:]], sep=\"\\n\")"
   ]
  },
  {
   "cell_type": "code",
   "execution_count": null,
   "id": "1289c858-354c-4295-a707-221bb3c19937",
   "metadata": {
    "tags": []
   },
   "outputs": [],
   "source": []
  },
  {
   "cell_type": "code",
   "execution_count": null,
   "id": "8a5ec640-e71d-4a31-85fd-8dc58d998c63",
   "metadata": {
    "tags": []
   },
   "outputs": [],
   "source": []
  },
  {
   "cell_type": "code",
   "execution_count": null,
   "id": "1fd6ddda-f89b-43d0-9bc7-fa65fad86f85",
   "metadata": {},
   "outputs": [],
   "source": []
  }
 ],
 "metadata": {
  "kernelspec": {
   "display_name": "Python 3 (ipykernel)",
   "language": "python",
   "name": "python3"
  },
  "language_info": {
   "codemirror_mode": {
    "name": "ipython",
    "version": 3
   },
   "file_extension": ".py",
   "mimetype": "text/x-python",
   "name": "python",
   "nbconvert_exporter": "python",
   "pygments_lexer": "ipython3",
   "version": "3.10.9"
  }
 },
 "nbformat": 4,
 "nbformat_minor": 5
}
