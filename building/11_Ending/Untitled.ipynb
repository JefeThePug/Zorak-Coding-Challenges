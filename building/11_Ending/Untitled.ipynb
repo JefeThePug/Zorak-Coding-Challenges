{
 "cells": [
  {
   "cell_type": "code",
   "execution_count": 25,
   "id": "addae916-48dc-4d0b-8ef9-ea07390c4278",
   "metadata": {
    "tags": []
   },
   "outputs": [],
   "source": [
    "from PIL import Image\n",
    "\n",
    "i = Image.open(\"ending.gif\")\n",
    "\n",
    "frames = []\n",
    "try:\n",
    "    while True:\n",
    "        frames.append(i.copy())\n",
    "        i.seek(i.tell() + 1)\n",
    "except EOFError:\n",
    "    pass\n",
    "\n",
    "frames[0].save(\"looping_ending.gif\", save_all=True, append_images=frames[1:], loop=0)\n"
   ]
  },
  {
   "cell_type": "code",
   "execution_count": 39,
   "id": "0dfe3056-9f08-49f3-91c9-0775225cbcfe",
   "metadata": {
    "tags": []
   },
   "outputs": [
    {
     "name": "stdout",
     "output_type": "stream",
     "text": [
      "{'version': b'GIF89a', 'background': 246, 'transparency': 255, 'duration': 100}\n",
      "{'version': b'GIF89a', 'background': 246, 'loop': 0, 'duration': 100, 'extension': (b'NETSCAPE2.0', 795)}\n",
      "{'version': b'GIF89a', 'background': 0, 'transparency': 255, 'duration': 30}\n",
      "{'version': b'GIF87a', 'background': 0, 'loop': 0, 'transparency': 255, 'duration': 30, 'extension': (b'NETSCAPE2.0', 795)}\n"
     ]
    }
   ],
   "source": [
    "from PIL import Image\n",
    "i = Image.open(\"ending.gif\")\n",
    "print(i.info)\n",
    "i = Image.open(\"looping_ending.gif\")\n",
    "print(i.info)\n",
    "i = Image.open(\"flash.gif\")\n",
    "print(i.info)\n",
    "i = Image.open(\"looping_flash.gif\")\n",
    "print(i.info)"
   ]
  },
  {
   "cell_type": "code",
   "execution_count": 118,
   "id": "3bb7964e-9559-4b50-a4ea-755336a1e095",
   "metadata": {
    "tags": []
   },
   "outputs": [
    {
     "name": "stdout",
     "output_type": "stream",
     "text": [
      "Time using len(str(number)): 0.988188 seconds\n",
      "Time using len(str(number)): 0.782476 seconds\n",
      "Time using int(math.log10(number)) + 1: 0.800410 seconds\n",
      "Time using int(math.log10(number)) + 1 with safety check: 1.089737 seconds\n"
     ]
    }
   ],
   "source": [
    "from math import log10\n",
    "import timeit\n",
    "\n",
    "# Test setup\n",
    "number = 123456789\n",
    "\n",
    "# Using len(str(number))\n",
    "def using_str_len():\n",
    "    return len(str(number))\n",
    "\n",
    "# Using len(f\"{number}\")\n",
    "def using_str_len_f():\n",
    "    return len(f\"{number}\")\n",
    "\n",
    "# Using int(math.log10(number)) + 1\n",
    "def using_log10():\n",
    "    return int(log10(number)) + 1\n",
    "\n",
    "# Handle edge case where number is 0\n",
    "def using_log10_safe(n):\n",
    "    try:\n",
    "        return int(log10(n)) + 1\n",
    "    except ValueError:\n",
    "        return 1\n",
    "\n",
    "# Time the functions\n",
    "time_str_len = timeit.timeit(using_str_len, number=10_000_000)\n",
    "time_str_len_f = timeit.timeit(using_str_len_f, number=10_000_000)\n",
    "time_log10 = timeit.timeit(using_log10, number=10_000_000)\n",
    "time_log10_safe = timeit.timeit(lambda: using_log10_safe(number), number=10_000_000)\n",
    "\n",
    "print(f\"Time using len(str(number)): {time_str_len:.6f} seconds\")\n",
    "print(f\"Time using len(str(number)): {time_str_len_f:.6f} seconds\")\n",
    "print(f\"Time using int(math.log10(number)) + 1: {time_log10:.6f} seconds\")\n",
    "print(f\"Time using int(math.log10(number)) + 1 with safety check: {time_log10_safe:.6f} seconds\")\n"
   ]
  },
  {
   "cell_type": "code",
   "execution_count": 112,
   "id": "04191e35-158d-42e3-9ace-4a163e0690b2",
   "metadata": {
    "tags": []
   },
   "outputs": [
    {
     "ename": "ValueError",
     "evalue": "math domain error",
     "output_type": "error",
     "traceback": [
      "\u001b[0;31m---------------------------------------------------------------------------\u001b[0m",
      "\u001b[0;31mValueError\u001b[0m                                Traceback (most recent call last)",
      "Cell \u001b[0;32mIn[112], line 1\u001b[0m\n\u001b[0;32m----> 1\u001b[0m \u001b[43mlog10\u001b[49m\u001b[43m(\u001b[49m\u001b[38;5;241;43m0\u001b[39;49m\u001b[43m)\u001b[49m\n",
      "\u001b[0;31mValueError\u001b[0m: math domain error"
     ]
    }
   ],
   "source": [
    "log10(0)"
   ]
  },
  {
   "cell_type": "code",
   "execution_count": 120,
   "id": "026c1fa7-c291-4b78-9f69-8170141bd606",
   "metadata": {
    "tags": []
   },
   "outputs": [
    {
     "data": {
      "text/plain": [
       "'07'"
      ]
     },
     "execution_count": 120,
     "metadata": {},
     "output_type": "execute_result"
    }
   ],
   "source": [
    "x = 7\n",
    "\n",
    "f\"{x:02d}\""
   ]
  },
  {
   "cell_type": "code",
   "execution_count": 123,
   "id": "a47f1476-c2ed-4741-a398-bda2bbb2d317",
   "metadata": {
    "tags": []
   },
   "outputs": [
    {
     "name": "stdout",
     "output_type": "stream",
     "text": [
      "3221\n",
      "123456789\n"
     ]
    }
   ],
   "source": [
    "\n",
    "def reverse_number(num):\n",
    "  # Reverse the number\n",
    "  reverse = int(str(num)[::-1])\n",
    "  # Return the number\n",
    "  return reverse\n",
    "\n",
    "## Example usage:\n",
    "print(reverse_number(1223)) # Output: 3221\n",
    "print(reverse_number(987654321)) # Output: 123456789"
   ]
  },
  {
   "cell_type": "code",
   "execution_count": 20,
   "id": "db423925-3c68-4802-b5ca-cc84ebc0dac1",
   "metadata": {},
   "outputs": [],
   "source": [
    "STRING = \"\"\"\n",
    "<p>\n",
    "            You have successfully isolated some harmful Solar Waves and are ready to\n",
    "            <span class=\"b i\">direct the Thermal Defense System (TDS) at them</span>, but\n",
    "            the diagnostic panel indicates a <span class=\"b i\">critical malfunction</span>.\n",
    "            This malfunction has caused the system to be unable to repair itself or provide\n",
    "            you with definitive information about the broken part.\n",
    "        </p>\n",
    "        <p> \n",
    "            The entire TDS comprises <span class=\"b i\">multiple types of\n",
    "            <a href=\"https://www.merriam-webster.com/dictionary/bespoke\">bespoke</a> parts</span>,\n",
    "            each designed for different levels of radiation protection and thermal management.\n",
    "            Because many different parts share similar qualities, it is difficult to determine\n",
    "            the exact replacement needed.\n",
    "        </p>\n",
    "        <p>\n",
    "            In the parts storage, you <span class=\"b i\">find a replacement part</span> that\n",
    "            matches some of the specifications of the broken shield. However, the\n",
    "            specifications alone—<span class=\"b i\">mass, density, thickness, area, and\n",
    "            radiation output</span>—are insufficient to confirm the exact type of shield.\n",
    "            This is because various shield types might have similar physical characteristics\n",
    "            but different performance metrics and configurations.\n",
    "        </p>\n",
    "        <p>\n",
    "            To determine what this unknown part is, you must <span class=\"b i\">compare it with\n",
    "            all the parts in the database</span> in terms of how far off it is from each part\n",
    "            on record. We can gauge this similarity <span class=\"b i\">using Euclidean\n",
    "            distance</span>. However, since there are <span class=\"b i\">more than two \n",
    "            dimensions</span> to each part, you need to use a more robust equation with\n",
    "            <span class=\"code part\">q</span> representing the target's value and \n",
    "            <span class=\"code part\">p</span> representing the value from the database you are\n",
    "            comparing it to.\n",
    "        </p>\n",
    "        <div class=\"imgcontainer\">\n",
    "            <img class=\"midpic\" src=\"../static/images/06/euclidian2.png\">\n",
    "        </div>\n",
    "        <p>\n",
    "            Similar to how you sorted the waves, you need to look at <span class=\"b i\">the 7 TDS\n",
    "            parts nearest to the mystery part</span> to determine its purpose based on the\n",
    "            majority of its <span class=\"b i\">nearest neighbors</span>.\n",
    "        </p>\n",
    "        <h4>\n",
    "            For example:\n",
    "        </h4>\n",
    "        <p>\n",
    "            If your mystery part, the target (<span class=\"b i\">q</span>), has the values\n",
    "            <span class=\"code free\">\n",
    "                mass,density,thickness,area,radiation_output<br>\n",
    "                12.5,31.22,3.402,2.0,0.053\n",
    "            </span>\n",
    "            and you want to find its distance compared to this\n",
    "            \"<span class=\"b i\">Boron&nbsp;Nitride&nbsp;Nanotube&nbsp;Composite</span>\"\n",
    "            part in the database\n",
    "            (<span class=\"b i\">p</span>)\n",
    "            <span class=\"code free\">\n",
    "                mass,density,thickness,area,radiation_output<br>\n",
    "               15.9,10.6,4.47,2.79,0.451\n",
    "            </span>\n",
    "        </p>\n",
    "        <p>\n",
    "            Following the Euclidean distance formula above, you need the square root of the\n",
    "            sum of all the differences squared.\n",
    "            <ol>\n",
    "                <li>mass</li>\n",
    "                <ul>\n",
    "                    <li><span class=\"code part\">(12.5 - 15.9)² = 11.56</span></li>\n",
    "                </ul>\n",
    "                <li>density</li>\n",
    "                <ul>\n",
    "                    <li><span class=\"code part\">(31.22 - 10.6)² = 425.1844</span></li>\n",
    "                </ul>\n",
    "                <li>thickness</li>\n",
    "                <ul>\n",
    "                    <li><span class=\"code part\">(3.402 - 4.47)² = 1.1406</span></li>\n",
    "                </ul>\n",
    "                <li>area</li>\n",
    "                <ul>\n",
    "                    <li><span class=\"code part\">(2.0 - 2.79)² = 0.6241</span></li>\n",
    "                </ul>\n",
    "                <li>radiation output</li>\n",
    "                <ul>\n",
    "                    <li><span class=\"code part\">(0.053 - 0.451)² = 0.1584</span></li>\n",
    "                </ul>\n",
    "            </ol>\n",
    "        </p>\n",
    "        <p>\n",
    "            You take the square root of the sum of these totals\n",
    "            <span class=\"code part\">\n",
    "                √( 11.56 + 425.1844 + 1.1406 + 0.6241 + 0.1584 )  =<br>\n",
    "                √( 438.6675 )  =  20.9443\n",
    "            </span>\n",
    "        </p>\n",
    "        <p>\n",
    "            The distance between the mystery part in the example and the one\n",
    "            Boron&nbsp;Nitride&nbsp;Nanotube&nbsp;Composite part is \n",
    "            <span class=\"code part\">20.9443</span>.\n",
    "        </p>\n",
    "        <p>\n",
    "            The following process is the same as you did in Part 1, finding the\n",
    "            <span class=\"b i\">7 nearest neighbors</span> of your mystery part to\n",
    "            determine its type.\n",
    "        </p>\n",
    "\"\"\""
   ]
  },
  {
   "cell_type": "code",
   "execution_count": 21,
   "id": "d8faf22a-e090-4a8d-9f18-2eb66ac7583a",
   "metadata": {
    "tags": []
   },
   "outputs": [
    {
     "name": "stdout",
     "output_type": "stream",
     "text": [
      " <p> You have successfully isolated some harmful Solar Waves and are ready to <span class=\"b i\">direct the Thermal Defense System (TDS) at them</span>, but the diagnostic panel indicates a <span class=\"b i\">critical malfunction</span>. This malfunction has caused the system to be unable to repair itself or provide you with definitive information about the broken part. </p> <p> The entire TDS comprises <span class=\"b i\">multiple types of <a href=\"https://www.merriam-webster.com/dictionary/bespoke\">bespoke</a> parts</span>, each designed for different levels of radiation protection and thermal management. Because many different parts share similar qualities, it is difficult to determine the exact replacement needed. </p> <p> In the parts storage, you <span class=\"b i\">find a replacement part</span> that matches some of the specifications of the broken shield. However, the specifications alone—<span class=\"b i\">mass, density, thickness, area, and radiation output</span>—are insufficient to confirm the exact type of shield. This is because various shield types might have similar physical characteristics but different performance metrics and configurations. </p> <p> To determine what this unknown part is, you must <span class=\"b i\">compare it with all the parts in the database</span> in terms of how far off it is from each part on record. We can gauge this similarity <span class=\"b i\">using Euclidean distance</span>. However, since there are <span class=\"b i\">more than two dimensions</span> to each part, you need to use a more robust equation with <span class=\"code part\">q</span> representing the target's value and <span class=\"code part\">p</span> representing the value from the database you are comparing it to. </p> <div class=\"imgcontainer\"> <img class=\"midpic\" src=\"../static/images/06/euclidian2.png\"> </div> <p> Similar to how you sorted the waves, you need to look at <span class=\"b i\">the 7 TDS parts nearest to the mystery part</span> to determine its purpose based on the majority of its <span class=\"b i\">nearest neighbors</span>. </p> <h4> For example: </h4> <p> If your mystery part, the target (<span class=\"b i\">q</span>), has the values <span class=\"code free\"> mass,density,thickness,area,radiation_output<br> 12.5,31.22,3.402,2.0,0.053 </span> and you want to find its distance compared to this \"<span class=\"b i\">Boron&nbsp;Nitride&nbsp;Nanotube&nbsp;Composite</span>\" part in the database (<span class=\"b i\">p</span>) <span class=\"code free\"> mass,density,thickness,area,radiation_output<br> 15.9,10.6,4.47,2.79,0.451 </span> </p> <p> Following the Euclidean distance formula above, you need the square root of the sum of all the differences squared. <ol> <li>mass</li> <ul> <li><span class=\"code part\">(12.5 - 15.9)² = 11.56</span></li> </ul> <li>density</li> <ul> <li><span class=\"code part\">(31.22 - 10.6)² = 425.1844</span></li> </ul> <li>thickness</li> <ul> <li><span class=\"code part\">(3.402 - 4.47)² = 1.1406</span></li> </ul> <li>area</li> <ul> <li><span class=\"code part\">(2.0 - 2.79)² = 0.6241</span></li> </ul> <li>radiation output</li> <ul> <li><span class=\"code part\">(0.053 - 0.451)² = 0.1584</span></li> </ul> </ol> </p> <p> You take the square root of the sum of these totals <span class=\"code part\"> √( 11.56 + 425.1844 + 1.1406 + 0.6241 + 0.1584 )  =<br> √( 438.6675 )  =  20.9443 </span> </p> <p> The distance between the mystery part in the example and the one Boron&nbsp;Nitride&nbsp;Nanotube&nbsp;Composite part is <span class=\"code part\">20.9443</span>. </p> <p> The following process is the same as you did in Part 1, finding the <span class=\"b i\">7 nearest neighbors</span> of your mystery part to determine its type. </p> \n"
     ]
    }
   ],
   "source": [
    "print(\" \".join(line.strip() for line in STRING.split(\"\\n\")))"
   ]
  },
  {
   "cell_type": "code",
   "execution_count": 55,
   "id": "9270cf06-9c94-4d7f-a580-f579a0c92396",
   "metadata": {
    "tags": []
   },
   "outputs": [
    {
     "name": "stdout",
     "output_type": "stream",
     "text": [
      "@@@####&nbsp;&nbsp;&nbsp;&nbsp;&nbsp;&nbsp;&nbsp;&nbsp;<br>\n",
      "#@@@@@#########<br>\n",
      "&nbsp;##@@@@@@#&nbsp;&nbsp;&nbsp;&nbsp;&nbsp;<br>\n",
      "&nbsp;&nbsp;##@@@@@@#&nbsp;&nbsp;&nbsp;&nbsp;<br>\n",
      "#&nbsp;##@@##@@#&nbsp;&nbsp;##<br>\n",
      "#&nbsp;##@@####&nbsp;####<br>\n",
      "#&nbsp;##@@##&nbsp;#&nbsp;##&nbsp;&nbsp;<br>\n",
      "#&nbsp;##@@#&nbsp;&nbsp;#&nbsp;&nbsp;#&nbsp;&nbsp;<br>\n",
      "&nbsp;&nbsp;#@@@##&nbsp;&nbsp;#&nbsp;&nbsp;##<br>\n",
      "&nbsp;##@@@@##&nbsp;&nbsp;#&nbsp;&nbsp;&nbsp;<br>\n",
      "&nbsp;###@@@@##&nbsp;&nbsp;###<br>\n",
      "&nbsp;###@@@@@@#&nbsp;&nbsp;&nbsp;&nbsp;<br>\n",
      "&nbsp;&nbsp;####@@@@@##&nbsp;&nbsp;<br>\n",
      "##&nbsp;&nbsp;&nbsp;#####@@##&nbsp;<br>\n",
      "&nbsp;&nbsp;#&nbsp;&nbsp;&nbsp;&nbsp;####@@#&nbsp;\n"
     ]
    }
   ],
   "source": [
    "m = \"\"\"@@@####        \n",
    "#@@@@@#########\n",
    " ##@@@@@@#     \n",
    "  ##@@@@@@#    \n",
    "# ##@@##@@#  ##\n",
    "# ##@@#### ####\n",
    "# ##@@## # ##  \n",
    "# ##@@#  #  #  \n",
    "  #@@@##  #  ##\n",
    " ##@@@@##  #   \n",
    " ###@@@@##  ###\n",
    " ###@@@@@@#    \n",
    "  ####@@@@@##  \n",
    "##   #####@@## \n",
    "  #    ####@@# \"\"\"\n",
    "print(\"<br>\\n\".join(x for x in m.replace(\" \", \"&nbsp;\").split(\"\\n\")))"
   ]
  },
  {
   "cell_type": "code",
   "execution_count": 99,
   "id": "7b86b3ed-c7f2-454f-bda6-a6d28a2f2e57",
   "metadata": {
    "tags": []
   },
   "outputs": [
    {
     "data": {
      "text/plain": [
       "56"
      ]
     },
     "execution_count": 99,
     "metadata": {},
     "output_type": "execute_result"
    }
   ],
   "source": [
    "m.count(\"@\")"
   ]
  },
  {
   "cell_type": "code",
   "execution_count": 4,
   "id": "73fd1fa2-2257-42a5-bdeb-76a9aedfe07a",
   "metadata": {},
   "outputs": [
    {
     "data": {
      "text/plain": [
       "39"
      ]
     },
     "execution_count": 4,
     "metadata": {},
     "output_type": "execute_result"
    }
   ],
   "source": [
    "len(\"HURRMHAHP'I LC!GNLPFVN.OUSHRGNKUNM.OUTS\")"
   ]
  },
  {
   "cell_type": "code",
   "execution_count": 2,
   "id": "82065674-60c2-4660-9037-c6b63919e1d0",
   "metadata": {
    "tags": []
   },
   "outputs": [
    {
     "data": {
      "text/plain": [
       "15"
      ]
     },
     "execution_count": 2,
     "metadata": {},
     "output_type": "execute_result"
    }
   ],
   "source": [
    "\"....xxx.x.x.xxxx.xxxxxxxxx.x.x.xx.xx...x\".count(\".\")"
   ]
  },
  {
   "cell_type": "code",
   "execution_count": 3,
   "id": "8538ffee-f759-4242-be47-f743cfc42916",
   "metadata": {
    "tags": []
   },
   "outputs": [
    {
     "data": {
      "text/plain": [
       "0.375"
      ]
     },
     "execution_count": 3,
     "metadata": {},
     "output_type": "execute_result"
    }
   ],
   "source": [
    "15/40"
   ]
  },
  {
   "cell_type": "code",
   "execution_count": 16,
   "id": "753b4b4f-1908-4cff-8a26-ae82763f58e1",
   "metadata": {
    "tags": []
   },
   "outputs": [
    {
     "name": "stdout",
     "output_type": "stream",
     "text": [
      "                 eight              fifty                three           eighty                 ten \n",
      "     thirty          eighteen    seventy            nine                   one          seventeen   \n",
      "           eighty                    eight      eleven                   thirteen               four\n",
      "                   eighteen            four        ten      seventeen        ten       nine       \n",
      "      sixteen           million        forty                 fifteen                 five           \n",
      "                   nine            twelve         six          seventeen    six       twelve        \n",
      "          eighty     five          twelve         fourteen      sixteen                   forty    \n",
      "          eleven                fifty            million                    ten            fifty    \n",
      "                sixteen               twenty              hundred                 twelve            \n",
      "             seven        sixteen     eighteen             two            eighty              millio\n",
      "             nineteen              seventy             seventeen        sixty                sixteen\n",
      "                   eight           eleven     seventeen                   twelve      twenty        \n",
      "                ten         one                five            fourteen          one                \n",
      "                thousand                  fourteen            nine               six                \n",
      "                    eight               two                    three         two               twent\n",
      "    nineteen             thirty    twelve    eight                forty     eighty          twelve  \n",
      "      twelve      thirty        eight          nineteen          four    fifty                 sixte\n",
      "                 one                eighty    thirty         twelve                  million        \n",
      "         sixty              three            seventy                hundred               nine      \n",
      "         million                   four           one        twelve    eleven           thirteen    \n"
     ]
    }
   ],
   "source": [
    "from random import choice, randint\n",
    "\n",
    "selections = [\n",
    "    'one', 'two', 'three', 'four', 'five', 'six', 'seven', 'eight', 'nine', 'ten', \n",
    "    'eleven', 'twelve', 'thirteen', 'fourteen', 'fifteen', 'sixteen', 'seventeen', \n",
    "    'eighteen', 'nineteen', 'twenty', 'thirty', 'forty', 'fifty', 'sixty', 'seventy', \n",
    "    'eighty', 'ninety', 'hundred', 'thousand', 'million'\n",
    "]\n",
    "\n",
    "for _ in range(20):\n",
    "    line = \" \" * randint(4, 20)\n",
    "    while len(line) < 97:\n",
    "        line += choice(selections) + (\" \" * min(randint(4, 20), 100-len(line)))\n",
    "    print(line[:100])\n",
    "        "
   ]
  },
  {
   "cell_type": "code",
   "execution_count": 17,
   "id": "709bb724-23a0-454f-a0e3-9e1e9402f25e",
   "metadata": {
    "tags": []
   },
   "outputs": [
    {
     "data": {
      "text/plain": [
       "438.66749999999996"
      ]
     },
     "execution_count": 17,
     "metadata": {},
     "output_type": "execute_result"
    }
   ],
   "source": [
    "11.56 + 425.1844 + 1.1406 + 0.6241 + 0.1584"
   ]
  },
  {
   "cell_type": "code",
   "execution_count": null,
   "id": "da323a9c-3bdf-453f-920e-8a52b0aec7ca",
   "metadata": {},
   "outputs": [],
   "source": []
  }
 ],
 "metadata": {
  "kernelspec": {
   "display_name": "Python 3 (ipykernel)",
   "language": "python",
   "name": "python3"
  },
  "language_info": {
   "codemirror_mode": {
    "name": "ipython",
    "version": 3
   },
   "file_extension": ".py",
   "mimetype": "text/x-python",
   "name": "python",
   "nbconvert_exporter": "python",
   "pygments_lexer": "ipython3",
   "version": "3.10.9"
  }
 },
 "nbformat": 4,
 "nbformat_minor": 5
}
