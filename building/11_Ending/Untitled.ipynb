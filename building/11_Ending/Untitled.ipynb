{
 "cells": [
  {
   "cell_type": "code",
   "execution_count": 25,
   "id": "addae916-48dc-4d0b-8ef9-ea07390c4278",
   "metadata": {
    "tags": []
   },
   "outputs": [],
   "source": [
    "from PIL import Image\n",
    "\n",
    "i = Image.open(\"ending.gif\")\n",
    "\n",
    "frames = []\n",
    "try:\n",
    "    while True:\n",
    "        frames.append(i.copy())\n",
    "        i.seek(i.tell() + 1)\n",
    "except EOFError:\n",
    "    pass\n",
    "\n",
    "frames[0].save(\"looping_ending.gif\", save_all=True, append_images=frames[1:], loop=0)\n"
   ]
  },
  {
   "cell_type": "code",
   "execution_count": 39,
   "id": "0dfe3056-9f08-49f3-91c9-0775225cbcfe",
   "metadata": {
    "tags": []
   },
   "outputs": [
    {
     "name": "stdout",
     "output_type": "stream",
     "text": [
      "{'version': b'GIF89a', 'background': 246, 'transparency': 255, 'duration': 100}\n",
      "{'version': b'GIF89a', 'background': 246, 'loop': 0, 'duration': 100, 'extension': (b'NETSCAPE2.0', 795)}\n",
      "{'version': b'GIF89a', 'background': 0, 'transparency': 255, 'duration': 30}\n",
      "{'version': b'GIF87a', 'background': 0, 'loop': 0, 'transparency': 255, 'duration': 30, 'extension': (b'NETSCAPE2.0', 795)}\n"
     ]
    }
   ],
   "source": [
    "from PIL import Image\n",
    "i = Image.open(\"ending.gif\")\n",
    "print(i.info)\n",
    "i = Image.open(\"looping_ending.gif\")\n",
    "print(i.info)\n",
    "i = Image.open(\"flash.gif\")\n",
    "print(i.info)\n",
    "i = Image.open(\"looping_flash.gif\")\n",
    "print(i.info)"
   ]
  },
  {
   "cell_type": "code",
   "execution_count": 118,
   "id": "3bb7964e-9559-4b50-a4ea-755336a1e095",
   "metadata": {
    "tags": []
   },
   "outputs": [
    {
     "name": "stdout",
     "output_type": "stream",
     "text": [
      "Time using len(str(number)): 0.988188 seconds\n",
      "Time using len(str(number)): 0.782476 seconds\n",
      "Time using int(math.log10(number)) + 1: 0.800410 seconds\n",
      "Time using int(math.log10(number)) + 1 with safety check: 1.089737 seconds\n"
     ]
    }
   ],
   "source": [
    "from math import log10\n",
    "import timeit\n",
    "\n",
    "# Test setup\n",
    "number = 123456789\n",
    "\n",
    "# Using len(str(number))\n",
    "def using_str_len():\n",
    "    return len(str(number))\n",
    "\n",
    "# Using len(f\"{number}\")\n",
    "def using_str_len_f():\n",
    "    return len(f\"{number}\")\n",
    "\n",
    "# Using int(math.log10(number)) + 1\n",
    "def using_log10():\n",
    "    return int(log10(number)) + 1\n",
    "\n",
    "# Handle edge case where number is 0\n",
    "def using_log10_safe(n):\n",
    "    try:\n",
    "        return int(log10(n)) + 1\n",
    "    except ValueError:\n",
    "        return 1\n",
    "\n",
    "# Time the functions\n",
    "time_str_len = timeit.timeit(using_str_len, number=10_000_000)\n",
    "time_str_len_f = timeit.timeit(using_str_len_f, number=10_000_000)\n",
    "time_log10 = timeit.timeit(using_log10, number=10_000_000)\n",
    "time_log10_safe = timeit.timeit(lambda: using_log10_safe(number), number=10_000_000)\n",
    "\n",
    "print(f\"Time using len(str(number)): {time_str_len:.6f} seconds\")\n",
    "print(f\"Time using len(str(number)): {time_str_len_f:.6f} seconds\")\n",
    "print(f\"Time using int(math.log10(number)) + 1: {time_log10:.6f} seconds\")\n",
    "print(f\"Time using int(math.log10(number)) + 1 with safety check: {time_log10_safe:.6f} seconds\")\n"
   ]
  },
  {
   "cell_type": "code",
   "execution_count": 112,
   "id": "04191e35-158d-42e3-9ace-4a163e0690b2",
   "metadata": {
    "tags": []
   },
   "outputs": [
    {
     "ename": "ValueError",
     "evalue": "math domain error",
     "output_type": "error",
     "traceback": [
      "\u001b[0;31m---------------------------------------------------------------------------\u001b[0m",
      "\u001b[0;31mValueError\u001b[0m                                Traceback (most recent call last)",
      "Cell \u001b[0;32mIn[112], line 1\u001b[0m\n\u001b[0;32m----> 1\u001b[0m \u001b[43mlog10\u001b[49m\u001b[43m(\u001b[49m\u001b[38;5;241;43m0\u001b[39;49m\u001b[43m)\u001b[49m\n",
      "\u001b[0;31mValueError\u001b[0m: math domain error"
     ]
    }
   ],
   "source": [
    "log10(0)"
   ]
  },
  {
   "cell_type": "code",
   "execution_count": 120,
   "id": "026c1fa7-c291-4b78-9f69-8170141bd606",
   "metadata": {
    "tags": []
   },
   "outputs": [
    {
     "data": {
      "text/plain": [
       "'07'"
      ]
     },
     "execution_count": 120,
     "metadata": {},
     "output_type": "execute_result"
    }
   ],
   "source": [
    "x = 7\n",
    "\n",
    "f\"{x:02d}\""
   ]
  },
  {
   "cell_type": "code",
   "execution_count": 123,
   "id": "a47f1476-c2ed-4741-a398-bda2bbb2d317",
   "metadata": {
    "tags": []
   },
   "outputs": [
    {
     "name": "stdout",
     "output_type": "stream",
     "text": [
      "3221\n",
      "123456789\n"
     ]
    }
   ],
   "source": [
    "\n",
    "def reverse_number(num):\n",
    "  # Reverse the number\n",
    "  reverse = int(str(num)[::-1])\n",
    "  # Return the number\n",
    "  return reverse\n",
    "\n",
    "## Example usage:\n",
    "print(reverse_number(1223)) # Output: 3221\n",
    "print(reverse_number(987654321)) # Output: 123456789"
   ]
  },
  {
   "cell_type": "code",
   "execution_count": 40,
   "id": "db423925-3c68-4802-b5ca-cc84ebc0dac1",
   "metadata": {},
   "outputs": [],
   "source": [
    "STRING = \"\"\"\n",
    "<p>\n",
    "            At the Bridge, Captain Xarlos is delighted to have a map to Zorak. Together, you\n",
    "            expertly navigate the ship through the electromagnetic storms, following your\n",
    "            path. Once clear of the Nebula Labyrinth, you find yourselves in a\n",
    "            <span class=\"b i\">clearing of open space</span>. There's no sign of Zorak in sight,\n",
    "            so there must be <span class=\"b i\">more to the route ahead</span>, but what?\n",
    "        </p>\n",
    "        <p>\n",
    "            Just then, you see Captain Xarlos' face \n",
    "            <a href=\"https://dictionary.cambridge.org/dictionary/english/as-white-as-a-sheet\">\n",
    "                turn white</a>,\n",
    "            his hand ready on his <a href=\"https://en.wikipedia.org/wiki/Raygun\">space blaster</a>,\n",
    "            staring just above your left shoulder. You instantly know it must be the tiny defector,\n",
    "            but you turn to look anyway while trying to reassure the captain that everything is\n",
    "            fine. Captain Xarlos is skeptical but ultimately trusts you and relaxes a bit as you\n",
    "            explain the creature.\n",
    "        </p>\n",
    "        <p>\n",
    "            It turns out, <span class=\"b i\">the small Dokarian has forgotten to give you the other\n",
    "            half of the directions to Zorak</span>. He provides you with <span class=\"b i\">another\n",
    "            sheet of nodes</span>, in the same format as before. This time, there are no storms\n",
    "            blocking your path, but instead, a <span class=\"b i\">vast open space guarded by Zorak's\n",
    "            <a href=\"https://en.wikipedia.org/wiki/Stealth_technology\">stealth army</a></span>.\n",
    "            The nodes represent paths on the map that are outside of the\n",
    "            <a href=\"https://en.wikipedia.org/wiki/Line_of_sight\">line of sight</a> of those enemy\n",
    "            ships.\n",
    "        </p>\n",
    "        <p>\n",
    "            You will need to <span class=\"b i\">travel through\n",
    "            <a href=\"https://en.wikipedia.org/wiki/Wormhole\">wormholes</a></span> to reach Zorak.\n",
    "            The issue is that <span class=\"b i\">each wormhole can connect to a great many other\n",
    "            nodes</span>, reflected on your puzzle input, and choosing <span class=\"b i\">the wrong\n",
    "            node could add hours or even days to your journey</span>. Following every path from a\n",
    "            wormhole will not be the most efficient route. It's clear that scouring the depths of\n",
    "            space won't work. Instead, consider examining the <span class=\"b i lg\">breath</span>\n",
    "            of space for a more effective strategy.\n",
    "        </p>\n",
    "        <p>\n",
    "            For this mission as well, Captain Xarlos must determine <span class=\"b i\">how many\n",
    "                units of space will be traversed</span>.\n",
    "        </p>\n",
    "        <h4>\n",
    "            For example:\n",
    "        </h4>\n",
    "        <p>\n",
    "            You will recognize wormholes on your document by the large number of connections that\n",
    "            the node has. While most nodes connect to just a few other nodes (usually up, down,\n",
    "            left, or right if you think of it as a 2D grid), wormholes connect to many more.\n",
    "            <span class=\"code free\">\n",
    "                297:197,1209,1573,1733,2127,3168,3176,3184,3252,3754,3758, …\n",
    "            </span>\n",
    "            Apart from that, units of space are measured exactly the same as before with the\n",
    "            wormhole node counting as one unit, and the connection you choose to follow counting\n",
    "            as another.\n",
    "        </p>\n",
    "        <p>\n",
    "            Help come up with a plan so you and Captain Xarlos can navigate your way to Zorak,\n",
    "            avoiding detection.\n",
    "        </p>\n",
    "\"\"\""
   ]
  },
  {
   "cell_type": "code",
   "execution_count": 41,
   "id": "d8faf22a-e090-4a8d-9f18-2eb66ac7583a",
   "metadata": {
    "tags": []
   },
   "outputs": [
    {
     "name": "stdout",
     "output_type": "stream",
     "text": [
      " <p> At the Bridge, Captain Xarlos is delighted to have a map to Zorak. Together, you expertly navigate the ship through the electromagnetic storms, following your path. Once clear of the Nebula Labyrinth, you find yourselves in a <span class=\"b i\">clearing of open space</span>. There's no sign of Zorak in sight, so there must be <span class=\"b i\">more to the route ahead</span>, but what? </p> <p> Just then, you see Captain Xarlos' face <a href=\"https://dictionary.cambridge.org/dictionary/english/as-white-as-a-sheet\"> turn white</a>, his hand ready on his <a href=\"https://en.wikipedia.org/wiki/Raygun\">space blaster</a>, staring just above your left shoulder. You instantly know it must be the tiny defector, but you turn to look anyway while trying to reassure the captain that everything is fine. Captain Xarlos is skeptical but ultimately trusts you and relaxes a bit as you explain the creature. </p> <p> It turns out, <span class=\"b i\">the small Dokarian has forgotten to give you the other half of the directions to Zorak</span>. He provides you with <span class=\"b i\">another sheet of nodes</span>, in the same format as before. This time, there are no storms blocking your path, but instead, a <span class=\"b i\">vast open space guarded by Zorak's <a href=\"https://en.wikipedia.org/wiki/Stealth_technology\">stealth army</a></span>. The nodes represent paths on the map that are outside of the <a href=\"https://en.wikipedia.org/wiki/Line_of_sight\">line of sight</a> of those enemy ships. </p> <p> You will need to <span class=\"b i\">travel through <a href=\"https://en.wikipedia.org/wiki/Wormhole\">wormholes</a></span> to reach Zorak. The issue is that <span class=\"b i\">each wormhole can connect to a great many other nodes</span>, reflected on your puzzle input, and choosing <span class=\"b i\">the wrong node could add hours or even days to your journey</span>. Following every path from a wormhole will not be the most efficient route. It's clear that scouring the depths of space won't work. Instead, consider examining the <span class=\"b i lg\">breath</span> of space for a more effective strategy. </p> <p> For this mission as well, Captain Xarlos must determine <span class=\"b i\">how many units of space will be traversed</span>. </p> <h4> For example: </h4> <p> You will recognize wormholes on your document by the large number of connections that the node has. While most nodes connect to just a few other nodes (usually up, down, left, or right if you think of it as a 2D grid), wormholes connect to many more. <span class=\"code free\"> 297:197,1209,1573,1733,2127,3168,3176,3184,3252,3754,3758, … </span> Apart from that, units of space are measured exactly the same as before with the wormhole node counting as one unit, and the connection you choose to follow counting as another. </p> <p> Help come up with a plan so you and Captain Xarlos can navigate your way to Zorak, avoiding detection. </p> \n"
     ]
    }
   ],
   "source": [
    "print(\" \".join(line.strip() for line in STRING.split(\"\\n\")))"
   ]
  },
  {
   "cell_type": "code",
   "execution_count": 55,
   "id": "9270cf06-9c94-4d7f-a580-f579a0c92396",
   "metadata": {
    "tags": []
   },
   "outputs": [
    {
     "name": "stdout",
     "output_type": "stream",
     "text": [
      "@@@####&nbsp;&nbsp;&nbsp;&nbsp;&nbsp;&nbsp;&nbsp;&nbsp;<br>\n",
      "#@@@@@#########<br>\n",
      "&nbsp;##@@@@@@#&nbsp;&nbsp;&nbsp;&nbsp;&nbsp;<br>\n",
      "&nbsp;&nbsp;##@@@@@@#&nbsp;&nbsp;&nbsp;&nbsp;<br>\n",
      "#&nbsp;##@@##@@#&nbsp;&nbsp;##<br>\n",
      "#&nbsp;##@@####&nbsp;####<br>\n",
      "#&nbsp;##@@##&nbsp;#&nbsp;##&nbsp;&nbsp;<br>\n",
      "#&nbsp;##@@#&nbsp;&nbsp;#&nbsp;&nbsp;#&nbsp;&nbsp;<br>\n",
      "&nbsp;&nbsp;#@@@##&nbsp;&nbsp;#&nbsp;&nbsp;##<br>\n",
      "&nbsp;##@@@@##&nbsp;&nbsp;#&nbsp;&nbsp;&nbsp;<br>\n",
      "&nbsp;###@@@@##&nbsp;&nbsp;###<br>\n",
      "&nbsp;###@@@@@@#&nbsp;&nbsp;&nbsp;&nbsp;<br>\n",
      "&nbsp;&nbsp;####@@@@@##&nbsp;&nbsp;<br>\n",
      "##&nbsp;&nbsp;&nbsp;#####@@##&nbsp;<br>\n",
      "&nbsp;&nbsp;#&nbsp;&nbsp;&nbsp;&nbsp;####@@#&nbsp;\n"
     ]
    }
   ],
   "source": [
    "m = \"\"\"@@@####        \n",
    "#@@@@@#########\n",
    " ##@@@@@@#     \n",
    "  ##@@@@@@#    \n",
    "# ##@@##@@#  ##\n",
    "# ##@@#### ####\n",
    "# ##@@## # ##  \n",
    "# ##@@#  #  #  \n",
    "  #@@@##  #  ##\n",
    " ##@@@@##  #   \n",
    " ###@@@@##  ###\n",
    " ###@@@@@@#    \n",
    "  ####@@@@@##  \n",
    "##   #####@@## \n",
    "  #    ####@@# \"\"\"\n",
    "print(\"<br>\\n\".join(x for x in m.replace(\" \", \"&nbsp;\").split(\"\\n\")))"
   ]
  },
  {
   "cell_type": "code",
   "execution_count": 99,
   "id": "7b86b3ed-c7f2-454f-bda6-a6d28a2f2e57",
   "metadata": {
    "tags": []
   },
   "outputs": [
    {
     "data": {
      "text/plain": [
       "56"
      ]
     },
     "execution_count": 99,
     "metadata": {},
     "output_type": "execute_result"
    }
   ],
   "source": [
    "m.count(\"@\")"
   ]
  },
  {
   "cell_type": "code",
   "execution_count": 4,
   "id": "73fd1fa2-2257-42a5-bdeb-76a9aedfe07a",
   "metadata": {},
   "outputs": [
    {
     "data": {
      "text/plain": [
       "39"
      ]
     },
     "execution_count": 4,
     "metadata": {},
     "output_type": "execute_result"
    }
   ],
   "source": [
    "len(\"HURRMHAHP'I LC!GNLPFVN.OUSHRGNKUNM.OUTS\")"
   ]
  },
  {
   "cell_type": "code",
   "execution_count": 2,
   "id": "82065674-60c2-4660-9037-c6b63919e1d0",
   "metadata": {
    "tags": []
   },
   "outputs": [
    {
     "data": {
      "text/plain": [
       "15"
      ]
     },
     "execution_count": 2,
     "metadata": {},
     "output_type": "execute_result"
    }
   ],
   "source": [
    "\"....xxx.x.x.xxxx.xxxxxxxxx.x.x.xx.xx...x\".count(\".\")"
   ]
  },
  {
   "cell_type": "code",
   "execution_count": 3,
   "id": "8538ffee-f759-4242-be47-f743cfc42916",
   "metadata": {
    "tags": []
   },
   "outputs": [
    {
     "data": {
      "text/plain": [
       "0.375"
      ]
     },
     "execution_count": 3,
     "metadata": {},
     "output_type": "execute_result"
    }
   ],
   "source": [
    "Your shelf is <span class=\"main code part\">500</span>cm wide.<br>Here is the inventory of all the coffee beans:"
   ]
  },
  {
   "cell_type": "code",
   "execution_count": 33,
   "id": "753b4b4f-1908-4cff-8a26-ae82763f58e1",
   "metadata": {
    "tags": []
   },
   "outputs": [
    {
     "name": "stdout",
     "output_type": "stream",
     "text": [
      "('Jamaica', 'Brazil') 60\n",
      "('Jamaica', 'Columbia') 70\n",
      "('Jamaica', 'Uganda') 50\n",
      "('Jamaica', 'Mexico') 70\n",
      "('Brazil', 'Columbia') 50\n",
      "('Brazil', 'Uganda') 30\n",
      "('Brazil', 'Mexico') 50\n",
      "('Columbia', 'Uganda') 40\n",
      "('Columbia', 'Mexico') 60\n",
      "('Uganda', 'Mexico') 40\n",
      "('Jamaica', 'Brazil', 'Uganda') 70\n",
      "('Brazil', 'Columbia', 'Uganda') 60\n",
      "('Brazil', 'Uganda', 'Mexico') 60\n",
      "('Columbia', 'Uganda', 'Mexico') 70\n"
     ]
    }
   ],
   "source": [
    "from itertools import combinations\n",
    "\n",
    "ref = {\n",
    "    \"Jamaica\":40,\n",
    "    \"Brazil\":20,\n",
    "    \"Columbia\":30,\n",
    "    \"Uganda\":10,\n",
    "    \"Mexico\":30,\n",
    "}\n",
    "\n",
    "for comb in combinations(ref.keys(), 2):\n",
    "    w = sum(ref[x] for x in comb)\n",
    "    if w <= 70:\n",
    "        print(comb, w)\n",
    "for comb in combinations(ref.keys(), 3):\n",
    "    w = sum(ref[x] for x in comb)\n",
    "    if w <= 70:\n",
    "        print(comb, w)\n",
    "for comb in combinations(ref.keys(), 4):\n",
    "    w = sum(ref[x] for x in comb)\n",
    "    if w <= 70:\n",
    "        print(comb, w)"
   ]
  },
  {
   "cell_type": "code",
   "execution_count": 17,
   "id": "709bb724-23a0-454f-a0e3-9e1e9402f25e",
   "metadata": {
    "tags": []
   },
   "outputs": [
    {
     "data": {
      "text/plain": [
       "438.66749999999996"
      ]
     },
     "execution_count": 17,
     "metadata": {},
     "output_type": "execute_result"
    }
   ],
   "source": [
    "11.56 + 425.1844 + 1.1406 + 0.6241 + 0.1584"
   ]
  },
  {
   "cell_type": "code",
   "execution_count": null,
   "id": "da323a9c-3bdf-453f-920e-8a52b0aec7ca",
   "metadata": {},
   "outputs": [],
   "source": []
  }
 ],
 "metadata": {
  "kernelspec": {
   "display_name": "Python 3 (ipykernel)",
   "language": "python",
   "name": "python3"
  },
  "language_info": {
   "codemirror_mode": {
    "name": "ipython",
    "version": 3
   },
   "file_extension": ".py",
   "mimetype": "text/x-python",
   "name": "python",
   "nbconvert_exporter": "python",
   "pygments_lexer": "ipython3",
   "version": "3.10.9"
  }
 },
 "nbformat": 4,
 "nbformat_minor": 5
}
