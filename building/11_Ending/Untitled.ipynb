{
 "cells": [
  {
   "cell_type": "code",
   "execution_count": 25,
   "id": "addae916-48dc-4d0b-8ef9-ea07390c4278",
   "metadata": {
    "tags": []
   },
   "outputs": [],
   "source": [
    "from PIL import Image\n",
    "\n",
    "i = Image.open(\"ending.gif\")\n",
    "\n",
    "frames = []\n",
    "try:\n",
    "    while True:\n",
    "        frames.append(i.copy())\n",
    "        i.seek(i.tell() + 1)\n",
    "except EOFError:\n",
    "    pass\n",
    "\n",
    "frames[0].save(\"looping_ending.gif\", save_all=True, append_images=frames[1:], loop=0)\n"
   ]
  },
  {
   "cell_type": "code",
   "execution_count": 39,
   "id": "0dfe3056-9f08-49f3-91c9-0775225cbcfe",
   "metadata": {
    "tags": []
   },
   "outputs": [
    {
     "name": "stdout",
     "output_type": "stream",
     "text": [
      "{'version': b'GIF89a', 'background': 246, 'transparency': 255, 'duration': 100}\n",
      "{'version': b'GIF89a', 'background': 246, 'loop': 0, 'duration': 100, 'extension': (b'NETSCAPE2.0', 795)}\n",
      "{'version': b'GIF89a', 'background': 0, 'transparency': 255, 'duration': 30}\n",
      "{'version': b'GIF87a', 'background': 0, 'loop': 0, 'transparency': 255, 'duration': 30, 'extension': (b'NETSCAPE2.0', 795)}\n"
     ]
    }
   ],
   "source": [
    "from PIL import Image\n",
    "i = Image.open(\"ending.gif\")\n",
    "print(i.info)\n",
    "i = Image.open(\"looping_ending.gif\")\n",
    "print(i.info)\n",
    "i = Image.open(\"flash.gif\")\n",
    "print(i.info)\n",
    "i = Image.open(\"looping_flash.gif\")\n",
    "print(i.info)"
   ]
  },
  {
   "cell_type": "code",
   "execution_count": 118,
   "id": "3bb7964e-9559-4b50-a4ea-755336a1e095",
   "metadata": {
    "tags": []
   },
   "outputs": [
    {
     "name": "stdout",
     "output_type": "stream",
     "text": [
      "Time using len(str(number)): 0.988188 seconds\n",
      "Time using len(str(number)): 0.782476 seconds\n",
      "Time using int(math.log10(number)) + 1: 0.800410 seconds\n",
      "Time using int(math.log10(number)) + 1 with safety check: 1.089737 seconds\n"
     ]
    }
   ],
   "source": [
    "from math import log10\n",
    "import timeit\n",
    "\n",
    "# Test setup\n",
    "number = 123456789\n",
    "\n",
    "# Using len(str(number))\n",
    "def using_str_len():\n",
    "    return len(str(number))\n",
    "\n",
    "# Using len(f\"{number}\")\n",
    "def using_str_len_f():\n",
    "    return len(f\"{number}\")\n",
    "\n",
    "# Using int(math.log10(number)) + 1\n",
    "def using_log10():\n",
    "    return int(log10(number)) + 1\n",
    "\n",
    "# Handle edge case where number is 0\n",
    "def using_log10_safe(n):\n",
    "    try:\n",
    "        return int(log10(n)) + 1\n",
    "    except ValueError:\n",
    "        return 1\n",
    "\n",
    "# Time the functions\n",
    "time_str_len = timeit.timeit(using_str_len, number=10_000_000)\n",
    "time_str_len_f = timeit.timeit(using_str_len_f, number=10_000_000)\n",
    "time_log10 = timeit.timeit(using_log10, number=10_000_000)\n",
    "time_log10_safe = timeit.timeit(lambda: using_log10_safe(number), number=10_000_000)\n",
    "\n",
    "print(f\"Time using len(str(number)): {time_str_len:.6f} seconds\")\n",
    "print(f\"Time using len(str(number)): {time_str_len_f:.6f} seconds\")\n",
    "print(f\"Time using int(math.log10(number)) + 1: {time_log10:.6f} seconds\")\n",
    "print(f\"Time using int(math.log10(number)) + 1 with safety check: {time_log10_safe:.6f} seconds\")\n"
   ]
  },
  {
   "cell_type": "code",
   "execution_count": 112,
   "id": "04191e35-158d-42e3-9ace-4a163e0690b2",
   "metadata": {
    "tags": []
   },
   "outputs": [
    {
     "ename": "ValueError",
     "evalue": "math domain error",
     "output_type": "error",
     "traceback": [
      "\u001b[0;31m---------------------------------------------------------------------------\u001b[0m",
      "\u001b[0;31mValueError\u001b[0m                                Traceback (most recent call last)",
      "Cell \u001b[0;32mIn[112], line 1\u001b[0m\n\u001b[0;32m----> 1\u001b[0m \u001b[43mlog10\u001b[49m\u001b[43m(\u001b[49m\u001b[38;5;241;43m0\u001b[39;49m\u001b[43m)\u001b[49m\n",
      "\u001b[0;31mValueError\u001b[0m: math domain error"
     ]
    }
   ],
   "source": [
    "log10(0)"
   ]
  },
  {
   "cell_type": "code",
   "execution_count": 120,
   "id": "026c1fa7-c291-4b78-9f69-8170141bd606",
   "metadata": {
    "tags": []
   },
   "outputs": [
    {
     "data": {
      "text/plain": [
       "'07'"
      ]
     },
     "execution_count": 120,
     "metadata": {},
     "output_type": "execute_result"
    }
   ],
   "source": [
    "x = 7\n",
    "\n",
    "f\"{x:02d}\""
   ]
  },
  {
   "cell_type": "code",
   "execution_count": 123,
   "id": "a47f1476-c2ed-4741-a398-bda2bbb2d317",
   "metadata": {
    "tags": []
   },
   "outputs": [
    {
     "name": "stdout",
     "output_type": "stream",
     "text": [
      "3221\n",
      "123456789\n"
     ]
    }
   ],
   "source": [
    "\n",
    "def reverse_number(num):\n",
    "  # Reverse the number\n",
    "  reverse = int(str(num)[::-1])\n",
    "  # Return the number\n",
    "  return reverse\n",
    "\n",
    "## Example usage:\n",
    "print(reverse_number(1223)) # Output: 3221\n",
    "print(reverse_number(987654321)) # Output: 123456789"
   ]
  },
  {
   "cell_type": "code",
   "execution_count": 54,
   "id": "db423925-3c68-4802-b5ca-cc84ebc0dac1",
   "metadata": {},
   "outputs": [],
   "source": [
    "STRING = \"\"\"<p>\n",
    "            You performed so well in the galley that the crew in the\n",
    "            generator room has requested your help today. Their \n",
    "            <span class=\"b i\">Power Harvester machine</span>, which \n",
    "            <span class=\"b i\">gathers energy from nearby stars to fuel\n",
    "            the ship</span>, is functioning fine. However, they are having\n",
    "            <span class=\"b i\">trouble reading the outputs</span> that\n",
    "            indicate how many gigajoules (GJ) of energy have been collected.\n",
    "        </p>\n",
    "        <p>\n",
    "            Here's how the Power Harvester works:<br>After sending a \n",
    "            <a href=\"https://en.wikipedia.org/wiki/Photon\">photon</a>\n",
    "            collection beam toward a star, the energy is gathered and\n",
    "            stored in one of the power tanks in the generator room.\n",
    "            Although the Power Harvester is somewhat outdated, it has\n",
    "            been reliable over the years with minimal updates. \n",
    "            <span class=\"b i\">Instead of a digital display, this\n",
    "            antique machine \n",
    "            <a href=\"https://en.wikipedia.org/wiki/Extrusion\">extrudes</a>\n",
    "            a long, thin wire of singular \n",
    "            <a href=\"https://en.wikipedia.org/wiki/Pixel\">pixels</a></span>.\n",
    "            This wire is then <span class=\"b i\">fed into the more modern \n",
    "            P.I.L. System (Patterned Image Layout), which\n",
    "            reconstructs it into a square image</span>. The resulting image\n",
    "            displays the number of GJ harvested.\n",
    "        </p>\n",
    "        <p>\n",
    "            Despite its age, the Power Harvester is known for its good\n",
    "            old-fashioned reliability and continues to run smoothly.\n",
    "            However, <span class=\"b i\">the P.I.L. System is failing</span>\n",
    "            and can no longer convert the wire into a viewable square image.\n",
    "            You need to <span class=\"b i\">reprogram it to restore this\n",
    "            function</span>.\n",
    "        </p>\n",
    "        <ul>\n",
    "            <li class=\"pad\">\n",
    "                You can be certain that <span class=\"b i\">the length of\n",
    "                wire extruded from the Power Harvester machine is a\n",
    "                <a href=\"https://en.wikipedia.org/wiki/Square_number\">\n",
    "                perfect square</a></span>, which means that it can be\n",
    "                arranged into an image with <span class=\"b i\">equal width\n",
    "                and height</span>.\n",
    "            </li>\n",
    "            <li>\n",
    "                To create the image, <span class=\"b i\">start at point (0,0)\n",
    "                </span>and lay wire\n",
    "                <span class=\"b i\">to the right until you reach the end of\n",
    "                the row</span>, indicated by the width of the desired square\n",
    "                image. Then, <span class=\"b i\">move down a row</span> and\n",
    "                <span class=\"b i\">lay the wire to the left</span>,\n",
    "                <a href=\"https://en.wikipedia.org/wiki/Zigzag\">zigzagging</a>\n",
    "                from top to bottom and left to right until the entire wire is\n",
    "                used.\n",
    "            </li>\n",
    "        </ul>\n",
    "        <h4>\n",
    "            For example:\n",
    "        </h4>\n",
    "        <p>\n",
    "            The wire with pixels\n",
    "        </p>\n",
    "        <div>\n",
    "            <table class=\"map\">\n",
    "                <tr>\n",
    "                    <td style=\"background-color:darkgreen;\">0</td>\n",
    "                    <td style=\"background-color:darkblue\">1</td>\n",
    "                    <td style=\"background-color:purple\">2</td>\n",
    "                    <td style=\"background-color:indigo\">3</td>\n",
    "                    <td style=\"background-color:darkgreen;\">4</td>\n",
    "                    <td style=\"background-color:darkblue;\">5</td>\n",
    "                    <td style=\"background-color:purple;\">6</td>\n",
    "                    <td style=\"background-color:indigo;\">7</td>\n",
    "                    <td style=\"background-color:darkgreen;\">8</td>\n",
    "                    <td style=\"background-color:darkblue;\">9</td>\n",
    "                    <td style=\"background-color:purple;\">10</td>\n",
    "                    <td style=\"background-color:indigo;\">11</td>\n",
    "                    <td style=\"background-color:darkgreen;\">12</td>\n",
    "                    <td style=\"background-color:darkblue;\">13</td>\n",
    "                    <td style=\"background-color:purple;\">14</td>\n",
    "                    <td style=\"background-color:indigo;\">15</td>\n",
    "                </tr>\n",
    "            </table>\n",
    "        </div>\n",
    "        <p>\n",
    "            would zigzag into the following formation\n",
    "        </p>\n",
    "        <div class=\"flex-container\">\n",
    "            <div class=\"container-item\">\n",
    "                <table class=\"map\">\n",
    "                    <tr>\n",
    "                        <td style=\"background-color:darkgreen;\">0</td>\n",
    "                        <td style=\"background-color:darkblue\">1</td>\n",
    "                        <td style=\"background-color:purple\">2</td>\n",
    "                        <td style=\"background-color:indigo;\">3</td>\n",
    "                    </tr>\n",
    "                    <tr>\n",
    "                        <td style=\"background-color:indigo;\">7</td>\n",
    "                        <td style=\"background-color:purple\">6</td>\n",
    "                        <td style=\"background-color:darkblue\">5</td>\n",
    "                        <td style=\"background-color:darkgreen;\">4</td>\n",
    "                    </tr>\n",
    "                    <tr>\n",
    "                        <td style=\"background-color:darkgreen;\">8</td>\n",
    "                        <td style=\"background-color:darkblue\">9</td>\n",
    "                        <td style=\"background-color:purple\">10</td>\n",
    "                        <td style=\"background-color:indigo;\">11</td>\n",
    "                    </tr>\n",
    "                    <tr>\n",
    "                        <td style=\"background-color:indigo;\">15</td>\n",
    "                        <td style=\"background-color:purple\">14</td>\n",
    "                        <td style=\"background-color:darkblue\">13</td>\n",
    "                        <td style=\"background-color:darkgreen;\">12</td>\n",
    "                    </tr>\n",
    "                </table>\n",
    "            </div>\n",
    "            <div class=\"spacer\"><span class=\"b lg\">or </span></div>\n",
    "            <div class=\"container-item\">\n",
    "                <img class=\"smallpic\" src=\"../static/images/05/linea.png\">\n",
    "            </div>\n",
    "        </div>\n",
    "        <p>\n",
    "            A larger wire with more pixels might produce an image like\n",
    "        </p>\n",
    "        <div class=\"imgcontainer\">\n",
    "            <img style=\"height:50px;width:50px;\" src=\"../static/images/05/sample.png\">\n",
    "        </div>\n",
    "        <p>\n",
    "            making the amount of energy obtained by the Power Harvester\n",
    "            <span class=\"code part\">79</span> GJ.\n",
    "        </p>\n",
    "\"\"\""
   ]
  },
  {
   "cell_type": "code",
   "execution_count": 55,
   "id": "d8faf22a-e090-4a8d-9f18-2eb66ac7583a",
   "metadata": {
    "tags": []
   },
   "outputs": [
    {
     "name": "stdout",
     "output_type": "stream",
     "text": [
      "<p> You performed so well in the galley that the crew in the generator room has requested your help today. Their <span class=\"b i\">Power Harvester machine</span>, which <span class=\"b i\">gathers energy from nearby stars to fuel the ship</span>, is functioning fine. However, they are having <span class=\"b i\">trouble reading the outputs</span> that indicate how many gigajoules (GJ) of energy have been collected. </p> <p> Here's how the Power Harvester works:<br>After sending a <a href=\"https://en.wikipedia.org/wiki/Photon\">photon</a> collection beam toward a star, the energy is gathered and stored in one of the power tanks in the generator room. Although the Power Harvester is somewhat outdated, it has been reliable over the years with minimal updates. <span class=\"b i\">Instead of a digital display, this antique machine <a href=\"https://en.wikipedia.org/wiki/Extrusion\">extrudes</a> a long, thin wire of singular <a href=\"https://en.wikipedia.org/wiki/Pixel\">pixels</a></span>. This wire is then <span class=\"b i\">fed into the more modern P.I.L. System (Patterned Image Layout), which reconstructs it into a square image</span>. The resulting image displays the number of GJ harvested. </p> <p> Despite its age, the Power Harvester is known for its good old-fashioned reliability and continues to run smoothly. However, <span class=\"b i\">the P.I.L. System is failing</span> and can no longer convert the wire into a viewable square image. You need to <span class=\"b i\">reprogram it to restore this function</span>. </p> <ul> <li class=\"pad\"> You can be certain that <span class=\"b i\">the length of wire extruded from the Power Harvester machine is a <a href=\"https://en.wikipedia.org/wiki/Square_number\"> perfect square</a></span>, which means that it can be arranged into an image with <span class=\"b i\">equal width and height</span>. </li> <li> To create the image, <span class=\"b i\">start at point (0,0) </span>and lay wire <span class=\"b i\">to the right until you reach the end of the row</span>, indicated by the width of the desired square image. Then, <span class=\"b i\">move down a row</span> and <span class=\"b i\">lay the wire to the left</span>, <a href=\"https://en.wikipedia.org/wiki/Zigzag\">zigzagging</a> from top to bottom and left to right until the entire wire is used. </li> </ul> <h4> For example: </h4> <p> The wire with pixels </p> <div> <table class=\"map\"> <tr> <td style=\"background-color:darkgreen;\">0</td> <td style=\"background-color:darkblue\">1</td> <td style=\"background-color:purple\">2</td> <td style=\"background-color:indigo\">3</td> <td style=\"background-color:darkgreen;\">4</td> <td style=\"background-color:darkblue;\">5</td> <td style=\"background-color:purple;\">6</td> <td style=\"background-color:indigo;\">7</td> <td style=\"background-color:darkgreen;\">8</td> <td style=\"background-color:darkblue;\">9</td> <td style=\"background-color:purple;\">10</td> <td style=\"background-color:indigo;\">11</td> <td style=\"background-color:darkgreen;\">12</td> <td style=\"background-color:darkblue;\">13</td> <td style=\"background-color:purple;\">14</td> <td style=\"background-color:indigo;\">15</td> </tr> </table> </div> <p> would zigzag into the following formation </p> <div class=\"flex-container\"> <div class=\"container-item\"> <table class=\"map\"> <tr> <td style=\"background-color:darkgreen;\">0</td> <td style=\"background-color:darkblue\">1</td> <td style=\"background-color:purple\">2</td> <td style=\"background-color:indigo;\">3</td> </tr> <tr> <td style=\"background-color:indigo;\">7</td> <td style=\"background-color:purple\">6</td> <td style=\"background-color:darkblue\">5</td> <td style=\"background-color:darkgreen;\">4</td> </tr> <tr> <td style=\"background-color:darkgreen;\">8</td> <td style=\"background-color:darkblue\">9</td> <td style=\"background-color:purple\">10</td> <td style=\"background-color:indigo;\">11</td> </tr> <tr> <td style=\"background-color:indigo;\">15</td> <td style=\"background-color:purple\">14</td> <td style=\"background-color:darkblue\">13</td> <td style=\"background-color:darkgreen;\">12</td> </tr> </table> </div> <div class=\"spacer\"><span class=\"b lg\">or </span></div> <div class=\"container-item\"> <img class=\"smallpic\" src=\"../static/images/05/linea.png\"> </div> </div> <p> A larger wire with more pixels might produce an image like </p> <div class=\"imgcontainer\"> <img style=\"height:50px;width:50px;\" src=\"../static/images/05/sample.png\"> </div> <p> making the amount of energy obtained by the Power Harvester <span class=\"code part\">79</span> GJ. </p> \n"
     ]
    }
   ],
   "source": [
    "print(\" \".join(line.strip() for line in STRING.split(\"\\n\")))"
   ]
  },
  {
   "cell_type": "code",
   "execution_count": 55,
   "id": "9270cf06-9c94-4d7f-a580-f579a0c92396",
   "metadata": {
    "tags": []
   },
   "outputs": [
    {
     "name": "stdout",
     "output_type": "stream",
     "text": [
      "@@@####&nbsp;&nbsp;&nbsp;&nbsp;&nbsp;&nbsp;&nbsp;&nbsp;<br>\n",
      "#@@@@@#########<br>\n",
      "&nbsp;##@@@@@@#&nbsp;&nbsp;&nbsp;&nbsp;&nbsp;<br>\n",
      "&nbsp;&nbsp;##@@@@@@#&nbsp;&nbsp;&nbsp;&nbsp;<br>\n",
      "#&nbsp;##@@##@@#&nbsp;&nbsp;##<br>\n",
      "#&nbsp;##@@####&nbsp;####<br>\n",
      "#&nbsp;##@@##&nbsp;#&nbsp;##&nbsp;&nbsp;<br>\n",
      "#&nbsp;##@@#&nbsp;&nbsp;#&nbsp;&nbsp;#&nbsp;&nbsp;<br>\n",
      "&nbsp;&nbsp;#@@@##&nbsp;&nbsp;#&nbsp;&nbsp;##<br>\n",
      "&nbsp;##@@@@##&nbsp;&nbsp;#&nbsp;&nbsp;&nbsp;<br>\n",
      "&nbsp;###@@@@##&nbsp;&nbsp;###<br>\n",
      "&nbsp;###@@@@@@#&nbsp;&nbsp;&nbsp;&nbsp;<br>\n",
      "&nbsp;&nbsp;####@@@@@##&nbsp;&nbsp;<br>\n",
      "##&nbsp;&nbsp;&nbsp;#####@@##&nbsp;<br>\n",
      "&nbsp;&nbsp;#&nbsp;&nbsp;&nbsp;&nbsp;####@@#&nbsp;\n"
     ]
    }
   ],
   "source": [
    "m = \"\"\"@@@####        \n",
    "#@@@@@#########\n",
    " ##@@@@@@#     \n",
    "  ##@@@@@@#    \n",
    "# ##@@##@@#  ##\n",
    "# ##@@#### ####\n",
    "# ##@@## # ##  \n",
    "# ##@@#  #  #  \n",
    "  #@@@##  #  ##\n",
    " ##@@@@##  #   \n",
    " ###@@@@##  ###\n",
    " ###@@@@@@#    \n",
    "  ####@@@@@##  \n",
    "##   #####@@## \n",
    "  #    ####@@# \"\"\"\n",
    "print(\"<br>\\n\".join(x for x in m.replace(\" \", \"&nbsp;\").split(\"\\n\")))"
   ]
  },
  {
   "cell_type": "code",
   "execution_count": 99,
   "id": "7b86b3ed-c7f2-454f-bda6-a6d28a2f2e57",
   "metadata": {
    "tags": []
   },
   "outputs": [
    {
     "data": {
      "text/plain": [
       "56"
      ]
     },
     "execution_count": 99,
     "metadata": {},
     "output_type": "execute_result"
    }
   ],
   "source": [
    "m.count(\"@\")"
   ]
  },
  {
   "cell_type": "code",
   "execution_count": 4,
   "id": "73fd1fa2-2257-42a5-bdeb-76a9aedfe07a",
   "metadata": {},
   "outputs": [
    {
     "data": {
      "text/plain": [
       "39"
      ]
     },
     "execution_count": 4,
     "metadata": {},
     "output_type": "execute_result"
    }
   ],
   "source": [
    "len(\"HURRMHAHP'I LC!GNLPFVN.OUSHRGNKUNM.OUTS\")"
   ]
  },
  {
   "cell_type": "code",
   "execution_count": 2,
   "id": "82065674-60c2-4660-9037-c6b63919e1d0",
   "metadata": {
    "tags": []
   },
   "outputs": [
    {
     "data": {
      "text/plain": [
       "15"
      ]
     },
     "execution_count": 2,
     "metadata": {},
     "output_type": "execute_result"
    }
   ],
   "source": [
    "\"....xxx.x.x.xxxx.xxxxxxxxx.x.x.xx.xx...x\".count(\".\")"
   ]
  },
  {
   "cell_type": "code",
   "execution_count": 3,
   "id": "8538ffee-f759-4242-be47-f743cfc42916",
   "metadata": {
    "tags": []
   },
   "outputs": [
    {
     "data": {
      "text/plain": [
       "0.375"
      ]
     },
     "execution_count": 3,
     "metadata": {},
     "output_type": "execute_result"
    }
   ],
   "source": [
    "Your shelf is <span class=\"main code part\">500</span>cm wide.<br>Here is the inventory of all the coffee beans:"
   ]
  },
  {
   "cell_type": "code",
   "execution_count": 33,
   "id": "753b4b4f-1908-4cff-8a26-ae82763f58e1",
   "metadata": {
    "tags": []
   },
   "outputs": [
    {
     "name": "stdout",
     "output_type": "stream",
     "text": [
      "('Jamaica', 'Brazil') 60\n",
      "('Jamaica', 'Columbia') 70\n",
      "('Jamaica', 'Uganda') 50\n",
      "('Jamaica', 'Mexico') 70\n",
      "('Brazil', 'Columbia') 50\n",
      "('Brazil', 'Uganda') 30\n",
      "('Brazil', 'Mexico') 50\n",
      "('Columbia', 'Uganda') 40\n",
      "('Columbia', 'Mexico') 60\n",
      "('Uganda', 'Mexico') 40\n",
      "('Jamaica', 'Brazil', 'Uganda') 70\n",
      "('Brazil', 'Columbia', 'Uganda') 60\n",
      "('Brazil', 'Uganda', 'Mexico') 60\n",
      "('Columbia', 'Uganda', 'Mexico') 70\n"
     ]
    }
   ],
   "source": [
    "from itertools import combinations\n",
    "\n",
    "ref = {\n",
    "    \"Jamaica\":40,\n",
    "    \"Brazil\":20,\n",
    "    \"Columbia\":30,\n",
    "    \"Uganda\":10,\n",
    "    \"Mexico\":30,\n",
    "}\n",
    "\n",
    "for comb in combinations(ref.keys(), 2):\n",
    "    w = sum(ref[x] for x in comb)\n",
    "    if w <= 70:\n",
    "        print(comb, w)\n",
    "for comb in combinations(ref.keys(), 3):\n",
    "    w = sum(ref[x] for x in comb)\n",
    "    if w <= 70:\n",
    "        print(comb, w)\n",
    "for comb in combinations(ref.keys(), 4):\n",
    "    w = sum(ref[x] for x in comb)\n",
    "    if w <= 70:\n",
    "        print(comb, w)"
   ]
  },
  {
   "cell_type": "code",
   "execution_count": 17,
   "id": "709bb724-23a0-454f-a0e3-9e1e9402f25e",
   "metadata": {
    "tags": []
   },
   "outputs": [
    {
     "data": {
      "text/plain": [
       "438.66749999999996"
      ]
     },
     "execution_count": 17,
     "metadata": {},
     "output_type": "execute_result"
    }
   ],
   "source": [
    "11.56 + 425.1844 + 1.1406 + 0.6241 + 0.1584"
   ]
  },
  {
   "cell_type": "code",
   "execution_count": null,
   "id": "da323a9c-3bdf-453f-920e-8a52b0aec7ca",
   "metadata": {},
   "outputs": [],
   "source": []
  }
 ],
 "metadata": {
  "kernelspec": {
   "display_name": "Python 3 (ipykernel)",
   "language": "python",
   "name": "python3"
  },
  "language_info": {
   "codemirror_mode": {
    "name": "ipython",
    "version": 3
   },
   "file_extension": ".py",
   "mimetype": "text/x-python",
   "name": "python",
   "nbconvert_exporter": "python",
   "pygments_lexer": "ipython3",
   "version": "3.10.9"
  }
 },
 "nbformat": 4,
 "nbformat_minor": 5
}
