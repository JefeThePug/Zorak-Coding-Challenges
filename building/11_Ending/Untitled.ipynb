{
 "cells": [
  {
   "cell_type": "code",
   "execution_count": 25,
   "id": "addae916-48dc-4d0b-8ef9-ea07390c4278",
   "metadata": {
    "tags": []
   },
   "outputs": [],
   "source": [
    "from PIL import Image\n",
    "\n",
    "i = Image.open(\"ending.gif\")\n",
    "\n",
    "frames = []\n",
    "try:\n",
    "    while True:\n",
    "        frames.append(i.copy())\n",
    "        i.seek(i.tell() + 1)\n",
    "except EOFError:\n",
    "    pass\n",
    "\n",
    "frames[0].save(\"looping_ending.gif\", save_all=True, append_images=frames[1:], loop=0)\n"
   ]
  },
  {
   "cell_type": "code",
   "execution_count": 39,
   "id": "0dfe3056-9f08-49f3-91c9-0775225cbcfe",
   "metadata": {
    "tags": []
   },
   "outputs": [
    {
     "name": "stdout",
     "output_type": "stream",
     "text": [
      "{'version': b'GIF89a', 'background': 246, 'transparency': 255, 'duration': 100}\n",
      "{'version': b'GIF89a', 'background': 246, 'loop': 0, 'duration': 100, 'extension': (b'NETSCAPE2.0', 795)}\n",
      "{'version': b'GIF89a', 'background': 0, 'transparency': 255, 'duration': 30}\n",
      "{'version': b'GIF87a', 'background': 0, 'loop': 0, 'transparency': 255, 'duration': 30, 'extension': (b'NETSCAPE2.0', 795)}\n"
     ]
    }
   ],
   "source": [
    "from PIL import Image\n",
    "i = Image.open(\"ending.gif\")\n",
    "print(i.info)\n",
    "i = Image.open(\"looping_ending.gif\")\n",
    "print(i.info)\n",
    "i = Image.open(\"flash.gif\")\n",
    "print(i.info)\n",
    "i = Image.open(\"looping_flash.gif\")\n",
    "print(i.info)"
   ]
  },
  {
   "cell_type": "code",
   "execution_count": 118,
   "id": "3bb7964e-9559-4b50-a4ea-755336a1e095",
   "metadata": {
    "tags": []
   },
   "outputs": [
    {
     "name": "stdout",
     "output_type": "stream",
     "text": [
      "Time using len(str(number)): 0.988188 seconds\n",
      "Time using len(str(number)): 0.782476 seconds\n",
      "Time using int(math.log10(number)) + 1: 0.800410 seconds\n",
      "Time using int(math.log10(number)) + 1 with safety check: 1.089737 seconds\n"
     ]
    }
   ],
   "source": [
    "from math import log10\n",
    "import timeit\n",
    "\n",
    "# Test setup\n",
    "number = 123456789\n",
    "\n",
    "# Using len(str(number))\n",
    "def using_str_len():\n",
    "    return len(str(number))\n",
    "\n",
    "# Using len(f\"{number}\")\n",
    "def using_str_len_f():\n",
    "    return len(f\"{number}\")\n",
    "\n",
    "# Using int(math.log10(number)) + 1\n",
    "def using_log10():\n",
    "    return int(log10(number)) + 1\n",
    "\n",
    "# Handle edge case where number is 0\n",
    "def using_log10_safe(n):\n",
    "    try:\n",
    "        return int(log10(n)) + 1\n",
    "    except ValueError:\n",
    "        return 1\n",
    "\n",
    "# Time the functions\n",
    "time_str_len = timeit.timeit(using_str_len, number=10_000_000)\n",
    "time_str_len_f = timeit.timeit(using_str_len_f, number=10_000_000)\n",
    "time_log10 = timeit.timeit(using_log10, number=10_000_000)\n",
    "time_log10_safe = timeit.timeit(lambda: using_log10_safe(number), number=10_000_000)\n",
    "\n",
    "print(f\"Time using len(str(number)): {time_str_len:.6f} seconds\")\n",
    "print(f\"Time using len(str(number)): {time_str_len_f:.6f} seconds\")\n",
    "print(f\"Time using int(math.log10(number)) + 1: {time_log10:.6f} seconds\")\n",
    "print(f\"Time using int(math.log10(number)) + 1 with safety check: {time_log10_safe:.6f} seconds\")\n"
   ]
  },
  {
   "cell_type": "code",
   "execution_count": 112,
   "id": "04191e35-158d-42e3-9ace-4a163e0690b2",
   "metadata": {
    "tags": []
   },
   "outputs": [
    {
     "ename": "ValueError",
     "evalue": "math domain error",
     "output_type": "error",
     "traceback": [
      "\u001b[0;31m---------------------------------------------------------------------------\u001b[0m",
      "\u001b[0;31mValueError\u001b[0m                                Traceback (most recent call last)",
      "Cell \u001b[0;32mIn[112], line 1\u001b[0m\n\u001b[0;32m----> 1\u001b[0m \u001b[43mlog10\u001b[49m\u001b[43m(\u001b[49m\u001b[38;5;241;43m0\u001b[39;49m\u001b[43m)\u001b[49m\n",
      "\u001b[0;31mValueError\u001b[0m: math domain error"
     ]
    }
   ],
   "source": [
    "log10(0)"
   ]
  },
  {
   "cell_type": "code",
   "execution_count": 120,
   "id": "026c1fa7-c291-4b78-9f69-8170141bd606",
   "metadata": {
    "tags": []
   },
   "outputs": [
    {
     "data": {
      "text/plain": [
       "'07'"
      ]
     },
     "execution_count": 120,
     "metadata": {},
     "output_type": "execute_result"
    }
   ],
   "source": [
    "x = 7\n",
    "\n",
    "f\"{x:02d}\""
   ]
  },
  {
   "cell_type": "code",
   "execution_count": 123,
   "id": "a47f1476-c2ed-4741-a398-bda2bbb2d317",
   "metadata": {
    "tags": []
   },
   "outputs": [
    {
     "name": "stdout",
     "output_type": "stream",
     "text": [
      "3221\n",
      "123456789\n"
     ]
    }
   ],
   "source": [
    "\n",
    "def reverse_number(num):\n",
    "  # Reverse the number\n",
    "  reverse = int(str(num)[::-1])\n",
    "  # Return the number\n",
    "  return reverse\n",
    "\n",
    "## Example usage:\n",
    "print(reverse_number(1223)) # Output: 3221\n",
    "print(reverse_number(987654321)) # Output: 123456789"
   ]
  },
  {
   "cell_type": "code",
   "execution_count": 52,
   "id": "db423925-3c68-4802-b5ca-cc84ebc0dac1",
   "metadata": {},
   "outputs": [],
   "source": [
    "STRING = \"\"\"\n",
    "<p>\n",
    "            Now that you have a recipe in mind, it's time to gather the Galactic Algae\n",
    "            Blooms from deep space. You do this using a <span class=\"b i\">deep space\n",
    "            net</span>. The chef shows you the control panel for the net, a big screen\n",
    "            displaying glowing blobs in a gradient of color. These blobs, you are told,\n",
    "            represent <span class=\"b i\">clusters of Galactic Algae Blooms</span>.\n",
    "            Pressing the toggle button will alternate between displaying the algae\n",
    "            cluster blobs and <span class=\"b i\">a\n",
    "            <a href=\"https://computersciencewiki.org/index.php/Two-dimensional_arrays\">\n",
    "            grid</a> of numbers</span>, your puzzle input, representing how many algae\n",
    "            are at each point. \n",
    "        </p>\n",
    "        <p>\n",
    "            The cost of casting this deep space net is very high, so you are informed you \n",
    "            can <span class=\"b i\">only cast once per day</span>. Fortunately, the algae \n",
    "            blooms migrate around each cluster's <span class=\"b i\">center of \n",
    "            mass</span>, so casting the net directly into that location will \n",
    "            <span class=\"b i\">collect every algae bloom from that cluster</span>. Since \n",
    "            the STS Space Ghost has a large crew, you should aim to collect as many algae \n",
    "            blooms as possible.\n",
    "        </p>\n",
    "        <p>\n",
    "            In your previous equations for the Center of Mass, you had only 3 points to \n",
    "            consider, but these clusters of algae blooms are much more numerous. \n",
    "            Unfortunately, the previous equation will not work, but you notice that you can \n",
    "            perform the summations in the numerator and the denominator of the equations \n",
    "            with any number of points. <span class=\"b i\">You can use these new equations</span>.\n",
    "        </p>\n",
    "        <div class=\"imgcontainer pad\">\n",
    "            <a href=\"../static/images/04/CoMx_sum.png\">\n",
    "                <img class=\"smallpic pad\" src=\"../static/images/04/CoMx_sum.png\">\n",
    "            </a>\n",
    "            <span class=\"spacer\"></span>\n",
    "            <a href=\"../static/images/04/CoMy_sum.png\">\n",
    "            <img class=\"smallpic pad\" src=\"../static/images/04/CoMy_sum.png\">\n",
    "            </a>\n",
    "        </div>\n",
    "        <p>\n",
    "            Type the <span class=\"b i\">X and Y coordinates, separated by a comma</span>, \n",
    "            into the machine to cast the net to the cluster with the greatest total mass.\n",
    "        </p>\n",
    "        <h4>\n",
    "            For example:\n",
    "        </h4>\n",
    "        <div class=\"flex-container\">\n",
    "            <div class=\"container-item\">\n",
    "                <p>This blob</p>\n",
    "                <img class=\"midpic\" src=\"../static/images/04/example.png\">\n",
    "            </div>\n",
    "            <div class=\"container-item\">\n",
    "                <p>gives you the following number grid</p>\n",
    "                <span class=\"code free sm\">\n",
    "                    0,0,0,0,1,1,0,0,0,0,1,1,0,0,0,0,0,0,0,3<br>\n",
    "                    0,0,0,0,5,6,3,0,0,1,2,2,0,0,0,0,0,0,2,7<br>\n",
    "                    0,0,0,2,8,9,9,6,4,5,4,2,0,0,0,0,0,1,5,8<br>\n",
    "                    0,0,0,1,8,9,9,9,9,8,6,2,0,0,0,0,0,3,4,5<br>\n",
    "                    0,0,0,0,4,8,9,8,9,8,6,2,0,0,0,0,1,3,2,0<br>\n",
    "                    0,0,0,0,0,2,3,3,5,7,6,2,0,0,0,0,1,2,0,0<br>\n",
    "                    0,0,0,0,0,0,0,0,2,4,5,2,0,0,0,0,1,1,0,0<br>\n",
    "                    0,0,0,0,0,0,0,0,0,1,3,1,0,0,0,0,1,2,0,0<br>\n",
    "                    0,0,0,0,0,0,0,0,0,0,0,0,0,0,0,0,1,3,2,0<br>\n",
    "                    0,0,0,0,0,0,0,0,0,0,0,0,0,0,0,0,0,4,4,5<br>\n",
    "                    0,0,0,0,0,0,0,0,0,0,0,0,0,0,0,0,0,2,5,7<br>\n",
    "                    0,0,0,0,0,0,0,0,0,0,0,0,0,0,0,0,0,0,2,6<br>\n",
    "                    0,0,0,0,1,1,0,0,0,0,0,0,0,0,0,0,0,0,0,2<br>\n",
    "                    0,0,0,0,4,5,2,0,0,0,0,2,3,2,0,0,0,0,0,0<br>\n",
    "                    0,0,0,1,7,8,5,1,0,0,4,8,9,7,3,0,0,0,0,0<br>\n",
    "                    0,0,0,1,7,8,4,0,0,1,6,9,9,9,6,1,0,0,0,0<br>\n",
    "                    0,0,0,1,6,5,2,0,0,0,3,8,9,8,6,3,1,0,1,2<br>\n",
    "                    0,0,0,2,4,3,0,0,0,0,0,2,3,3,2,2,1,1,1,1<br>\n",
    "                    0,0,2,4,5,2,0,0,0,0,0,0,0,0,0,0,0,0,0,0<br>\n",
    "                    1,2,4,6,5,1,0,0,0,0,0,0,0,0,0,0,0,0,0,0<br>\n",
    "                </span>\n",
    "            </div>\n",
    "            <div class=\"container-item\">\n",
    "                <p>\n",
    "                    You can see the clusters' values<br>\n",
    "                    easier by ignoring the 0s\n",
    "                </p>\n",
    "                <span class=\"code free sm\">\n",
    "                    , , , ,1,1, , , , ,1,1, , , , , , , ,3<br>\n",
    "                    , , , ,5,6,3, , ,1,2,2, , , , , , ,2,7<br>\n",
    "                    , , ,2,8,9,9,6,4,5,4,2, , , , , ,1,5,8<br>\n",
    "                    , , ,1,8,9,9,9,9,8,6,2, , , , , ,3,4,5<br>\n",
    "                    , , , ,4,8,9,8,9,8,6,2, , , , ,1,3,2, <br>\n",
    "                    , , , , ,2,3,3,5,7,6,2, , , , ,1,2, , <br>\n",
    "                    , , , , , , , ,2,4,5,2, , , , ,1,1, , <br>\n",
    "                    , , , , , , , , ,1,3,1, , , , ,1,2, , <br>\n",
    "                    , , , , , , , , , , , , , , , ,1,3,2, <br>\n",
    "                    , , , , , , , , , , , , , , , , ,4,4,5<br>\n",
    "                    , , , , , , , , , , , , , , , , ,2,5,7<br>\n",
    "                    , , , , , , , , , , , , , , , , , ,2,6<br>\n",
    "                    , , , ,1,1, , , , , , , , , , , , , ,2<br>\n",
    "                    , , , ,4,5,2, , , , ,2,3,2, , , , , , <br>\n",
    "                    , , ,1,7,8,5,1, , ,4,8,9,7,3, , , , , <br>\n",
    "                    , , ,1,7,8,4, , ,1,6,9,9,9,6,1, , , , <br>\n",
    "                    , , ,1,6,5,2, , , ,3,8,9,8,6,3,1, ,1,2<br>\n",
    "                    , , ,2,4,3, , , , , ,2,3,3,2,2,1,1,1,1<br>\n",
    "                    , ,2,4,5,2, , , , , , , , , , , , , , <br>\n",
    "                   1,2,4,6,5,1, , , , , , , , , , , , , , <br>\n",
    "                </span>\n",
    "            </div>\n",
    "        </div>\n",
    "            <p>\n",
    "                Looking at the C-shaped cluster on the right, you can calculate\n",
    "                the <span class=\"b i\">total mass</span> by adding all of the\n",
    "                individual masses in the cluster.\n",
    "                <span class=\"code part\">\n",
    "                    &nbsp;3+2+7+1+5+8+3+4+5+1+3+2+1+2+1+1+1+2+1+3+2+4+4+5+2+5+7+2+6+2 = 95\n",
    "                </span>\n",
    "            </p>\n",
    "            <p>\n",
    "                Then for the numerator of the Center of Mass equation for X, you can\n",
    "                multiply every mass by its X position <span class=\"b i\">(m*x)</span>\n",
    "                and sum the results.\n",
    "                <span class=\"code part\">\n",
    "                    (3*19)+(2*18)+(7*19)+(1*17)+(5*18)+(8*19)+(3*17)+(4*18)+(5*19)+(1*16)+(3*17)+(2*18)+(1*16)+(2*17)+(1*16)+(1*17)+(1*16)+(2*17)+(1*16)+(3*17)+(2*18)+(4*17)+(4*18)+(5*19)+(2*17)+(5*18)+(7*19)+(2*18)+(6*19)+(2*19)<br>\n",
    "                    = 1722\n",
    "                </span>\n",
    "                Since you are looking for an integer position on the grid, you can use\n",
    "                integer division to get the Center of Mass' position at X. You take the\n",
    "                numerator you just calculated, and divide it by the total mass in the\n",
    "                denominator.<br>\n",
    "                <span class=\"code part\">1722 // 95 = 18</span>\n",
    "            </p>\n",
    "            <p>\n",
    "                You do the same for the Y positions <span class=\"b i\">(m*x)</span> for\n",
    "                the Center of Mass equation for Y.\n",
    "                <span class=\"code part\">\n",
    "                    (3*0)+(2*1)+(7*1)+(1*2)+(5*2)+(8*2)+(3*3)+(4*3)+(5*3)+(1*4)+(3*4)+(2*4)+(1*5)+(2*5)+(1*6)+(1*6)+(1*7)+(2*7)+(1*8)+(3*8)+(2*8)+(4*9)+(4*9)+(5*9)+(2*10)+(5*10)+(7*10)+(2*11)+(6*11)+(2*12)<br>\n",
    "                    = 562\n",
    "                </span>\n",
    "                <span class=\"code part\">562 // 95 = 5</span>, so the Center of Mass for\n",
    "                that cluster is at\n",
    "                <span class=\"code part\">position (18,5) with a total mass of 95</span>.\n",
    "            </p>\n",
    "\n",
    "            <p>\n",
    "                Doing the same for all clusters, we get\n",
    "            </p>\n",
    "            <span class=\"code free\">\n",
    "                CoM (7,3) total mass: 233,<br>\n",
    "                CoM (18,5) total mass: 95,<br>\n",
    "                CoM (4,15) total mass: 110,<br>\n",
    "                CoM (12,15) total mass: 136\n",
    "            </span>\n",
    "            <p>\n",
    "                Shown on the diagram with stars for each Center of Mass:\n",
    "            </p>\n",
    "            <img class=\"midpic\" src=\"../static/images/04/example_results.png\">\n",
    "            <p> \n",
    "                You can see that 233 is the cluster with the greatest mass, so you\n",
    "                would input <span class=\"code part\">7,3</span> into the coordinates\n",
    "                for the deep space net.\n",
    "            </p>\n",
    "\"\"\""
   ]
  },
  {
   "cell_type": "code",
   "execution_count": 53,
   "id": "d8faf22a-e090-4a8d-9f18-2eb66ac7583a",
   "metadata": {
    "tags": []
   },
   "outputs": [
    {
     "name": "stdout",
     "output_type": "stream",
     "text": [
      " <p> Now that you have a recipe in mind, it's time to gather the Galactic Algae Blooms from deep space. You do this using a <span class=\"b i\">deep space net</span>. The chef shows you the control panel for the net, a big screen displaying glowing blobs in a gradient of color. These blobs, you are told, represent <span class=\"b i\">clusters of Galactic Algae Blooms</span>. Pressing the toggle button will alternate between displaying the algae cluster blobs and <span class=\"b i\">a <a href=\"https://computersciencewiki.org/index.php/Two-dimensional_arrays\"> grid</a> of numbers</span>, your puzzle input, representing how many algae are at each point. </p> <p> The cost of casting this deep space net is very high, so you are informed you can <span class=\"b i\">only cast once per day</span>. Fortunately, the algae blooms migrate around each cluster's <span class=\"b i\">center of mass</span>, so casting the net directly into that location will <span class=\"b i\">collect every algae bloom from that cluster</span>. Since the STS Space Ghost has a large crew, you should aim to collect as many algae blooms as possible. </p> <p> In your previous equations for the Center of Mass, you had only 3 points to consider, but these clusters of algae blooms are much more numerous. Unfortunately, the previous equation will not work, but you notice that you can perform the summations in the numerator and the denominator of the equations with any number of points. <span class=\"b i\">You can use these new equations</span>. </p> <div class=\"imgcontainer pad\"> <a href=\"../static/images/04/CoMx_sum.png\"> <img class=\"smallpic pad\" src=\"../static/images/04/CoMx_sum.png\"> </a> <span class=\"spacer\"></span> <a href=\"../static/images/04/CoMy_sum.png\"> <img class=\"smallpic pad\" src=\"../static/images/04/CoMy_sum.png\"> </a> </div> <p> Type the <span class=\"b i\">X and Y coordinates, separated by a comma</span>, into the machine to cast the net to the cluster with the greatest total mass. </p> <h4> For example: </h4> <div class=\"flex-container\"> <div class=\"container-item\"> <p>This blob</p> <img class=\"midpic\" src=\"../static/images/04/example.png\"> </div> <div class=\"container-item\"> <p>gives you the following number grid</p> <span class=\"code free sm\"> 0,0,0,0,1,1,0,0,0,0,1,1,0,0,0,0,0,0,0,3<br> 0,0,0,0,5,6,3,0,0,1,2,2,0,0,0,0,0,0,2,7<br> 0,0,0,2,8,9,9,6,4,5,4,2,0,0,0,0,0,1,5,8<br> 0,0,0,1,8,9,9,9,9,8,6,2,0,0,0,0,0,3,4,5<br> 0,0,0,0,4,8,9,8,9,8,6,2,0,0,0,0,1,3,2,0<br> 0,0,0,0,0,2,3,3,5,7,6,2,0,0,0,0,1,2,0,0<br> 0,0,0,0,0,0,0,0,2,4,5,2,0,0,0,0,1,1,0,0<br> 0,0,0,0,0,0,0,0,0,1,3,1,0,0,0,0,1,2,0,0<br> 0,0,0,0,0,0,0,0,0,0,0,0,0,0,0,0,1,3,2,0<br> 0,0,0,0,0,0,0,0,0,0,0,0,0,0,0,0,0,4,4,5<br> 0,0,0,0,0,0,0,0,0,0,0,0,0,0,0,0,0,2,5,7<br> 0,0,0,0,0,0,0,0,0,0,0,0,0,0,0,0,0,0,2,6<br> 0,0,0,0,1,1,0,0,0,0,0,0,0,0,0,0,0,0,0,2<br> 0,0,0,0,4,5,2,0,0,0,0,2,3,2,0,0,0,0,0,0<br> 0,0,0,1,7,8,5,1,0,0,4,8,9,7,3,0,0,0,0,0<br> 0,0,0,1,7,8,4,0,0,1,6,9,9,9,6,1,0,0,0,0<br> 0,0,0,1,6,5,2,0,0,0,3,8,9,8,6,3,1,0,1,2<br> 0,0,0,2,4,3,0,0,0,0,0,2,3,3,2,2,1,1,1,1<br> 0,0,2,4,5,2,0,0,0,0,0,0,0,0,0,0,0,0,0,0<br> 1,2,4,6,5,1,0,0,0,0,0,0,0,0,0,0,0,0,0,0<br> </span> </div> <div class=\"container-item\"> <p> You can see the clusters' values<br> easier by ignoring the 0s </p> <span class=\"code free sm\"> , , , ,1,1, , , , ,1,1, , , , , , , ,3<br> , , , ,5,6,3, , ,1,2,2, , , , , , ,2,7<br> , , ,2,8,9,9,6,4,5,4,2, , , , , ,1,5,8<br> , , ,1,8,9,9,9,9,8,6,2, , , , , ,3,4,5<br> , , , ,4,8,9,8,9,8,6,2, , , , ,1,3,2, <br> , , , , ,2,3,3,5,7,6,2, , , , ,1,2, , <br> , , , , , , , ,2,4,5,2, , , , ,1,1, , <br> , , , , , , , , ,1,3,1, , , , ,1,2, , <br> , , , , , , , , , , , , , , , ,1,3,2, <br> , , , , , , , , , , , , , , , , ,4,4,5<br> , , , , , , , , , , , , , , , , ,2,5,7<br> , , , , , , , , , , , , , , , , , ,2,6<br> , , , ,1,1, , , , , , , , , , , , , ,2<br> , , , ,4,5,2, , , , ,2,3,2, , , , , , <br> , , ,1,7,8,5,1, , ,4,8,9,7,3, , , , , <br> , , ,1,7,8,4, , ,1,6,9,9,9,6,1, , , , <br> , , ,1,6,5,2, , , ,3,8,9,8,6,3,1, ,1,2<br> , , ,2,4,3, , , , , ,2,3,3,2,2,1,1,1,1<br> , ,2,4,5,2, , , , , , , , , , , , , , <br> 1,2,4,6,5,1, , , , , , , , , , , , , , <br> </span> </div> </div> <p> Looking at the C-shaped cluster on the right, you can calculate the <span class=\"b i\">total mass</span> by adding all of the individual masses in the cluster. <span class=\"code part\"> &nbsp;3+2+7+1+5+8+3+4+5+1+3+2+1+2+1+1+1+2+1+3+2+4+4+5+2+5+7+2+6+2 = 95 </span> </p> <p> Then for the numerator of the Center of Mass equation for X, you can multiply every mass by its X position <span class=\"b i\">(m*x)</span> and sum the results. <span class=\"code part\"> (3*19)+(2*18)+(7*19)+(1*17)+(5*18)+(8*19)+(3*17)+(4*18)+(5*19)+(1*16)+(3*17)+(2*18)+(1*16)+(2*17)+(1*16)+(1*17)+(1*16)+(2*17)+(1*16)+(3*17)+(2*18)+(4*17)+(4*18)+(5*19)+(2*17)+(5*18)+(7*19)+(2*18)+(6*19)+(2*19)<br> = 1722 </span> Since you are looking for an integer position on the grid, you can use integer division to get the Center of Mass' position at X. You take the numerator you just calculated, and divide it by the total mass in the denominator.<br> <span class=\"code part\">1722 // 95 = 18</span> </p> <p> You do the same for the Y positions <span class=\"b i\">(m*x)</span> for the Center of Mass equation for Y. <span class=\"code part\"> (3*0)+(2*1)+(7*1)+(1*2)+(5*2)+(8*2)+(3*3)+(4*3)+(5*3)+(1*4)+(3*4)+(2*4)+(1*5)+(2*5)+(1*6)+(1*6)+(1*7)+(2*7)+(1*8)+(3*8)+(2*8)+(4*9)+(4*9)+(5*9)+(2*10)+(5*10)+(7*10)+(2*11)+(6*11)+(2*12)<br> = 562 </span> <span class=\"code part\">562 // 95 = 5</span>, so the Center of Mass for that cluster is at <span class=\"code part\">position (18,5) with a total mass of 95</span>. </p>  <p> Doing the same for all clusters, we get </p> <span class=\"code free\"> CoM (7,3) total mass: 233,<br> CoM (18,5) total mass: 95,<br> CoM (4,15) total mass: 110,<br> CoM (12,15) total mass: 136 </span> <p> Shown on the diagram with stars for each Center of Mass: </p> <img class=\"midpic\" src=\"../static/images/04/example_results.png\"> <p> You can see that 233 is the cluster with the greatest mass, so you would input <span class=\"code part\">7,3</span> into the coordinates for the deep space net. </p> \n"
     ]
    }
   ],
   "source": [
    "print(\" \".join(line.strip() for line in STRING.split(\"\\n\")))"
   ]
  },
  {
   "cell_type": "code",
   "execution_count": null,
   "id": "9270cf06-9c94-4d7f-a580-f579a0c92396",
   "metadata": {
    "tags": []
   },
   "outputs": [],
   "source": []
  },
  {
   "cell_type": "code",
   "execution_count": null,
   "id": "7b86b3ed-c7f2-454f-bda6-a6d28a2f2e57",
   "metadata": {
    "tags": []
   },
   "outputs": [],
   "source": []
  },
  {
   "cell_type": "code",
   "execution_count": null,
   "id": "a6166b94-27b2-41ff-8a8d-960571104531",
   "metadata": {},
   "outputs": [],
   "source": []
  }
 ],
 "metadata": {
  "kernelspec": {
   "display_name": "Python 3 (ipykernel)",
   "language": "python",
   "name": "python3"
  },
  "language_info": {
   "codemirror_mode": {
    "name": "ipython",
    "version": 3
   },
   "file_extension": ".py",
   "mimetype": "text/x-python",
   "name": "python",
   "nbconvert_exporter": "python",
   "pygments_lexer": "ipython3",
   "version": "3.10.9"
  }
 },
 "nbformat": 4,
 "nbformat_minor": 5
}
