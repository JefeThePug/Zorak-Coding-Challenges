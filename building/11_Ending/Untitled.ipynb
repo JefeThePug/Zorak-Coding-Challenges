{
 "cells": [
  {
   "cell_type": "code",
   "execution_count": 25,
   "id": "addae916-48dc-4d0b-8ef9-ea07390c4278",
   "metadata": {
    "tags": []
   },
   "outputs": [],
   "source": [
    "from PIL import Image\n",
    "\n",
    "i = Image.open(\"ending.gif\")\n",
    "\n",
    "frames = []\n",
    "try:\n",
    "    while True:\n",
    "        frames.append(i.copy())\n",
    "        i.seek(i.tell() + 1)\n",
    "except EOFError:\n",
    "    pass\n",
    "\n",
    "frames[0].save(\"looping_ending.gif\", save_all=True, append_images=frames[1:], loop=0)\n"
   ]
  },
  {
   "cell_type": "code",
   "execution_count": 39,
   "id": "0dfe3056-9f08-49f3-91c9-0775225cbcfe",
   "metadata": {
    "tags": []
   },
   "outputs": [
    {
     "name": "stdout",
     "output_type": "stream",
     "text": [
      "{'version': b'GIF89a', 'background': 246, 'transparency': 255, 'duration': 100}\n",
      "{'version': b'GIF89a', 'background': 246, 'loop': 0, 'duration': 100, 'extension': (b'NETSCAPE2.0', 795)}\n",
      "{'version': b'GIF89a', 'background': 0, 'transparency': 255, 'duration': 30}\n",
      "{'version': b'GIF87a', 'background': 0, 'loop': 0, 'transparency': 255, 'duration': 30, 'extension': (b'NETSCAPE2.0', 795)}\n"
     ]
    }
   ],
   "source": [
    "from PIL import Image\n",
    "i = Image.open(\"ending.gif\")\n",
    "print(i.info)\n",
    "i = Image.open(\"looping_ending.gif\")\n",
    "print(i.info)\n",
    "i = Image.open(\"flash.gif\")\n",
    "print(i.info)\n",
    "i = Image.open(\"looping_flash.gif\")\n",
    "print(i.info)"
   ]
  },
  {
   "cell_type": "code",
   "execution_count": 118,
   "id": "3bb7964e-9559-4b50-a4ea-755336a1e095",
   "metadata": {
    "tags": []
   },
   "outputs": [
    {
     "name": "stdout",
     "output_type": "stream",
     "text": [
      "Time using len(str(number)): 0.988188 seconds\n",
      "Time using len(str(number)): 0.782476 seconds\n",
      "Time using int(math.log10(number)) + 1: 0.800410 seconds\n",
      "Time using int(math.log10(number)) + 1 with safety check: 1.089737 seconds\n"
     ]
    }
   ],
   "source": [
    "from math import log10\n",
    "import timeit\n",
    "\n",
    "# Test setup\n",
    "number = 123456789\n",
    "\n",
    "# Using len(str(number))\n",
    "def using_str_len():\n",
    "    return len(str(number))\n",
    "\n",
    "# Using len(f\"{number}\")\n",
    "def using_str_len_f():\n",
    "    return len(f\"{number}\")\n",
    "\n",
    "# Using int(math.log10(number)) + 1\n",
    "def using_log10():\n",
    "    return int(log10(number)) + 1\n",
    "\n",
    "# Handle edge case where number is 0\n",
    "def using_log10_safe(n):\n",
    "    try:\n",
    "        return int(log10(n)) + 1\n",
    "    except ValueError:\n",
    "        return 1\n",
    "\n",
    "# Time the functions\n",
    "time_str_len = timeit.timeit(using_str_len, number=10_000_000)\n",
    "time_str_len_f = timeit.timeit(using_str_len_f, number=10_000_000)\n",
    "time_log10 = timeit.timeit(using_log10, number=10_000_000)\n",
    "time_log10_safe = timeit.timeit(lambda: using_log10_safe(number), number=10_000_000)\n",
    "\n",
    "print(f\"Time using len(str(number)): {time_str_len:.6f} seconds\")\n",
    "print(f\"Time using len(str(number)): {time_str_len_f:.6f} seconds\")\n",
    "print(f\"Time using int(math.log10(number)) + 1: {time_log10:.6f} seconds\")\n",
    "print(f\"Time using int(math.log10(number)) + 1 with safety check: {time_log10_safe:.6f} seconds\")\n"
   ]
  },
  {
   "cell_type": "code",
   "execution_count": 112,
   "id": "04191e35-158d-42e3-9ace-4a163e0690b2",
   "metadata": {
    "tags": []
   },
   "outputs": [
    {
     "ename": "ValueError",
     "evalue": "math domain error",
     "output_type": "error",
     "traceback": [
      "\u001b[0;31m---------------------------------------------------------------------------\u001b[0m",
      "\u001b[0;31mValueError\u001b[0m                                Traceback (most recent call last)",
      "Cell \u001b[0;32mIn[112], line 1\u001b[0m\n\u001b[0;32m----> 1\u001b[0m \u001b[43mlog10\u001b[49m\u001b[43m(\u001b[49m\u001b[38;5;241;43m0\u001b[39;49m\u001b[43m)\u001b[49m\n",
      "\u001b[0;31mValueError\u001b[0m: math domain error"
     ]
    }
   ],
   "source": [
    "log10(0)"
   ]
  },
  {
   "cell_type": "code",
   "execution_count": 120,
   "id": "026c1fa7-c291-4b78-9f69-8170141bd606",
   "metadata": {
    "tags": []
   },
   "outputs": [
    {
     "data": {
      "text/plain": [
       "'07'"
      ]
     },
     "execution_count": 120,
     "metadata": {},
     "output_type": "execute_result"
    }
   ],
   "source": [
    "x = 7\n",
    "\n",
    "f\"{x:02d}\""
   ]
  },
  {
   "cell_type": "code",
   "execution_count": 123,
   "id": "a47f1476-c2ed-4741-a398-bda2bbb2d317",
   "metadata": {
    "tags": []
   },
   "outputs": [
    {
     "name": "stdout",
     "output_type": "stream",
     "text": [
      "3221\n",
      "123456789\n"
     ]
    }
   ],
   "source": [
    "\n",
    "def reverse_number(num):\n",
    "  # Reverse the number\n",
    "  reverse = int(str(num)[::-1])\n",
    "  # Return the number\n",
    "  return reverse\n",
    "\n",
    "## Example usage:\n",
    "print(reverse_number(1223)) # Output: 3221\n",
    "print(reverse_number(987654321)) # Output: 123456789"
   ]
  },
  {
   "cell_type": "code",
   "execution_count": 27,
   "id": "db423925-3c68-4802-b5ca-cc84ebc0dac1",
   "metadata": {},
   "outputs": [],
   "source": [
    "STRING = \"\"\"\n",
    "<p>\n",
    "            Just as you translate the question received, another source sends a reply. \n",
    "            This must be the answer to the question previously asked, but the contents\n",
    "            of the new message cause your script to error. This is not Morse Code; it \n",
    "            looks like <span class=\"b i\">something alien</span>.\n",
    "        </p>\n",
    "        <p>\n",
    "            Rather than panic and run to your supervisor, you set your mind toward \n",
    "            solving this problem on your own. You re-read your Morse Code booklet to \n",
    "            no avail and open your desk drawer to see if there might be anything else \n",
    "            in there that could be of use… Nothing.\n",
    "        </p>\n",
    "        <p>\n",
    "            Sighing heavily and putting your head in your hands, you catch a glimpse of \n",
    "            a poster on the wall beside your monitor, which you hadn't noticed before. \n",
    "            It's titled, <span class=\"b i\">\"O.B.M.T. for Alien Communication\"</span>,\n",
    "            and it reads:\n",
    "        </p>\n",
    "        <ol>\n",
    "            <li>\n",
    "                Convert each character to its \n",
    "                <span class=\"b i\">\n",
    "                    Ordinal\n",
    "                </span>\n",
    "                <span class=\"sm\">\n",
    "                    (Unicode code points)\n",
    "                </span>\n",
    "            </li>\n",
    "            <li>\n",
    "                Concatenate those numbers to one large integer, then into\n",
    "                <span class=\"b i\">\n",
    "                    Binary\n",
    "                </span>\n",
    "            </li>\n",
    "            <li>\n",
    "                Convert the Binary number into\n",
    "                <span class=\"b i\">\n",
    "                    Morse Code\n",
    "                </span>\n",
    "                <span class=\"sm\">\n",
    "                    (considering the 0s dits and the 1s dahs)\n",
    "                </span>\n",
    "            </li>\n",
    "            <li>\n",
    "                Convert the Morse Code into\n",
    "                <span class=\"b i\">\n",
    "                    Text\n",
    "                </span>\n",
    "            </li>\n",
    "        </ol>\n",
    "        Underneath the fourth step there's a footnote:\n",
    "        <p class=\"shadow pad\">\n",
    "            <span class=\"b i\">\n",
    "                ※ Alien communication is always only one word.\n",
    "            </span>\n",
    "            Each received alien transmission has \n",
    "            <span class=\"b i\">\n",
    "                three \n",
    "                <a href=\"https://en.wikipedia.org/wiki/Exclamation_mark\">\n",
    "                    Exclamation Marks\n",
    "                </a>\n",
    "                at both the start and end of the message,\n",
    "            </span>\n",
    "            with \n",
    "            <span class=\"b i\">\n",
    "                one Exclamation Mark between each letter.\n",
    "            </span>\n",
    "        </p>\n",
    "        <h4>\n",
    "            Here's an example of the alien input\n",
    "        </h4>\n",
    "        <span class=\"code\">\n",
    "            ʄɾÄΨREmϣ\n",
    "        </span>\n",
    "        <ol>\n",
    "            <li>\n",
    "                Converting each character it's Ordinal, you get<br>\n",
    "                <span class=\"code part sm\">\n",
    "                    ʄ=644 ɾ=638 Ä=196 Ψ=936 R=82 E=69 m=109 ϣ=995\n",
    "                </span>\n",
    "            </li>\n",
    "            <li>\n",
    "                Concatenating those numbers to one large integer<br>\n",
    "                <span class=\"code part sm\">\n",
    "                    6446381969368269109995\n",
    "                </span><br>\n",
    "                and converting that number to Binary, you get<br>\n",
    "                <span class=\"code part sm\">\n",
    "                    1010111010111010110000101011001101011<br class=\"mbl\">\n",
    "                    111010110110101110101011101011101011\n",
    "                </span>\n",
    "            </li>\n",
    "            <li>\n",
    "                Converting the Binary into Morse Code, you would get<br>\n",
    "                <span class=\"code part sm\">\n",
    "                    _._.___._.___._.__...._._.__..__._.____<br class=\"mbl\">\n",
    "                    _._.__.__._.___._._.___._.___._.__\n",
    "                </span><br>\n",
    "                Removing the exclamation marks on both ends and between \n",
    "                each letter, you get<br>\n",
    "                <span class=\"code part sm\">\n",
    "                    &nbsp;(!)&nbsp;&nbsp;&nbsp;(!)&nbsp;&nbsp;&nbsp;(!)&nbsp;&nbsp;....&nbsp;(!)&nbsp;&nbsp;.._&nbsp;(!)&nbsp;&nbsp;__\n",
    "                    <br class=\"mbl\">\n",
    "                    &nbsp;(!)&nbsp;&nbsp;._&nbsp;(!)&nbsp;&nbsp;_.&nbsp;(!)&nbsp;&nbsp;&nbsp;(!)&nbsp;&nbsp;&nbsp;(!)&nbsp;\n",
    "                </span><br>\n",
    "                or\n",
    "                <span class=\"code part sm\">\n",
    "                    .... .._ __ ._ _.\n",
    "                </span>\n",
    "            </li>\n",
    "            <li>\n",
    "                Converting this Morse Code into text gives you:<br>\n",
    "                <span class=\"code part\">HUMAN</span>\n",
    "            </li>\n",
    "        </ol> \n",
    "        <p> \n",
    "            So\n",
    "            <span class=\"code part\">ʄɾÄΨREmϣ</span>\n",
    "            translates to\n",
    "            <span class=\"code part\">HUMAN</span><br>\n",
    "        </p>\n",
    "        <p>\n",
    "            You think you've got the hang of this! Time to decode the alien message... \n",
    "        </p>\n",
    "\"\"\""
   ]
  },
  {
   "cell_type": "code",
   "execution_count": 28,
   "id": "d8faf22a-e090-4a8d-9f18-2eb66ac7583a",
   "metadata": {
    "tags": []
   },
   "outputs": [
    {
     "name": "stdout",
     "output_type": "stream",
     "text": [
      " <p> Just as you translate the question received, another source sends a reply. This must be the answer to the question previously asked, but the contents of the new message cause your script to error. This is not Morse Code; it looks like <span class=\"b i\">something alien</span>. </p> <p> Rather than panic and run to your supervisor, you set your mind toward solving this problem on your own. You re-read your Morse Code booklet to no avail and open your desk drawer to see if there might be anything else in there that could be of use… Nothing. </p> <p> Sighing heavily and putting your head in your hands, you catch a glimpse of a poster on the wall beside your monitor, which you hadn't noticed before. It's titled, <span class=\"b i\">\"O.B.M.T. for Alien Communication\"</span>, and it reads: </p> <ol> <li> Convert each character to its <span class=\"b i\"> Ordinal </span> <span class=\"sm\"> (Unicode code points) </span> </li> <li> Concatenate those numbers to one large integer, then into <span class=\"b i\"> Binary </span> </li> <li> Convert the Binary number into <span class=\"b i\"> Morse Code </span> <span class=\"sm\"> (considering the 0s dits and the 1s dahs) </span> </li> <li> Convert the Morse Code into <span class=\"b i\"> Text </span> </li> </ol> Underneath the fourth step there's a footnote: <p class=\"shadow pad\"> <span class=\"b i\"> ※ Alien communication is always only one word. </span> Each received alien transmission has <span class=\"b i\"> three <a href=\"https://en.wikipedia.org/wiki/Exclamation_mark\"> Exclamation Marks </a> at both the start and end of the message, </span> with <span class=\"b i\"> one Exclamation Mark between each letter. </span> </p> <h4> Here's an example of the alien input </h4> <span class=\"code\"> ʄɾÄΨREmϣ </span> <ol> <li> Converting each character it's Ordinal, you get<br> <span class=\"code part sm\"> ʄ=644 ɾ=638 Ä=196 Ψ=936 R=82 E=69 m=109 ϣ=995 </span> </li> <li> Concatenating those numbers to one large integer<br> <span class=\"code part sm\"> 6446381969368269109995 </span><br> and converting that number to Binary, you get<br> <span class=\"code part sm\"> 1010111010111010110000101011001101011<br class=\"mbl\"> 111010110110101110101011101011101011 </span> </li> <li> Converting the Binary into Morse Code, you would get<br> <span class=\"code part sm\"> _._.___._.___._.__...._._.__..__._.____<br class=\"mbl\"> _._.__.__._.___._._.___._.___._.__ </span><br> Removing the exclamation marks on both ends and between each letter, you get<br> <span class=\"code part sm\"> &nbsp;(!)&nbsp;&nbsp;&nbsp;(!)&nbsp;&nbsp;&nbsp;(!)&nbsp;&nbsp;....&nbsp;(!)&nbsp;&nbsp;.._&nbsp;(!)&nbsp;&nbsp;__ <br class=\"mbl\"> &nbsp;(!)&nbsp;&nbsp;._&nbsp;(!)&nbsp;&nbsp;_.&nbsp;(!)&nbsp;&nbsp;&nbsp;(!)&nbsp;&nbsp;&nbsp;(!)&nbsp; </span><br> or <span class=\"code part sm\"> .... .._ __ ._ _. </span> </li> <li> Converting this Morse Code into text gives you:<br> <span class=\"code part\">HUMAN</span> </li> </ol> <p> So <span class=\"code part\">ʄɾÄΨREmϣ</span> translates to <span class=\"code part\">HUMAN</span><br> </p> <p> You think you've got the hang of this! Time to decode the alien message... </p> \n"
     ]
    }
   ],
   "source": [
    "print(\" \".join(line.strip() for line in STRING.split(\"\\n\")))"
   ]
  },
  {
   "cell_type": "code",
   "execution_count": null,
   "id": "9270cf06-9c94-4d7f-a580-f579a0c92396",
   "metadata": {
    "tags": []
   },
   "outputs": [],
   "source": []
  },
  {
   "cell_type": "code",
   "execution_count": null,
   "id": "7b86b3ed-c7f2-454f-bda6-a6d28a2f2e57",
   "metadata": {
    "tags": []
   },
   "outputs": [],
   "source": []
  },
  {
   "cell_type": "code",
   "execution_count": null,
   "id": "a6166b94-27b2-41ff-8a8d-960571104531",
   "metadata": {},
   "outputs": [],
   "source": []
  }
 ],
 "metadata": {
  "kernelspec": {
   "display_name": "Python 3 (ipykernel)",
   "language": "python",
   "name": "python3"
  },
  "language_info": {
   "codemirror_mode": {
    "name": "ipython",
    "version": 3
   },
   "file_extension": ".py",
   "mimetype": "text/x-python",
   "name": "python",
   "nbconvert_exporter": "python",
   "pygments_lexer": "ipython3",
   "version": "3.10.9"
  }
 },
 "nbformat": 4,
 "nbformat_minor": 5
}
