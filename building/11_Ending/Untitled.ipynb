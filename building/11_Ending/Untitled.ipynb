{
 "cells": [
  {
   "cell_type": "code",
   "execution_count": 25,
   "id": "addae916-48dc-4d0b-8ef9-ea07390c4278",
   "metadata": {
    "tags": []
   },
   "outputs": [],
   "source": [
    "from PIL import Image\n",
    "\n",
    "i = Image.open(\"ending.gif\")\n",
    "\n",
    "frames = []\n",
    "try:\n",
    "    while True:\n",
    "        frames.append(i.copy())\n",
    "        i.seek(i.tell() + 1)\n",
    "except EOFError:\n",
    "    pass\n",
    "\n",
    "frames[0].save(\"looping_ending.gif\", save_all=True, append_images=frames[1:], loop=0)\n"
   ]
  },
  {
   "cell_type": "code",
   "execution_count": 39,
   "id": "0dfe3056-9f08-49f3-91c9-0775225cbcfe",
   "metadata": {
    "tags": []
   },
   "outputs": [
    {
     "name": "stdout",
     "output_type": "stream",
     "text": [
      "{'version': b'GIF89a', 'background': 246, 'transparency': 255, 'duration': 100}\n",
      "{'version': b'GIF89a', 'background': 246, 'loop': 0, 'duration': 100, 'extension': (b'NETSCAPE2.0', 795)}\n",
      "{'version': b'GIF89a', 'background': 0, 'transparency': 255, 'duration': 30}\n",
      "{'version': b'GIF87a', 'background': 0, 'loop': 0, 'transparency': 255, 'duration': 30, 'extension': (b'NETSCAPE2.0', 795)}\n"
     ]
    }
   ],
   "source": [
    "from PIL import Image\n",
    "i = Image.open(\"ending.gif\")\n",
    "print(i.info)\n",
    "i = Image.open(\"looping_ending.gif\")\n",
    "print(i.info)\n",
    "i = Image.open(\"flash.gif\")\n",
    "print(i.info)\n",
    "i = Image.open(\"looping_flash.gif\")\n",
    "print(i.info)"
   ]
  },
  {
   "cell_type": "code",
   "execution_count": 118,
   "id": "3bb7964e-9559-4b50-a4ea-755336a1e095",
   "metadata": {
    "tags": []
   },
   "outputs": [
    {
     "name": "stdout",
     "output_type": "stream",
     "text": [
      "Time using len(str(number)): 0.988188 seconds\n",
      "Time using len(str(number)): 0.782476 seconds\n",
      "Time using int(math.log10(number)) + 1: 0.800410 seconds\n",
      "Time using int(math.log10(number)) + 1 with safety check: 1.089737 seconds\n"
     ]
    }
   ],
   "source": [
    "from math import log10\n",
    "import timeit\n",
    "\n",
    "# Test setup\n",
    "number = 123456789\n",
    "\n",
    "# Using len(str(number))\n",
    "def using_str_len():\n",
    "    return len(str(number))\n",
    "\n",
    "# Using len(f\"{number}\")\n",
    "def using_str_len_f():\n",
    "    return len(f\"{number}\")\n",
    "\n",
    "# Using int(math.log10(number)) + 1\n",
    "def using_log10():\n",
    "    return int(log10(number)) + 1\n",
    "\n",
    "# Handle edge case where number is 0\n",
    "def using_log10_safe(n):\n",
    "    try:\n",
    "        return int(log10(n)) + 1\n",
    "    except ValueError:\n",
    "        return 1\n",
    "\n",
    "# Time the functions\n",
    "time_str_len = timeit.timeit(using_str_len, number=10_000_000)\n",
    "time_str_len_f = timeit.timeit(using_str_len_f, number=10_000_000)\n",
    "time_log10 = timeit.timeit(using_log10, number=10_000_000)\n",
    "time_log10_safe = timeit.timeit(lambda: using_log10_safe(number), number=10_000_000)\n",
    "\n",
    "print(f\"Time using len(str(number)): {time_str_len:.6f} seconds\")\n",
    "print(f\"Time using len(str(number)): {time_str_len_f:.6f} seconds\")\n",
    "print(f\"Time using int(math.log10(number)) + 1: {time_log10:.6f} seconds\")\n",
    "print(f\"Time using int(math.log10(number)) + 1 with safety check: {time_log10_safe:.6f} seconds\")\n"
   ]
  },
  {
   "cell_type": "code",
   "execution_count": 112,
   "id": "04191e35-158d-42e3-9ace-4a163e0690b2",
   "metadata": {
    "tags": []
   },
   "outputs": [
    {
     "ename": "ValueError",
     "evalue": "math domain error",
     "output_type": "error",
     "traceback": [
      "\u001b[0;31m---------------------------------------------------------------------------\u001b[0m",
      "\u001b[0;31mValueError\u001b[0m                                Traceback (most recent call last)",
      "Cell \u001b[0;32mIn[112], line 1\u001b[0m\n\u001b[0;32m----> 1\u001b[0m \u001b[43mlog10\u001b[49m\u001b[43m(\u001b[49m\u001b[38;5;241;43m0\u001b[39;49m\u001b[43m)\u001b[49m\n",
      "\u001b[0;31mValueError\u001b[0m: math domain error"
     ]
    }
   ],
   "source": [
    "log10(0)"
   ]
  },
  {
   "cell_type": "code",
   "execution_count": 120,
   "id": "026c1fa7-c291-4b78-9f69-8170141bd606",
   "metadata": {
    "tags": []
   },
   "outputs": [
    {
     "data": {
      "text/plain": [
       "'07'"
      ]
     },
     "execution_count": 120,
     "metadata": {},
     "output_type": "execute_result"
    }
   ],
   "source": [
    "x = 7\n",
    "\n",
    "f\"{x:02d}\""
   ]
  },
  {
   "cell_type": "code",
   "execution_count": 123,
   "id": "a47f1476-c2ed-4741-a398-bda2bbb2d317",
   "metadata": {
    "tags": []
   },
   "outputs": [
    {
     "name": "stdout",
     "output_type": "stream",
     "text": [
      "3221\n",
      "123456789\n"
     ]
    }
   ],
   "source": [
    "\n",
    "def reverse_number(num):\n",
    "  # Reverse the number\n",
    "  reverse = int(str(num)[::-1])\n",
    "  # Return the number\n",
    "  return reverse\n",
    "\n",
    "## Example usage:\n",
    "print(reverse_number(1223)) # Output: 3221\n",
    "print(reverse_number(987654321)) # Output: 123456789"
   ]
  },
  {
   "cell_type": "code",
   "execution_count": 47,
   "id": "db423925-3c68-4802-b5ca-cc84ebc0dac1",
   "metadata": {},
   "outputs": [],
   "source": [
    "STRING = \"\"\"\n",
    "<p>\n",
    "            You've navigated through the wormhole and arrived just outside of Zorak's\n",
    "            <a href=\"https://en.wikipedia.org/wiki/Retreat_(survivalism)\">secret\n",
    "            hideout</a>, successfully avoiding detection by enemy ships. Suddenly, the\n",
    "            tiny defector materializes again, seemingly out of nowhere, holding a large\n",
    "            rolled sheet of paper. He explains that these are the \n",
    "            <span class=\"b i\"><a href=\"https://en.wikipedia.org/wiki/Blueprint\">blueprints\n",
    "            </a>for Zorak's Battle Dome</span>, the protective shield guarding him against\n",
    "            laser strikes.\n",
    "        </p>\n",
    "        <div class=\"imgcontainer\">\n",
    "            <img class=\"midpic\" src=\"../static/images/10/blueprint.png\">\n",
    "        </div>\n",
    "        <p>\n",
    "            You unroll the blueprints, but before you can examine them, Captain Xarlos\n",
    "            interrupts, <span class=\"b i\">calling \n",
    "            <a href=\"https://www.dictionary.com/browse/all-hands-on-deck\">all hands to\n",
    "            the Main Deck</a></span>. The ship's \n",
    "            <a href=\"https://en.wikipedia.org/wiki/Laser\">high-powered laser</a> needs\n",
    "            to be manned for upcoming attack, and your assistance is required with\n",
    "            logistics. <span class=\"b i\">The hallways leading to the Main Deck have\n",
    "            different capacities</span>, allowing varying numbers of crew members to\n",
    "            pass through simultaneously.\n",
    "        </p>\n",
    "        <p>\n",
    "            <span class=\"b i\">Starting from the source, Storage Room 1 (S1)</span>, the\n",
    "            crew must <span class=\"b i\">choose their paths through the hallways</span>,\n",
    "            passing other storage rooms or junctions, <span class=\"b i\">to reach the sink,\n",
    "            the Main Deck (MD)</span>. Captain Xarlos emphasizes the need for fast,\n",
    "            efficient movement and <span class=\"b i\">requests a calculation of the\n",
    "            <a href=\"https://en.wikipedia.org/wiki/Ford%E2%80%93Fulkerson_algorithm\">\n",
    "            maximum flow</a></span>—the greatest number of crew members that can move\n",
    "            through the hallways at one time.\n",
    "        </p>\n",
    "        <p>\n",
    "            You quickly annotate <span class=\"b i\">the floor plan</span> on your\n",
    "            holographic tablet, <span class=\"b i\">listing each hallway by its connecting\n",
    "            rooms, separated by a hyphen, followed by a space and the hallway's\n",
    "            capacity</span>—this serves as your puzzle input.\n",
    "        </p>\n",
    "        <p>\n",
    "            It's crucial that no crew members linger in any room or hallway, as this would\n",
    "            restrict the flow. The entire crew that <span class=\"b i\">starts from the\n",
    "            source (S1) must travel to the sink (MD) and arrive together</span>. Captain\n",
    "            Xarlos awaits your calculation of the maximum number of crew members that can\n",
    "            flow through the hallways simultaneously so he can efficiently instruct his\n",
    "            sizable crew.\n",
    "        </p>\n",
    "        <h4>\n",
    "            For example:\n",
    "        </h4>\n",
    "        <p>\n",
    "            With your source at <span class=\"code part\">A</span>, your sink at\n",
    "            <span class=\"code part\">F</span>, and a floor plan like\n",
    "            <span class=\"code free\">\n",
    "                A-B 3<br>\n",
    "                A-C 3<br>\n",
    "                B-C 2<br>\n",
    "                B-D 3<br>\n",
    "                C-E 2<br>\n",
    "                D-E 4<br>\n",
    "                D-F 2<br>\n",
    "                E-F 3\n",
    "            </span>\n",
    "            Your task is to find the paths that result in <span class=\"b i\">getting\n",
    "            the most possible crew members to the sink, given the hallways' capacity\n",
    "            restrictions</span>.\n",
    "        </p>\n",
    "        <div class=\"imgcontainer\">\n",
    "            <img class=\"fill\" src=\"../static/images/10/example.gif\">\n",
    "        </div>\n",
    "        <p>\n",
    "            Demonstrated in the animation above, you can see the best paths to\n",
    "            achieve the maximum possible flow from the source to the sink.\n",
    "        </p>\n",
    "        <p>\n",
    "            In discovering this most efficient selection of paths, you can\n",
    "            determine that the maximum flow for this floor plan is\n",
    "            <span class=\"code part\">5</span>.\n",
    "        </p>\n",
    "\\n=================================================================================================================================\\n\n",
    "<p>\n",
    "            The crew is in place and ready to commence. In the distance, you can see\n",
    "            Zorak, protected inside his Battle Dome.\n",
    "        </p>\n",
    "        <div class=\"imgcontainer\">\n",
    "            <img class=\"midpic\" src=\"../static/images/10/orb.png\">\n",
    "        </div>\n",
    "        <p>\n",
    "            According to the blueprint, this dome is a <span class=\"b i\">lattice of\n",
    "            interconnecting points, each with specific pathways for energy flow</span>.\n",
    "            There is only <span class=\"b i\">one viable point of attack—Point 0</span>.\n",
    "        </p>\n",
    "        <div class=\"imgcontainer\">\n",
    "            <a href=\"../static/images/10/blueprint.png\">\n",
    "                <img class=\"fill\" src=\"../static/images/10/blueprint.png\">\n",
    "            </a>\n",
    "        </div>\n",
    "        <p>\n",
    "            Any laster blast targeting elsewhere on the shield will be deflected.\n",
    "            However, when struck at Point 0, <span class=\"b i\">the dome is designed to\n",
    "            <a href=\"https://en.wikipedia.org/wiki/Dissipation\">dissipate</a> the energy\n",
    "            across all its connective edges</span>. Each interconnecting point has a \n",
    "            direction and a capacity for the amount of energy it can transmit.\n",
    "        </p>\n",
    "        <p>\n",
    "            To successfully penetrate the Battle Dome, you must <span class=\"b i\">deliver\n",
    "            a precise blast of energy from the laser</span>. Sending <span class=\"b i\">too\n",
    "            little energy will dissipate</span> across the edges and weaken the blast, while\n",
    "            sending <span class=\"b i\">too much will cause a short-circuit</span> if the\n",
    "            capacity of any edge is exceeded with no alternative paths available to handle\n",
    "            the overflow. Your task is to calculate the <span class=\"b i\">maximum flow from\n",
    "            the source (Point 0) to the 5 sinks (Points 76, 77, 78, 79, and 80)</span>. \n",
    "        </p>\n",
    "        <p class=\"hint-label ssm\"> HINT (mouse-over to view):</p>\n",
    "        <p class=\"hint ssm\">\n",
    "            Maximum flow algorithms work when there is only 1 sink. How would you connect\n",
    "            these 5 sinks into one final imaginary sink to aggregate the maximum flow from\n",
    "            all areas of the dome, and what should you consider for the capacity for these\n",
    "            imaginary edges?\n",
    "        </p>\n",
    "        <p>\n",
    "            The tiny defector has also provided you with a <span class=\"b i\">list of\n",
    "            capacities for each edge, your puzzle input</span>, formatted similarly to your\n",
    "            previous floor plan annotations. Connecting points are separated by hyphens,\n",
    "            followed by a space and the capacity for that edge. <span class=\"b i\">A listed\n",
    "            capacity of \"Inf\" indicates infinite capacity, meaning there is no limitation on\n",
    "            the energy that can flow between those two points</span>. \n",
    "        </p>\n",
    "\"\"\""
   ]
  },
  {
   "cell_type": "code",
   "execution_count": 48,
   "id": "d8faf22a-e090-4a8d-9f18-2eb66ac7583a",
   "metadata": {
    "tags": []
   },
   "outputs": [
    {
     "name": "stdout",
     "output_type": "stream",
     "text": [
      " <p> You've navigated through the wormhole and arrived just outside of Zorak's <a href=\"https://en.wikipedia.org/wiki/Retreat_(survivalism)\">secret hideout</a>, successfully avoiding detection by enemy ships. Suddenly, the tiny defector materializes again, seemingly out of nowhere, holding a large rolled sheet of paper. He explains that these are the <span class=\"b i\"><a href=\"https://en.wikipedia.org/wiki/Blueprint\">blueprints </a>for Zorak's Battle Dome</span>, the protective shield guarding him against laser strikes. </p> <div class=\"imgcontainer\"> <img class=\"midpic\" src=\"../static/images/10/blueprint.png\"> </div> <p> You unroll the blueprints, but before you can examine them, Captain Xarlos interrupts, <span class=\"b i\">calling <a href=\"https://www.dictionary.com/browse/all-hands-on-deck\">all hands to the Main Deck</a></span>. The ship's <a href=\"https://en.wikipedia.org/wiki/Laser\">high-powered laser</a> needs to be manned for upcoming attack, and your assistance is required with logistics. <span class=\"b i\">The hallways leading to the Main Deck have different capacities</span>, allowing varying numbers of crew members to pass through simultaneously. </p> <p> <span class=\"b i\">Starting from the source, Storage Room 1 (S1)</span>, the crew must <span class=\"b i\">choose their paths through the hallways</span>, passing other storage rooms or junctions, <span class=\"b i\">to reach the sink, the Main Deck (MD)</span>. Captain Xarlos emphasizes the need for fast, efficient movement and <span class=\"b i\">requests a calculation of the <a href=\"https://en.wikipedia.org/wiki/Ford%E2%80%93Fulkerson_algorithm\"> maximum flow</a></span>—the greatest number of crew members that can move through the hallways at one time. </p> <p> You quickly annotate <span class=\"b i\">the floor plan</span> on your holographic tablet, <span class=\"b i\">listing each hallway by its connecting rooms, separated by a hyphen, followed by a space and the hallway's capacity</span>—this serves as your puzzle input. </p> <p> It's crucial that no crew members linger in any room or hallway, as this would restrict the flow. The entire crew that <span class=\"b i\">starts from the source (S1) must travel to the sink (MD) and arrive together</span>. Captain Xarlos awaits your calculation of the maximum number of crew members that can flow through the hallways simultaneously so he can efficiently instruct his sizable crew. </p> <h4> For example: </h4> <p> With your source at <span class=\"code part\">A</span>, your sink at <span class=\"code part\">F</span>, and a floor plan like <span class=\"code free\"> A-B 3<br> A-C 3<br> B-C 2<br> B-D 3<br> C-E 2<br> D-E 4<br> D-F 2<br> E-F 3 </span> Your task is to find the paths that result in <span class=\"b i\">getting the most possible crew members to the sink, given the hallways' capacity restrictions</span>. </p> <div class=\"imgcontainer\"> <img class=\"fill\" src=\"../static/images/10/example.gif\"> </div> <p> Demonstrated in the animation above, you can see the best paths to achieve the maximum possible flow from the source to the sink. </p> <p> In discovering this most efficient selection of paths, you can determine that the maximum flow for this floor plan is <span class=\"code part\">5</span>. </p>  =================================================================================================================================  <p> The crew is in place and ready to commence. In the distance, you can see Zorak, protected inside his Battle Dome. </p> <div class=\"imgcontainer\"> <img class=\"midpic\" src=\"../static/images/10/orb.png\"> </div> <p> According to the blueprint, this dome is a <span class=\"b i\">lattice of interconnecting points, each with specific pathways for energy flow</span>. There is only <span class=\"b i\">one viable point of attack—Point 0</span>. </p> <div class=\"imgcontainer\"> <a href=\"../static/images/10/blueprint.png\"> <img class=\"fill\" src=\"../static/images/10/blueprint.png\"> </a> </div> <p> Any laster blast targeting elsewhere on the shield will be deflected. However, when struck at Point 0, <span class=\"b i\">the dome is designed to <a href=\"https://en.wikipedia.org/wiki/Dissipation\">dissipate</a> the energy across all its connective edges</span>. Each interconnecting point has a direction and a capacity for the amount of energy it can transmit. </p> <p> To successfully penetrate the Battle Dome, you must <span class=\"b i\">deliver a precise blast of energy from the laser</span>. Sending <span class=\"b i\">too little energy will dissipate</span> across the edges and weaken the blast, while sending <span class=\"b i\">too much will cause a short-circuit</span> if the capacity of any edge is exceeded with no alternative paths available to handle the overflow. Your task is to calculate the <span class=\"b i\">maximum flow from the source (Point 0) to the 5 sinks (Points 76, 77, 78, 79, and 80)</span>. </p> <p class=\"hint-label ssm\"> HINT (mouse-over to view):</p> <p class=\"hint ssm\"> Maximum flow algorithms work when there is only 1 sink. How would you connect these 5 sinks into one final imaginary sink to aggregate the maximum flow from all areas of the dome, and what should you consider for the capacity for these imaginary edges? </p> <p> The tiny defector has also provided you with a <span class=\"b i\">list of capacities for each edge, your puzzle input</span>, formatted similarly to your previous floor plan annotations. Connecting points are separated by hyphens, followed by a space and the capacity for that edge. <span class=\"b i\">A listed capacity of \"Inf\" indicates infinite capacity, meaning there is no limitation on the energy that can flow between those two points</span>. </p> \n"
     ]
    }
   ],
   "source": [
    "print(\" \".join(line.strip() for line in STRING.split(\"\\n\")))"
   ]
  },
  {
   "cell_type": "code",
   "execution_count": 55,
   "id": "9270cf06-9c94-4d7f-a580-f579a0c92396",
   "metadata": {
    "tags": []
   },
   "outputs": [
    {
     "name": "stdout",
     "output_type": "stream",
     "text": [
      "@@@####&nbsp;&nbsp;&nbsp;&nbsp;&nbsp;&nbsp;&nbsp;&nbsp;<br>\n",
      "#@@@@@#########<br>\n",
      "&nbsp;##@@@@@@#&nbsp;&nbsp;&nbsp;&nbsp;&nbsp;<br>\n",
      "&nbsp;&nbsp;##@@@@@@#&nbsp;&nbsp;&nbsp;&nbsp;<br>\n",
      "#&nbsp;##@@##@@#&nbsp;&nbsp;##<br>\n",
      "#&nbsp;##@@####&nbsp;####<br>\n",
      "#&nbsp;##@@##&nbsp;#&nbsp;##&nbsp;&nbsp;<br>\n",
      "#&nbsp;##@@#&nbsp;&nbsp;#&nbsp;&nbsp;#&nbsp;&nbsp;<br>\n",
      "&nbsp;&nbsp;#@@@##&nbsp;&nbsp;#&nbsp;&nbsp;##<br>\n",
      "&nbsp;##@@@@##&nbsp;&nbsp;#&nbsp;&nbsp;&nbsp;<br>\n",
      "&nbsp;###@@@@##&nbsp;&nbsp;###<br>\n",
      "&nbsp;###@@@@@@#&nbsp;&nbsp;&nbsp;&nbsp;<br>\n",
      "&nbsp;&nbsp;####@@@@@##&nbsp;&nbsp;<br>\n",
      "##&nbsp;&nbsp;&nbsp;#####@@##&nbsp;<br>\n",
      "&nbsp;&nbsp;#&nbsp;&nbsp;&nbsp;&nbsp;####@@#&nbsp;\n"
     ]
    }
   ],
   "source": [
    "m = \"\"\"@@@####        \n",
    "#@@@@@#########\n",
    " ##@@@@@@#     \n",
    "  ##@@@@@@#    \n",
    "# ##@@##@@#  ##\n",
    "# ##@@#### ####\n",
    "# ##@@## # ##  \n",
    "# ##@@#  #  #  \n",
    "  #@@@##  #  ##\n",
    " ##@@@@##  #   \n",
    " ###@@@@##  ###\n",
    " ###@@@@@@#    \n",
    "  ####@@@@@##  \n",
    "##   #####@@## \n",
    "  #    ####@@# \"\"\"\n",
    "print(\"<br>\\n\".join(x for x in m.replace(\" \", \"&nbsp;\").split(\"\\n\")))"
   ]
  },
  {
   "cell_type": "code",
   "execution_count": 99,
   "id": "7b86b3ed-c7f2-454f-bda6-a6d28a2f2e57",
   "metadata": {
    "tags": []
   },
   "outputs": [
    {
     "data": {
      "text/plain": [
       "56"
      ]
     },
     "execution_count": 99,
     "metadata": {},
     "output_type": "execute_result"
    }
   ],
   "source": [
    "m.count(\"@\")"
   ]
  },
  {
   "cell_type": "code",
   "execution_count": 4,
   "id": "73fd1fa2-2257-42a5-bdeb-76a9aedfe07a",
   "metadata": {},
   "outputs": [
    {
     "data": {
      "text/plain": [
       "39"
      ]
     },
     "execution_count": 4,
     "metadata": {},
     "output_type": "execute_result"
    }
   ],
   "source": [
    "len(\"HURRMHAHP'I LC!GNLPFVN.OUSHRGNKUNM.OUTS\")"
   ]
  },
  {
   "cell_type": "code",
   "execution_count": 2,
   "id": "82065674-60c2-4660-9037-c6b63919e1d0",
   "metadata": {
    "tags": []
   },
   "outputs": [
    {
     "data": {
      "text/plain": [
       "15"
      ]
     },
     "execution_count": 2,
     "metadata": {},
     "output_type": "execute_result"
    }
   ],
   "source": [
    "\"....xxx.x.x.xxxx.xxxxxxxxx.x.x.xx.xx...x\".count(\".\")"
   ]
  },
  {
   "cell_type": "code",
   "execution_count": 3,
   "id": "8538ffee-f759-4242-be47-f743cfc42916",
   "metadata": {
    "tags": []
   },
   "outputs": [
    {
     "data": {
      "text/plain": [
       "0.375"
      ]
     },
     "execution_count": 3,
     "metadata": {},
     "output_type": "execute_result"
    }
   ],
   "source": [
    "Your shelf is <span class=\"main code part\">500</span>cm wide.<br>Here is the inventory of all the coffee beans:"
   ]
  },
  {
   "cell_type": "code",
   "execution_count": 33,
   "id": "753b4b4f-1908-4cff-8a26-ae82763f58e1",
   "metadata": {
    "tags": []
   },
   "outputs": [
    {
     "name": "stdout",
     "output_type": "stream",
     "text": [
      "('Jamaica', 'Brazil') 60\n",
      "('Jamaica', 'Columbia') 70\n",
      "('Jamaica', 'Uganda') 50\n",
      "('Jamaica', 'Mexico') 70\n",
      "('Brazil', 'Columbia') 50\n",
      "('Brazil', 'Uganda') 30\n",
      "('Brazil', 'Mexico') 50\n",
      "('Columbia', 'Uganda') 40\n",
      "('Columbia', 'Mexico') 60\n",
      "('Uganda', 'Mexico') 40\n",
      "('Jamaica', 'Brazil', 'Uganda') 70\n",
      "('Brazil', 'Columbia', 'Uganda') 60\n",
      "('Brazil', 'Uganda', 'Mexico') 60\n",
      "('Columbia', 'Uganda', 'Mexico') 70\n"
     ]
    }
   ],
   "source": [
    "from itertools import combinations\n",
    "\n",
    "ref = {\n",
    "    \"Jamaica\":40,\n",
    "    \"Brazil\":20,\n",
    "    \"Columbia\":30,\n",
    "    \"Uganda\":10,\n",
    "    \"Mexico\":30,\n",
    "}\n",
    "\n",
    "for comb in combinations(ref.keys(), 2):\n",
    "    w = sum(ref[x] for x in comb)\n",
    "    if w <= 70:\n",
    "        print(comb, w)\n",
    "for comb in combinations(ref.keys(), 3):\n",
    "    w = sum(ref[x] for x in comb)\n",
    "    if w <= 70:\n",
    "        print(comb, w)\n",
    "for comb in combinations(ref.keys(), 4):\n",
    "    w = sum(ref[x] for x in comb)\n",
    "    if w <= 70:\n",
    "        print(comb, w)"
   ]
  },
  {
   "cell_type": "code",
   "execution_count": 17,
   "id": "709bb724-23a0-454f-a0e3-9e1e9402f25e",
   "metadata": {
    "tags": []
   },
   "outputs": [
    {
     "data": {
      "text/plain": [
       "438.66749999999996"
      ]
     },
     "execution_count": 17,
     "metadata": {},
     "output_type": "execute_result"
    }
   ],
   "source": [
    "11.56 + 425.1844 + 1.1406 + 0.6241 + 0.1584"
   ]
  },
  {
   "cell_type": "code",
   "execution_count": null,
   "id": "da323a9c-3bdf-453f-920e-8a52b0aec7ca",
   "metadata": {},
   "outputs": [],
   "source": []
  }
 ],
 "metadata": {
  "kernelspec": {
   "display_name": "Python 3 (ipykernel)",
   "language": "python",
   "name": "python3"
  },
  "language_info": {
   "codemirror_mode": {
    "name": "ipython",
    "version": 3
   },
   "file_extension": ".py",
   "mimetype": "text/x-python",
   "name": "python",
   "nbconvert_exporter": "python",
   "pygments_lexer": "ipython3",
   "version": "3.10.9"
  }
 },
 "nbformat": 4,
 "nbformat_minor": 5
}
