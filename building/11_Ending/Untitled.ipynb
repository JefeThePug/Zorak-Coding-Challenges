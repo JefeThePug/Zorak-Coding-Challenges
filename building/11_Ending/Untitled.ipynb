{
 "cells": [
  {
   "cell_type": "code",
   "execution_count": 25,
   "id": "addae916-48dc-4d0b-8ef9-ea07390c4278",
   "metadata": {
    "tags": []
   },
   "outputs": [],
   "source": [
    "from PIL import Image\n",
    "\n",
    "i = Image.open(\"ending.gif\")\n",
    "\n",
    "frames = []\n",
    "try:\n",
    "    while True:\n",
    "        frames.append(i.copy())\n",
    "        i.seek(i.tell() + 1)\n",
    "except EOFError:\n",
    "    pass\n",
    "\n",
    "frames[0].save(\"looping_ending.gif\", save_all=True, append_images=frames[1:], loop=0)\n"
   ]
  },
  {
   "cell_type": "code",
   "execution_count": 39,
   "id": "0dfe3056-9f08-49f3-91c9-0775225cbcfe",
   "metadata": {
    "tags": []
   },
   "outputs": [
    {
     "name": "stdout",
     "output_type": "stream",
     "text": [
      "{'version': b'GIF89a', 'background': 246, 'transparency': 255, 'duration': 100}\n",
      "{'version': b'GIF89a', 'background': 246, 'loop': 0, 'duration': 100, 'extension': (b'NETSCAPE2.0', 795)}\n",
      "{'version': b'GIF89a', 'background': 0, 'transparency': 255, 'duration': 30}\n",
      "{'version': b'GIF87a', 'background': 0, 'loop': 0, 'transparency': 255, 'duration': 30, 'extension': (b'NETSCAPE2.0', 795)}\n"
     ]
    }
   ],
   "source": [
    "from PIL import Image\n",
    "i = Image.open(\"ending.gif\")\n",
    "print(i.info)\n",
    "i = Image.open(\"looping_ending.gif\")\n",
    "print(i.info)\n",
    "i = Image.open(\"flash.gif\")\n",
    "print(i.info)\n",
    "i = Image.open(\"looping_flash.gif\")\n",
    "print(i.info)"
   ]
  },
  {
   "cell_type": "code",
   "execution_count": 118,
   "id": "3bb7964e-9559-4b50-a4ea-755336a1e095",
   "metadata": {
    "tags": []
   },
   "outputs": [
    {
     "name": "stdout",
     "output_type": "stream",
     "text": [
      "Time using len(str(number)): 0.988188 seconds\n",
      "Time using len(str(number)): 0.782476 seconds\n",
      "Time using int(math.log10(number)) + 1: 0.800410 seconds\n",
      "Time using int(math.log10(number)) + 1 with safety check: 1.089737 seconds\n"
     ]
    }
   ],
   "source": [
    "from math import log10\n",
    "import timeit\n",
    "\n",
    "# Test setup\n",
    "number = 123456789\n",
    "\n",
    "# Using len(str(number))\n",
    "def using_str_len():\n",
    "    return len(str(number))\n",
    "\n",
    "# Using len(f\"{number}\")\n",
    "def using_str_len_f():\n",
    "    return len(f\"{number}\")\n",
    "\n",
    "# Using int(math.log10(number)) + 1\n",
    "def using_log10():\n",
    "    return int(log10(number)) + 1\n",
    "\n",
    "# Handle edge case where number is 0\n",
    "def using_log10_safe(n):\n",
    "    try:\n",
    "        return int(log10(n)) + 1\n",
    "    except ValueError:\n",
    "        return 1\n",
    "\n",
    "# Time the functions\n",
    "time_str_len = timeit.timeit(using_str_len, number=10_000_000)\n",
    "time_str_len_f = timeit.timeit(using_str_len_f, number=10_000_000)\n",
    "time_log10 = timeit.timeit(using_log10, number=10_000_000)\n",
    "time_log10_safe = timeit.timeit(lambda: using_log10_safe(number), number=10_000_000)\n",
    "\n",
    "print(f\"Time using len(str(number)): {time_str_len:.6f} seconds\")\n",
    "print(f\"Time using len(str(number)): {time_str_len_f:.6f} seconds\")\n",
    "print(f\"Time using int(math.log10(number)) + 1: {time_log10:.6f} seconds\")\n",
    "print(f\"Time using int(math.log10(number)) + 1 with safety check: {time_log10_safe:.6f} seconds\")\n"
   ]
  },
  {
   "cell_type": "code",
   "execution_count": 112,
   "id": "04191e35-158d-42e3-9ace-4a163e0690b2",
   "metadata": {
    "tags": []
   },
   "outputs": [
    {
     "ename": "ValueError",
     "evalue": "math domain error",
     "output_type": "error",
     "traceback": [
      "\u001b[0;31m---------------------------------------------------------------------------\u001b[0m",
      "\u001b[0;31mValueError\u001b[0m                                Traceback (most recent call last)",
      "Cell \u001b[0;32mIn[112], line 1\u001b[0m\n\u001b[0;32m----> 1\u001b[0m \u001b[43mlog10\u001b[49m\u001b[43m(\u001b[49m\u001b[38;5;241;43m0\u001b[39;49m\u001b[43m)\u001b[49m\n",
      "\u001b[0;31mValueError\u001b[0m: math domain error"
     ]
    }
   ],
   "source": [
    "log10(0)"
   ]
  },
  {
   "cell_type": "code",
   "execution_count": 120,
   "id": "026c1fa7-c291-4b78-9f69-8170141bd606",
   "metadata": {
    "tags": []
   },
   "outputs": [
    {
     "data": {
      "text/plain": [
       "'07'"
      ]
     },
     "execution_count": 120,
     "metadata": {},
     "output_type": "execute_result"
    }
   ],
   "source": [
    "x = 7\n",
    "\n",
    "f\"{x:02d}\""
   ]
  },
  {
   "cell_type": "code",
   "execution_count": 123,
   "id": "a47f1476-c2ed-4741-a398-bda2bbb2d317",
   "metadata": {
    "tags": []
   },
   "outputs": [
    {
     "name": "stdout",
     "output_type": "stream",
     "text": [
      "3221\n",
      "123456789\n"
     ]
    }
   ],
   "source": [
    "\n",
    "def reverse_number(num):\n",
    "  # Reverse the number\n",
    "  reverse = int(str(num)[::-1])\n",
    "  # Return the number\n",
    "  return reverse\n",
    "\n",
    "## Example usage:\n",
    "print(reverse_number(1223)) # Output: 3221\n",
    "print(reverse_number(987654321)) # Output: 123456789"
   ]
  },
  {
   "cell_type": "code",
   "execution_count": 103,
   "id": "db423925-3c68-4802-b5ca-cc84ebc0dac1",
   "metadata": {},
   "outputs": [],
   "source": [
    "STRING = \"\"\"\n",
    "<p>\n",
    "            Having successfully passed the comprehension exam, you are admitted into\n",
    "            the Laser Room. You see a gigantic machine pointed out into space, with a\n",
    "            rather simple control panel featuring a monitor, two large buttons, and\n",
    "            dials for adjusting coordinates. The label on the machine reads\n",
    "            <a href=\"https://pillow.readthedocs.io/en/stable/\">\"P.I.L.\"</a>,\n",
    "            which stands for <span class=\"b i\">\n",
    "            \"<a href=\"https://en.wikipedia.org/wiki/Pulsar\">Pulsar</a> Intercepting\n",
    "            Laser\"</span>.\n",
    "        </p>\n",
    "        <p>\n",
    "            On the monitor, you see a map of pulsars that are within the laser's range.\n",
    "        </p>\n",
    "        <p>\n",
    "            You are briefed by the lead technician:\n",
    "        </p>\n",
    "        <div class=\"shadow pad\">\n",
    "            <ul>\n",
    "                <li>\n",
    "                    The PIL <span class=\"b i\">emits a frequency of light</span> in the\n",
    "                    direction of your provided coordinates, which hits the pulsar and\n",
    "                    causes it to <span class=\"b i\">flood out</span> in four directions\n",
    "                    (North, South, East, and West) <span class=\"b i\">until it reaches\n",
    "                    an edge</span>.\n",
    "                </li>\n",
    "                <li>\n",
    "                    This reaction, if it covers the entire surface of the pulsar, will\n",
    "                    radiate <span class=\"b i\">200 gigajoules (GJ) of energy</span>,\n",
    "                    which is received by the PIL's sensors.\n",
    "                </li>\n",
    "                <li>\n",
    "                    Unfortunately, <span class=\"b i\">a single pulse of the PIL costs 100\n",
    "                    GJ to run</span>, so the <span class=\"b i\">net energy gained from\n",
    "                    completely filling a pulsar is 100 GJ</span>.\n",
    "                </li>\n",
    "                <li>\n",
    "                    If a pulsar is <span class=\"b i\">completely filled more than once</span>,\n",
    "                    the PIL's sensors can intercept <span class=\"b i\">1100 GJ</span> from\n",
    "                    it instead of 200 GJ. It does not matter if the pulsar is filled more\n",
    "                    than twice; it will only emit either 200 GJ for one fill or 1100 GJ\n",
    "                    for more than one.\n",
    "                </li>\n",
    "                <li>\n",
    "                    You should think of the pulsar map as <span class=\"b i\">a 2D grid of\n",
    "                    pixels</span>. Each of your coordinates targets a pixel on the map.\n",
    "                    The reaction is interrupted by any edge, including both the outlines\n",
    "                    of other pulsars and the boundaries of the map.\n",
    "                </li>\n",
    "            </ul>\n",
    "        </div>\n",
    "        <p>\n",
    "            This process does not seem as efficient as it could be and you wonder if you\n",
    "            could increase your net gain per pulse. You open the metal cover on the side\n",
    "            of the laser labeled <span class=\"b i\">\"CALIBRATIONS\"</span>, and inside you\n",
    "            see <span class=\"b i\">a small mirror</span> angled out of the laser's range.\n",
    "            Moving that mirror into the laser's path will <span class=\"b i\">double the\n",
    "            output of the laser by mirroring the x and y coordinates</span>!\n",
    "        </p>\n",
    "        <p class=\"hint-label ssm\"> HINT (mouse-over to view):</p>\n",
    "        <p class=\"hint ssm\">\n",
    "            PIL Library (pillow) comes with a built-in flood fill function, but \n",
    "            try to use the flood fill function you made for Part One instead.\n",
    "            numpy.array() can easily take a PIL.Image object and turn it into\n",
    "            an array of RGB values representing each pixel. You can also use\n",
    "            the PIL.Image.fromarray() method to take a numpy array turn it back\n",
    "            into an image to view your results.\n",
    "        </p>\n",
    "        <h4>\n",
    "            Consider a smaller map, for example:\n",
    "        </h4>\n",
    "        <div class=\"flex-container\">\n",
    "            <div class=\"container-item\">\n",
    "                <a href=\"../static/images/05/test.png\">\n",
    "                    <img class=\"smallpic\" src=\"../static/images/05/test.png\">\n",
    "                </a>\n",
    "            </div>\n",
    "            <div class=\"container-item pad\">\n",
    "                with the coordinates<br>\n",
    "                <span class=\"code free\">\n",
    "                    66,147<br>\n",
    "                    120,123<br>\n",
    "                    329,181<br>\n",
    "                    368,339\n",
    "                </span>\n",
    "            </div>\n",
    "        </div>\n",
    "        <p>\n",
    "            Mirroring these coordinates gives you the complete list of coordinates:<br>\n",
    "            <span class=\"code part\">\n",
    "                66,147 147,66 120,123 123,120 329,181 181,329 368,339 339,368\n",
    "            </span><br>\n",
    "            which is 8 coordinates for the energy cost of 4!\n",
    "        </p>\n",
    "        <div class=\"flex-container\">\n",
    "            <div class=\"column\">\n",
    "                <img class=\"smallpic\" src=\"../static/images/05/testresult1.png\">\n",
    "            </div>\n",
    "            <div class=\"column\">\n",
    "                <ul>\n",
    "                    <li>each coordinate representing a laser pulse is a red dot</li>\n",
    "                    <li>areas that are filled once by a pulse are colored yellow</li>\n",
    "                    <li>areas that are filled twice by a pulse are colored cyan</li>\n",
    "                    <span class=\"b i\"><li>\n",
    "                        the 3 pulsars on the right are not completely filled\n",
    "                    </li></span>\n",
    "                    <ul>\n",
    "                        <li>the red circle shows un-filled areas of the pulsar</li>\n",
    "                        <li>other pulsars are cut off by the image's border</li>\n",
    "                    </ul>\n",
    "\n",
    "                </p>\n",
    "            </div>\n",
    "        </div>\n",
    "        <p>\n",
    "            Because the pulsars on the right are not completely filled, they do not\n",
    "            emit any energy. You have 1 once-filled pulsar emitting 200 GJ, and 1\n",
    "            twice-filled pulsar emitting 1100 GJ. On top of that you have the cost\n",
    "            of transmitting 4 laser pulses at 100 GJ each:<br>\n",
    "            <span class=\"code part\">200 + 1100 - (100 * 4) = 900</span>\n",
    "        </p>\n",
    "        <p>\n",
    "            In this example, your net energy gained is \n",
    "            <span class=\"code part\">900</span> GJ.\n",
    "        </p>\n",
    "\"\"\""
   ]
  },
  {
   "cell_type": "code",
   "execution_count": 104,
   "id": "d8faf22a-e090-4a8d-9f18-2eb66ac7583a",
   "metadata": {
    "tags": []
   },
   "outputs": [
    {
     "name": "stdout",
     "output_type": "stream",
     "text": [
      " <p> Having successfully passed the comprehension exam, you are admitted into the Laser Room. You see a gigantic machine pointed out into space, with a rather simple control panel featuring a monitor, two large buttons, and dials for adjusting coordinates. The label on the machine reads <a href=\"https://pillow.readthedocs.io/en/stable/\">\"P.I.L.\"</a>, which stands for <span class=\"b i\"> \"<a href=\"https://en.wikipedia.org/wiki/Pulsar\">Pulsar</a> Intercepting Laser\"</span>. </p> <p> On the monitor, you see a map of pulsars that are within the laser's range. </p> <p> You are briefed by the lead technician: </p> <div class=\"shadow pad\"> <ul> <li> The PIL <span class=\"b i\">emits a frequency of light</span> in the direction of your provided coordinates, which hits the pulsar and causes it to <span class=\"b i\">flood out</span> in four directions (North, South, East, and West) <span class=\"b i\">until it reaches an edge</span>. </li> <li> This reaction, if it covers the entire surface of the pulsar, will radiate <span class=\"b i\">200 gigajoules (GJ) of energy</span>, which is received by the PIL's sensors. </li> <li> Unfortunately, <span class=\"b i\">a single pulse of the PIL costs 100 GJ to run</span>, so the <span class=\"b i\">net energy gained from completely filling a pulsar is 100 GJ</span>. </li> <li> If a pulsar is <span class=\"b i\">completely filled more than once</span>, the PIL's sensors can intercept <span class=\"b i\">1100 GJ</span> from it instead of 200 GJ. It does not matter if the pulsar is filled more than twice; it will only emit either 200 GJ for one fill or 1100 GJ for more than one. </li> <li> You should think of the pulsar map as <span class=\"b i\">a 2D grid of pixels</span>. Each of your coordinates targets a pixel on the map. The reaction is interrupted by any edge, including both the outlines of other pulsars and the boundaries of the map. </li> </ul> </div> <p> This process does not seem as efficient as it could be and you wonder if you could increase your net gain per pulse. You open the metal cover on the side of the laser labeled <span class=\"b i\">\"CALIBRATIONS\"</span>, and inside you see <span class=\"b i\">a small mirror</span> angled out of the laser's range. Moving that mirror into the laser's path will <span class=\"b i\">double the output of the laser by mirroring the x and y coordinates</span>! </p> <p class=\"hint-label ssm\"> HINT (mouse-over to view):</p> <p class=\"hint ssm\"> PIL Library (pillow) comes with a built-in flood fill function, but try to use the flood fill function you made for Part One instead. numpy.array() can easily take a PIL.Image object and turn it into an array of RGB values representing each pixel. You can also use the PIL.Image.fromarray() method to take a numpy array turn it back into an image to view your results. </p> <h4> Consider a smaller map, for example: </h4> <div class=\"flex-container\"> <div class=\"container-item\"> <a href=\"../static/images/05/test.png\"> <img class=\"smallpic\" src=\"../static/images/05/test.png\"> </a> </div> <div class=\"container-item pad\"> with the coordinates<br> <span class=\"code free\"> 66,147<br> 120,123<br> 329,181<br> 368,339 </span> </div> </div> <p> Mirroring these coordinates gives you the complete list of coordinates:<br> <span class=\"code part\"> 66,147 147,66 120,123 123,120 329,181 181,329 368,339 339,368 </span><br> which is 8 coordinates for the energy cost of 4! </p> <div class=\"flex-container\"> <div class=\"column\"> <img class=\"smallpic\" src=\"../static/images/05/testresult1.png\"> </div> <div class=\"column\"> <ul> <li>each coordinate representing a laser pulse is a red dot</li> <li>areas that are filled once by a pulse are colored yellow</li> <li>areas that are filled twice by a pulse are colored cyan</li> <span class=\"b i\"><li> the 3 pulsars on the right are not completely filled </li></span> <ul> <li>the red circle shows un-filled areas of the pulsar</li> <li>other pulsars are cut off by the image's border</li> </ul>  </p> </div> </div> <p> Because the pulsars on the right are not completely filled, they do not emit any energy. You have 1 once-filled pulsar emitting 200 GJ, and 1 twice-filled pulsar emitting 1100 GJ. On top of that you have the cost of transmitting 4 laser pulses at 100 GJ each:<br> <span class=\"code part\">200 + 1100 - (100 * 4) = 900</span> </p> <p> In this example, your net energy gained is <span class=\"code part\">900</span> GJ. </p> \n"
     ]
    }
   ],
   "source": [
    "print(\" \".join(line.strip() for line in STRING.split(\"\\n\")))"
   ]
  },
  {
   "cell_type": "code",
   "execution_count": 55,
   "id": "9270cf06-9c94-4d7f-a580-f579a0c92396",
   "metadata": {
    "tags": []
   },
   "outputs": [
    {
     "name": "stdout",
     "output_type": "stream",
     "text": [
      "@@@####&nbsp;&nbsp;&nbsp;&nbsp;&nbsp;&nbsp;&nbsp;&nbsp;<br>\n",
      "#@@@@@#########<br>\n",
      "&nbsp;##@@@@@@#&nbsp;&nbsp;&nbsp;&nbsp;&nbsp;<br>\n",
      "&nbsp;&nbsp;##@@@@@@#&nbsp;&nbsp;&nbsp;&nbsp;<br>\n",
      "#&nbsp;##@@##@@#&nbsp;&nbsp;##<br>\n",
      "#&nbsp;##@@####&nbsp;####<br>\n",
      "#&nbsp;##@@##&nbsp;#&nbsp;##&nbsp;&nbsp;<br>\n",
      "#&nbsp;##@@#&nbsp;&nbsp;#&nbsp;&nbsp;#&nbsp;&nbsp;<br>\n",
      "&nbsp;&nbsp;#@@@##&nbsp;&nbsp;#&nbsp;&nbsp;##<br>\n",
      "&nbsp;##@@@@##&nbsp;&nbsp;#&nbsp;&nbsp;&nbsp;<br>\n",
      "&nbsp;###@@@@##&nbsp;&nbsp;###<br>\n",
      "&nbsp;###@@@@@@#&nbsp;&nbsp;&nbsp;&nbsp;<br>\n",
      "&nbsp;&nbsp;####@@@@@##&nbsp;&nbsp;<br>\n",
      "##&nbsp;&nbsp;&nbsp;#####@@##&nbsp;<br>\n",
      "&nbsp;&nbsp;#&nbsp;&nbsp;&nbsp;&nbsp;####@@#&nbsp;\n"
     ]
    }
   ],
   "source": [
    "m = \"\"\"@@@####        \n",
    "#@@@@@#########\n",
    " ##@@@@@@#     \n",
    "  ##@@@@@@#    \n",
    "# ##@@##@@#  ##\n",
    "# ##@@#### ####\n",
    "# ##@@## # ##  \n",
    "# ##@@#  #  #  \n",
    "  #@@@##  #  ##\n",
    " ##@@@@##  #   \n",
    " ###@@@@##  ###\n",
    " ###@@@@@@#    \n",
    "  ####@@@@@##  \n",
    "##   #####@@## \n",
    "  #    ####@@# \"\"\"\n",
    "print(\"<br>\\n\".join(x for x in m.replace(\" \", \"&nbsp;\").split(\"\\n\")))"
   ]
  },
  {
   "cell_type": "code",
   "execution_count": 99,
   "id": "7b86b3ed-c7f2-454f-bda6-a6d28a2f2e57",
   "metadata": {
    "tags": []
   },
   "outputs": [
    {
     "data": {
      "text/plain": [
       "56"
      ]
     },
     "execution_count": 99,
     "metadata": {},
     "output_type": "execute_result"
    }
   ],
   "source": [
    "m.count(\"@\")"
   ]
  },
  {
   "cell_type": "code",
   "execution_count": null,
   "id": "73fd1fa2-2257-42a5-bdeb-76a9aedfe07a",
   "metadata": {},
   "outputs": [],
   "source": []
  }
 ],
 "metadata": {
  "kernelspec": {
   "display_name": "Python 3 (ipykernel)",
   "language": "python",
   "name": "python3"
  },
  "language_info": {
   "codemirror_mode": {
    "name": "ipython",
    "version": 3
   },
   "file_extension": ".py",
   "mimetype": "text/x-python",
   "name": "python",
   "nbconvert_exporter": "python",
   "pygments_lexer": "ipython3",
   "version": "3.10.9"
  }
 },
 "nbformat": 4,
 "nbformat_minor": 5
}
