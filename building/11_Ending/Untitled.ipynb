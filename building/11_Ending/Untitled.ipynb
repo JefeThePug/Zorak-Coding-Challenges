{
 "cells": [
  {
   "cell_type": "code",
   "execution_count": 25,
   "id": "addae916-48dc-4d0b-8ef9-ea07390c4278",
   "metadata": {
    "tags": []
   },
   "outputs": [],
   "source": [
    "from PIL import Image\n",
    "\n",
    "i = Image.open(\"ending.gif\")\n",
    "\n",
    "frames = []\n",
    "try:\n",
    "    while True:\n",
    "        frames.append(i.copy())\n",
    "        i.seek(i.tell() + 1)\n",
    "except EOFError:\n",
    "    pass\n",
    "\n",
    "frames[0].save(\"looping_ending.gif\", save_all=True, append_images=frames[1:], loop=0)\n"
   ]
  },
  {
   "cell_type": "code",
   "execution_count": 39,
   "id": "0dfe3056-9f08-49f3-91c9-0775225cbcfe",
   "metadata": {
    "tags": []
   },
   "outputs": [
    {
     "name": "stdout",
     "output_type": "stream",
     "text": [
      "{'version': b'GIF89a', 'background': 246, 'transparency': 255, 'duration': 100}\n",
      "{'version': b'GIF89a', 'background': 246, 'loop': 0, 'duration': 100, 'extension': (b'NETSCAPE2.0', 795)}\n",
      "{'version': b'GIF89a', 'background': 0, 'transparency': 255, 'duration': 30}\n",
      "{'version': b'GIF87a', 'background': 0, 'loop': 0, 'transparency': 255, 'duration': 30, 'extension': (b'NETSCAPE2.0', 795)}\n"
     ]
    }
   ],
   "source": [
    "from PIL import Image\n",
    "i = Image.open(\"ending.gif\")\n",
    "print(i.info)\n",
    "i = Image.open(\"looping_ending.gif\")\n",
    "print(i.info)\n",
    "i = Image.open(\"flash.gif\")\n",
    "print(i.info)\n",
    "i = Image.open(\"looping_flash.gif\")\n",
    "print(i.info)"
   ]
  },
  {
   "cell_type": "code",
   "execution_count": 118,
   "id": "3bb7964e-9559-4b50-a4ea-755336a1e095",
   "metadata": {
    "tags": []
   },
   "outputs": [
    {
     "name": "stdout",
     "output_type": "stream",
     "text": [
      "Time using len(str(number)): 0.988188 seconds\n",
      "Time using len(str(number)): 0.782476 seconds\n",
      "Time using int(math.log10(number)) + 1: 0.800410 seconds\n",
      "Time using int(math.log10(number)) + 1 with safety check: 1.089737 seconds\n"
     ]
    }
   ],
   "source": [
    "from math import log10\n",
    "import timeit\n",
    "\n",
    "# Test setup\n",
    "number = 123456789\n",
    "\n",
    "# Using len(str(number))\n",
    "def using_str_len():\n",
    "    return len(str(number))\n",
    "\n",
    "# Using len(f\"{number}\")\n",
    "def using_str_len_f():\n",
    "    return len(f\"{number}\")\n",
    "\n",
    "# Using int(math.log10(number)) + 1\n",
    "def using_log10():\n",
    "    return int(log10(number)) + 1\n",
    "\n",
    "# Handle edge case where number is 0\n",
    "def using_log10_safe(n):\n",
    "    try:\n",
    "        return int(log10(n)) + 1\n",
    "    except ValueError:\n",
    "        return 1\n",
    "\n",
    "# Time the functions\n",
    "time_str_len = timeit.timeit(using_str_len, number=10_000_000)\n",
    "time_str_len_f = timeit.timeit(using_str_len_f, number=10_000_000)\n",
    "time_log10 = timeit.timeit(using_log10, number=10_000_000)\n",
    "time_log10_safe = timeit.timeit(lambda: using_log10_safe(number), number=10_000_000)\n",
    "\n",
    "print(f\"Time using len(str(number)): {time_str_len:.6f} seconds\")\n",
    "print(f\"Time using len(str(number)): {time_str_len_f:.6f} seconds\")\n",
    "print(f\"Time using int(math.log10(number)) + 1: {time_log10:.6f} seconds\")\n",
    "print(f\"Time using int(math.log10(number)) + 1 with safety check: {time_log10_safe:.6f} seconds\")\n"
   ]
  },
  {
   "cell_type": "code",
   "execution_count": 112,
   "id": "04191e35-158d-42e3-9ace-4a163e0690b2",
   "metadata": {
    "tags": []
   },
   "outputs": [
    {
     "ename": "ValueError",
     "evalue": "math domain error",
     "output_type": "error",
     "traceback": [
      "\u001b[0;31m---------------------------------------------------------------------------\u001b[0m",
      "\u001b[0;31mValueError\u001b[0m                                Traceback (most recent call last)",
      "Cell \u001b[0;32mIn[112], line 1\u001b[0m\n\u001b[0;32m----> 1\u001b[0m \u001b[43mlog10\u001b[49m\u001b[43m(\u001b[49m\u001b[38;5;241;43m0\u001b[39;49m\u001b[43m)\u001b[49m\n",
      "\u001b[0;31mValueError\u001b[0m: math domain error"
     ]
    }
   ],
   "source": [
    "log10(0)"
   ]
  },
  {
   "cell_type": "code",
   "execution_count": 120,
   "id": "026c1fa7-c291-4b78-9f69-8170141bd606",
   "metadata": {
    "tags": []
   },
   "outputs": [
    {
     "data": {
      "text/plain": [
       "'07'"
      ]
     },
     "execution_count": 120,
     "metadata": {},
     "output_type": "execute_result"
    }
   ],
   "source": [
    "x = 7\n",
    "\n",
    "f\"{x:02d}\""
   ]
  },
  {
   "cell_type": "code",
   "execution_count": 123,
   "id": "a47f1476-c2ed-4741-a398-bda2bbb2d317",
   "metadata": {
    "tags": []
   },
   "outputs": [
    {
     "name": "stdout",
     "output_type": "stream",
     "text": [
      "3221\n",
      "123456789\n"
     ]
    }
   ],
   "source": [
    "\n",
    "def reverse_number(num):\n",
    "  # Reverse the number\n",
    "  reverse = int(str(num)[::-1])\n",
    "  # Return the number\n",
    "  return reverse\n",
    "\n",
    "## Example usage:\n",
    "print(reverse_number(1223)) # Output: 3221\n",
    "print(reverse_number(987654321)) # Output: 123456789"
   ]
  },
  {
   "cell_type": "code",
   "execution_count": 43,
   "id": "db423925-3c68-4802-b5ca-cc84ebc0dac1",
   "metadata": {},
   "outputs": [],
   "source": [
    "STRING = \"\"\"\n",
    "<p>\n",
    "            Now that that's all sorted, no pun intended, it's time to get \n",
    "            to work. The stress of this new assignment, caused by the chaos \n",
    "            of the paper storm, has left you feeling overwhelmed. It seems \n",
    "            like the Electric Control Room might not be the place for you. \n",
    "            You should put in a \n",
    "            <span class=\"b i\">\n",
    "                Change of Assignment request \n",
    "            </span>\n",
    "            with the Operations Manager, but you've left your holographic \n",
    "            tablet in your bunk. That's okay, because aboard the ship, all \n",
    "            devices have the capability of communicating with the Operations \n",
    "            Manager, provided there's a screen to display the reply.\n",
    "        </p>\n",
    "        <p>\n",
    "            Luckily for you, you're stood in front of the\n",
    "            <span class=\"b i\">\n",
    "                \"Binary&nbsp;Represented&nbsp;All&#8209;Inclusive&nbsp;Lettering&nbsp;LED\"\n",
    "            </span>\n",
    "            System, or <span class=\"b i\">\"BrailLED\"</span> for short.\n",
    "        </p>\n",
    "        <p>\n",
    "            The BrailLED is a long strip of \n",
    "            <a \n",
    "            href=\"https://en.wikipedia.org/wiki/Light-emitting_diode\">LED lights</a>,\n",
    "            totaling <span class=\"b i\">six rows</span> and \n",
    "            <span class=\"b i\">fifty&#8209;two columns</span> of individual lights.\n",
    "        </p>\n",
    "        <div class=\"imgcontainer shadow pad\">\n",
    "            <img src=\"../static/images/02/strip.png\">\n",
    "        </div>\n",
    "        <p>\n",
    "            Transmissions are sent to the LED lights as \n",
    "            <span class=\"b i\">\n",
    "                a packet of tuples. \n",
    "            </span>\n",
    "            The first item of the tuple is a binary string and the second \n",
    "            is a column header. \n",
    "            <ul>\n",
    "                <li>\n",
    "                    The BrailLED display Columns, from left to right, are\n",
    "                    labeled with sorted uppercase letters, A&#8209;Z, \n",
    "                    followed by sorted lowercase letters, a&#8209;z.\n",
    "                </li>\n",
    "                <li>\n",
    "                    For each column, the binary string fills the column form\n",
    "                    top to bottom, assigning the individual lights in that \n",
    "                    column <span class=\"b i\">ON for 1</span> or \n",
    "                    <span class=\"b i\">OFF for 0</span>. \n",
    "                </li>\n",
    "            </ul>\n",
    "        </p>    \n",
    "        <div class=\"flex-container shadow\">\n",
    "            <div class=\"column\">\n",
    "                <div class=\"imgcontainer\">\n",
    "                    <img src=\"../static/images/02/braille.png\">\n",
    "                </div>\n",
    "            </div>\n",
    "            <div class=\"column\">\n",
    "                <p class=\"column-content\">\n",
    "                    The resulting LED display is a \n",
    "                    <span class=\"b i\">two&#8209;row, 26&#8209;column \n",
    "                    strip of 3x2 light groupings</span>, each grouping \n",
    "                    representing one letter in \n",
    "                    <a href=\"https://en.wikipedia.org/wiki/Braille\">braille</a>. \n",
    "                </p>\n",
    "                <span class=\"spacer\"><br></span>\n",
    "                <p class=\"column-content\">\n",
    "                    The message is then read by interpreting the first line of \n",
    "                    26 braille symbols and then the second line, without any\n",
    "                    additional spaces.\n",
    "                </p>\n",
    "            </div>\n",
    "        </div>\n",
    "        <p>\n",
    "            Someone must have bumped the BrailLED amidst all the confusion this \n",
    "            morning, because the inputs are not coming in sorted. You will have \n",
    "            to sort the inputs first before letting the LED display show you your \n",
    "            message in braille.\n",
    "        </p>\n",
    "        <h4>\n",
    "            For example (with a shorter 6-column display):\n",
    "        </h4>\n",
    "        <div class=\"imgcontainer\">\n",
    "            <p>If the transmission you receive is\n",
    "                <span class=\"code\">\n",
    "                    000110,c<br>\n",
    "                    000010,a<br>\n",
    "                    111100,C<br>\n",
    "                    111101,A<br>\n",
    "                    100011,b<br>\n",
    "                    100110,B\n",
    "                </span>\n",
    "            </p>\n",
    "        </div>\n",
    "        <div class=\"imgcontainer\">\n",
    "            You would sort it&nbsp;&nbsp;\n",
    "            <span class=\"code\">\n",
    "                111101,A<br>\n",
    "                100110,B<br>\n",
    "                111100,C<br>\n",
    "                000010,a<br>\n",
    "                100011,b<br>\n",
    "                000110,c\n",
    "            </span>\n",
    "        </div>\n",
    "        <p>\n",
    "            Column A is, from top to bottom, \n",
    "            <span class=\"code part\">\n",
    "                111101\n",
    "            </span>\n",
    "            making the lights\n",
    "            <span class=\"code part\">\n",
    "                ON ON ON ON OFF ON\n",
    "            </span>\n",
    "        </p>\n",
    "        <p>\n",
    "            Filling in all of the columns, your BrailLED Display \n",
    "            would look like this:\n",
    "        </p>\n",
    "        <div class=\"imgcontainer\">\n",
    "            <img class=\"smallpic\" src=\"../static/images/02/sample.png\">\n",
    "        </div>\n",
    "        <p>\n",
    "            Reading left to right, top to bottom, starting with the first row\n",
    "            we have the braille \n",
    "            <span style=\"font-size: xx-large\">\n",
    "                ⠏⠇⠁⠝⠑⠞\n",
    "            </span>\n",
    "            which spells\n",
    "            <span class=\"code part\">\n",
    "                PLANET</span>.\n",
    "        </p>\n",
    "        <p>\n",
    "            Your transmission is coming in now. Will you get a new assignment\n",
    "            for tomorrow?\n",
    "        </p>\n",
    "\"\"\""
   ]
  },
  {
   "cell_type": "code",
   "execution_count": 44,
   "id": "d8faf22a-e090-4a8d-9f18-2eb66ac7583a",
   "metadata": {
    "tags": []
   },
   "outputs": [
    {
     "name": "stdout",
     "output_type": "stream",
     "text": [
      " <p> Now that that's all sorted, no pun intended, it's time to get to work. The stress of this new assignment, caused by the chaos of the paper storm, has left you feeling overwhelmed. It seems like the Electric Control Room might not be the place for you. You should put in a <span class=\"b i\"> Change of Assignment request </span> with the Operations Manager, but you've left your holographic tablet in your bunk. That's okay, because aboard the ship, all devices have the capability of communicating with the Operations Manager, provided there's a screen to display the reply. </p> <p> Luckily for you, you're stood in front of the <span class=\"b i\"> \"Binary&nbsp;Represented&nbsp;All&#8209;Inclusive&nbsp;Lettering&nbsp;LED\" </span> System, or <span class=\"b i\">\"BrailLED\"</span> for short. </p> <p> The BrailLED is a long strip of <a href=\"https://en.wikipedia.org/wiki/Light-emitting_diode\">LED lights</a>, totaling <span class=\"b i\">six rows</span> and <span class=\"b i\">fifty&#8209;two columns</span> of individual lights. </p> <div class=\"imgcontainer shadow pad\"> <img src=\"../static/images/02/strip.png\"> </div> <p> Transmissions are sent to the LED lights as <span class=\"b i\"> a packet of tuples. </span> The first item of the tuple is a binary string and the second is a column header. <ul> <li> The BrailLED display Columns, from left to right, are labeled with sorted uppercase letters, A&#8209;Z, followed by sorted lowercase letters, a&#8209;z. </li> <li> For each column, the binary string fills the column form top to bottom, assigning the individual lights in that column <span class=\"b i\">ON for 1</span> or <span class=\"b i\">OFF for 0</span>. </li> </ul> </p> <div class=\"flex-container shadow\"> <div class=\"column\"> <div class=\"imgcontainer\"> <img src=\"../static/images/02/braille.png\"> </div> </div> <div class=\"column\"> <p class=\"column-content\"> The resulting LED display is a <span class=\"b i\">two&#8209;row, 26&#8209;column strip of 3x2 light groupings</span>, each grouping representing one letter in <a href=\"https://en.wikipedia.org/wiki/Braille\">braille</a>. </p> <span class=\"spacer\"><br></span> <p class=\"column-content\"> The message is then read by interpreting the first line of 26 braille symbols and then the second line, without any additional spaces. </p> </div> </div> <p> Someone must have bumped the BrailLED amidst all the confusion this morning, because the inputs are not coming in sorted. You will have to sort the inputs first before letting the LED display show you your message in braille. </p> <h4> For example (with a shorter 6-column display): </h4> <div class=\"imgcontainer\"> <p>If the transmission you receive is <span class=\"code\"> 000110,c<br> 000010,a<br> 111100,C<br> 111101,A<br> 100011,b<br> 100110,B </span> </p> </div> <div class=\"imgcontainer\"> You would sort it&nbsp;&nbsp; <span class=\"code\"> 111101,A<br> 100110,B<br> 111100,C<br> 000010,a<br> 100011,b<br> 000110,c </span> </div> <p> Column A is, from top to bottom, <span class=\"code part\"> 111101 </span> making the lights <span class=\"code part\"> ON ON ON ON OFF ON </span> </p> <p> Filling in all of the columns, your BrailLED Display would look like this: </p> <div class=\"imgcontainer\"> <img class=\"smallpic\" src=\"../static/images/02/sample.png\"> </div> <p> Reading left to right, top to bottom, starting with the first row we have the braille <span style=\"font-size: xx-large\"> ⠏⠇⠁⠝⠑⠞ </span> which spells <span class=\"code part\"> PLANET</span>. </p> <p> Your transmission is coming in now. Will you get a new assignment for tomorrow? </p> \n"
     ]
    }
   ],
   "source": [
    "print(\" \".join(line.strip() for line in STRING.split(\"\\n\")))"
   ]
  },
  {
   "cell_type": "code",
   "execution_count": null,
   "id": "9270cf06-9c94-4d7f-a580-f579a0c92396",
   "metadata": {
    "tags": []
   },
   "outputs": [],
   "source": []
  },
  {
   "cell_type": "code",
   "execution_count": null,
   "id": "7b86b3ed-c7f2-454f-bda6-a6d28a2f2e57",
   "metadata": {
    "tags": []
   },
   "outputs": [],
   "source": []
  },
  {
   "cell_type": "code",
   "execution_count": null,
   "id": "a6166b94-27b2-41ff-8a8d-960571104531",
   "metadata": {},
   "outputs": [],
   "source": []
  }
 ],
 "metadata": {
  "kernelspec": {
   "display_name": "Python 3 (ipykernel)",
   "language": "python",
   "name": "python3"
  },
  "language_info": {
   "codemirror_mode": {
    "name": "ipython",
    "version": 3
   },
   "file_extension": ".py",
   "mimetype": "text/x-python",
   "name": "python",
   "nbconvert_exporter": "python",
   "pygments_lexer": "ipython3",
   "version": "3.10.9"
  }
 },
 "nbformat": 4,
 "nbformat_minor": 5
}
