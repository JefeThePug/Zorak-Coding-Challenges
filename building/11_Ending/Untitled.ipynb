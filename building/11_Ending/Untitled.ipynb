{
 "cells": [
  {
   "cell_type": "code",
   "execution_count": 25,
   "id": "addae916-48dc-4d0b-8ef9-ea07390c4278",
   "metadata": {
    "tags": []
   },
   "outputs": [],
   "source": [
    "from PIL import Image\n",
    "\n",
    "i = Image.open(\"ending.gif\")\n",
    "\n",
    "frames = []\n",
    "try:\n",
    "    while True:\n",
    "        frames.append(i.copy())\n",
    "        i.seek(i.tell() + 1)\n",
    "except EOFError:\n",
    "    pass\n",
    "\n",
    "frames[0].save(\"looping_ending.gif\", save_all=True, append_images=frames[1:], loop=0)\n"
   ]
  },
  {
   "cell_type": "code",
   "execution_count": 39,
   "id": "0dfe3056-9f08-49f3-91c9-0775225cbcfe",
   "metadata": {
    "tags": []
   },
   "outputs": [
    {
     "name": "stdout",
     "output_type": "stream",
     "text": [
      "{'version': b'GIF89a', 'background': 246, 'transparency': 255, 'duration': 100}\n",
      "{'version': b'GIF89a', 'background': 246, 'loop': 0, 'duration': 100, 'extension': (b'NETSCAPE2.0', 795)}\n",
      "{'version': b'GIF89a', 'background': 0, 'transparency': 255, 'duration': 30}\n",
      "{'version': b'GIF87a', 'background': 0, 'loop': 0, 'transparency': 255, 'duration': 30, 'extension': (b'NETSCAPE2.0', 795)}\n"
     ]
    }
   ],
   "source": [
    "from PIL import Image\n",
    "i = Image.open(\"ending.gif\")\n",
    "print(i.info)\n",
    "i = Image.open(\"looping_ending.gif\")\n",
    "print(i.info)\n",
    "i = Image.open(\"flash.gif\")\n",
    "print(i.info)\n",
    "i = Image.open(\"looping_flash.gif\")\n",
    "print(i.info)"
   ]
  },
  {
   "cell_type": "code",
   "execution_count": 118,
   "id": "3bb7964e-9559-4b50-a4ea-755336a1e095",
   "metadata": {
    "tags": []
   },
   "outputs": [
    {
     "name": "stdout",
     "output_type": "stream",
     "text": [
      "Time using len(str(number)): 0.988188 seconds\n",
      "Time using len(str(number)): 0.782476 seconds\n",
      "Time using int(math.log10(number)) + 1: 0.800410 seconds\n",
      "Time using int(math.log10(number)) + 1 with safety check: 1.089737 seconds\n"
     ]
    }
   ],
   "source": [
    "from math import log10\n",
    "import timeit\n",
    "\n",
    "# Test setup\n",
    "number = 123456789\n",
    "\n",
    "# Using len(str(number))\n",
    "def using_str_len():\n",
    "    return len(str(number))\n",
    "\n",
    "# Using len(f\"{number}\")\n",
    "def using_str_len_f():\n",
    "    return len(f\"{number}\")\n",
    "\n",
    "# Using int(math.log10(number)) + 1\n",
    "def using_log10():\n",
    "    return int(log10(number)) + 1\n",
    "\n",
    "# Handle edge case where number is 0\n",
    "def using_log10_safe(n):\n",
    "    try:\n",
    "        return int(log10(n)) + 1\n",
    "    except ValueError:\n",
    "        return 1\n",
    "\n",
    "# Time the functions\n",
    "time_str_len = timeit.timeit(using_str_len, number=10_000_000)\n",
    "time_str_len_f = timeit.timeit(using_str_len_f, number=10_000_000)\n",
    "time_log10 = timeit.timeit(using_log10, number=10_000_000)\n",
    "time_log10_safe = timeit.timeit(lambda: using_log10_safe(number), number=10_000_000)\n",
    "\n",
    "print(f\"Time using len(str(number)): {time_str_len:.6f} seconds\")\n",
    "print(f\"Time using len(str(number)): {time_str_len_f:.6f} seconds\")\n",
    "print(f\"Time using int(math.log10(number)) + 1: {time_log10:.6f} seconds\")\n",
    "print(f\"Time using int(math.log10(number)) + 1 with safety check: {time_log10_safe:.6f} seconds\")\n"
   ]
  },
  {
   "cell_type": "code",
   "execution_count": 112,
   "id": "04191e35-158d-42e3-9ace-4a163e0690b2",
   "metadata": {
    "tags": []
   },
   "outputs": [
    {
     "ename": "ValueError",
     "evalue": "math domain error",
     "output_type": "error",
     "traceback": [
      "\u001b[0;31m---------------------------------------------------------------------------\u001b[0m",
      "\u001b[0;31mValueError\u001b[0m                                Traceback (most recent call last)",
      "Cell \u001b[0;32mIn[112], line 1\u001b[0m\n\u001b[0;32m----> 1\u001b[0m \u001b[43mlog10\u001b[49m\u001b[43m(\u001b[49m\u001b[38;5;241;43m0\u001b[39;49m\u001b[43m)\u001b[49m\n",
      "\u001b[0;31mValueError\u001b[0m: math domain error"
     ]
    }
   ],
   "source": [
    "log10(0)"
   ]
  },
  {
   "cell_type": "code",
   "execution_count": 120,
   "id": "026c1fa7-c291-4b78-9f69-8170141bd606",
   "metadata": {
    "tags": []
   },
   "outputs": [
    {
     "data": {
      "text/plain": [
       "'07'"
      ]
     },
     "execution_count": 120,
     "metadata": {},
     "output_type": "execute_result"
    }
   ],
   "source": [
    "x = 7\n",
    "\n",
    "f\"{x:02d}\""
   ]
  },
  {
   "cell_type": "code",
   "execution_count": 123,
   "id": "a47f1476-c2ed-4741-a398-bda2bbb2d317",
   "metadata": {
    "tags": []
   },
   "outputs": [
    {
     "name": "stdout",
     "output_type": "stream",
     "text": [
      "3221\n",
      "123456789\n"
     ]
    }
   ],
   "source": [
    "\n",
    "def reverse_number(num):\n",
    "  # Reverse the number\n",
    "  reverse = int(str(num)[::-1])\n",
    "  # Return the number\n",
    "  return reverse\n",
    "\n",
    "## Example usage:\n",
    "print(reverse_number(1223)) # Output: 3221\n",
    "print(reverse_number(987654321)) # Output: 123456789"
   ]
  },
  {
   "cell_type": "code",
   "execution_count": 28,
   "id": "db423925-3c68-4802-b5ca-cc84ebc0dac1",
   "metadata": {},
   "outputs": [],
   "source": [
    "STRING = \"\"\"\n",
    "<p>\n",
    "            With that crisis averted, the rest of your day goes by pretty smoothly as you help your\n",
    "            shipmates reorganize the inventory. Suddenly, out of the corner of your eye, you\n",
    "            <span class=\"b i\">spot a small colorful piece of paper</span>.\n",
    "        </p>\n",
    "        <div class=\"imgcontainer\">\n",
    "            <img class=\"fill\" src=\"../static/images/07/zorakpropoganda.png\">\n",
    "        </div>\n",
    "        <p>\n",
    "            Picking it up, you immediately recognize it as <span class=\"b i\">Dokarian\n",
    "            <a href=\"https://en.wikipedia.org/wiki/Propaganda\">propaganda</a></span>\n",
    "            that someone aboard the ship must have sneaked in. Could there be a\n",
    "            <a href=\"https://en.wikipedia.org/wiki/Treason\">traitor</a> amongst us?\n",
    "        </p>\n",
    "        <p>\n",
    "            Call it a <a href=\"https://en.wikipedia.org/wiki/Intuition\">hunch</a>, but you notice\n",
    "            something very funny about the <span class=\"b i\">background colors of the paper</span>.\n",
    "            Luckily, there is a <span class=\"b i\">Propaganda Inspecting LumiCam (PIL)</span> app built\n",
    "            into your holographic tablet, designed to <span class=\"b i\">scan images for color</span>.\n",
    "        </p>\n",
    "        <p>\n",
    "            To uncover the <span class=\"b i\">hidden message</span>, you need to program it to act as a\n",
    "            <a href=\"https://docs.python.org/3/library/collections.html#collections.Counter\">\n",
    "                Counter\n",
    "            </a>\n",
    "            for each pixel color you scan. You decide on a quick course of action.\n",
    "        </p>\n",
    "        <div class=\"shadow pad\">\n",
    "            <ol>\n",
    "                <li>Scan the Image</li>\n",
    "                <ul>\n",
    "                    <li>\n",
    "                        Use your PIL app to scan the background colors from the image (your puzzle input)\n",
    "                    </li>\n",
    "                </ul>\n",
    "                <li>Count the Colors</li>\n",
    "                <ul>\n",
    "                    <li>\n",
    "                        The app should count each color pixel and provide you with a list of RGB tuples\n",
    "                        for the top three most frequent colors\n",
    "                    </li>\n",
    "                </ul>\n",
    "                <li>Convert Hex Values</li>\n",
    "                <ul>\n",
    "                    <li>\n",
    "                        Convert the RGB tuples to hex color values and then change all of the digits to\n",
    "                        their closest uppercase letter using the following mapping:<br>\n",
    "                        <span class=\"b i\">0=O, 1=I, 2=Z, 3=E, 4=A, 5=S, 6=G, 7=T, 8=B, and 9=P</span>\n",
    "                    </li>\n",
    "                </ul>\n",
    "            </ol>\n",
    "        </div>\n",
    "        <p>\n",
    "            The resulting <span class=\"b i\">six letter words from the top three hex color values</span>\n",
    "            will reveal the secret message hidden inside the propaganda paper.\n",
    "        </p>\n",
    "        <h4>\n",
    "            For example:\n",
    "        </h4>\n",
    "        <p>\n",
    "            Using the image\n",
    "        </p>\n",
    "        <div class=\"imgcontainer\">\n",
    "            <img src=\"../static/images/07/sample.png\">\n",
    "        </div>\n",
    "        <p>We get the following counts for pixel colors\n",
    "            <span class=\"code free\">\n",
    "                (255, 255, 255): 2183<br>\n",
    "                (&nbsp;&nbsp;0, &nbsp;&nbsp;0, &nbsp;&nbsp;0): 1917<br>\n",
    "                (176, 209, 229): 10000<br>\n",
    "                (190, 173, 237): 10000<br>\n",
    "                (222, 202, 222): 10000\n",
    "            </span>\n",
    "        </p>\n",
    "        <div class=\"flex-container\">\n",
    "            <div class=\"container-item pad\">\n",
    "                Converting the top 3<br>colors to hex values\n",
    "                <span class=\"code free\">\n",
    "                    #B0D1E5<br>\n",
    "                    #BEADED<br>\n",
    "                    #DECADE\n",
    "                </span>\n",
    "            </div>\n",
    "            <div class=\"container-item pad\">\n",
    "                and changing the digits<br>to uppercase letters\n",
    "                <span class=\"code free\">\n",
    "                    BODIES<br>\n",
    "                    BEADED<br>\n",
    "                    DECADE\n",
    "                </span>\n",
    "            </div>\n",
    "        </div>\n",
    "        <p>\n",
    "            The secret message becomes <span class=\"code part\">BODIES BEADED DECADE</span>.\n",
    "        </p>\n",
    "\"\"\""
   ]
  },
  {
   "cell_type": "code",
   "execution_count": 29,
   "id": "d8faf22a-e090-4a8d-9f18-2eb66ac7583a",
   "metadata": {
    "tags": []
   },
   "outputs": [
    {
     "name": "stdout",
     "output_type": "stream",
     "text": [
      " <p> With that crisis averted, the rest of your day goes by pretty smoothly as you help your shipmates reorganize the inventory. Suddenly, out of the corner of your eye, you <span class=\"b i\">spot a small colorful piece of paper</span>. </p> <div class=\"imgcontainer\"> <img class=\"fill\" src=\"../static/images/07/zorakpropoganda.png\"> </div> <p> Picking it up, you immediately recognize it as <span class=\"b i\">Dokarian <a href=\"https://en.wikipedia.org/wiki/Propaganda\">propaganda</a></span> that someone aboard the ship must have sneaked in. Could there be a <a href=\"https://en.wikipedia.org/wiki/Treason\">traitor</a> amongst us? </p> <p> Call it a <a href=\"https://en.wikipedia.org/wiki/Intuition\">hunch</a>, but you notice something very funny about the <span class=\"b i\">background colors of the paper</span>. Luckily, there is a <span class=\"b i\">Propaganda Inspecting LumiCam (PIL)</span> app built into your holographic tablet, designed to <span class=\"b i\">scan images for color</span>. </p> <p> To uncover the <span class=\"b i\">hidden message</span>, you need to program it to act as a <a href=\"https://docs.python.org/3/library/collections.html#collections.Counter\"> Counter </a> for each pixel color you scan. You decide on a quick course of action. </p> <div class=\"shadow pad\"> <ol> <li>Scan the Image</li> <ul> <li> Use your PIL app to scan the background colors from the image (your puzzle input) </li> </ul> <li>Count the Colors</li> <ul> <li> The app should count each color pixel and provide you with a list of RGB tuples for the top three most frequent colors </li> </ul> <li>Convert Hex Values</li> <ul> <li> Convert the RGB tuples to hex color values and then change all of the digits to their closest uppercase letter using the following mapping:<br> <span class=\"b i\">0=O, 1=I, 2=Z, 3=E, 4=A, 5=S, 6=G, 7=T, 8=B, and 9=P</span> </li> </ul> </ol> </div> <p> The resulting <span class=\"b i\">six letter words from the top three hex color values</span> will reveal the secret message hidden inside the propaganda paper. </p> <h4> For example: </h4> <p> Using the image </p> <div class=\"imgcontainer\"> <img src=\"../static/images/07/sample.png\"> </div> <p>We get the following counts for pixel colors <span class=\"code free\"> (255, 255, 255): 2183<br> (&nbsp;&nbsp;0, &nbsp;&nbsp;0, &nbsp;&nbsp;0): 1917<br> (176, 209, 229): 10000<br> (190, 173, 237): 10000<br> (222, 202, 222): 10000 </span> </p> <div class=\"flex-container\"> <div class=\"container-item pad\"> Converting the top 3<br>colors to hex values <span class=\"code free\"> #B0D1E5<br> #BEADED<br> #DECADE </span> </div> <div class=\"container-item pad\"> and changing the digits<br>to uppercase letters <span class=\"code free\"> BODIES<br> BEADED<br> DECADE </span> </div> </div> <p> The secret message becomes <span class=\"code part\">BODIES BEADED DECADE</span>. </p> \n"
     ]
    }
   ],
   "source": [
    "print(\" \".join(line.strip() for line in STRING.split(\"\\n\")))"
   ]
  },
  {
   "cell_type": "code",
   "execution_count": 55,
   "id": "9270cf06-9c94-4d7f-a580-f579a0c92396",
   "metadata": {
    "tags": []
   },
   "outputs": [
    {
     "name": "stdout",
     "output_type": "stream",
     "text": [
      "@@@####&nbsp;&nbsp;&nbsp;&nbsp;&nbsp;&nbsp;&nbsp;&nbsp;<br>\n",
      "#@@@@@#########<br>\n",
      "&nbsp;##@@@@@@#&nbsp;&nbsp;&nbsp;&nbsp;&nbsp;<br>\n",
      "&nbsp;&nbsp;##@@@@@@#&nbsp;&nbsp;&nbsp;&nbsp;<br>\n",
      "#&nbsp;##@@##@@#&nbsp;&nbsp;##<br>\n",
      "#&nbsp;##@@####&nbsp;####<br>\n",
      "#&nbsp;##@@##&nbsp;#&nbsp;##&nbsp;&nbsp;<br>\n",
      "#&nbsp;##@@#&nbsp;&nbsp;#&nbsp;&nbsp;#&nbsp;&nbsp;<br>\n",
      "&nbsp;&nbsp;#@@@##&nbsp;&nbsp;#&nbsp;&nbsp;##<br>\n",
      "&nbsp;##@@@@##&nbsp;&nbsp;#&nbsp;&nbsp;&nbsp;<br>\n",
      "&nbsp;###@@@@##&nbsp;&nbsp;###<br>\n",
      "&nbsp;###@@@@@@#&nbsp;&nbsp;&nbsp;&nbsp;<br>\n",
      "&nbsp;&nbsp;####@@@@@##&nbsp;&nbsp;<br>\n",
      "##&nbsp;&nbsp;&nbsp;#####@@##&nbsp;<br>\n",
      "&nbsp;&nbsp;#&nbsp;&nbsp;&nbsp;&nbsp;####@@#&nbsp;\n"
     ]
    }
   ],
   "source": [
    "m = \"\"\"@@@####        \n",
    "#@@@@@#########\n",
    " ##@@@@@@#     \n",
    "  ##@@@@@@#    \n",
    "# ##@@##@@#  ##\n",
    "# ##@@#### ####\n",
    "# ##@@## # ##  \n",
    "# ##@@#  #  #  \n",
    "  #@@@##  #  ##\n",
    " ##@@@@##  #   \n",
    " ###@@@@##  ###\n",
    " ###@@@@@@#    \n",
    "  ####@@@@@##  \n",
    "##   #####@@## \n",
    "  #    ####@@# \"\"\"\n",
    "print(\"<br>\\n\".join(x for x in m.replace(\" \", \"&nbsp;\").split(\"\\n\")))"
   ]
  },
  {
   "cell_type": "code",
   "execution_count": 99,
   "id": "7b86b3ed-c7f2-454f-bda6-a6d28a2f2e57",
   "metadata": {
    "tags": []
   },
   "outputs": [
    {
     "data": {
      "text/plain": [
       "56"
      ]
     },
     "execution_count": 99,
     "metadata": {},
     "output_type": "execute_result"
    }
   ],
   "source": [
    "m.count(\"@\")"
   ]
  },
  {
   "cell_type": "code",
   "execution_count": 4,
   "id": "73fd1fa2-2257-42a5-bdeb-76a9aedfe07a",
   "metadata": {},
   "outputs": [
    {
     "data": {
      "text/plain": [
       "39"
      ]
     },
     "execution_count": 4,
     "metadata": {},
     "output_type": "execute_result"
    }
   ],
   "source": [
    "len(\"HURRMHAHP'I LC!GNLPFVN.OUSHRGNKUNM.OUTS\")"
   ]
  },
  {
   "cell_type": "code",
   "execution_count": 2,
   "id": "82065674-60c2-4660-9037-c6b63919e1d0",
   "metadata": {
    "tags": []
   },
   "outputs": [
    {
     "data": {
      "text/plain": [
       "15"
      ]
     },
     "execution_count": 2,
     "metadata": {},
     "output_type": "execute_result"
    }
   ],
   "source": [
    "\"....xxx.x.x.xxxx.xxxxxxxxx.x.x.xx.xx...x\".count(\".\")"
   ]
  },
  {
   "cell_type": "code",
   "execution_count": 3,
   "id": "8538ffee-f759-4242-be47-f743cfc42916",
   "metadata": {
    "tags": []
   },
   "outputs": [
    {
     "data": {
      "text/plain": [
       "0.375"
      ]
     },
     "execution_count": 3,
     "metadata": {},
     "output_type": "execute_result"
    }
   ],
   "source": [
    "15/40"
   ]
  },
  {
   "cell_type": "code",
   "execution_count": 16,
   "id": "753b4b4f-1908-4cff-8a26-ae82763f58e1",
   "metadata": {
    "tags": []
   },
   "outputs": [
    {
     "name": "stdout",
     "output_type": "stream",
     "text": [
      "                 eight              fifty                three           eighty                 ten \n",
      "     thirty          eighteen    seventy            nine                   one          seventeen   \n",
      "           eighty                    eight      eleven                   thirteen               four\n",
      "                   eighteen            four        ten      seventeen        ten       nine       \n",
      "      sixteen           million        forty                 fifteen                 five           \n",
      "                   nine            twelve         six          seventeen    six       twelve        \n",
      "          eighty     five          twelve         fourteen      sixteen                   forty    \n",
      "          eleven                fifty            million                    ten            fifty    \n",
      "                sixteen               twenty              hundred                 twelve            \n",
      "             seven        sixteen     eighteen             two            eighty              millio\n",
      "             nineteen              seventy             seventeen        sixty                sixteen\n",
      "                   eight           eleven     seventeen                   twelve      twenty        \n",
      "                ten         one                five            fourteen          one                \n",
      "                thousand                  fourteen            nine               six                \n",
      "                    eight               two                    three         two               twent\n",
      "    nineteen             thirty    twelve    eight                forty     eighty          twelve  \n",
      "      twelve      thirty        eight          nineteen          four    fifty                 sixte\n",
      "                 one                eighty    thirty         twelve                  million        \n",
      "         sixty              three            seventy                hundred               nine      \n",
      "         million                   four           one        twelve    eleven           thirteen    \n"
     ]
    }
   ],
   "source": [
    "from random import choice, randint\n",
    "\n",
    "selections = [\n",
    "    'one', 'two', 'three', 'four', 'five', 'six', 'seven', 'eight', 'nine', 'ten', \n",
    "    'eleven', 'twelve', 'thirteen', 'fourteen', 'fifteen', 'sixteen', 'seventeen', \n",
    "    'eighteen', 'nineteen', 'twenty', 'thirty', 'forty', 'fifty', 'sixty', 'seventy', \n",
    "    'eighty', 'ninety', 'hundred', 'thousand', 'million'\n",
    "]\n",
    "\n",
    "for _ in range(20):\n",
    "    line = \" \" * randint(4, 20)\n",
    "    while len(line) < 97:\n",
    "        line += choice(selections) + (\" \" * min(randint(4, 20), 100-len(line)))\n",
    "    print(line[:100])\n",
    "        "
   ]
  },
  {
   "cell_type": "code",
   "execution_count": 17,
   "id": "709bb724-23a0-454f-a0e3-9e1e9402f25e",
   "metadata": {
    "tags": []
   },
   "outputs": [
    {
     "data": {
      "text/plain": [
       "438.66749999999996"
      ]
     },
     "execution_count": 17,
     "metadata": {},
     "output_type": "execute_result"
    }
   ],
   "source": [
    "11.56 + 425.1844 + 1.1406 + 0.6241 + 0.1584"
   ]
  },
  {
   "cell_type": "code",
   "execution_count": null,
   "id": "da323a9c-3bdf-453f-920e-8a52b0aec7ca",
   "metadata": {},
   "outputs": [],
   "source": []
  }
 ],
 "metadata": {
  "kernelspec": {
   "display_name": "Python 3 (ipykernel)",
   "language": "python",
   "name": "python3"
  },
  "language_info": {
   "codemirror_mode": {
    "name": "ipython",
    "version": 3
   },
   "file_extension": ".py",
   "mimetype": "text/x-python",
   "name": "python",
   "nbconvert_exporter": "python",
   "pygments_lexer": "ipython3",
   "version": "3.10.9"
  }
 },
 "nbformat": 4,
 "nbformat_minor": 5
}
